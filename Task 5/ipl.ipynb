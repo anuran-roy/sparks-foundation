{
 "cells": [
  {
   "cell_type": "code",
   "execution_count": 1,
   "metadata": {
    "ExecuteTime": {
     "end_time": "2021-08-10T02:54:40.362300Z",
     "start_time": "2021-08-10T02:54:39.917549Z"
    }
   },
   "outputs": [],
   "source": [
    "import pandas as pd\n",
    "import plotly.express as px\n",
    "import numpy as np\n",
    "from pprint import pprint"
   ]
  },
  {
   "cell_type": "code",
   "execution_count": 84,
   "metadata": {
    "ExecuteTime": {
     "end_time": "2021-08-10T07:01:11.534597Z",
     "start_time": "2021-08-10T07:01:11.257261Z"
    }
   },
   "outputs": [
    {
     "name": "stdout",
     "output_type": "stream",
     "text": [
      "756 179078\n"
     ]
    }
   ],
   "source": [
    "data1 = pd.read_csv(\"matches.csv\") # (\"./IPL Matches 2008-2020.csv\")\n",
    "data2 = pd.read_csv(\"deliveries.csv\") # (\"./IPL Ball-by-Ball 2008-2020.csv\")\n",
    "# data1.head()\n",
    "print(len(data1), len(data2))\n",
    "\n",
    "data1[\"team1\"] = data1[\"team1\"].replace(\"Rising Pune Supergiant\", \"Rising Pune Supergiants\")\n",
    "data1[\"team2\"] = data1[\"team2\"].replace(\"Rising Pune Supergiant\", \"Rising Pune Supergiants\")\n",
    "data1[\"winner\"] = data1[\"winner\"].replace(\"Rising Pune Supergiant\", \"Rising Pune Supergiants\")\n",
    "\n",
    "data1[\"team1\"] = data1[\"team1\"].replace(\"Delhi Daredevils\", \"Delhi Capitals\")\n",
    "data1[\"team2\"] = data1[\"team2\"].replace(\"Delhi Daredevils\", \"Delhi Capitals\")\n",
    "data1[\"winner\"] = data1[\"winner\"].replace(\"Delhi Daredevils\", \"Delhi Capitals\")\n"
   ]
  },
  {
   "cell_type": "code",
   "execution_count": 85,
   "metadata": {
    "ExecuteTime": {
     "end_time": "2021-08-10T07:01:12.708052Z",
     "start_time": "2021-08-10T07:01:12.702050Z"
    }
   },
   "outputs": [
    {
     "data": {
      "text/plain": [
       "Index(['id', 'season', 'city', 'date', 'team1', 'team2', 'toss_winner',\n",
       "       'toss_decision', 'result', 'dl_applied', 'winner', 'win_by_runs',\n",
       "       'win_by_wickets', 'player_of_match', 'venue', 'umpire1', 'umpire2',\n",
       "       'umpire3'],\n",
       "      dtype='object')"
      ]
     },
     "execution_count": 85,
     "metadata": {},
     "output_type": "execute_result"
    }
   ],
   "source": [
    "data1.columns\n",
    "# data2[data2[\"is_super_over\"] == 1].head(30)"
   ]
  },
  {
   "cell_type": "code",
   "execution_count": 86,
   "metadata": {
    "ExecuteTime": {
     "end_time": "2021-08-10T07:01:13.865150Z",
     "start_time": "2021-08-10T07:01:13.843762Z"
    }
   },
   "outputs": [
    {
     "data": {
      "text/html": [
       "<div>\n",
       "<style scoped>\n",
       "    .dataframe tbody tr th:only-of-type {\n",
       "        vertical-align: middle;\n",
       "    }\n",
       "\n",
       "    .dataframe tbody tr th {\n",
       "        vertical-align: top;\n",
       "    }\n",
       "\n",
       "    .dataframe thead th {\n",
       "        text-align: right;\n",
       "    }\n",
       "</style>\n",
       "<table border=\"1\" class=\"dataframe\">\n",
       "  <thead>\n",
       "    <tr style=\"text-align: right;\">\n",
       "      <th></th>\n",
       "      <th>id</th>\n",
       "      <th>season</th>\n",
       "      <th>city</th>\n",
       "      <th>date</th>\n",
       "      <th>team1</th>\n",
       "      <th>team2</th>\n",
       "      <th>toss_winner</th>\n",
       "      <th>toss_decision</th>\n",
       "      <th>result</th>\n",
       "      <th>dl_applied</th>\n",
       "      <th>winner</th>\n",
       "      <th>win_by_runs</th>\n",
       "      <th>win_by_wickets</th>\n",
       "      <th>player_of_match</th>\n",
       "      <th>venue</th>\n",
       "      <th>umpire1</th>\n",
       "      <th>umpire2</th>\n",
       "      <th>umpire3</th>\n",
       "    </tr>\n",
       "  </thead>\n",
       "  <tbody>\n",
       "    <tr>\n",
       "      <th>0</th>\n",
       "      <td>1</td>\n",
       "      <td>2017</td>\n",
       "      <td>Hyderabad</td>\n",
       "      <td>2017-04-05</td>\n",
       "      <td>Sunrisers Hyderabad</td>\n",
       "      <td>Royal Challengers Bangalore</td>\n",
       "      <td>Royal Challengers Bangalore</td>\n",
       "      <td>field</td>\n",
       "      <td>normal</td>\n",
       "      <td>0</td>\n",
       "      <td>Sunrisers Hyderabad</td>\n",
       "      <td>35</td>\n",
       "      <td>0</td>\n",
       "      <td>Yuvraj Singh</td>\n",
       "      <td>Rajiv Gandhi International Stadium, Uppal</td>\n",
       "      <td>AY Dandekar</td>\n",
       "      <td>NJ Llong</td>\n",
       "      <td>NaN</td>\n",
       "    </tr>\n",
       "    <tr>\n",
       "      <th>1</th>\n",
       "      <td>2</td>\n",
       "      <td>2017</td>\n",
       "      <td>Pune</td>\n",
       "      <td>2017-04-06</td>\n",
       "      <td>Mumbai Indians</td>\n",
       "      <td>Rising Pune Supergiants</td>\n",
       "      <td>Rising Pune Supergiant</td>\n",
       "      <td>field</td>\n",
       "      <td>normal</td>\n",
       "      <td>0</td>\n",
       "      <td>Rising Pune Supergiants</td>\n",
       "      <td>0</td>\n",
       "      <td>7</td>\n",
       "      <td>SPD Smith</td>\n",
       "      <td>Maharashtra Cricket Association Stadium</td>\n",
       "      <td>A Nand Kishore</td>\n",
       "      <td>S Ravi</td>\n",
       "      <td>NaN</td>\n",
       "    </tr>\n",
       "    <tr>\n",
       "      <th>2</th>\n",
       "      <td>3</td>\n",
       "      <td>2017</td>\n",
       "      <td>Rajkot</td>\n",
       "      <td>2017-04-07</td>\n",
       "      <td>Gujarat Lions</td>\n",
       "      <td>Kolkata Knight Riders</td>\n",
       "      <td>Kolkata Knight Riders</td>\n",
       "      <td>field</td>\n",
       "      <td>normal</td>\n",
       "      <td>0</td>\n",
       "      <td>Kolkata Knight Riders</td>\n",
       "      <td>0</td>\n",
       "      <td>10</td>\n",
       "      <td>CA Lynn</td>\n",
       "      <td>Saurashtra Cricket Association Stadium</td>\n",
       "      <td>Nitin Menon</td>\n",
       "      <td>CK Nandan</td>\n",
       "      <td>NaN</td>\n",
       "    </tr>\n",
       "    <tr>\n",
       "      <th>3</th>\n",
       "      <td>4</td>\n",
       "      <td>2017</td>\n",
       "      <td>Indore</td>\n",
       "      <td>2017-04-08</td>\n",
       "      <td>Rising Pune Supergiants</td>\n",
       "      <td>Kings XI Punjab</td>\n",
       "      <td>Kings XI Punjab</td>\n",
       "      <td>field</td>\n",
       "      <td>normal</td>\n",
       "      <td>0</td>\n",
       "      <td>Kings XI Punjab</td>\n",
       "      <td>0</td>\n",
       "      <td>6</td>\n",
       "      <td>GJ Maxwell</td>\n",
       "      <td>Holkar Cricket Stadium</td>\n",
       "      <td>AK Chaudhary</td>\n",
       "      <td>C Shamshuddin</td>\n",
       "      <td>NaN</td>\n",
       "    </tr>\n",
       "    <tr>\n",
       "      <th>4</th>\n",
       "      <td>5</td>\n",
       "      <td>2017</td>\n",
       "      <td>Bangalore</td>\n",
       "      <td>2017-04-08</td>\n",
       "      <td>Royal Challengers Bangalore</td>\n",
       "      <td>Delhi Capitals</td>\n",
       "      <td>Royal Challengers Bangalore</td>\n",
       "      <td>bat</td>\n",
       "      <td>normal</td>\n",
       "      <td>0</td>\n",
       "      <td>Royal Challengers Bangalore</td>\n",
       "      <td>15</td>\n",
       "      <td>0</td>\n",
       "      <td>KM Jadhav</td>\n",
       "      <td>M Chinnaswamy Stadium</td>\n",
       "      <td>NaN</td>\n",
       "      <td>NaN</td>\n",
       "      <td>NaN</td>\n",
       "    </tr>\n",
       "  </tbody>\n",
       "</table>\n",
       "</div>"
      ],
      "text/plain": [
       "   id  season       city        date                        team1  \\\n",
       "0   1    2017  Hyderabad  2017-04-05          Sunrisers Hyderabad   \n",
       "1   2    2017       Pune  2017-04-06               Mumbai Indians   \n",
       "2   3    2017     Rajkot  2017-04-07                Gujarat Lions   \n",
       "3   4    2017     Indore  2017-04-08      Rising Pune Supergiants   \n",
       "4   5    2017  Bangalore  2017-04-08  Royal Challengers Bangalore   \n",
       "\n",
       "                         team2                  toss_winner toss_decision  \\\n",
       "0  Royal Challengers Bangalore  Royal Challengers Bangalore         field   \n",
       "1      Rising Pune Supergiants       Rising Pune Supergiant         field   \n",
       "2        Kolkata Knight Riders        Kolkata Knight Riders         field   \n",
       "3              Kings XI Punjab              Kings XI Punjab         field   \n",
       "4               Delhi Capitals  Royal Challengers Bangalore           bat   \n",
       "\n",
       "   result  dl_applied                       winner  win_by_runs  \\\n",
       "0  normal           0          Sunrisers Hyderabad           35   \n",
       "1  normal           0      Rising Pune Supergiants            0   \n",
       "2  normal           0        Kolkata Knight Riders            0   \n",
       "3  normal           0              Kings XI Punjab            0   \n",
       "4  normal           0  Royal Challengers Bangalore           15   \n",
       "\n",
       "   win_by_wickets player_of_match                                      venue  \\\n",
       "0               0    Yuvraj Singh  Rajiv Gandhi International Stadium, Uppal   \n",
       "1               7       SPD Smith    Maharashtra Cricket Association Stadium   \n",
       "2              10         CA Lynn     Saurashtra Cricket Association Stadium   \n",
       "3               6      GJ Maxwell                     Holkar Cricket Stadium   \n",
       "4               0       KM Jadhav                      M Chinnaswamy Stadium   \n",
       "\n",
       "          umpire1        umpire2 umpire3  \n",
       "0     AY Dandekar       NJ Llong     NaN  \n",
       "1  A Nand Kishore         S Ravi     NaN  \n",
       "2     Nitin Menon      CK Nandan     NaN  \n",
       "3    AK Chaudhary  C Shamshuddin     NaN  \n",
       "4             NaN            NaN     NaN  "
      ]
     },
     "execution_count": 86,
     "metadata": {},
     "output_type": "execute_result"
    }
   ],
   "source": [
    "data1.head()"
   ]
  },
  {
   "cell_type": "code",
   "execution_count": 87,
   "metadata": {
    "ExecuteTime": {
     "end_time": "2021-08-10T07:01:15.033921Z",
     "start_time": "2021-08-10T07:01:15.020034Z"
    }
   },
   "outputs": [
    {
     "data": {
      "text/html": [
       "<div>\n",
       "<style scoped>\n",
       "    .dataframe tbody tr th:only-of-type {\n",
       "        vertical-align: middle;\n",
       "    }\n",
       "\n",
       "    .dataframe tbody tr th {\n",
       "        vertical-align: top;\n",
       "    }\n",
       "\n",
       "    .dataframe thead th {\n",
       "        text-align: right;\n",
       "    }\n",
       "</style>\n",
       "<table border=\"1\" class=\"dataframe\">\n",
       "  <thead>\n",
       "    <tr style=\"text-align: right;\">\n",
       "      <th></th>\n",
       "      <th>id</th>\n",
       "      <th>season</th>\n",
       "      <th>city</th>\n",
       "      <th>date</th>\n",
       "      <th>team1</th>\n",
       "      <th>team2</th>\n",
       "      <th>toss_winner</th>\n",
       "      <th>toss_decision</th>\n",
       "      <th>result</th>\n",
       "      <th>dl_applied</th>\n",
       "      <th>winner</th>\n",
       "      <th>win_by_runs</th>\n",
       "      <th>win_by_wickets</th>\n",
       "      <th>player_of_match</th>\n",
       "      <th>venue</th>\n",
       "      <th>umpire1</th>\n",
       "      <th>umpire2</th>\n",
       "      <th>umpire3</th>\n",
       "    </tr>\n",
       "  </thead>\n",
       "  <tbody>\n",
       "  </tbody>\n",
       "</table>\n",
       "</div>"
      ],
      "text/plain": [
       "Empty DataFrame\n",
       "Columns: [id, season, city, date, team1, team2, toss_winner, toss_decision, result, dl_applied, winner, win_by_runs, win_by_wickets, player_of_match, venue, umpire1, umpire2, umpire3]\n",
       "Index: []"
      ]
     },
     "execution_count": 87,
     "metadata": {},
     "output_type": "execute_result"
    }
   ],
   "source": [
    "data1[data1[\"winner\"] == np.nan]"
   ]
  },
  {
   "cell_type": "code",
   "execution_count": 88,
   "metadata": {
    "ExecuteTime": {
     "end_time": "2021-08-10T07:01:17.557973Z",
     "start_time": "2021-08-10T07:01:17.550637Z"
    }
   },
   "outputs": [
    {
     "data": {
      "text/plain": [
       "['Deccan Chargers',\n",
       " 'Kochi Tuskers Kerala',\n",
       " 'Rising Pune Supergiants',\n",
       " 'Kolkata Knight Riders',\n",
       " 'Mumbai Indians',\n",
       " 'Royal Challengers Bangalore',\n",
       " 'Rajasthan Royals',\n",
       " 'Pune Warriors',\n",
       " 'Chennai Super Kings',\n",
       " 'Sunrisers Hyderabad',\n",
       " 'Kings XI Punjab',\n",
       " 'Gujarat Lions',\n",
       " 'Delhi Capitals']"
      ]
     },
     "execution_count": 88,
     "metadata": {},
     "output_type": "execute_result"
    }
   ],
   "source": [
    "teams = list(set(list(data1.team1)).union(set(list(data1.team2))))\n",
    "teams"
   ]
  },
  {
   "cell_type": "code",
   "execution_count": 89,
   "metadata": {
    "ExecuteTime": {
     "end_time": "2021-08-10T07:01:19.138813Z",
     "start_time": "2021-08-10T07:01:19.131304Z"
    }
   },
   "outputs": [
    {
     "data": {
      "text/plain": [
       "array(['Sunrisers Hyderabad', 'Rising Pune Supergiants',\n",
       "       'Kolkata Knight Riders', 'Kings XI Punjab',\n",
       "       'Royal Challengers Bangalore', 'Mumbai Indians', 'Delhi Capitals',\n",
       "       'Gujarat Lions', 'Chennai Super Kings', 'Rajasthan Royals',\n",
       "       'Deccan Chargers', 'Pune Warriors', 'Kochi Tuskers Kerala', nan],\n",
       "      dtype=object)"
      ]
     },
     "execution_count": 89,
     "metadata": {},
     "output_type": "execute_result"
    }
   ],
   "source": [
    "data1.winner.unique()"
   ]
  },
  {
   "cell_type": "markdown",
   "metadata": {},
   "source": [
    "# Objective 1a: Deciding the best teams in IPL history.\n",
    "\n",
    "In this regard, we can model a reasonable assumption: \"The teams with more wins are more likely to be the best teams, as they are more likely to perform better.\" "
   ]
  },
  {
   "cell_type": "code",
   "execution_count": 90,
   "metadata": {
    "ExecuteTime": {
     "end_time": "2021-08-10T07:01:21.161373Z",
     "start_time": "2021-08-10T07:01:20.667419Z"
    }
   },
   "outputs": [
    {
     "name": "stdout",
     "output_type": "stream",
     "text": [
      "Win counts:\n",
      "\n",
      "[('Mumbai Indians', 109),\n",
      " ('Chennai Super Kings', 100),\n",
      " ('Kolkata Knight Riders', 92),\n",
      " ('Royal Challengers Bangalore', 84),\n",
      " ('Kings XI Punjab', 82),\n",
      " ('Delhi Capitals', 77),\n",
      " ('Rajasthan Royals', 75),\n",
      " ('Sunrisers Hyderabad', 58),\n",
      " ('Deccan Chargers', 29),\n",
      " ('Rising Pune Supergiants', 15),\n",
      " ('Gujarat Lions', 13),\n",
      " ('Pune Warriors', 12),\n",
      " ('Kochi Tuskers Kerala', 6)]\n",
      "----------------------------------\n",
      "\n",
      "Loss counts:\n",
      "\n",
      "[('Delhi Capitals', 99),\n",
      " ('Kings XI Punjab', 96),\n",
      " ('Royal Challengers Bangalore', 93),\n",
      " ('Kolkata Knight Riders', 87),\n",
      " ('Mumbai Indians', 78),\n",
      " ('Rajasthan Royals', 70),\n",
      " ('Chennai Super Kings', 64),\n",
      " ('Sunrisers Hyderabad', 50),\n",
      " ('Deccan Chargers', 46),\n",
      " ('Pune Warriors', 33),\n",
      " ('Gujarat Lions', 17),\n",
      " ('Rising Pune Supergiants', 15),\n",
      " ('Kochi Tuskers Kerala', 8)]\n",
      "----------------------------------\n",
      "\n",
      "Tie counts:\n",
      "\n",
      "[]\n",
      "----------------------------------\n",
      "\n"
     ]
    }
   ],
   "source": [
    "team_wins = {}\n",
    "team_losses = {}\n",
    "team_ties = {}\n",
    "# data1 = data1[data1[\"winner\"] != np.nan]\n",
    "\n",
    "nm1 = np.nan # Ties\n",
    "nm2 = np.nan # Losses\n",
    "nm = np.nan # Wins\n",
    "\n",
    "for i in range(len(data1)):\n",
    "    nm = data1.iloc[i,:].winner\n",
    "    \n",
    "    if data1.iloc[i,:].team2 == data1.iloc[i,:].winner:\n",
    "        nm1 = data1.iloc[i,:].team1\n",
    "    elif data1.iloc[i,:].team1 == data1.iloc[i,:].winner:\n",
    "        nm1 = data1.iloc[i,:].team2\n",
    "\n",
    "    if nm != np.nan:\n",
    "        if nm in team_wins.keys(): \n",
    "            team_wins[nm] += 1\n",
    "        else:\n",
    "            team_wins[nm] = 1\n",
    "    \n",
    "    if nm1 != np.nan:\n",
    "        if nm1 in team_losses.keys(): \n",
    "            team_losses[nm1] += 1\n",
    "        else:\n",
    "            team_losses[nm1] = 1\n",
    "    \n",
    "    if nm == np.nan:\n",
    "        t1 = data1.iloc[i,:].team1\n",
    "        t2 = data1.iloc[i,:].team2\n",
    "\n",
    "        if t1 in team_ties.keys():\n",
    "            team_ties[t1] +=1\n",
    "        else:\n",
    "            team_ties[t1] = 1\n",
    "\n",
    "        if t2 in team_ties.keys():\n",
    "            team_ties[t2] +=1\n",
    "        else:\n",
    "            team_ties[t2] = 1\n",
    "    \n",
    "del team_wins[np.nan]\n",
    "# del team_losses[np.nan]\n",
    "print(\"Win counts:\\n\")\n",
    "pprint(sorted(team_wins.items(), key= lambda x: x[1], reverse=True))\n",
    "print(\"----------------------------------\\n\")\n",
    "print(\"Loss counts:\\n\")\n",
    "pprint(sorted(team_losses.items(), key= lambda x: x[1], reverse=True))\n",
    "print(\"----------------------------------\\n\")\n",
    "print(\"Tie counts:\\n\")\n",
    "pprint(sorted(team_ties.items(), key= lambda x: x[1], reverse=True))\n",
    "print(\"----------------------------------\\n\")"
   ]
  },
  {
   "cell_type": "code",
   "execution_count": 91,
   "metadata": {
    "ExecuteTime": {
     "end_time": "2021-08-10T07:01:21.748988Z",
     "start_time": "2021-08-10T07:01:21.696429Z"
    }
   },
   "outputs": [
    {
     "data": {
      "text/html": [
       "<div>\n",
       "<style scoped>\n",
       "    .dataframe tbody tr th:only-of-type {\n",
       "        vertical-align: middle;\n",
       "    }\n",
       "\n",
       "    .dataframe tbody tr th {\n",
       "        vertical-align: top;\n",
       "    }\n",
       "\n",
       "    .dataframe thead th {\n",
       "        text-align: right;\n",
       "    }\n",
       "</style>\n",
       "<table border=\"1\" class=\"dataframe\">\n",
       "  <thead>\n",
       "    <tr style=\"text-align: right;\">\n",
       "      <th></th>\n",
       "      <th>team</th>\n",
       "      <th>wins</th>\n",
       "      <th>losses</th>\n",
       "      <th>ties</th>\n",
       "    </tr>\n",
       "  </thead>\n",
       "  <tbody>\n",
       "    <tr>\n",
       "      <th>0</th>\n",
       "      <td>Sunrisers Hyderabad</td>\n",
       "      <td>58.0</td>\n",
       "      <td>50.0</td>\n",
       "      <td>0.0</td>\n",
       "    </tr>\n",
       "    <tr>\n",
       "      <th>1</th>\n",
       "      <td>Rising Pune Supergiants</td>\n",
       "      <td>15.0</td>\n",
       "      <td>15.0</td>\n",
       "      <td>0.0</td>\n",
       "    </tr>\n",
       "    <tr>\n",
       "      <th>2</th>\n",
       "      <td>Kolkata Knight Riders</td>\n",
       "      <td>92.0</td>\n",
       "      <td>87.0</td>\n",
       "      <td>0.0</td>\n",
       "    </tr>\n",
       "    <tr>\n",
       "      <th>3</th>\n",
       "      <td>Kings XI Punjab</td>\n",
       "      <td>82.0</td>\n",
       "      <td>96.0</td>\n",
       "      <td>0.0</td>\n",
       "    </tr>\n",
       "    <tr>\n",
       "      <th>4</th>\n",
       "      <td>Royal Challengers Bangalore</td>\n",
       "      <td>84.0</td>\n",
       "      <td>93.0</td>\n",
       "      <td>0.0</td>\n",
       "    </tr>\n",
       "    <tr>\n",
       "      <th>5</th>\n",
       "      <td>Mumbai Indians</td>\n",
       "      <td>109.0</td>\n",
       "      <td>78.0</td>\n",
       "      <td>0.0</td>\n",
       "    </tr>\n",
       "    <tr>\n",
       "      <th>6</th>\n",
       "      <td>Delhi Capitals</td>\n",
       "      <td>77.0</td>\n",
       "      <td>99.0</td>\n",
       "      <td>0.0</td>\n",
       "    </tr>\n",
       "    <tr>\n",
       "      <th>7</th>\n",
       "      <td>Gujarat Lions</td>\n",
       "      <td>13.0</td>\n",
       "      <td>17.0</td>\n",
       "      <td>0.0</td>\n",
       "    </tr>\n",
       "    <tr>\n",
       "      <th>8</th>\n",
       "      <td>Chennai Super Kings</td>\n",
       "      <td>100.0</td>\n",
       "      <td>64.0</td>\n",
       "      <td>0.0</td>\n",
       "    </tr>\n",
       "    <tr>\n",
       "      <th>9</th>\n",
       "      <td>Rajasthan Royals</td>\n",
       "      <td>75.0</td>\n",
       "      <td>70.0</td>\n",
       "      <td>0.0</td>\n",
       "    </tr>\n",
       "    <tr>\n",
       "      <th>10</th>\n",
       "      <td>Deccan Chargers</td>\n",
       "      <td>29.0</td>\n",
       "      <td>46.0</td>\n",
       "      <td>0.0</td>\n",
       "    </tr>\n",
       "    <tr>\n",
       "      <th>11</th>\n",
       "      <td>Pune Warriors</td>\n",
       "      <td>12.0</td>\n",
       "      <td>33.0</td>\n",
       "      <td>0.0</td>\n",
       "    </tr>\n",
       "    <tr>\n",
       "      <th>12</th>\n",
       "      <td>Kochi Tuskers Kerala</td>\n",
       "      <td>6.0</td>\n",
       "      <td>8.0</td>\n",
       "      <td>0.0</td>\n",
       "    </tr>\n",
       "  </tbody>\n",
       "</table>\n",
       "</div>"
      ],
      "text/plain": [
       "                           team   wins  losses  ties\n",
       "0           Sunrisers Hyderabad   58.0    50.0   0.0\n",
       "1       Rising Pune Supergiants   15.0    15.0   0.0\n",
       "2         Kolkata Knight Riders   92.0    87.0   0.0\n",
       "3               Kings XI Punjab   82.0    96.0   0.0\n",
       "4   Royal Challengers Bangalore   84.0    93.0   0.0\n",
       "5                Mumbai Indians  109.0    78.0   0.0\n",
       "6                Delhi Capitals   77.0    99.0   0.0\n",
       "7                 Gujarat Lions   13.0    17.0   0.0\n",
       "8           Chennai Super Kings  100.0    64.0   0.0\n",
       "9              Rajasthan Royals   75.0    70.0   0.0\n",
       "10              Deccan Chargers   29.0    46.0   0.0\n",
       "11                Pune Warriors   12.0    33.0   0.0\n",
       "12         Kochi Tuskers Kerala    6.0     8.0   0.0"
      ]
     },
     "execution_count": 91,
     "metadata": {},
     "output_type": "execute_result"
    }
   ],
   "source": [
    "team_stats = pd.DataFrame({\"team\": [], \"wins\": [], \"losses\": [], \"ties\": []})\n",
    "\n",
    "for team in team_wins.keys():\n",
    "    team_stats = team_stats.append({\"team\": team, \"wins\": team_wins[team], \"losses\": team_losses[team]}, ignore_index = True)\n",
    "\n",
    "team_stats.fillna(0)"
   ]
  },
  {
   "cell_type": "code",
   "execution_count": 92,
   "metadata": {
    "ExecuteTime": {
     "end_time": "2021-08-10T07:01:23.243170Z",
     "start_time": "2021-08-10T07:01:23.228878Z"
    }
   },
   "outputs": [
    {
     "data": {
      "text/html": [
       "<div>\n",
       "<style scoped>\n",
       "    .dataframe tbody tr th:only-of-type {\n",
       "        vertical-align: middle;\n",
       "    }\n",
       "\n",
       "    .dataframe tbody tr th {\n",
       "        vertical-align: top;\n",
       "    }\n",
       "\n",
       "    .dataframe thead th {\n",
       "        text-align: right;\n",
       "    }\n",
       "</style>\n",
       "<table border=\"1\" class=\"dataframe\">\n",
       "  <thead>\n",
       "    <tr style=\"text-align: right;\">\n",
       "      <th></th>\n",
       "      <th>team</th>\n",
       "      <th>wins</th>\n",
       "      <th>losses</th>\n",
       "    </tr>\n",
       "  </thead>\n",
       "  <tbody>\n",
       "    <tr>\n",
       "      <th>5</th>\n",
       "      <td>Mumbai Indians</td>\n",
       "      <td>109.0</td>\n",
       "      <td>78.0</td>\n",
       "    </tr>\n",
       "    <tr>\n",
       "      <th>8</th>\n",
       "      <td>Chennai Super Kings</td>\n",
       "      <td>100.0</td>\n",
       "      <td>64.0</td>\n",
       "    </tr>\n",
       "    <tr>\n",
       "      <th>2</th>\n",
       "      <td>Kolkata Knight Riders</td>\n",
       "      <td>92.0</td>\n",
       "      <td>87.0</td>\n",
       "    </tr>\n",
       "    <tr>\n",
       "      <th>4</th>\n",
       "      <td>Royal Challengers Bangalore</td>\n",
       "      <td>84.0</td>\n",
       "      <td>93.0</td>\n",
       "    </tr>\n",
       "    <tr>\n",
       "      <th>3</th>\n",
       "      <td>Kings XI Punjab</td>\n",
       "      <td>82.0</td>\n",
       "      <td>96.0</td>\n",
       "    </tr>\n",
       "    <tr>\n",
       "      <th>6</th>\n",
       "      <td>Delhi Capitals</td>\n",
       "      <td>77.0</td>\n",
       "      <td>99.0</td>\n",
       "    </tr>\n",
       "    <tr>\n",
       "      <th>9</th>\n",
       "      <td>Rajasthan Royals</td>\n",
       "      <td>75.0</td>\n",
       "      <td>70.0</td>\n",
       "    </tr>\n",
       "    <tr>\n",
       "      <th>0</th>\n",
       "      <td>Sunrisers Hyderabad</td>\n",
       "      <td>58.0</td>\n",
       "      <td>50.0</td>\n",
       "    </tr>\n",
       "    <tr>\n",
       "      <th>10</th>\n",
       "      <td>Deccan Chargers</td>\n",
       "      <td>29.0</td>\n",
       "      <td>46.0</td>\n",
       "    </tr>\n",
       "    <tr>\n",
       "      <th>1</th>\n",
       "      <td>Rising Pune Supergiants</td>\n",
       "      <td>15.0</td>\n",
       "      <td>15.0</td>\n",
       "    </tr>\n",
       "    <tr>\n",
       "      <th>7</th>\n",
       "      <td>Gujarat Lions</td>\n",
       "      <td>13.0</td>\n",
       "      <td>17.0</td>\n",
       "    </tr>\n",
       "    <tr>\n",
       "      <th>11</th>\n",
       "      <td>Pune Warriors</td>\n",
       "      <td>12.0</td>\n",
       "      <td>33.0</td>\n",
       "    </tr>\n",
       "    <tr>\n",
       "      <th>12</th>\n",
       "      <td>Kochi Tuskers Kerala</td>\n",
       "      <td>6.0</td>\n",
       "      <td>8.0</td>\n",
       "    </tr>\n",
       "  </tbody>\n",
       "</table>\n",
       "</div>"
      ],
      "text/plain": [
       "                           team   wins  losses\n",
       "5                Mumbai Indians  109.0    78.0\n",
       "8           Chennai Super Kings  100.0    64.0\n",
       "2         Kolkata Knight Riders   92.0    87.0\n",
       "4   Royal Challengers Bangalore   84.0    93.0\n",
       "3               Kings XI Punjab   82.0    96.0\n",
       "6                Delhi Capitals   77.0    99.0\n",
       "9              Rajasthan Royals   75.0    70.0\n",
       "0           Sunrisers Hyderabad   58.0    50.0\n",
       "10              Deccan Chargers   29.0    46.0\n",
       "1       Rising Pune Supergiants   15.0    15.0\n",
       "7                 Gujarat Lions   13.0    17.0\n",
       "11                Pune Warriors   12.0    33.0\n",
       "12         Kochi Tuskers Kerala    6.0     8.0"
      ]
     },
     "execution_count": 92,
     "metadata": {},
     "output_type": "execute_result"
    }
   ],
   "source": [
    "team_stats_disp = team_stats[[\"team\", \"wins\", \"losses\"]]\n",
    "team_stats_disp = team_stats_disp.sort_values(\"wins\", ascending=False)\n",
    "team_stats_disp"
   ]
  },
  {
   "cell_type": "code",
   "execution_count": 93,
   "metadata": {
    "ExecuteTime": {
     "end_time": "2021-08-10T07:01:24.251201Z",
     "start_time": "2021-08-10T07:01:24.167788Z"
    }
   },
   "outputs": [
    {
     "data": {
      "application/vnd.plotly.v1+json": {
       "config": {
        "plotlyServerURL": "https://plot.ly"
       },
       "data": [
        {
         "alignmentgroup": "True",
         "hovertemplate": "variable=wins<br>Team Name=%{x}<br>Match Results=%{y}<extra></extra>",
         "legendgroup": "wins",
         "marker": {
          "color": "#636efa",
          "pattern": {
           "shape": ""
          }
         },
         "name": "wins",
         "offsetgroup": "wins",
         "orientation": "v",
         "showlegend": true,
         "textposition": "auto",
         "type": "bar",
         "x": [
          "Mumbai Indians",
          "Chennai Super Kings",
          "Kolkata Knight Riders",
          "Royal Challengers Bangalore",
          "Kings XI Punjab",
          "Delhi Capitals",
          "Rajasthan Royals",
          "Sunrisers Hyderabad",
          "Deccan Chargers",
          "Rising Pune Supergiants",
          "Gujarat Lions",
          "Pune Warriors",
          "Kochi Tuskers Kerala"
         ],
         "xaxis": "x",
         "y": [
          109,
          100,
          92,
          84,
          82,
          77,
          75,
          58,
          29,
          15,
          13,
          12,
          6
         ],
         "yaxis": "y"
        },
        {
         "alignmentgroup": "True",
         "hovertemplate": "variable=losses<br>Team Name=%{x}<br>Match Results=%{y}<extra></extra>",
         "legendgroup": "losses",
         "marker": {
          "color": "#EF553B",
          "pattern": {
           "shape": ""
          }
         },
         "name": "losses",
         "offsetgroup": "losses",
         "orientation": "v",
         "showlegend": true,
         "textposition": "auto",
         "type": "bar",
         "x": [
          "Mumbai Indians",
          "Chennai Super Kings",
          "Kolkata Knight Riders",
          "Royal Challengers Bangalore",
          "Kings XI Punjab",
          "Delhi Capitals",
          "Rajasthan Royals",
          "Sunrisers Hyderabad",
          "Deccan Chargers",
          "Rising Pune Supergiants",
          "Gujarat Lions",
          "Pune Warriors",
          "Kochi Tuskers Kerala"
         ],
         "xaxis": "x",
         "y": [
          78,
          64,
          87,
          93,
          96,
          99,
          70,
          50,
          46,
          15,
          17,
          33,
          8
         ],
         "yaxis": "y"
        }
       ],
       "layout": {
        "barmode": "relative",
        "legend": {
         "title": {
          "text": "variable"
         },
         "tracegroupgap": 0
        },
        "template": {
         "data": {
          "bar": [
           {
            "error_x": {
             "color": "#2a3f5f"
            },
            "error_y": {
             "color": "#2a3f5f"
            },
            "marker": {
             "line": {
              "color": "#E5ECF6",
              "width": 0.5
             },
             "pattern": {
              "fillmode": "overlay",
              "size": 10,
              "solidity": 0.2
             }
            },
            "type": "bar"
           }
          ],
          "barpolar": [
           {
            "marker": {
             "line": {
              "color": "#E5ECF6",
              "width": 0.5
             },
             "pattern": {
              "fillmode": "overlay",
              "size": 10,
              "solidity": 0.2
             }
            },
            "type": "barpolar"
           }
          ],
          "carpet": [
           {
            "aaxis": {
             "endlinecolor": "#2a3f5f",
             "gridcolor": "white",
             "linecolor": "white",
             "minorgridcolor": "white",
             "startlinecolor": "#2a3f5f"
            },
            "baxis": {
             "endlinecolor": "#2a3f5f",
             "gridcolor": "white",
             "linecolor": "white",
             "minorgridcolor": "white",
             "startlinecolor": "#2a3f5f"
            },
            "type": "carpet"
           }
          ],
          "choropleth": [
           {
            "colorbar": {
             "outlinewidth": 0,
             "ticks": ""
            },
            "type": "choropleth"
           }
          ],
          "contour": [
           {
            "colorbar": {
             "outlinewidth": 0,
             "ticks": ""
            },
            "colorscale": [
             [
              0,
              "#0d0887"
             ],
             [
              0.1111111111111111,
              "#46039f"
             ],
             [
              0.2222222222222222,
              "#7201a8"
             ],
             [
              0.3333333333333333,
              "#9c179e"
             ],
             [
              0.4444444444444444,
              "#bd3786"
             ],
             [
              0.5555555555555556,
              "#d8576b"
             ],
             [
              0.6666666666666666,
              "#ed7953"
             ],
             [
              0.7777777777777778,
              "#fb9f3a"
             ],
             [
              0.8888888888888888,
              "#fdca26"
             ],
             [
              1,
              "#f0f921"
             ]
            ],
            "type": "contour"
           }
          ],
          "contourcarpet": [
           {
            "colorbar": {
             "outlinewidth": 0,
             "ticks": ""
            },
            "type": "contourcarpet"
           }
          ],
          "heatmap": [
           {
            "colorbar": {
             "outlinewidth": 0,
             "ticks": ""
            },
            "colorscale": [
             [
              0,
              "#0d0887"
             ],
             [
              0.1111111111111111,
              "#46039f"
             ],
             [
              0.2222222222222222,
              "#7201a8"
             ],
             [
              0.3333333333333333,
              "#9c179e"
             ],
             [
              0.4444444444444444,
              "#bd3786"
             ],
             [
              0.5555555555555556,
              "#d8576b"
             ],
             [
              0.6666666666666666,
              "#ed7953"
             ],
             [
              0.7777777777777778,
              "#fb9f3a"
             ],
             [
              0.8888888888888888,
              "#fdca26"
             ],
             [
              1,
              "#f0f921"
             ]
            ],
            "type": "heatmap"
           }
          ],
          "heatmapgl": [
           {
            "colorbar": {
             "outlinewidth": 0,
             "ticks": ""
            },
            "colorscale": [
             [
              0,
              "#0d0887"
             ],
             [
              0.1111111111111111,
              "#46039f"
             ],
             [
              0.2222222222222222,
              "#7201a8"
             ],
             [
              0.3333333333333333,
              "#9c179e"
             ],
             [
              0.4444444444444444,
              "#bd3786"
             ],
             [
              0.5555555555555556,
              "#d8576b"
             ],
             [
              0.6666666666666666,
              "#ed7953"
             ],
             [
              0.7777777777777778,
              "#fb9f3a"
             ],
             [
              0.8888888888888888,
              "#fdca26"
             ],
             [
              1,
              "#f0f921"
             ]
            ],
            "type": "heatmapgl"
           }
          ],
          "histogram": [
           {
            "marker": {
             "pattern": {
              "fillmode": "overlay",
              "size": 10,
              "solidity": 0.2
             }
            },
            "type": "histogram"
           }
          ],
          "histogram2d": [
           {
            "colorbar": {
             "outlinewidth": 0,
             "ticks": ""
            },
            "colorscale": [
             [
              0,
              "#0d0887"
             ],
             [
              0.1111111111111111,
              "#46039f"
             ],
             [
              0.2222222222222222,
              "#7201a8"
             ],
             [
              0.3333333333333333,
              "#9c179e"
             ],
             [
              0.4444444444444444,
              "#bd3786"
             ],
             [
              0.5555555555555556,
              "#d8576b"
             ],
             [
              0.6666666666666666,
              "#ed7953"
             ],
             [
              0.7777777777777778,
              "#fb9f3a"
             ],
             [
              0.8888888888888888,
              "#fdca26"
             ],
             [
              1,
              "#f0f921"
             ]
            ],
            "type": "histogram2d"
           }
          ],
          "histogram2dcontour": [
           {
            "colorbar": {
             "outlinewidth": 0,
             "ticks": ""
            },
            "colorscale": [
             [
              0,
              "#0d0887"
             ],
             [
              0.1111111111111111,
              "#46039f"
             ],
             [
              0.2222222222222222,
              "#7201a8"
             ],
             [
              0.3333333333333333,
              "#9c179e"
             ],
             [
              0.4444444444444444,
              "#bd3786"
             ],
             [
              0.5555555555555556,
              "#d8576b"
             ],
             [
              0.6666666666666666,
              "#ed7953"
             ],
             [
              0.7777777777777778,
              "#fb9f3a"
             ],
             [
              0.8888888888888888,
              "#fdca26"
             ],
             [
              1,
              "#f0f921"
             ]
            ],
            "type": "histogram2dcontour"
           }
          ],
          "mesh3d": [
           {
            "colorbar": {
             "outlinewidth": 0,
             "ticks": ""
            },
            "type": "mesh3d"
           }
          ],
          "parcoords": [
           {
            "line": {
             "colorbar": {
              "outlinewidth": 0,
              "ticks": ""
             }
            },
            "type": "parcoords"
           }
          ],
          "pie": [
           {
            "automargin": true,
            "type": "pie"
           }
          ],
          "scatter": [
           {
            "marker": {
             "colorbar": {
              "outlinewidth": 0,
              "ticks": ""
             }
            },
            "type": "scatter"
           }
          ],
          "scatter3d": [
           {
            "line": {
             "colorbar": {
              "outlinewidth": 0,
              "ticks": ""
             }
            },
            "marker": {
             "colorbar": {
              "outlinewidth": 0,
              "ticks": ""
             }
            },
            "type": "scatter3d"
           }
          ],
          "scattercarpet": [
           {
            "marker": {
             "colorbar": {
              "outlinewidth": 0,
              "ticks": ""
             }
            },
            "type": "scattercarpet"
           }
          ],
          "scattergeo": [
           {
            "marker": {
             "colorbar": {
              "outlinewidth": 0,
              "ticks": ""
             }
            },
            "type": "scattergeo"
           }
          ],
          "scattergl": [
           {
            "marker": {
             "colorbar": {
              "outlinewidth": 0,
              "ticks": ""
             }
            },
            "type": "scattergl"
           }
          ],
          "scattermapbox": [
           {
            "marker": {
             "colorbar": {
              "outlinewidth": 0,
              "ticks": ""
             }
            },
            "type": "scattermapbox"
           }
          ],
          "scatterpolar": [
           {
            "marker": {
             "colorbar": {
              "outlinewidth": 0,
              "ticks": ""
             }
            },
            "type": "scatterpolar"
           }
          ],
          "scatterpolargl": [
           {
            "marker": {
             "colorbar": {
              "outlinewidth": 0,
              "ticks": ""
             }
            },
            "type": "scatterpolargl"
           }
          ],
          "scatterternary": [
           {
            "marker": {
             "colorbar": {
              "outlinewidth": 0,
              "ticks": ""
             }
            },
            "type": "scatterternary"
           }
          ],
          "surface": [
           {
            "colorbar": {
             "outlinewidth": 0,
             "ticks": ""
            },
            "colorscale": [
             [
              0,
              "#0d0887"
             ],
             [
              0.1111111111111111,
              "#46039f"
             ],
             [
              0.2222222222222222,
              "#7201a8"
             ],
             [
              0.3333333333333333,
              "#9c179e"
             ],
             [
              0.4444444444444444,
              "#bd3786"
             ],
             [
              0.5555555555555556,
              "#d8576b"
             ],
             [
              0.6666666666666666,
              "#ed7953"
             ],
             [
              0.7777777777777778,
              "#fb9f3a"
             ],
             [
              0.8888888888888888,
              "#fdca26"
             ],
             [
              1,
              "#f0f921"
             ]
            ],
            "type": "surface"
           }
          ],
          "table": [
           {
            "cells": {
             "fill": {
              "color": "#EBF0F8"
             },
             "line": {
              "color": "white"
             }
            },
            "header": {
             "fill": {
              "color": "#C8D4E3"
             },
             "line": {
              "color": "white"
             }
            },
            "type": "table"
           }
          ]
         },
         "layout": {
          "annotationdefaults": {
           "arrowcolor": "#2a3f5f",
           "arrowhead": 0,
           "arrowwidth": 1
          },
          "autotypenumbers": "strict",
          "coloraxis": {
           "colorbar": {
            "outlinewidth": 0,
            "ticks": ""
           }
          },
          "colorscale": {
           "diverging": [
            [
             0,
             "#8e0152"
            ],
            [
             0.1,
             "#c51b7d"
            ],
            [
             0.2,
             "#de77ae"
            ],
            [
             0.3,
             "#f1b6da"
            ],
            [
             0.4,
             "#fde0ef"
            ],
            [
             0.5,
             "#f7f7f7"
            ],
            [
             0.6,
             "#e6f5d0"
            ],
            [
             0.7,
             "#b8e186"
            ],
            [
             0.8,
             "#7fbc41"
            ],
            [
             0.9,
             "#4d9221"
            ],
            [
             1,
             "#276419"
            ]
           ],
           "sequential": [
            [
             0,
             "#0d0887"
            ],
            [
             0.1111111111111111,
             "#46039f"
            ],
            [
             0.2222222222222222,
             "#7201a8"
            ],
            [
             0.3333333333333333,
             "#9c179e"
            ],
            [
             0.4444444444444444,
             "#bd3786"
            ],
            [
             0.5555555555555556,
             "#d8576b"
            ],
            [
             0.6666666666666666,
             "#ed7953"
            ],
            [
             0.7777777777777778,
             "#fb9f3a"
            ],
            [
             0.8888888888888888,
             "#fdca26"
            ],
            [
             1,
             "#f0f921"
            ]
           ],
           "sequentialminus": [
            [
             0,
             "#0d0887"
            ],
            [
             0.1111111111111111,
             "#46039f"
            ],
            [
             0.2222222222222222,
             "#7201a8"
            ],
            [
             0.3333333333333333,
             "#9c179e"
            ],
            [
             0.4444444444444444,
             "#bd3786"
            ],
            [
             0.5555555555555556,
             "#d8576b"
            ],
            [
             0.6666666666666666,
             "#ed7953"
            ],
            [
             0.7777777777777778,
             "#fb9f3a"
            ],
            [
             0.8888888888888888,
             "#fdca26"
            ],
            [
             1,
             "#f0f921"
            ]
           ]
          },
          "colorway": [
           "#636efa",
           "#EF553B",
           "#00cc96",
           "#ab63fa",
           "#FFA15A",
           "#19d3f3",
           "#FF6692",
           "#B6E880",
           "#FF97FF",
           "#FECB52"
          ],
          "font": {
           "color": "#2a3f5f"
          },
          "geo": {
           "bgcolor": "white",
           "lakecolor": "white",
           "landcolor": "#E5ECF6",
           "showlakes": true,
           "showland": true,
           "subunitcolor": "white"
          },
          "hoverlabel": {
           "align": "left"
          },
          "hovermode": "closest",
          "mapbox": {
           "style": "light"
          },
          "paper_bgcolor": "white",
          "plot_bgcolor": "#E5ECF6",
          "polar": {
           "angularaxis": {
            "gridcolor": "white",
            "linecolor": "white",
            "ticks": ""
           },
           "bgcolor": "#E5ECF6",
           "radialaxis": {
            "gridcolor": "white",
            "linecolor": "white",
            "ticks": ""
           }
          },
          "scene": {
           "xaxis": {
            "backgroundcolor": "#E5ECF6",
            "gridcolor": "white",
            "gridwidth": 2,
            "linecolor": "white",
            "showbackground": true,
            "ticks": "",
            "zerolinecolor": "white"
           },
           "yaxis": {
            "backgroundcolor": "#E5ECF6",
            "gridcolor": "white",
            "gridwidth": 2,
            "linecolor": "white",
            "showbackground": true,
            "ticks": "",
            "zerolinecolor": "white"
           },
           "zaxis": {
            "backgroundcolor": "#E5ECF6",
            "gridcolor": "white",
            "gridwidth": 2,
            "linecolor": "white",
            "showbackground": true,
            "ticks": "",
            "zerolinecolor": "white"
           }
          },
          "shapedefaults": {
           "line": {
            "color": "#2a3f5f"
           }
          },
          "ternary": {
           "aaxis": {
            "gridcolor": "white",
            "linecolor": "white",
            "ticks": ""
           },
           "baxis": {
            "gridcolor": "white",
            "linecolor": "white",
            "ticks": ""
           },
           "bgcolor": "#E5ECF6",
           "caxis": {
            "gridcolor": "white",
            "linecolor": "white",
            "ticks": ""
           }
          },
          "title": {
           "x": 0.05
          },
          "xaxis": {
           "automargin": true,
           "gridcolor": "white",
           "linecolor": "white",
           "ticks": "",
           "title": {
            "standoff": 15
           },
           "zerolinecolor": "white",
           "zerolinewidth": 2
          },
          "yaxis": {
           "automargin": true,
           "gridcolor": "white",
           "linecolor": "white",
           "ticks": "",
           "title": {
            "standoff": 15
           },
           "zerolinecolor": "white",
           "zerolinewidth": 2
          }
         }
        },
        "title": {
         "text": "Team Stats, ranked by success in IPL (2008-2019)"
        },
        "xaxis": {
         "anchor": "y",
         "domain": [
          0,
          1
         ],
         "title": {
          "text": "Team Name"
         }
        },
        "yaxis": {
         "anchor": "x",
         "domain": [
          0,
          1
         ],
         "title": {
          "text": "Match Results"
         }
        }
       }
      },
      "text/html": [
       "<div>                            <div id=\"848c556b-b4b6-4d84-b925-d66e48e3d797\" class=\"plotly-graph-div\" style=\"height:525px; width:100%;\"></div>            <script type=\"text/javascript\">                require([\"plotly\"], function(Plotly) {                    window.PLOTLYENV=window.PLOTLYENV || {};                                    if (document.getElementById(\"848c556b-b4b6-4d84-b925-d66e48e3d797\")) {                    Plotly.newPlot(                        \"848c556b-b4b6-4d84-b925-d66e48e3d797\",                        [{\"alignmentgroup\":\"True\",\"hovertemplate\":\"variable=wins<br>Team Name=%{x}<br>Match Results=%{y}<extra></extra>\",\"legendgroup\":\"wins\",\"marker\":{\"color\":\"#636efa\",\"pattern\":{\"shape\":\"\"}},\"name\":\"wins\",\"offsetgroup\":\"wins\",\"orientation\":\"v\",\"showlegend\":true,\"textposition\":\"auto\",\"type\":\"bar\",\"x\":[\"Mumbai Indians\",\"Chennai Super Kings\",\"Kolkata Knight Riders\",\"Royal Challengers Bangalore\",\"Kings XI Punjab\",\"Delhi Capitals\",\"Rajasthan Royals\",\"Sunrisers Hyderabad\",\"Deccan Chargers\",\"Rising Pune Supergiants\",\"Gujarat Lions\",\"Pune Warriors\",\"Kochi Tuskers Kerala\"],\"xaxis\":\"x\",\"y\":[109.0,100.0,92.0,84.0,82.0,77.0,75.0,58.0,29.0,15.0,13.0,12.0,6.0],\"yaxis\":\"y\"},{\"alignmentgroup\":\"True\",\"hovertemplate\":\"variable=losses<br>Team Name=%{x}<br>Match Results=%{y}<extra></extra>\",\"legendgroup\":\"losses\",\"marker\":{\"color\":\"#EF553B\",\"pattern\":{\"shape\":\"\"}},\"name\":\"losses\",\"offsetgroup\":\"losses\",\"orientation\":\"v\",\"showlegend\":true,\"textposition\":\"auto\",\"type\":\"bar\",\"x\":[\"Mumbai Indians\",\"Chennai Super Kings\",\"Kolkata Knight Riders\",\"Royal Challengers Bangalore\",\"Kings XI Punjab\",\"Delhi Capitals\",\"Rajasthan Royals\",\"Sunrisers Hyderabad\",\"Deccan Chargers\",\"Rising Pune Supergiants\",\"Gujarat Lions\",\"Pune Warriors\",\"Kochi Tuskers Kerala\"],\"xaxis\":\"x\",\"y\":[78.0,64.0,87.0,93.0,96.0,99.0,70.0,50.0,46.0,15.0,17.0,33.0,8.0],\"yaxis\":\"y\"}],                        {\"barmode\":\"relative\",\"legend\":{\"title\":{\"text\":\"variable\"},\"tracegroupgap\":0},\"template\":{\"data\":{\"bar\":[{\"error_x\":{\"color\":\"#2a3f5f\"},\"error_y\":{\"color\":\"#2a3f5f\"},\"marker\":{\"line\":{\"color\":\"#E5ECF6\",\"width\":0.5},\"pattern\":{\"fillmode\":\"overlay\",\"size\":10,\"solidity\":0.2}},\"type\":\"bar\"}],\"barpolar\":[{\"marker\":{\"line\":{\"color\":\"#E5ECF6\",\"width\":0.5},\"pattern\":{\"fillmode\":\"overlay\",\"size\":10,\"solidity\":0.2}},\"type\":\"barpolar\"}],\"carpet\":[{\"aaxis\":{\"endlinecolor\":\"#2a3f5f\",\"gridcolor\":\"white\",\"linecolor\":\"white\",\"minorgridcolor\":\"white\",\"startlinecolor\":\"#2a3f5f\"},\"baxis\":{\"endlinecolor\":\"#2a3f5f\",\"gridcolor\":\"white\",\"linecolor\":\"white\",\"minorgridcolor\":\"white\",\"startlinecolor\":\"#2a3f5f\"},\"type\":\"carpet\"}],\"choropleth\":[{\"colorbar\":{\"outlinewidth\":0,\"ticks\":\"\"},\"type\":\"choropleth\"}],\"contour\":[{\"colorbar\":{\"outlinewidth\":0,\"ticks\":\"\"},\"colorscale\":[[0.0,\"#0d0887\"],[0.1111111111111111,\"#46039f\"],[0.2222222222222222,\"#7201a8\"],[0.3333333333333333,\"#9c179e\"],[0.4444444444444444,\"#bd3786\"],[0.5555555555555556,\"#d8576b\"],[0.6666666666666666,\"#ed7953\"],[0.7777777777777778,\"#fb9f3a\"],[0.8888888888888888,\"#fdca26\"],[1.0,\"#f0f921\"]],\"type\":\"contour\"}],\"contourcarpet\":[{\"colorbar\":{\"outlinewidth\":0,\"ticks\":\"\"},\"type\":\"contourcarpet\"}],\"heatmap\":[{\"colorbar\":{\"outlinewidth\":0,\"ticks\":\"\"},\"colorscale\":[[0.0,\"#0d0887\"],[0.1111111111111111,\"#46039f\"],[0.2222222222222222,\"#7201a8\"],[0.3333333333333333,\"#9c179e\"],[0.4444444444444444,\"#bd3786\"],[0.5555555555555556,\"#d8576b\"],[0.6666666666666666,\"#ed7953\"],[0.7777777777777778,\"#fb9f3a\"],[0.8888888888888888,\"#fdca26\"],[1.0,\"#f0f921\"]],\"type\":\"heatmap\"}],\"heatmapgl\":[{\"colorbar\":{\"outlinewidth\":0,\"ticks\":\"\"},\"colorscale\":[[0.0,\"#0d0887\"],[0.1111111111111111,\"#46039f\"],[0.2222222222222222,\"#7201a8\"],[0.3333333333333333,\"#9c179e\"],[0.4444444444444444,\"#bd3786\"],[0.5555555555555556,\"#d8576b\"],[0.6666666666666666,\"#ed7953\"],[0.7777777777777778,\"#fb9f3a\"],[0.8888888888888888,\"#fdca26\"],[1.0,\"#f0f921\"]],\"type\":\"heatmapgl\"}],\"histogram\":[{\"marker\":{\"pattern\":{\"fillmode\":\"overlay\",\"size\":10,\"solidity\":0.2}},\"type\":\"histogram\"}],\"histogram2d\":[{\"colorbar\":{\"outlinewidth\":0,\"ticks\":\"\"},\"colorscale\":[[0.0,\"#0d0887\"],[0.1111111111111111,\"#46039f\"],[0.2222222222222222,\"#7201a8\"],[0.3333333333333333,\"#9c179e\"],[0.4444444444444444,\"#bd3786\"],[0.5555555555555556,\"#d8576b\"],[0.6666666666666666,\"#ed7953\"],[0.7777777777777778,\"#fb9f3a\"],[0.8888888888888888,\"#fdca26\"],[1.0,\"#f0f921\"]],\"type\":\"histogram2d\"}],\"histogram2dcontour\":[{\"colorbar\":{\"outlinewidth\":0,\"ticks\":\"\"},\"colorscale\":[[0.0,\"#0d0887\"],[0.1111111111111111,\"#46039f\"],[0.2222222222222222,\"#7201a8\"],[0.3333333333333333,\"#9c179e\"],[0.4444444444444444,\"#bd3786\"],[0.5555555555555556,\"#d8576b\"],[0.6666666666666666,\"#ed7953\"],[0.7777777777777778,\"#fb9f3a\"],[0.8888888888888888,\"#fdca26\"],[1.0,\"#f0f921\"]],\"type\":\"histogram2dcontour\"}],\"mesh3d\":[{\"colorbar\":{\"outlinewidth\":0,\"ticks\":\"\"},\"type\":\"mesh3d\"}],\"parcoords\":[{\"line\":{\"colorbar\":{\"outlinewidth\":0,\"ticks\":\"\"}},\"type\":\"parcoords\"}],\"pie\":[{\"automargin\":true,\"type\":\"pie\"}],\"scatter\":[{\"marker\":{\"colorbar\":{\"outlinewidth\":0,\"ticks\":\"\"}},\"type\":\"scatter\"}],\"scatter3d\":[{\"line\":{\"colorbar\":{\"outlinewidth\":0,\"ticks\":\"\"}},\"marker\":{\"colorbar\":{\"outlinewidth\":0,\"ticks\":\"\"}},\"type\":\"scatter3d\"}],\"scattercarpet\":[{\"marker\":{\"colorbar\":{\"outlinewidth\":0,\"ticks\":\"\"}},\"type\":\"scattercarpet\"}],\"scattergeo\":[{\"marker\":{\"colorbar\":{\"outlinewidth\":0,\"ticks\":\"\"}},\"type\":\"scattergeo\"}],\"scattergl\":[{\"marker\":{\"colorbar\":{\"outlinewidth\":0,\"ticks\":\"\"}},\"type\":\"scattergl\"}],\"scattermapbox\":[{\"marker\":{\"colorbar\":{\"outlinewidth\":0,\"ticks\":\"\"}},\"type\":\"scattermapbox\"}],\"scatterpolar\":[{\"marker\":{\"colorbar\":{\"outlinewidth\":0,\"ticks\":\"\"}},\"type\":\"scatterpolar\"}],\"scatterpolargl\":[{\"marker\":{\"colorbar\":{\"outlinewidth\":0,\"ticks\":\"\"}},\"type\":\"scatterpolargl\"}],\"scatterternary\":[{\"marker\":{\"colorbar\":{\"outlinewidth\":0,\"ticks\":\"\"}},\"type\":\"scatterternary\"}],\"surface\":[{\"colorbar\":{\"outlinewidth\":0,\"ticks\":\"\"},\"colorscale\":[[0.0,\"#0d0887\"],[0.1111111111111111,\"#46039f\"],[0.2222222222222222,\"#7201a8\"],[0.3333333333333333,\"#9c179e\"],[0.4444444444444444,\"#bd3786\"],[0.5555555555555556,\"#d8576b\"],[0.6666666666666666,\"#ed7953\"],[0.7777777777777778,\"#fb9f3a\"],[0.8888888888888888,\"#fdca26\"],[1.0,\"#f0f921\"]],\"type\":\"surface\"}],\"table\":[{\"cells\":{\"fill\":{\"color\":\"#EBF0F8\"},\"line\":{\"color\":\"white\"}},\"header\":{\"fill\":{\"color\":\"#C8D4E3\"},\"line\":{\"color\":\"white\"}},\"type\":\"table\"}]},\"layout\":{\"annotationdefaults\":{\"arrowcolor\":\"#2a3f5f\",\"arrowhead\":0,\"arrowwidth\":1},\"autotypenumbers\":\"strict\",\"coloraxis\":{\"colorbar\":{\"outlinewidth\":0,\"ticks\":\"\"}},\"colorscale\":{\"diverging\":[[0,\"#8e0152\"],[0.1,\"#c51b7d\"],[0.2,\"#de77ae\"],[0.3,\"#f1b6da\"],[0.4,\"#fde0ef\"],[0.5,\"#f7f7f7\"],[0.6,\"#e6f5d0\"],[0.7,\"#b8e186\"],[0.8,\"#7fbc41\"],[0.9,\"#4d9221\"],[1,\"#276419\"]],\"sequential\":[[0.0,\"#0d0887\"],[0.1111111111111111,\"#46039f\"],[0.2222222222222222,\"#7201a8\"],[0.3333333333333333,\"#9c179e\"],[0.4444444444444444,\"#bd3786\"],[0.5555555555555556,\"#d8576b\"],[0.6666666666666666,\"#ed7953\"],[0.7777777777777778,\"#fb9f3a\"],[0.8888888888888888,\"#fdca26\"],[1.0,\"#f0f921\"]],\"sequentialminus\":[[0.0,\"#0d0887\"],[0.1111111111111111,\"#46039f\"],[0.2222222222222222,\"#7201a8\"],[0.3333333333333333,\"#9c179e\"],[0.4444444444444444,\"#bd3786\"],[0.5555555555555556,\"#d8576b\"],[0.6666666666666666,\"#ed7953\"],[0.7777777777777778,\"#fb9f3a\"],[0.8888888888888888,\"#fdca26\"],[1.0,\"#f0f921\"]]},\"colorway\":[\"#636efa\",\"#EF553B\",\"#00cc96\",\"#ab63fa\",\"#FFA15A\",\"#19d3f3\",\"#FF6692\",\"#B6E880\",\"#FF97FF\",\"#FECB52\"],\"font\":{\"color\":\"#2a3f5f\"},\"geo\":{\"bgcolor\":\"white\",\"lakecolor\":\"white\",\"landcolor\":\"#E5ECF6\",\"showlakes\":true,\"showland\":true,\"subunitcolor\":\"white\"},\"hoverlabel\":{\"align\":\"left\"},\"hovermode\":\"closest\",\"mapbox\":{\"style\":\"light\"},\"paper_bgcolor\":\"white\",\"plot_bgcolor\":\"#E5ECF6\",\"polar\":{\"angularaxis\":{\"gridcolor\":\"white\",\"linecolor\":\"white\",\"ticks\":\"\"},\"bgcolor\":\"#E5ECF6\",\"radialaxis\":{\"gridcolor\":\"white\",\"linecolor\":\"white\",\"ticks\":\"\"}},\"scene\":{\"xaxis\":{\"backgroundcolor\":\"#E5ECF6\",\"gridcolor\":\"white\",\"gridwidth\":2,\"linecolor\":\"white\",\"showbackground\":true,\"ticks\":\"\",\"zerolinecolor\":\"white\"},\"yaxis\":{\"backgroundcolor\":\"#E5ECF6\",\"gridcolor\":\"white\",\"gridwidth\":2,\"linecolor\":\"white\",\"showbackground\":true,\"ticks\":\"\",\"zerolinecolor\":\"white\"},\"zaxis\":{\"backgroundcolor\":\"#E5ECF6\",\"gridcolor\":\"white\",\"gridwidth\":2,\"linecolor\":\"white\",\"showbackground\":true,\"ticks\":\"\",\"zerolinecolor\":\"white\"}},\"shapedefaults\":{\"line\":{\"color\":\"#2a3f5f\"}},\"ternary\":{\"aaxis\":{\"gridcolor\":\"white\",\"linecolor\":\"white\",\"ticks\":\"\"},\"baxis\":{\"gridcolor\":\"white\",\"linecolor\":\"white\",\"ticks\":\"\"},\"bgcolor\":\"#E5ECF6\",\"caxis\":{\"gridcolor\":\"white\",\"linecolor\":\"white\",\"ticks\":\"\"}},\"title\":{\"x\":0.05},\"xaxis\":{\"automargin\":true,\"gridcolor\":\"white\",\"linecolor\":\"white\",\"ticks\":\"\",\"title\":{\"standoff\":15},\"zerolinecolor\":\"white\",\"zerolinewidth\":2},\"yaxis\":{\"automargin\":true,\"gridcolor\":\"white\",\"linecolor\":\"white\",\"ticks\":\"\",\"title\":{\"standoff\":15},\"zerolinecolor\":\"white\",\"zerolinewidth\":2}}},\"title\":{\"text\":\"Team Stats, ranked by success in IPL (2008-2019)\"},\"xaxis\":{\"anchor\":\"y\",\"domain\":[0.0,1.0],\"title\":{\"text\":\"Team Name\"}},\"yaxis\":{\"anchor\":\"x\",\"domain\":[0.0,1.0],\"title\":{\"text\":\"Match Results\"}}},                        {\"responsive\": true}                    ).then(function(){\n",
       "                            \n",
       "var gd = document.getElementById('848c556b-b4b6-4d84-b925-d66e48e3d797');\n",
       "var x = new MutationObserver(function (mutations, observer) {{\n",
       "        var display = window.getComputedStyle(gd).display;\n",
       "        if (!display || display === 'none') {{\n",
       "            console.log([gd, 'removed!']);\n",
       "            Plotly.purge(gd);\n",
       "            observer.disconnect();\n",
       "        }}\n",
       "}});\n",
       "\n",
       "// Listen for the removal of the full notebook cells\n",
       "var notebookContainer = gd.closest('#notebook-container');\n",
       "if (notebookContainer) {{\n",
       "    x.observe(notebookContainer, {childList: true});\n",
       "}}\n",
       "\n",
       "// Listen for the clearing of the current output cell\n",
       "var outputEl = gd.closest('.output');\n",
       "if (outputEl) {{\n",
       "    x.observe(outputEl, {childList: true});\n",
       "}}\n",
       "\n",
       "                        })                };                });            </script>        </div>"
      ]
     },
     "metadata": {},
     "output_type": "display_data"
    }
   ],
   "source": [
    "px.bar(team_stats_disp, x=\"team\", y=[\"wins\", \"losses\"], title=\"Team Stats, ranked by success in IPL (2008-2019)\", labels={\n",
    "    \"team\": \"Team Name\",\n",
    "    \"value\": \"Match Results\"\n",
    "}).show()"
   ]
  },
  {
   "cell_type": "markdown",
   "metadata": {},
   "source": [
    "# Inference 1a:\n",
    "\n",
    "From the above graph, we can infer that the top 3 successful teams in IPL are:\n",
    "- Mumbai Indians (109 wins, 78 losses)\n",
    "- Chennai Super Kings(100 wins, 64 losses)\n",
    "- Kolkata Knight Riders(92 wins, 87 losses)"
   ]
  },
  {
   "cell_type": "markdown",
   "metadata": {},
   "source": [
    "# Objective 1b: To find the top-performing players in IPL history.\n",
    "\n"
   ]
  },
  {
   "cell_type": "markdown",
   "metadata": {},
   "source": [
    "## Finding the top-performing batsmen"
   ]
  },
  {
   "cell_type": "code",
   "execution_count": 94,
   "metadata": {
    "ExecuteTime": {
     "end_time": "2021-08-10T07:01:38.492568Z",
     "start_time": "2021-08-10T07:01:28.346432Z"
    },
    "tags": []
   },
   "outputs": [],
   "source": [
    "batsmen = sorted(list(set(list(data2[\"batsman\"]))))\n",
    "\n",
    "balls_faced_index = {}\n",
    "\n",
    "for i in batsmen:\n",
    "    balls_faced_index[i] = len(data2[data2[\"batsman\"] == i])\n",
    "\n",
    "runs_index = {}\n",
    "\n",
    "for i in batsmen:\n",
    "    runs_index[i] = data2[data2[\"batsman\"] == i].batsman_runs.sum()\n",
    "\n",
    "# pprint(runs_index)\n",
    "len(runs_index)\n",
    "\n",
    "top_batsmen = sorted(runs_index.items(), key = lambda x: x[1], reverse=True)\n",
    "# pprint(top_batsmen[:20])\n",
    "\n",
    "strike_rate_index = {}\n",
    "\n",
    "for i in runs_index.keys():\n",
    "    strike_rate_index[i] = runs_index[i]/balls_faced_index[i] * 100\n",
    "\n",
    "# strike_rate_index\n",
    "\n"
   ]
  },
  {
   "cell_type": "code",
   "execution_count": 95,
   "metadata": {
    "ExecuteTime": {
     "end_time": "2021-08-10T07:01:44.030609Z",
     "start_time": "2021-08-10T07:01:39.055981Z"
    }
   },
   "outputs": [],
   "source": [
    "batsmen_matches_index = {}\n",
    "buf = None\n",
    "for i in batsmen:\n",
    "    batsmen_matches_index[i] = len(set(list(data2[data2[\"batsman\"] == i].match_id)))"
   ]
  },
  {
   "cell_type": "code",
   "execution_count": 96,
   "metadata": {
    "ExecuteTime": {
     "end_time": "2021-08-10T07:01:44.564140Z",
     "start_time": "2021-08-10T07:01:44.559582Z"
    }
   },
   "outputs": [
    {
     "data": {
      "text/plain": [
       "{'SK Raina': 189,\n",
       " 'RG Sharma': 182,\n",
       " 'MS Dhoni': 170,\n",
       " 'RV Uthappa': 170,\n",
       " 'V Kohli': 169,\n",
       " 'KD Karthik': 162,\n",
       " 'S Dhawan': 158,\n",
       " 'YK Pathan': 153,\n",
       " 'G Gambhir': 151,\n",
       " 'AB de Villiers': 142,\n",
       " 'AT Rayudu': 138,\n",
       " 'PA Patel': 136,\n",
       " 'AM Rahane': 132,\n",
       " 'KA Pollard': 132,\n",
       " 'SR Watson': 130,\n",
       " 'DA Warner': 126,\n",
       " 'Yuvraj Singh': 126,\n",
       " 'RA Jadeja': 125,\n",
       " 'CH Gayle': 124,\n",
       " 'MK Pandey': 119}"
      ]
     },
     "execution_count": 96,
     "metadata": {},
     "output_type": "execute_result"
    }
   ],
   "source": [
    "dict(sorted(batsmen_matches_index.items(), key=lambda x: x[1], reverse=True)[:20])"
   ]
  },
  {
   "cell_type": "code",
   "execution_count": 97,
   "metadata": {
    "ExecuteTime": {
     "end_time": "2021-08-10T07:01:49.111005Z",
     "start_time": "2021-08-10T07:01:47.946687Z"
    }
   },
   "outputs": [],
   "source": [
    "batsmen_df = pd.DataFrame({\"Name\": [], \"Matches\": [], \"Runs\": [], \"Balls faced\": [], \"Strike Rate\": []})\n",
    "\n",
    "for i in batsmen:\n",
    "    batsmen_df = batsmen_df.append({\"Name\": i, \"Matches\": batsmen_matches_index[i], \"Runs\": runs_index[i], \"Balls faced\": balls_faced_index[i], \"Strike Rate\": strike_rate_index[i]}, ignore_index=True)\n",
    "\n",
    "batsmen_df = batsmen_df.sort_values(\"Runs\", ascending=False)"
   ]
  },
  {
   "cell_type": "code",
   "execution_count": 98,
   "metadata": {
    "ExecuteTime": {
     "end_time": "2021-08-10T07:01:50.101748Z",
     "start_time": "2021-08-10T07:01:50.083147Z"
    }
   },
   "outputs": [
    {
     "data": {
      "text/html": [
       "<div>\n",
       "<style scoped>\n",
       "    .dataframe tbody tr th:only-of-type {\n",
       "        vertical-align: middle;\n",
       "    }\n",
       "\n",
       "    .dataframe tbody tr th {\n",
       "        vertical-align: top;\n",
       "    }\n",
       "\n",
       "    .dataframe thead th {\n",
       "        text-align: right;\n",
       "    }\n",
       "</style>\n",
       "<table border=\"1\" class=\"dataframe\">\n",
       "  <thead>\n",
       "    <tr style=\"text-align: right;\">\n",
       "      <th></th>\n",
       "      <th>Name</th>\n",
       "      <th>Matches</th>\n",
       "      <th>Runs</th>\n",
       "      <th>Balls faced</th>\n",
       "      <th>Strike Rate</th>\n",
       "    </tr>\n",
       "  </thead>\n",
       "  <tbody>\n",
       "    <tr>\n",
       "      <th>486</th>\n",
       "      <td>V Kohli</td>\n",
       "      <td>169.0</td>\n",
       "      <td>5434.0</td>\n",
       "      <td>4211.0</td>\n",
       "      <td>129.042983</td>\n",
       "    </tr>\n",
       "    <tr>\n",
       "      <th>428</th>\n",
       "      <td>SK Raina</td>\n",
       "      <td>189.0</td>\n",
       "      <td>5415.0</td>\n",
       "      <td>4044.0</td>\n",
       "      <td>133.902077</td>\n",
       "    </tr>\n",
       "    <tr>\n",
       "      <th>367</th>\n",
       "      <td>RG Sharma</td>\n",
       "      <td>182.0</td>\n",
       "      <td>4914.0</td>\n",
       "      <td>3816.0</td>\n",
       "      <td>128.773585</td>\n",
       "    </tr>\n",
       "    <tr>\n",
       "      <th>112</th>\n",
       "      <td>DA Warner</td>\n",
       "      <td>126.0</td>\n",
       "      <td>4741.0</td>\n",
       "      <td>3398.0</td>\n",
       "      <td>139.523249</td>\n",
       "    </tr>\n",
       "    <tr>\n",
       "      <th>392</th>\n",
       "      <td>S Dhawan</td>\n",
       "      <td>158.0</td>\n",
       "      <td>4632.0</td>\n",
       "      <td>3776.0</td>\n",
       "      <td>122.669492</td>\n",
       "    </tr>\n",
       "    <tr>\n",
       "      <th>92</th>\n",
       "      <td>CH Gayle</td>\n",
       "      <td>124.0</td>\n",
       "      <td>4560.0</td>\n",
       "      <td>3131.0</td>\n",
       "      <td>145.640370</td>\n",
       "    </tr>\n",
       "    <tr>\n",
       "      <th>290</th>\n",
       "      <td>MS Dhoni</td>\n",
       "      <td>170.0</td>\n",
       "      <td>4477.0</td>\n",
       "      <td>3318.0</td>\n",
       "      <td>134.930681</td>\n",
       "    </tr>\n",
       "    <tr>\n",
       "      <th>384</th>\n",
       "      <td>RV Uthappa</td>\n",
       "      <td>170.0</td>\n",
       "      <td>4446.0</td>\n",
       "      <td>3492.0</td>\n",
       "      <td>127.319588</td>\n",
       "    </tr>\n",
       "    <tr>\n",
       "      <th>26</th>\n",
       "      <td>AB de Villiers</td>\n",
       "      <td>142.0</td>\n",
       "      <td>4428.0</td>\n",
       "      <td>2977.0</td>\n",
       "      <td>148.740343</td>\n",
       "    </tr>\n",
       "    <tr>\n",
       "      <th>147</th>\n",
       "      <td>G Gambhir</td>\n",
       "      <td>151.0</td>\n",
       "      <td>4223.0</td>\n",
       "      <td>3524.0</td>\n",
       "      <td>119.835414</td>\n",
       "    </tr>\n",
       "    <tr>\n",
       "      <th>42</th>\n",
       "      <td>AM Rahane</td>\n",
       "      <td>132.0</td>\n",
       "      <td>3850.0</td>\n",
       "      <td>3215.0</td>\n",
       "      <td>119.751166</td>\n",
       "    </tr>\n",
       "    <tr>\n",
       "      <th>218</th>\n",
       "      <td>KD Karthik</td>\n",
       "      <td>162.0</td>\n",
       "      <td>3688.0</td>\n",
       "      <td>2890.0</td>\n",
       "      <td>127.612457</td>\n",
       "    </tr>\n",
       "    <tr>\n",
       "      <th>444</th>\n",
       "      <td>SR Watson</td>\n",
       "      <td>130.0</td>\n",
       "      <td>3614.0</td>\n",
       "      <td>2639.0</td>\n",
       "      <td>136.945813</td>\n",
       "    </tr>\n",
       "    <tr>\n",
       "      <th>53</th>\n",
       "      <td>AT Rayudu</td>\n",
       "      <td>138.0</td>\n",
       "      <td>3326.0</td>\n",
       "      <td>2681.0</td>\n",
       "      <td>124.058187</td>\n",
       "    </tr>\n",
       "    <tr>\n",
       "      <th>509</th>\n",
       "      <td>YK Pathan</td>\n",
       "      <td>153.0</td>\n",
       "      <td>3241.0</td>\n",
       "      <td>2334.0</td>\n",
       "      <td>138.860326</td>\n",
       "    </tr>\n",
       "    <tr>\n",
       "      <th>72</th>\n",
       "      <td>BB McCullum</td>\n",
       "      <td>109.0</td>\n",
       "      <td>2893.0</td>\n",
       "      <td>2272.0</td>\n",
       "      <td>127.332746</td>\n",
       "    </tr>\n",
       "    <tr>\n",
       "      <th>329</th>\n",
       "      <td>PA Patel</td>\n",
       "      <td>136.0</td>\n",
       "      <td>2874.0</td>\n",
       "      <td>2444.0</td>\n",
       "      <td>117.594108</td>\n",
       "    </tr>\n",
       "    <tr>\n",
       "      <th>280</th>\n",
       "      <td>MK Pandey</td>\n",
       "      <td>119.0</td>\n",
       "      <td>2872.0</td>\n",
       "      <td>2425.0</td>\n",
       "      <td>118.432990</td>\n",
       "    </tr>\n",
       "    <tr>\n",
       "      <th>213</th>\n",
       "      <td>KA Pollard</td>\n",
       "      <td>132.0</td>\n",
       "      <td>2784.0</td>\n",
       "      <td>1964.0</td>\n",
       "      <td>141.751527</td>\n",
       "    </tr>\n",
       "    <tr>\n",
       "      <th>514</th>\n",
       "      <td>Yuvraj Singh</td>\n",
       "      <td>126.0</td>\n",
       "      <td>2765.0</td>\n",
       "      <td>2207.0</td>\n",
       "      <td>125.283190</td>\n",
       "    </tr>\n",
       "  </tbody>\n",
       "</table>\n",
       "</div>"
      ],
      "text/plain": [
       "               Name  Matches    Runs  Balls faced  Strike Rate\n",
       "486         V Kohli    169.0  5434.0       4211.0   129.042983\n",
       "428        SK Raina    189.0  5415.0       4044.0   133.902077\n",
       "367       RG Sharma    182.0  4914.0       3816.0   128.773585\n",
       "112       DA Warner    126.0  4741.0       3398.0   139.523249\n",
       "392        S Dhawan    158.0  4632.0       3776.0   122.669492\n",
       "92         CH Gayle    124.0  4560.0       3131.0   145.640370\n",
       "290        MS Dhoni    170.0  4477.0       3318.0   134.930681\n",
       "384      RV Uthappa    170.0  4446.0       3492.0   127.319588\n",
       "26   AB de Villiers    142.0  4428.0       2977.0   148.740343\n",
       "147       G Gambhir    151.0  4223.0       3524.0   119.835414\n",
       "42        AM Rahane    132.0  3850.0       3215.0   119.751166\n",
       "218      KD Karthik    162.0  3688.0       2890.0   127.612457\n",
       "444       SR Watson    130.0  3614.0       2639.0   136.945813\n",
       "53        AT Rayudu    138.0  3326.0       2681.0   124.058187\n",
       "509       YK Pathan    153.0  3241.0       2334.0   138.860326\n",
       "72      BB McCullum    109.0  2893.0       2272.0   127.332746\n",
       "329        PA Patel    136.0  2874.0       2444.0   117.594108\n",
       "280       MK Pandey    119.0  2872.0       2425.0   118.432990\n",
       "213      KA Pollard    132.0  2784.0       1964.0   141.751527\n",
       "514    Yuvraj Singh    126.0  2765.0       2207.0   125.283190"
      ]
     },
     "execution_count": 98,
     "metadata": {},
     "output_type": "execute_result"
    }
   ],
   "source": [
    "batsmen_df.iloc[:20]"
   ]
  },
  {
   "cell_type": "markdown",
   "metadata": {},
   "source": [
    "## Find the top performing bowlers"
   ]
  },
  {
   "cell_type": "code",
   "execution_count": 99,
   "metadata": {
    "ExecuteTime": {
     "end_time": "2021-08-10T07:01:57.447683Z",
     "start_time": "2021-08-10T07:01:53.691961Z"
    }
   },
   "outputs": [],
   "source": [
    "bowlers = sorted(list(set(list(data2[\"bowler\"]))))\n",
    "\n",
    "deliveries_index = {}\n",
    "for i in bowlers:\n",
    "    deliveries_index[i] = len(data2[data2[\"bowler\"] == i])\n"
   ]
  },
  {
   "cell_type": "code",
   "execution_count": 100,
   "metadata": {
    "ExecuteTime": {
     "end_time": "2021-08-10T07:01:58.161979Z",
     "start_time": "2021-08-10T07:01:58.156033Z"
    }
   },
   "outputs": [
    {
     "data": {
      "text/plain": [
       "179078"
      ]
     },
     "execution_count": 100,
     "metadata": {},
     "output_type": "execute_result"
    }
   ],
   "source": [
    "# Verification if total sum of all deliveries match number of rows of deliveries.csv\n",
    "\n",
    "sumd = 0 \n",
    "for i in bowlers:\n",
    "    sumd += deliveries_index[i]\n",
    "\n",
    "sumd"
   ]
  },
  {
   "cell_type": "code",
   "execution_count": 101,
   "metadata": {
    "ExecuteTime": {
     "end_time": "2021-08-10T07:01:59.713711Z",
     "start_time": "2021-08-10T07:01:59.683268Z"
    }
   },
   "outputs": [
    {
     "name": "stdout",
     "output_type": "stream",
     "text": [
      "[('Harbhajan Singh', 3451),\n",
      " ('A Mishra', 3172),\n",
      " ('PP Chawla', 3157),\n",
      " ('R Ashwin', 3016),\n",
      " ('SL Malinga', 2974),\n",
      " ('DJ Bravo', 2711),\n",
      " ('B Kumar', 2707),\n",
      " ('P Kumar', 2637),\n",
      " ('UT Yadav', 2605),\n",
      " ('SP Narine', 2600),\n",
      " ('RA Jadeja', 2541),\n",
      " ('Z Khan', 2276),\n",
      " ('DW Steyn', 2207),\n",
      " ('R Vinay Kumar', 2186),\n",
      " ('SR Watson', 2137),\n",
      " ('IK Pathan', 2113),\n",
      " ('I Sharma', 1999),\n",
      " ('A Nehra', 1974),\n",
      " ('PP Ojha', 1945),\n",
      " ('RP Singh', 1874),\n",
      " ('YS Chahal', 1841),\n",
      " ('DS Kulkarni', 1830),\n",
      " ('JA Morkel', 1807),\n",
      " ('JH Kallis', 1799),\n",
      " ('JJ Bumrah', 1798),\n",
      " ('MM Sharma', 1770),\n",
      " ('AR Patel', 1745),\n",
      " ('M Morkel', 1699),\n",
      " ('R Bhatia', 1661),\n",
      " ('AB Dinda', 1589),\n",
      " ('M Muralitharan', 1581),\n",
      " ('L Balaji', 1574),\n",
      " ('SK Trivedi', 1557),\n",
      " ('Sandeep Sharma', 1546),\n",
      " ('JD Unadkat', 1541),\n",
      " ('MM Patel', 1382),\n",
      " ('Shakib Al Hasan', 1359),\n",
      " ('MJ McClenaghan', 1346),\n",
      " ('CH Morris', 1335),\n",
      " ('MG Johnson', 1301),\n",
      " ('JP Faulkner', 1287),\n",
      " ('S Nadeem', 1283),\n",
      " ('KA Pollard', 1276),\n",
      " ('Imran Tahir', 1249),\n",
      " ('SK Warne', 1223),\n",
      " ('YK Pathan', 1184),\n",
      " ('M Kartik', 1182),\n",
      " ('KV Sharma', 1121),\n",
      " ('Rashid Khan', 1106),\n",
      " ('SB Jakati', 1101),\n",
      " ('Mohammed Shami', 1075),\n",
      " ('AD Russell', 1072),\n",
      " ('S Kaul', 1007),\n",
      " ('A Kumble', 983),\n",
      " ('VR Aaron', 978),\n",
      " ('KH Pandya', 968),\n",
      " ('S Sreesanth', 947),\n",
      " ('Iqbal Abdulla', 943),\n",
      " ('R Sharma', 935),\n",
      " ('TG Southee', 932),\n",
      " ('SK Raina', 930),\n",
      " ('MS Gony', 925),\n",
      " ('MC Henriques', 918),\n",
      " ('B Lee', 916),\n",
      " ('HH Pandya', 914),\n",
      " ('Yuvraj Singh', 882),\n",
      " ('HV Patel', 868),\n",
      " ('RJ Harris', 865),\n",
      " ('PJ Sangwan', 849),\n",
      " ('Kuldeep Yadav', 838),\n",
      " ('AB Agarkar', 820),\n",
      " ('DT Christian', 818),\n",
      " ('AD Mathews', 807),\n",
      " ('TA Boult', 802),\n",
      " ('S Aravind', 788),\n",
      " ('DL Vettori', 785),\n",
      " ('P Awana', 774),\n",
      " ('SN Thakur', 745),\n",
      " ('P Negi', 734),\n",
      " ('DL Chahar', 728),\n",
      " ('NLTC Perera', 715),\n",
      " ('J Botha', 709),\n",
      " ('JP Duminy', 701),\n",
      " ('DP Nannes', 689),\n",
      " ('PV Tambe', 674),\n",
      " ('AJ Tye', 618),\n",
      " ('BA Stokes', 615),\n",
      " ('MA Starc', 612),\n",
      " ('STR Binny', 612),\n",
      " ('WD Parnell', 601),\n",
      " ('DE Bollinger', 600),\n",
      " ('KK Cooper', 600),\n",
      " ('S Gopal', 593),\n",
      " ('NM Coulter-Nile', 586),\n",
      " ('Mohammed Siraj', 584),\n",
      " ('CH Gayle', 579),\n",
      " ('Mustafizur Rahman', 560),\n",
      " ('DR Smith', 557),\n",
      " ('Azhar Mahmood', 552),\n",
      " ('A Singh', 551),\n",
      " ('Harmeet Singh', 549),\n",
      " ('A Symonds', 540),\n",
      " ('SW Tait', 534),\n",
      " ('BB Sran', 516),\n",
      " ('J Archer', 514),\n",
      " ('R Dhawan', 513),\n",
      " ('IC Pandey', 469),\n",
      " ('GB Hogg', 466),\n",
      " ('RE van der Merwe', 455),\n",
      " ('AS Rajpoot', 452),\n",
      " ('RR Powar', 443),\n",
      " ('MF Maharoof', 441),\n",
      " ('P Krishna', 437),\n",
      " ('Bipul Sharma', 436),\n",
      " ('K Rabada', 434),\n",
      " ('GJ Maxwell', 432),\n",
      " ('M Ashwin', 432),\n",
      " ('Anureet Singh', 430),\n",
      " ('Basil Thampi', 413),\n",
      " ('CR Woakes', 396),\n",
      " ('BW Hilfenhaus', 390),\n",
      " ('Ankit Sharma', 388),\n",
      " ('PJ Cummins', 379),\n",
      " ('MP Stoinis', 378),\n",
      " ('M Ur Rahman', 377),\n",
      " ('R McLaren', 372),\n",
      " ('VRV Singh', 371),\n",
      " ('JR Hopes', 369),\n",
      " ('K Gowtham', 367),\n",
      " ('AN Ahmed', 362),\n",
      " ('VY Mahesh', 359),\n",
      " ('Washington Sundar', 358),\n",
      " ('RG Sharma', 342),\n",
      " ('RD Chahar', 333),\n",
      " ('GD McGrath', 329),\n",
      " ('AC Thomas', 327),\n",
      " ('MR Marsh', 327),\n",
      " ('KW Richardson', 326),\n",
      " ('LR Shukla', 326),\n",
      " ('DJ Hussey', 323),\n",
      " ('CJ Anderson', 315),\n",
      " ('A Mithun', 312),\n",
      " ('Pankaj Singh', 311),\n",
      " ('AD Mascarenhas', 310),\n",
      " ('SJ Srivastava', 306),\n",
      " ('M Markande', 305),\n",
      " ('BA Bhatt', 303),\n",
      " ('R Tewatia', 301),\n",
      " ('ST Jayasuriya', 301),\n",
      " ('N Saini', 300),\n",
      " ('D Wiese', 289),\n",
      " ('BCJ Cutting', 288),\n",
      " ('WPUJC Vaas', 288),\n",
      " ('SC Ganguly', 280),\n",
      " ('SM Pollock', 280),\n",
      " ('R Rampaul', 278),\n",
      " ('J Suchith', 277),\n",
      " ('TM Dilshan', 275),\n",
      " ('Joginder Sharma', 272),\n",
      " ('Mohammad Nabi', 271),\n",
      " ('A Ashish Reddy', 270),\n",
      " ('AG Murtaza', 269),\n",
      " ('CR Brathwaite', 266),\n",
      " ('S Sharma', 265),\n",
      " ('Sohail Tanvir', 265),\n",
      " ('V Kohli', 264),\n",
      " ('S Badree', 263),\n",
      " ('AA Chavan', 255),\n",
      " ('CRD Fernando', 249),\n",
      " ('BAW Mendis', 248),\n",
      " ('DJG Sammy', 244),\n",
      " ('JDP Oram', 244),\n",
      " ('JD Ryder', 241),\n",
      " ('K Ahmed', 241),\n",
      " ('AM Nayar', 239),\n",
      " ('BJ Hodge', 238),\n",
      " ('J Theron', 235),\n",
      " ('A Chandila', 234),\n",
      " ('DJ Hooda', 233),\n",
      " ('M Ali', 233),\n",
      " ('C de Grandhomme', 230),\n",
      " ('JO Holder', 228),\n",
      " ('J Yadav', 226),\n",
      " ('A Zampa', 225),\n",
      " ('KC Cariappa', 224),\n",
      " ('KP Appanna', 222),\n",
      " ('SB Styris', 222),\n",
      " ('Y Venugopal Rao', 222),\n",
      " ('YA Abdulla', 222),\n",
      " ('S Tyagi', 220),\n",
      " ('MN Samuels', 219),\n",
      " ('CJ Jordan', 213),\n",
      " ('Karanveer Singh', 213),\n",
      " ('M Ntini', 213),\n",
      " ('RS Bopara', 213),\n",
      " ('VS Malik', 212),\n",
      " ('S Lamichhane', 211),\n",
      " ('V Pratap Singh', 211),\n",
      " ('S Kaushik', 210),\n",
      " ('S Curran', 207),\n",
      " ('Parvez Rasool', 200),\n",
      " ('Mohammad Asif', 199),\n",
      " ('J Syed Mohammad', 196),\n",
      " ('SMSM Senanayake', 195),\n",
      " ('B Akhil', 193),\n",
      " ('SE Bond', 191),\n",
      " ('AB McDonald', 188),\n",
      " ('Shahid Afridi', 185),\n",
      " ('I Sodhi', 183),\n",
      " ('K Paul', 180),\n",
      " ('KP Pietersen', 180),\n",
      " ('S Randiv', 180),\n",
      " ('B Laughlin', 179),\n",
      " ('S Mavi', 179),\n",
      " ('Kamran Khan', 177),\n",
      " ('H Gurney', 169),\n",
      " ('CK Langeveldt', 165),\n",
      " ('L Ngidi', 163),\n",
      " ('Anand Rajan', 162),\n",
      " ('Avesh Khan', 160),\n",
      " ('DP Vijaykumar', 159),\n",
      " ('P Parameswaran', 159),\n",
      " ('BE Hendricks', 157),\n",
      " ('AM Salvi', 156),\n",
      " ('JEC Franklin', 155),\n",
      " ('L Plunkett', 154),\n",
      " ('PC Valthaty', 153),\n",
      " ('SB Bangar', 153),\n",
      " ('Umar Gul', 153),\n",
      " ('TL Suman', 152),\n",
      " ('B Stanlake', 150),\n",
      " ('FH Edwards', 150),\n",
      " ('H Viljoen', 146),\n",
      " ('R Sathish', 144),\n",
      " ('RR Raje', 144),\n",
      " ('T Thushara', 144),\n",
      " ('S Ladda', 141),\n",
      " ('V Sehwag', 138),\n",
      " ('P Amarnath', 132),\n",
      " ('R Shukla', 130),\n",
      " ('JE Taylor', 122),\n",
      " ('J Behrendorff', 117),\n",
      " ('M de Lange', 116),\n",
      " ('AF Milne', 115),\n",
      " ('Shivam Sharma', 114),\n",
      " ('AL Menaria', 113),\n",
      " ('S Narwal', 113),\n",
      " ('Ankit Soni', 112),\n",
      " ('Jaskaran Singh', 111),\n",
      " ('TS Mills', 111),\n",
      " ('A Choudhary', 108),\n",
      " ('SB Wagh', 108),\n",
      " ('KMDN Kulasekara', 107),\n",
      " ('L Ferguson', 107),\n",
      " ('P Sahu', 107),\n",
      " ('P Suyal', 107),\n",
      " ('Shoaib Ahmed', 103),\n",
      " ('KJ Abbott', 102),\n",
      " ('K Khejroliya', 101),\n",
      " ('RV Gomez', 97),\n",
      " ('T Shamsi', 96),\n",
      " ('N Rana', 94),\n",
      " ('V Shankar', 92),\n",
      " ('PD Collingwood', 90),\n",
      " ('AA Jhunjhunwala', 88),\n",
      " ('M Santner', 88),\n",
      " ('LH Ferguson', 87),\n",
      " ('DJ Muthuswami', 84),\n",
      " ('Gagandeep Singh', 84),\n",
      " ('R Parag', 84),\n",
      " ('RN ten Doeschate', 83),\n",
      " ('Gurkeerat Singh', 82),\n",
      " ('T Natarajan', 82),\n",
      " ('JJ van der Wath', 76),\n",
      " ('LJ Wright', 75),\n",
      " ('WA Mota', 75),\n",
      " ('TP Sudhindra', 74),\n",
      " ('AP Dole', 73),\n",
      " ('S Warrier', 73),\n",
      " ('Y Nagar', 72),\n",
      " ('DNT Zoysa', 69),\n",
      " ('K Goel', 67),\n",
      " ('SM Harwood', 67),\n",
      " ('A Flintoff', 66),\n",
      " ('MJ Clarke', 66),\n",
      " ('T Curran', 64),\n",
      " ('Mohammad Hafeez', 63),\n",
      " ('O Thomas', 63),\n",
      " ('D Willey', 61),\n",
      " ('JW Hastings', 61),\n",
      " ('Swapnil Singh', 61),\n",
      " ('Shoaib Malik', 58),\n",
      " ('JDS Neesham', 57),\n",
      " ('ND Doshi', 57),\n",
      " ('AC Voges', 56),\n",
      " ('K Upadhyay', 56),\n",
      " ('A Joseph', 55),\n",
      " ('SB Joshi', 55),\n",
      " ('KAJ Roach', 52),\n",
      " ('D Salunkhe', 51),\n",
      " ('K Santokie', 51),\n",
      " ('C Nanda', 50),\n",
      " ('D Kalyankrishna', 50),\n",
      " ('S Kuggeleijn', 50),\n",
      " ('B Geeves', 49),\n",
      " ('S Dhawan', 49),\n",
      " ('GS Sandhu', 48),\n",
      " ('RJ Peterson', 48),\n",
      " ('TM Head', 48),\n",
      " ('JM Kemp', 47),\n",
      " ('CL White', 46),\n",
      " ('S Rutherford', 46),\n",
      " ('Shoaib Akhtar', 46),\n",
      " ('J Searles', 45),\n",
      " ('L Ablish', 45),\n",
      " ('MK Tiwary', 45),\n",
      " ('AJ Finch', 44),\n",
      " ('DJ Thornely', 44),\n",
      " ('D du Preez', 43),\n",
      " ('SM Boland', 43),\n",
      " ('CJ McKay', 42),\n",
      " ('M Manhas', 42),\n",
      " ('AUK Pathan', 41),\n",
      " ('A Uniyal', 38),\n",
      " ('KM Asif', 38),\n",
      " ('SD Chitnis', 38),\n",
      " ('GH Vihari', 37),\n",
      " ('M Vijay', 37),\n",
      " ('RG More', 37),\n",
      " ('SR Tendulkar', 37),\n",
      " ('R Ninan', 36),\n",
      " ('T Henderson', 36),\n",
      " ('P Raj', 33),\n",
      " ('SA Abbott', 32),\n",
      " ('VS Yeligati', 32),\n",
      " ('MJ Henry', 31),\n",
      " ('PM Sarvesh Kumar', 31),\n",
      " ('AS Raut', 30),\n",
      " ('BMAJ Mendis', 30),\n",
      " ('H Brar', 30),\n",
      " ('MA Khote', 30),\n",
      " ('NL McCullum', 30),\n",
      " ('Mashrafe Mortaza', 28),\n",
      " ('R Salam', 27),\n",
      " ('A Dananjaya', 25),\n",
      " ('AA Noffke', 25),\n",
      " ('DAJ Bracewell', 25),\n",
      " ('Harmeet Singh (2)', 25),\n",
      " ('M Wood', 25),\n",
      " ('MG Neser', 25),\n",
      " ('NB Singh', 25),\n",
      " ('SS Sarkar', 25),\n",
      " ('GR Napier', 24),\n",
      " ('P R Barman', 24),\n",
      " ('SS Agarwal', 24),\n",
      " ('Tejas Baroka', 21),\n",
      " ('J Dala', 19),\n",
      " ('MB Parmar', 19),\n",
      " ('Sunny Gupta', 19),\n",
      " ('A Nel', 18),\n",
      " ('D Short', 18),\n",
      " ('DB Ravi Teja', 18),\n",
      " ('DJ Harris', 18),\n",
      " ('LMP Simmons', 18),\n",
      " ('M Lomror', 18),\n",
      " ('NJ Rimmington', 18),\n",
      " ('RW Price', 18),\n",
      " ('S Sriram', 18),\n",
      " ('V Chakravarthy', 18),\n",
      " ('CK Kapugedera', 17),\n",
      " ('S Rana', 16),\n",
      " ('A Roy', 15),\n",
      " ('Abdur Razzak', 14),\n",
      " ('AA Kazi', 13),\n",
      " ('LRPL Taylor', 13),\n",
      " ('S Midhun', 13),\n",
      " ('S Vidyut', 13),\n",
      " ('C Munro', 12),\n",
      " ('FY Fazal', 12),\n",
      " ('Mandeep Singh', 12),\n",
      " ('RR Bhatkal', 12),\n",
      " ('RR Bose', 12),\n",
      " ('S Dube', 11),\n",
      " ('Sachin Baby', 10),\n",
      " ('BJ Rohrer', 7),\n",
      " ('LA Carseldine', 7),\n",
      " ('SS Mundhe', 7),\n",
      " ('AM Rahane', 6),\n",
      " ('B Chipli', 6),\n",
      " ('C Ganapathy', 6),\n",
      " ('F du Plessis', 6),\n",
      " ('H Vihari', 6),\n",
      " ('I Malhotra', 6),\n",
      " ('KS Williamson', 6),\n",
      " ('L Livingstone', 6),\n",
      " ('LPC Silva', 6),\n",
      " ('P Prasanth', 6),\n",
      " ('RA Shaikh', 6),\n",
      " ('RA Tripathi', 6),\n",
      " ('RS Gavaskar', 6),\n",
      " ('SA Yadav', 6),\n",
      " ('Y Gnaneswara Rao', 6),\n",
      " ('SN Khan', 2),\n",
      " ('SPD Smith', 2),\n",
      " ('AC Gilchrist', 1)]\n"
     ]
    }
   ],
   "source": [
    "# pprint(deliveries_index)\n",
    "pprint(sorted(deliveries_index.items(), key = lambda x: x[1], reverse=True))"
   ]
  },
  {
   "cell_type": "code",
   "execution_count": 102,
   "metadata": {
    "ExecuteTime": {
     "end_time": "2021-08-10T07:02:00.659704Z",
     "start_time": "2021-08-10T07:02:00.646269Z"
    }
   },
   "outputs": [
    {
     "name": "stdout",
     "output_type": "stream",
     "text": [
      "[nan 'caught' 'bowled' 'run out' 'lbw' 'caught and bowled' 'stumped'\n",
      " 'retired hurt' 'hit wicket' 'obstructing the field']\n"
     ]
    }
   ],
   "source": [
    "print(data2[\"dismissal_kind\"].unique())\n",
    "kinds = [\"caught\", \"bowled\", \"lbw\", \"caught and bowled\", \"stumped\"]"
   ]
  },
  {
   "cell_type": "code",
   "execution_count": 103,
   "metadata": {
    "ExecuteTime": {
     "end_time": "2021-08-10T07:02:08.247869Z",
     "start_time": "2021-08-10T07:02:01.387074Z"
    }
   },
   "outputs": [],
   "source": [
    "wickets_index = {}\n",
    "\n",
    "for i in bowlers:\n",
    "    wickets_index[i] = len(data2.loc[(data2[\"player_dismissed\"].isin(batsmen)) & (data2[\"bowler\"] == i) & (data2[\"dismissal_kind\"].isin(kinds))])\n",
    "\n"
   ]
  },
  {
   "cell_type": "code",
   "execution_count": 104,
   "metadata": {
    "ExecuteTime": {
     "end_time": "2021-08-10T07:02:08.819738Z",
     "start_time": "2021-08-10T07:02:08.806675Z"
    }
   },
   "outputs": [
    {
     "name": "stdout",
     "output_type": "stream",
     "text": [
      "[('SL Malinga', 170),\n",
      " ('A Mishra', 156),\n",
      " ('Harbhajan Singh', 149),\n",
      " ('PP Chawla', 149),\n",
      " ('DJ Bravo', 147),\n",
      " ('B Kumar', 133),\n",
      " ('R Ashwin', 125),\n",
      " ('SP Narine', 122),\n",
      " ('UT Yadav', 119),\n",
      " ('RA Jadeja', 108),\n",
      " ('A Nehra', 106),\n",
      " ('R Vinay Kumar', 105),\n",
      " ('Z Khan', 102),\n",
      " ('YS Chahal', 100),\n",
      " ('DW Steyn', 95),\n",
      " ('SR Watson', 92),\n",
      " ('MM Sharma', 91),\n",
      " ('P Kumar', 90),\n",
      " ('RP Singh', 90),\n",
      " ('PP Ojha', 89),\n",
      " ('DS Kulkarni', 86),\n",
      " ('JA Morkel', 84),\n",
      " ('Sandeep Sharma', 83),\n",
      " ('JJ Bumrah', 82),\n",
      " ('IK Pathan', 80),\n",
      " ('Imran Tahir', 79),\n",
      " ('JD Unadkat', 77),\n",
      " ('M Morkel', 77),\n",
      " ('L Balaji', 76),\n",
      " ('MM Patel', 74),\n",
      " ('I Sharma', 71),\n",
      " ('R Bhatia', 71),\n",
      " ('AR Patel', 70),\n",
      " ('CH Morris', 70),\n",
      " ('MJ McClenaghan', 70),\n",
      " ('AB Dinda', 69),\n",
      " ('JH Kallis', 65),\n",
      " ('SK Trivedi', 65),\n",
      " ('M Muralitharan', 64),\n",
      " ('MG Johnson', 62),\n",
      " ('JP Faulkner', 61),\n",
      " ('Shakib Al Hasan', 59),\n",
      " ('SK Warne', 57),\n",
      " ('KA Pollard', 56),\n",
      " ('Rashid Khan', 55),\n",
      " ('AD Russell', 54),\n",
      " ('KV Sharma', 54),\n",
      " ('S Kaul', 49),\n",
      " ('SB Jakati', 47),\n",
      " ('A Kumble', 45),\n",
      " ('RJ Harris', 45),\n",
      " ('S Aravind', 45),\n",
      " ('HV Patel', 43),\n",
      " ('HH Pandya', 42),\n",
      " ('S Nadeem', 42),\n",
      " ('VR Aaron', 42),\n",
      " ('YK Pathan', 42),\n",
      " ('Iqbal Abdulla', 40),\n",
      " ('Mohammed Shami', 40),\n",
      " ('R Sharma', 40),\n",
      " ('AJ Tye', 39),\n",
      " ('KH Pandya', 39),\n",
      " ('Kuldeep Yadav', 39),\n",
      " ('P Awana', 39),\n",
      " ('MC Henriques', 38),\n",
      " ('S Gopal', 38),\n",
      " ('S Sreesanth', 38),\n",
      " ('TA Boult', 38),\n",
      " ('DE Bollinger', 37),\n",
      " ('MS Gony', 37),\n",
      " ('SN Thakur', 36),\n",
      " ('Yuvraj Singh', 36),\n",
      " ('NM Coulter-Nile', 35),\n",
      " ('PJ Sangwan', 35),\n",
      " ('DT Christian', 34),\n",
      " ('MA Starc', 34),\n",
      " ('P Negi', 34),\n",
      " ('DL Chahar', 33),\n",
      " ('KK Cooper', 33),\n",
      " ('A Singh', 31),\n",
      " ('K Rabada', 31),\n",
      " ('M Kartik', 31),\n",
      " ('NLTC Perera', 31),\n",
      " ('AB Agarkar', 29),\n",
      " ('Azhar Mahmood', 29),\n",
      " ('DL Vettori', 28),\n",
      " ('DP Nannes', 28),\n",
      " ('Mohammed Siraj', 28),\n",
      " ('PV Tambe', 28),\n",
      " ('TG Southee', 28),\n",
      " ('AD Mathews', 27),\n",
      " ('MF Maharoof', 27),\n",
      " ('BA Stokes', 26),\n",
      " ('DR Smith', 26),\n",
      " ('Harmeet Singh', 26),\n",
      " ('J Archer', 26),\n",
      " ('WD Parnell', 26),\n",
      " ('B Lee', 25),\n",
      " ('CR Woakes', 25),\n",
      " ('J Botha', 25),\n",
      " ('SK Raina', 25),\n",
      " ('Mustafizur Rahman', 24),\n",
      " ('GB Hogg', 23),\n",
      " ('JP Duminy', 23),\n",
      " ('SW Tait', 23),\n",
      " ('AS Rajpoot', 22),\n",
      " ('BW Hilfenhaus', 22),\n",
      " ('STR Binny', 22),\n",
      " ('Sohail Tanvir', 22),\n",
      " ('RE van der Merwe', 21),\n",
      " ('VY Mahesh', 21),\n",
      " ('A Symonds', 20),\n",
      " ('MR Marsh', 20),\n",
      " ('A Zampa', 19),\n",
      " ('AD Mascarenhas', 19),\n",
      " ('K Ahmed', 19),\n",
      " ('A Ashish Reddy', 18),\n",
      " ('Anureet Singh', 18),\n",
      " ('BB Sran', 18),\n",
      " ('CH Gayle', 18),\n",
      " ('IC Pandey', 18),\n",
      " ('KW Richardson', 18),\n",
      " ('R Dhawan', 18),\n",
      " ('WPUJC Vaas', 18),\n",
      " ('BJ Hodge', 17),\n",
      " ('Bipul Sharma', 17),\n",
      " ('CRD Fernando', 17),\n",
      " ('M Ur Rahman', 17),\n",
      " ('PJ Cummins', 17),\n",
      " ('Basil Thampi', 16),\n",
      " ('D Wiese', 16),\n",
      " ('GJ Maxwell', 16),\n",
      " ('M Markande', 16),\n",
      " ('R Rampaul', 16),\n",
      " ('LR Shukla', 15),\n",
      " ('M Ashwin', 15),\n",
      " ('MP Stoinis', 15),\n",
      " ('RD Chahar', 15),\n",
      " ('RG Sharma', 15),\n",
      " ('Washington Sundar', 15),\n",
      " ('YA Abdulla', 15),\n",
      " ('AC Thomas', 14),\n",
      " ('JR Hopes', 14),\n",
      " ('P Krishna', 14),\n",
      " ('SJ Srivastava', 14),\n",
      " ('Ankit Sharma', 13),\n",
      " ('CK Langeveldt', 13),\n",
      " ('CR Brathwaite', 13),\n",
      " ('R Tewatia', 13),\n",
      " ('RR Powar', 13),\n",
      " ('S Lamichhane', 13),\n",
      " ('ST Jayasuriya', 13),\n",
      " ('AN Ahmed', 12),\n",
      " ('BA Bhatt', 12),\n",
      " ('CJ Jordan', 12),\n",
      " ('GD McGrath', 12),\n",
      " ('J Suchith', 12),\n",
      " ('Joginder Sharma', 12),\n",
      " ('Karanveer Singh', 12),\n",
      " ('R McLaren', 12),\n",
      " ('S Sharma', 12),\n",
      " ('Umar Gul', 12),\n",
      " ('VRV Singh', 12),\n",
      " ('A Chandila', 11),\n",
      " ('AB McDonald', 11),\n",
      " ('CJ Anderson', 11),\n",
      " ('DJG Sammy', 11),\n",
      " ('J Theron', 11),\n",
      " ('K Gowtham', 11),\n",
      " ('L Ngidi', 11),\n",
      " ('Mohammad Nabi', 11),\n",
      " ('N Saini', 11),\n",
      " ('Pankaj Singh', 11),\n",
      " ('RS Bopara', 11),\n",
      " ('S Badree', 11),\n",
      " ('SM Pollock', 11),\n",
      " ('B Laughlin', 10),\n",
      " ('BCJ Cutting', 10),\n",
      " ('Kamran Khan', 10),\n",
      " ('S Curran', 10),\n",
      " ('SC Ganguly', 10),\n",
      " ('V Pratap Singh', 10),\n",
      " ('AG Murtaza', 9),\n",
      " ('AM Nayar', 9),\n",
      " ('BE Hendricks', 9),\n",
      " ('I Sodhi', 9),\n",
      " ('JDP Oram', 9),\n",
      " ('JEC Franklin', 9),\n",
      " ('K Paul', 9),\n",
      " ('KP Appanna', 9),\n",
      " ('M Ali', 9),\n",
      " ('MN Samuels', 9),\n",
      " ('P Parameswaran', 9),\n",
      " ('SE Bond', 9),\n",
      " ('SMSM Senanayake', 9),\n",
      " ('Shahid Afridi', 9),\n",
      " ('AA Chavan', 8),\n",
      " ('Anand Rajan', 8),\n",
      " ('BAW Mendis', 8),\n",
      " ('DJ Hussey', 8),\n",
      " ('J Syed Mohammad', 8),\n",
      " ('JD Ryder', 8),\n",
      " ('KC Cariappa', 8),\n",
      " ('Mohammad Asif', 8),\n",
      " ('SB Styris', 8),\n",
      " ('T Thushara', 8),\n",
      " ('A Mithun', 7),\n",
      " ('AM Salvi', 7),\n",
      " ('B Stanlake', 7),\n",
      " ('H Gurney', 7),\n",
      " ('H Viljoen', 7),\n",
      " ('KP Pietersen', 7),\n",
      " ('M Ntini', 7),\n",
      " ('N Rana', 7),\n",
      " ('P Amarnath', 7),\n",
      " ('PC Valthaty', 7),\n",
      " ('A Joseph', 6),\n",
      " ('B Akhil', 6),\n",
      " ('C de Grandhomme', 6),\n",
      " ('DJ Hooda', 6),\n",
      " ('JE Taylor', 6),\n",
      " ('Jaskaran Singh', 6),\n",
      " ('RR Raje', 6),\n",
      " ('S Kaushik', 6),\n",
      " ('S Randiv', 6),\n",
      " ('S Tyagi', 6),\n",
      " ('T Curran', 6),\n",
      " ('TL Suman', 6),\n",
      " ('V Sehwag', 6),\n",
      " ('VS Malik', 6),\n",
      " ('Y Venugopal Rao', 6),\n",
      " ('A Choudhary', 5),\n",
      " ('AP Dole', 5),\n",
      " ('Avesh Khan', 5),\n",
      " ('FH Edwards', 5),\n",
      " ('Gurkeerat Singh', 5),\n",
      " ('J Behrendorff', 5),\n",
      " ('J Yadav', 5),\n",
      " ('JO Holder', 5),\n",
      " ('KMDN Kulasekara', 5),\n",
      " ('M de Lange', 5),\n",
      " ('O Thomas', 5),\n",
      " ('PD Collingwood', 5),\n",
      " ('R Shukla', 5),\n",
      " ('RV Gomez', 5),\n",
      " ('S Ladda', 5),\n",
      " ('S Mavi', 5),\n",
      " ('S Narwal', 5),\n",
      " ('SB Wagh', 5),\n",
      " ('Shoaib Ahmed', 5),\n",
      " ('Shoaib Akhtar', 5),\n",
      " ('TM Dilshan', 5),\n",
      " ('TS Mills', 5),\n",
      " ('AF Milne', 4),\n",
      " ('D du Preez', 4),\n",
      " ('DJ Muthuswami', 4),\n",
      " ('DP Vijaykumar', 4),\n",
      " ('L Plunkett', 4),\n",
      " ('M Santner', 4),\n",
      " ('Parvez Rasool', 4),\n",
      " ('S Dhawan', 4),\n",
      " ('SB Bangar', 4),\n",
      " ('Shivam Sharma', 4),\n",
      " ('V Kohli', 4),\n",
      " ('WA Mota', 4),\n",
      " ('Y Nagar', 4),\n",
      " ('AL Menaria', 3),\n",
      " ('DAJ Bracewell', 3),\n",
      " ('DJ Thornely', 3),\n",
      " ('Gagandeep Singh', 3),\n",
      " ('JJ van der Wath', 3),\n",
      " ('JM Kemp', 3),\n",
      " ('JW Hastings', 3),\n",
      " ('K Khejroliya', 3),\n",
      " ('K Santokie', 3),\n",
      " ('KM Asif', 3),\n",
      " ('L Ablish', 3),\n",
      " ('LH Ferguson', 3),\n",
      " ('P Sahu', 3),\n",
      " ('R Ninan', 3),\n",
      " ('R Sathish', 3),\n",
      " ('RJ Peterson', 3),\n",
      " ('SM Harwood', 3),\n",
      " ('T Shamsi', 3),\n",
      " ('A Flintoff', 2),\n",
      " ('A Uniyal', 2),\n",
      " ('Ankit Soni', 2),\n",
      " ('C Nanda', 2),\n",
      " ('D Kalyankrishna', 2),\n",
      " ('D Willey', 2),\n",
      " ('DNT Zoysa', 2),\n",
      " ('J Searles', 2),\n",
      " ('KJ Abbott', 2),\n",
      " ('L Ferguson', 2),\n",
      " ('LJ Wright', 2),\n",
      " ('MA Khote', 2),\n",
      " ('MJ Clarke', 2),\n",
      " ('Mohammad Hafeez', 2),\n",
      " ('ND Doshi', 2),\n",
      " ('P Suyal', 2),\n",
      " ('R Parag', 2),\n",
      " ('RN ten Doeschate', 2),\n",
      " ('S Kuggeleijn', 2),\n",
      " ('S Warrier', 2),\n",
      " ('SD Chitnis', 2),\n",
      " ('SM Boland', 2),\n",
      " ('Sachin Baby', 2),\n",
      " ('Shoaib Malik', 2),\n",
      " ('T Natarajan', 2),\n",
      " ('TM Head', 2),\n",
      " ('V Shankar', 2),\n",
      " ('A Nel', 1),\n",
      " ('A Roy', 1),\n",
      " ('AA Jhunjhunwala', 1),\n",
      " ('AA Noffke', 1),\n",
      " ('AC Gilchrist', 1),\n",
      " ('AJ Finch', 1),\n",
      " ('AM Rahane', 1),\n",
      " ('B Geeves', 1),\n",
      " ('BMAJ Mendis', 1),\n",
      " ('CJ McKay', 1),\n",
      " ('CL White', 1),\n",
      " ('D Salunkhe', 1),\n",
      " ('D Short', 1),\n",
      " ('DB Ravi Teja', 1),\n",
      " ('GH Vihari', 1),\n",
      " ('GR Napier', 1),\n",
      " ('GS Sandhu', 1),\n",
      " ('Harmeet Singh (2)', 1),\n",
      " ('JDS Neesham', 1),\n",
      " ('LA Carseldine', 1),\n",
      " ('LMP Simmons', 1),\n",
      " ('MJ Henry', 1),\n",
      " ('MK Tiwary', 1),\n",
      " ('NB Singh', 1),\n",
      " ('P Raj', 1),\n",
      " ('PM Sarvesh Kumar', 1),\n",
      " ('RG More', 1),\n",
      " ('S Rutherford', 1),\n",
      " ('S Vidyut', 1),\n",
      " ('SB Joshi', 1),\n",
      " ('SS Agarwal', 1),\n",
      " ('SS Mundhe', 1),\n",
      " ('SS Sarkar', 1),\n",
      " ('Swapnil Singh', 1),\n",
      " ('T Henderson', 1),\n",
      " ('TP Sudhindra', 1),\n",
      " ('V Chakravarthy', 1),\n",
      " ('A Dananjaya', 0),\n",
      " ('AA Kazi', 0),\n",
      " ('AC Voges', 0),\n",
      " ('AS Raut', 0),\n",
      " ('AUK Pathan', 0),\n",
      " ('Abdur Razzak', 0),\n",
      " ('B Chipli', 0),\n",
      " ('BJ Rohrer', 0),\n",
      " ('C Ganapathy', 0),\n",
      " ('C Munro', 0),\n",
      " ('CK Kapugedera', 0),\n",
      " ('DJ Harris', 0),\n",
      " ('F du Plessis', 0),\n",
      " ('FY Fazal', 0),\n",
      " ('H Brar', 0),\n",
      " ('H Vihari', 0),\n",
      " ('I Malhotra', 0),\n",
      " ('J Dala', 0),\n",
      " ('K Goel', 0),\n",
      " ('K Upadhyay', 0),\n",
      " ('KAJ Roach', 0),\n",
      " ('KS Williamson', 0),\n",
      " ('L Livingstone', 0),\n",
      " ('LPC Silva', 0),\n",
      " ('LRPL Taylor', 0),\n",
      " ('M Lomror', 0),\n",
      " ('M Manhas', 0),\n",
      " ('M Vijay', 0),\n",
      " ('M Wood', 0),\n",
      " ('MB Parmar', 0),\n",
      " ('MG Neser', 0),\n",
      " ('Mandeep Singh', 0),\n",
      " ('Mashrafe Mortaza', 0),\n",
      " ('NJ Rimmington', 0),\n",
      " ('NL McCullum', 0),\n",
      " ('P Prasanth', 0),\n",
      " ('P R Barman', 0),\n",
      " ('R Salam', 0),\n",
      " ('RA Shaikh', 0),\n",
      " ('RA Tripathi', 0),\n",
      " ('RR Bhatkal', 0),\n",
      " ('RR Bose', 0),\n",
      " ('RS Gavaskar', 0),\n",
      " ('RW Price', 0),\n",
      " ('S Dube', 0),\n",
      " ('S Midhun', 0),\n",
      " ('S Rana', 0),\n",
      " ('S Sriram', 0),\n",
      " ('SA Abbott', 0),\n",
      " ('SA Yadav', 0),\n",
      " ('SN Khan', 0),\n",
      " ('SPD Smith', 0),\n",
      " ('SR Tendulkar', 0),\n",
      " ('Sunny Gupta', 0),\n",
      " ('Tejas Baroka', 0),\n",
      " ('VS Yeligati', 0),\n",
      " ('Y Gnaneswara Rao', 0)]\n"
     ]
    }
   ],
   "source": [
    "pprint(sorted(wickets_index.items(), key = lambda x: x[1], reverse=True))"
   ]
  },
  {
   "cell_type": "code",
   "execution_count": 105,
   "metadata": {
    "ExecuteTime": {
     "end_time": "2021-08-10T07:02:15.420722Z",
     "start_time": "2021-08-10T07:02:11.375301Z"
    }
   },
   "outputs": [],
   "source": [
    "runs_conceded_index = {}\n",
    "\n",
    "for i in bowlers:\n",
    "    runs_conceded_index[i] = data2.loc[(data2[\"bowler\"]) == i].total_runs.sum()"
   ]
  },
  {
   "cell_type": "code",
   "execution_count": 106,
   "metadata": {
    "ExecuteTime": {
     "end_time": "2021-08-10T07:02:16.151826Z",
     "start_time": "2021-08-10T07:02:16.144076Z"
    }
   },
   "outputs": [
    {
     "data": {
      "text/plain": [
       "{'PP Chawla': 4153,\n",
       " 'Harbhajan Singh': 4050,\n",
       " 'A Mishra': 3850,\n",
       " 'DJ Bravo': 3733,\n",
       " 'UT Yadav': 3640,\n",
       " 'SL Malinga': 3511,\n",
       " 'R Ashwin': 3391,\n",
       " 'P Kumar': 3342,\n",
       " 'B Kumar': 3264,\n",
       " 'RA Jadeja': 3221,\n",
       " 'R Vinay Kumar': 3043,\n",
       " 'SP Narine': 2939,\n",
       " 'Z Khan': 2860,\n",
       " 'SR Watson': 2751,\n",
       " 'IK Pathan': 2711,\n",
       " 'I Sharma': 2682,\n",
       " 'A Nehra': 2537,\n",
       " 'DS Kulkarni': 2461,\n",
       " 'MM Sharma': 2457,\n",
       " 'DW Steyn': 2454}"
      ]
     },
     "execution_count": 106,
     "metadata": {},
     "output_type": "execute_result"
    }
   ],
   "source": [
    "dict(sorted(runs_conceded_index.items(), key = lambda x: x[1], reverse=True)[:20])"
   ]
  },
  {
   "cell_type": "code",
   "execution_count": 107,
   "metadata": {
    "ExecuteTime": {
     "end_time": "2021-08-10T07:02:16.935766Z",
     "start_time": "2021-08-10T07:02:16.925133Z"
    }
   },
   "outputs": [
    {
     "name": "stderr",
     "output_type": "stream",
     "text": [
      "<ipython-input-107-be16ba59c22c>:4: RuntimeWarning:\n",
      "\n",
      "divide by zero encountered in long_scalars\n",
      "\n"
     ]
    }
   ],
   "source": [
    "average_index = {}\n",
    "\n",
    "for i in bowlers:\n",
    "    average_index[i] = runs_conceded_index[i]/wickets_index[i]"
   ]
  },
  {
   "cell_type": "code",
   "execution_count": 108,
   "metadata": {
    "ExecuteTime": {
     "end_time": "2021-08-10T07:02:17.947886Z",
     "start_time": "2021-08-10T07:02:17.942160Z"
    }
   },
   "outputs": [
    {
     "data": {
      "text/plain": [
       "20.652941176470588"
      ]
     },
     "execution_count": 108,
     "metadata": {},
     "output_type": "execute_result"
    }
   ],
   "source": [
    "average_index[\"SL Malinga\"]"
   ]
  },
  {
   "cell_type": "code",
   "execution_count": 109,
   "metadata": {
    "ExecuteTime": {
     "end_time": "2021-08-10T07:02:22.784597Z",
     "start_time": "2021-08-10T07:02:18.908498Z"
    }
   },
   "outputs": [],
   "source": [
    "bowlers_matches_index = {}\n",
    "for i in bowlers:\n",
    "    bowlers_matches_index[i] = len(set(list(data2[data2[\"bowler\"] == i].match_id)))"
   ]
  },
  {
   "cell_type": "code",
   "execution_count": 110,
   "metadata": {
    "ExecuteTime": {
     "end_time": "2021-08-10T07:02:24.119643Z",
     "start_time": "2021-08-10T07:02:23.361838Z"
    }
   },
   "outputs": [],
   "source": [
    "bowlers_df = pd.DataFrame({\"Name\": [], \"Matches\": [], \"Wickets\": [], \"Runs conceded\": [], \"Average\": []})\n",
    "\n",
    "for i in bowlers:\n",
    "    bowlers_df = bowlers_df.append({\"Name\": i, \"Matches\": bowlers_matches_index[i], \"Wickets\": wickets_index[i], \"Runs conceded\": runs_conceded_index[i], \"Average\": average_index[i]}, ignore_index=True)\n",
    "\n",
    "bowlers_df = bowlers_df.sort_values(\"Wickets\", ascending=False)"
   ]
  },
  {
   "cell_type": "code",
   "execution_count": 111,
   "metadata": {
    "ExecuteTime": {
     "end_time": "2021-08-10T07:02:24.984362Z",
     "start_time": "2021-08-10T07:02:24.966883Z"
    }
   },
   "outputs": [
    {
     "data": {
      "text/html": [
       "<div>\n",
       "<style scoped>\n",
       "    .dataframe tbody tr th:only-of-type {\n",
       "        vertical-align: middle;\n",
       "    }\n",
       "\n",
       "    .dataframe tbody tr th {\n",
       "        vertical-align: top;\n",
       "    }\n",
       "\n",
       "    .dataframe thead th {\n",
       "        text-align: right;\n",
       "    }\n",
       "</style>\n",
       "<table border=\"1\" class=\"dataframe\">\n",
       "  <thead>\n",
       "    <tr style=\"text-align: right;\">\n",
       "      <th></th>\n",
       "      <th>Name</th>\n",
       "      <th>Matches</th>\n",
       "      <th>Wickets</th>\n",
       "      <th>Runs conceded</th>\n",
       "      <th>Average</th>\n",
       "    </tr>\n",
       "  </thead>\n",
       "  <tbody>\n",
       "    <tr>\n",
       "      <th>340</th>\n",
       "      <td>SL Malinga</td>\n",
       "      <td>122.0</td>\n",
       "      <td>170.0</td>\n",
       "      <td>3511.0</td>\n",
       "      <td>20.652941</td>\n",
       "    </tr>\n",
       "    <tr>\n",
       "      <th>7</th>\n",
       "      <td>A Mishra</td>\n",
       "      <td>147.0</td>\n",
       "      <td>156.0</td>\n",
       "      <td>3850.0</td>\n",
       "      <td>24.679487</td>\n",
       "    </tr>\n",
       "    <tr>\n",
       "      <th>126</th>\n",
       "      <td>Harbhajan Singh</td>\n",
       "      <td>157.0</td>\n",
       "      <td>149.0</td>\n",
       "      <td>4050.0</td>\n",
       "      <td>27.181208</td>\n",
       "    </tr>\n",
       "    <tr>\n",
       "      <th>264</th>\n",
       "      <td>PP Chawla</td>\n",
       "      <td>156.0</td>\n",
       "      <td>149.0</td>\n",
       "      <td>4153.0</td>\n",
       "      <td>27.872483</td>\n",
       "    </tr>\n",
       "    <tr>\n",
       "      <th>93</th>\n",
       "      <td>DJ Bravo</td>\n",
       "      <td>131.0</td>\n",
       "      <td>147.0</td>\n",
       "      <td>3733.0</td>\n",
       "      <td>25.394558</td>\n",
       "    </tr>\n",
       "    <tr>\n",
       "      <th>...</th>\n",
       "      <td>...</td>\n",
       "      <td>...</td>\n",
       "      <td>...</td>\n",
       "      <td>...</td>\n",
       "      <td>...</td>\n",
       "    </tr>\n",
       "    <tr>\n",
       "      <th>366</th>\n",
       "      <td>Sunny Gupta</td>\n",
       "      <td>1.0</td>\n",
       "      <td>0.0</td>\n",
       "      <td>47.0</td>\n",
       "      <td>inf</td>\n",
       "    </tr>\n",
       "    <tr>\n",
       "      <th>139</th>\n",
       "      <td>J Dala</td>\n",
       "      <td>1.0</td>\n",
       "      <td>0.0</td>\n",
       "      <td>35.0</td>\n",
       "      <td>inf</td>\n",
       "    </tr>\n",
       "    <tr>\n",
       "      <th>51</th>\n",
       "      <td>B Chipli</td>\n",
       "      <td>1.0</td>\n",
       "      <td>0.0</td>\n",
       "      <td>20.0</td>\n",
       "      <td>inf</td>\n",
       "    </tr>\n",
       "    <tr>\n",
       "      <th>306</th>\n",
       "      <td>S Dube</td>\n",
       "      <td>2.0</td>\n",
       "      <td>0.0</td>\n",
       "      <td>9.0</td>\n",
       "      <td>inf</td>\n",
       "    </tr>\n",
       "    <tr>\n",
       "      <th>243</th>\n",
       "      <td>NJ Rimmington</td>\n",
       "      <td>1.0</td>\n",
       "      <td>0.0</td>\n",
       "      <td>20.0</td>\n",
       "      <td>inf</td>\n",
       "    </tr>\n",
       "  </tbody>\n",
       "</table>\n",
       "<p>405 rows × 5 columns</p>\n",
       "</div>"
      ],
      "text/plain": [
       "                Name  Matches  Wickets  Runs conceded    Average\n",
       "340       SL Malinga    122.0    170.0         3511.0  20.652941\n",
       "7           A Mishra    147.0    156.0         3850.0  24.679487\n",
       "126  Harbhajan Singh    157.0    149.0         4050.0  27.181208\n",
       "264        PP Chawla    156.0    149.0         4153.0  27.872483\n",
       "93          DJ Bravo    131.0    147.0         3733.0  25.394558\n",
       "..               ...      ...      ...            ...        ...\n",
       "366      Sunny Gupta      1.0      0.0           47.0        inf\n",
       "139           J Dala      1.0      0.0           35.0        inf\n",
       "51          B Chipli      1.0      0.0           20.0        inf\n",
       "306           S Dube      2.0      0.0            9.0        inf\n",
       "243    NJ Rimmington      1.0      0.0           20.0        inf\n",
       "\n",
       "[405 rows x 5 columns]"
      ]
     },
     "execution_count": 111,
     "metadata": {},
     "output_type": "execute_result"
    }
   ],
   "source": [
    "bowlers_df"
   ]
  },
  {
   "cell_type": "code",
   "execution_count": 112,
   "metadata": {
    "ExecuteTime": {
     "end_time": "2021-08-10T07:02:26.289879Z",
     "start_time": "2021-08-10T07:02:26.272190Z"
    }
   },
   "outputs": [
    {
     "data": {
      "text/html": [
       "<div>\n",
       "<style scoped>\n",
       "    .dataframe tbody tr th:only-of-type {\n",
       "        vertical-align: middle;\n",
       "    }\n",
       "\n",
       "    .dataframe tbody tr th {\n",
       "        vertical-align: top;\n",
       "    }\n",
       "\n",
       "    .dataframe thead th {\n",
       "        text-align: right;\n",
       "    }\n",
       "</style>\n",
       "<table border=\"1\" class=\"dataframe\">\n",
       "  <thead>\n",
       "    <tr style=\"text-align: right;\">\n",
       "      <th></th>\n",
       "      <th>Name</th>\n",
       "      <th>Matches</th>\n",
       "      <th>Wickets</th>\n",
       "      <th>Runs conceded</th>\n",
       "      <th>Average</th>\n",
       "    </tr>\n",
       "  </thead>\n",
       "  <tbody>\n",
       "    <tr>\n",
       "      <th>340</th>\n",
       "      <td>SL Malinga</td>\n",
       "      <td>122.0</td>\n",
       "      <td>170.0</td>\n",
       "      <td>3511.0</td>\n",
       "      <td>20.652941</td>\n",
       "    </tr>\n",
       "    <tr>\n",
       "      <th>134</th>\n",
       "      <td>Imran Tahir</td>\n",
       "      <td>55.0</td>\n",
       "      <td>79.0</td>\n",
       "      <td>1656.0</td>\n",
       "      <td>20.962025</td>\n",
       "    </tr>\n",
       "    <tr>\n",
       "      <th>225</th>\n",
       "      <td>MM Patel</td>\n",
       "      <td>63.0</td>\n",
       "      <td>74.0</td>\n",
       "      <td>1733.0</td>\n",
       "      <td>23.418919</td>\n",
       "    </tr>\n",
       "    <tr>\n",
       "      <th>358</th>\n",
       "      <td>Sandeep Sharma</td>\n",
       "      <td>68.0</td>\n",
       "      <td>83.0</td>\n",
       "      <td>1967.0</td>\n",
       "      <td>23.698795</td>\n",
       "    </tr>\n",
       "    <tr>\n",
       "      <th>9</th>\n",
       "      <td>A Nehra</td>\n",
       "      <td>88.0</td>\n",
       "      <td>106.0</td>\n",
       "      <td>2537.0</td>\n",
       "      <td>23.933962</td>\n",
       "    </tr>\n",
       "    <tr>\n",
       "      <th>347</th>\n",
       "      <td>SP Narine</td>\n",
       "      <td>109.0</td>\n",
       "      <td>122.0</td>\n",
       "      <td>2939.0</td>\n",
       "      <td>24.090164</td>\n",
       "    </tr>\n",
       "    <tr>\n",
       "      <th>402</th>\n",
       "      <td>YS Chahal</td>\n",
       "      <td>83.0</td>\n",
       "      <td>100.0</td>\n",
       "      <td>2416.0</td>\n",
       "      <td>24.160000</td>\n",
       "    </tr>\n",
       "    <tr>\n",
       "      <th>53</th>\n",
       "      <td>B Kumar</td>\n",
       "      <td>117.0</td>\n",
       "      <td>133.0</td>\n",
       "      <td>3264.0</td>\n",
       "      <td>24.541353</td>\n",
       "    </tr>\n",
       "    <tr>\n",
       "      <th>7</th>\n",
       "      <td>A Mishra</td>\n",
       "      <td>147.0</td>\n",
       "      <td>156.0</td>\n",
       "      <td>3850.0</td>\n",
       "      <td>24.679487</td>\n",
       "    </tr>\n",
       "    <tr>\n",
       "      <th>93</th>\n",
       "      <td>DJ Bravo</td>\n",
       "      <td>131.0</td>\n",
       "      <td>147.0</td>\n",
       "      <td>3733.0</td>\n",
       "      <td>25.394558</td>\n",
       "    </tr>\n",
       "  </tbody>\n",
       "</table>\n",
       "</div>"
      ],
      "text/plain": [
       "               Name  Matches  Wickets  Runs conceded    Average\n",
       "340      SL Malinga    122.0    170.0         3511.0  20.652941\n",
       "134     Imran Tahir     55.0     79.0         1656.0  20.962025\n",
       "225        MM Patel     63.0     74.0         1733.0  23.418919\n",
       "358  Sandeep Sharma     68.0     83.0         1967.0  23.698795\n",
       "9           A Nehra     88.0    106.0         2537.0  23.933962\n",
       "347       SP Narine    109.0    122.0         2939.0  24.090164\n",
       "402       YS Chahal     83.0    100.0         2416.0  24.160000\n",
       "53          B Kumar    117.0    133.0         3264.0  24.541353\n",
       "7          A Mishra    147.0    156.0         3850.0  24.679487\n",
       "93         DJ Bravo    131.0    147.0         3733.0  25.394558"
      ]
     },
     "execution_count": 112,
     "metadata": {},
     "output_type": "execute_result"
    }
   ],
   "source": [
    "bowlers_df.loc[bowlers_df[\"Matches\"] >= 50].sort_values(\"Average\", ascending=True)[:10]"
   ]
  },
  {
   "cell_type": "code",
   "execution_count": 113,
   "metadata": {
    "ExecuteTime": {
     "end_time": "2021-08-10T07:02:27.181480Z",
     "start_time": "2021-08-10T07:02:27.175400Z"
    }
   },
   "outputs": [
    {
     "name": "stdout",
     "output_type": "stream",
     "text": [
      "340         SL Malinga\n",
      "7             A Mishra\n",
      "126    Harbhajan Singh\n",
      "264          PP Chawla\n",
      "93            DJ Bravo\n",
      "53             B Kumar\n",
      "269           R Ashwin\n",
      "347          SP Narine\n",
      "381           UT Yadav\n",
      "282          RA Jadeja\n",
      "Name: Name, dtype: object\n"
     ]
    }
   ],
   "source": [
    "pprint(bowlers_df[:10].Name)"
   ]
  },
  {
   "cell_type": "markdown",
   "metadata": {},
   "source": [
    "# Inference 1b: \n",
    "\n",
    "The top 10 batsmen in IPL history (going by runs) are:\n",
    "\n",
    "- V Kohli\n",
    "- SK Raina\n",
    "- RG Sharma\n",
    "- DA Warner\n",
    "- S Dhawan\n",
    "- CH Gayle\n",
    "- MS Dhoni\n",
    "- RV Uthappa\n",
    "- AB de Villiers\n",
    "- G Gambhir\n",
    "\n",
    "The top 10 batsmen in IPL history (going by wickets) are:\n",
    "\n",
    "- SL Malinga\n",
    "- A Mishra\n",
    "- Harbhajan Singh\n",
    "- PP Chawla\n",
    "- DJ Bravo\n",
    "- B Kumar\n",
    "- R Ashwin\n",
    "- SP Narine\n",
    "- UT Yadav\n",
    "- RA Jadeja"
   ]
  },
  {
   "cell_type": "markdown",
   "metadata": {},
   "source": [
    "# Objective 2: To find the most favourable players to be ambassadors of different companies for promotions\n",
    "\n",
    "The top-performing player in each match is regarded as the Man of the Match (MoM). And popular So an argument can be modelled optimally: \"The players with more MoM rewards are more likely to be popular.\""
   ]
  },
  {
   "cell_type": "code",
   "execution_count": 32,
   "metadata": {
    "ExecuteTime": {
     "end_time": "2021-08-10T02:57:07.701553Z",
     "start_time": "2021-08-10T02:57:07.275255Z"
    }
   },
   "outputs": [
    {
     "data": {
      "text/html": [
       "<div>\n",
       "<style scoped>\n",
       "    .dataframe tbody tr th:only-of-type {\n",
       "        vertical-align: middle;\n",
       "    }\n",
       "\n",
       "    .dataframe tbody tr th {\n",
       "        vertical-align: top;\n",
       "    }\n",
       "\n",
       "    .dataframe thead th {\n",
       "        text-align: right;\n",
       "    }\n",
       "</style>\n",
       "<table border=\"1\" class=\"dataframe\">\n",
       "  <thead>\n",
       "    <tr style=\"text-align: right;\">\n",
       "      <th></th>\n",
       "      <th>Name</th>\n",
       "      <th>MoM awards</th>\n",
       "    </tr>\n",
       "  </thead>\n",
       "  <tbody>\n",
       "    <tr>\n",
       "      <th>18</th>\n",
       "      <td>CH Gayle</td>\n",
       "      <td>21.0</td>\n",
       "    </tr>\n",
       "    <tr>\n",
       "      <th>90</th>\n",
       "      <td>AB de Villiers</td>\n",
       "      <td>20.0</td>\n",
       "    </tr>\n",
       "    <tr>\n",
       "      <th>30</th>\n",
       "      <td>RG Sharma</td>\n",
       "      <td>17.0</td>\n",
       "    </tr>\n",
       "    <tr>\n",
       "      <th>23</th>\n",
       "      <td>MS Dhoni</td>\n",
       "      <td>17.0</td>\n",
       "    </tr>\n",
       "    <tr>\n",
       "      <th>29</th>\n",
       "      <td>DA Warner</td>\n",
       "      <td>17.0</td>\n",
       "    </tr>\n",
       "    <tr>\n",
       "      <th>55</th>\n",
       "      <td>YK Pathan</td>\n",
       "      <td>16.0</td>\n",
       "    </tr>\n",
       "    <tr>\n",
       "      <th>52</th>\n",
       "      <td>SR Watson</td>\n",
       "      <td>15.0</td>\n",
       "    </tr>\n",
       "    <tr>\n",
       "      <th>21</th>\n",
       "      <td>SK Raina</td>\n",
       "      <td>14.0</td>\n",
       "    </tr>\n",
       "    <tr>\n",
       "      <th>25</th>\n",
       "      <td>G Gambhir</td>\n",
       "      <td>13.0</td>\n",
       "    </tr>\n",
       "    <tr>\n",
       "      <th>48</th>\n",
       "      <td>MEK Hussey</td>\n",
       "      <td>12.0</td>\n",
       "    </tr>\n",
       "    <tr>\n",
       "      <th>150</th>\n",
       "      <td>AM Rahane</td>\n",
       "      <td>12.0</td>\n",
       "    </tr>\n",
       "    <tr>\n",
       "      <th>138</th>\n",
       "      <td>V Kohli</td>\n",
       "      <td>12.0</td>\n",
       "    </tr>\n",
       "    <tr>\n",
       "      <th>53</th>\n",
       "      <td>V Sehwag</td>\n",
       "      <td>11.0</td>\n",
       "    </tr>\n",
       "    <tr>\n",
       "      <th>36</th>\n",
       "      <td>DR Smith</td>\n",
       "      <td>11.0</td>\n",
       "    </tr>\n",
       "    <tr>\n",
       "      <th>184</th>\n",
       "      <td>AD Russell</td>\n",
       "      <td>11.0</td>\n",
       "    </tr>\n",
       "    <tr>\n",
       "      <th>74</th>\n",
       "      <td>A Mishra</td>\n",
       "      <td>11.0</td>\n",
       "    </tr>\n",
       "    <tr>\n",
       "      <th>98</th>\n",
       "      <td>JH Kallis</td>\n",
       "      <td>10.0</td>\n",
       "    </tr>\n",
       "    <tr>\n",
       "      <th>11</th>\n",
       "      <td>KA Pollard</td>\n",
       "      <td>10.0</td>\n",
       "    </tr>\n",
       "    <tr>\n",
       "      <th>62</th>\n",
       "      <td>SE Marsh</td>\n",
       "      <td>9.0</td>\n",
       "    </tr>\n",
       "    <tr>\n",
       "      <th>43</th>\n",
       "      <td>AT Rayudu</td>\n",
       "      <td>9.0</td>\n",
       "    </tr>\n",
       "  </tbody>\n",
       "</table>\n",
       "</div>"
      ],
      "text/plain": [
       "               Name  MoM awards\n",
       "18         CH Gayle        21.0\n",
       "90   AB de Villiers        20.0\n",
       "30        RG Sharma        17.0\n",
       "23         MS Dhoni        17.0\n",
       "29        DA Warner        17.0\n",
       "55        YK Pathan        16.0\n",
       "52        SR Watson        15.0\n",
       "21         SK Raina        14.0\n",
       "25        G Gambhir        13.0\n",
       "48       MEK Hussey        12.0\n",
       "150       AM Rahane        12.0\n",
       "138         V Kohli        12.0\n",
       "53         V Sehwag        11.0\n",
       "36         DR Smith        11.0\n",
       "184      AD Russell        11.0\n",
       "74         A Mishra        11.0\n",
       "98        JH Kallis        10.0\n",
       "11       KA Pollard        10.0\n",
       "62         SE Marsh         9.0\n",
       "43        AT Rayudu         9.0"
      ]
     },
     "execution_count": 32,
     "metadata": {},
     "output_type": "execute_result"
    }
   ],
   "source": [
    "MoM_names = list(data1.player_of_match)\n",
    "\n",
    "MoM_index = {}\n",
    "\n",
    "for i in MoM_names:\n",
    "    if i in MoM_index.keys():\n",
    "        MoM_index[i] += 1\n",
    "    else:\n",
    "        MoM_index[i] = 1\n",
    "MoM_index\n",
    "\n",
    "# print(len(MoM_index.keys()))\n",
    "top_MoM = pd.DataFrame({\"Name\": [], \"MoM awards\": []})\n",
    "\n",
    "for i in MoM_index.keys():\n",
    "    top_MoM = top_MoM.append({\"Name\": i, \"MoM awards\": MoM_index[i]}, ignore_index=True)\n",
    "\n",
    "top_MoM = top_MoM.sort_values(\"MoM awards\", ascending=False)\n",
    "\n",
    "top_MoM.iloc[:20, :]"
   ]
  },
  {
   "cell_type": "markdown",
   "metadata": {},
   "source": [
    "# Head-to-Head (H2H) matchups"
   ]
  },
  {
   "cell_type": "code",
   "execution_count": 33,
   "metadata": {
    "ExecuteTime": {
     "end_time": "2021-08-10T02:57:13.205836Z",
     "start_time": "2021-08-10T02:57:12.548106Z"
    }
   },
   "outputs": [
    {
     "data": {
      "text/html": [
       "<div>\n",
       "<style scoped>\n",
       "    .dataframe tbody tr th:only-of-type {\n",
       "        vertical-align: middle;\n",
       "    }\n",
       "\n",
       "    .dataframe tbody tr th {\n",
       "        vertical-align: top;\n",
       "    }\n",
       "\n",
       "    .dataframe thead th {\n",
       "        text-align: right;\n",
       "    }\n",
       "</style>\n",
       "<table border=\"1\" class=\"dataframe\">\n",
       "  <thead>\n",
       "    <tr style=\"text-align: right;\">\n",
       "      <th></th>\n",
       "      <th>team1</th>\n",
       "      <th>team2</th>\n",
       "      <th>matchups</th>\n",
       "      <th>wins for team 1</th>\n",
       "      <th>wins for team 2</th>\n",
       "      <th>tie(s)</th>\n",
       "      <th>probability of team1 winning</th>\n",
       "      <th>probability of team2 winning</th>\n",
       "      <th>probability of tie</th>\n",
       "      <th>venue</th>\n",
       "    </tr>\n",
       "  </thead>\n",
       "  <tbody>\n",
       "    <tr>\n",
       "      <th>0</th>\n",
       "      <td>Deccan Chargers</td>\n",
       "      <td>Kochi Tuskers Kerala</td>\n",
       "      <td>1.0</td>\n",
       "      <td>1.0</td>\n",
       "      <td>0.0</td>\n",
       "      <td>0.0</td>\n",
       "      <td>1.000000</td>\n",
       "      <td>0.000000</td>\n",
       "      <td>0.0</td>\n",
       "      <td>[Nehru Stadium]</td>\n",
       "    </tr>\n",
       "    <tr>\n",
       "      <th>1</th>\n",
       "      <td>Deccan Chargers</td>\n",
       "      <td>Rising Pune Supergiants</td>\n",
       "      <td>0.0</td>\n",
       "      <td>0.0</td>\n",
       "      <td>0.0</td>\n",
       "      <td>0.0</td>\n",
       "      <td>0.000000</td>\n",
       "      <td>0.000000</td>\n",
       "      <td>0.0</td>\n",
       "      <td>[]</td>\n",
       "    </tr>\n",
       "    <tr>\n",
       "      <th>2</th>\n",
       "      <td>Deccan Chargers</td>\n",
       "      <td>Kolkata Knight Riders</td>\n",
       "      <td>2.0</td>\n",
       "      <td>0.0</td>\n",
       "      <td>2.0</td>\n",
       "      <td>0.0</td>\n",
       "      <td>0.000000</td>\n",
       "      <td>1.000000</td>\n",
       "      <td>0.0</td>\n",
       "      <td>[Eden Gardens, Barabati Stadium]</td>\n",
       "    </tr>\n",
       "    <tr>\n",
       "      <th>3</th>\n",
       "      <td>Deccan Chargers</td>\n",
       "      <td>Mumbai Indians</td>\n",
       "      <td>5.0</td>\n",
       "      <td>3.0</td>\n",
       "      <td>2.0</td>\n",
       "      <td>0.0</td>\n",
       "      <td>0.600000</td>\n",
       "      <td>0.400000</td>\n",
       "      <td>0.0</td>\n",
       "      <td>[Kingsmead, SuperSport Park, Wankhede Stadium,...</td>\n",
       "    </tr>\n",
       "    <tr>\n",
       "      <th>4</th>\n",
       "      <td>Deccan Chargers</td>\n",
       "      <td>Royal Challengers Bangalore</td>\n",
       "      <td>8.0</td>\n",
       "      <td>5.0</td>\n",
       "      <td>3.0</td>\n",
       "      <td>0.0</td>\n",
       "      <td>0.625000</td>\n",
       "      <td>0.375000</td>\n",
       "      <td>0.0</td>\n",
       "      <td>[Rajiv Gandhi International Stadium, Uppal, Ne...</td>\n",
       "    </tr>\n",
       "    <tr>\n",
       "      <th>...</th>\n",
       "      <td>...</td>\n",
       "      <td>...</td>\n",
       "      <td>...</td>\n",
       "      <td>...</td>\n",
       "      <td>...</td>\n",
       "      <td>...</td>\n",
       "      <td>...</td>\n",
       "      <td>...</td>\n",
       "      <td>...</td>\n",
       "      <td>...</td>\n",
       "    </tr>\n",
       "    <tr>\n",
       "      <th>151</th>\n",
       "      <td>Delhi Capitals</td>\n",
       "      <td>Pune Warriors</td>\n",
       "      <td>2.0</td>\n",
       "      <td>1.0</td>\n",
       "      <td>0.0</td>\n",
       "      <td>1.0</td>\n",
       "      <td>0.500000</td>\n",
       "      <td>0.000000</td>\n",
       "      <td>0.5</td>\n",
       "      <td>[Feroz Shah Kotla, Shaheed Veer Narayan Singh ...</td>\n",
       "    </tr>\n",
       "    <tr>\n",
       "      <th>152</th>\n",
       "      <td>Delhi Capitals</td>\n",
       "      <td>Chennai Super Kings</td>\n",
       "      <td>8.0</td>\n",
       "      <td>2.0</td>\n",
       "      <td>6.0</td>\n",
       "      <td>0.0</td>\n",
       "      <td>0.250000</td>\n",
       "      <td>0.750000</td>\n",
       "      <td>0.0</td>\n",
       "      <td>[Feroz Shah Kotla, Kingsmead, Feroz Shah Kotla...</td>\n",
       "    </tr>\n",
       "    <tr>\n",
       "      <th>153</th>\n",
       "      <td>Delhi Capitals</td>\n",
       "      <td>Sunrisers Hyderabad</td>\n",
       "      <td>8.0</td>\n",
       "      <td>2.0</td>\n",
       "      <td>6.0</td>\n",
       "      <td>0.0</td>\n",
       "      <td>0.250000</td>\n",
       "      <td>0.750000</td>\n",
       "      <td>0.0</td>\n",
       "      <td>[Feroz Shah Kotla, Rajiv Gandhi International ...</td>\n",
       "    </tr>\n",
       "    <tr>\n",
       "      <th>154</th>\n",
       "      <td>Delhi Capitals</td>\n",
       "      <td>Kings XI Punjab</td>\n",
       "      <td>11.0</td>\n",
       "      <td>2.0</td>\n",
       "      <td>9.0</td>\n",
       "      <td>0.0</td>\n",
       "      <td>0.181818</td>\n",
       "      <td>0.818182</td>\n",
       "      <td>0.0</td>\n",
       "      <td>[Feroz Shah Kotla, Punjab Cricket Association ...</td>\n",
       "    </tr>\n",
       "    <tr>\n",
       "      <th>155</th>\n",
       "      <td>Delhi Capitals</td>\n",
       "      <td>Gujarat Lions</td>\n",
       "      <td>0.0</td>\n",
       "      <td>0.0</td>\n",
       "      <td>0.0</td>\n",
       "      <td>0.0</td>\n",
       "      <td>0.000000</td>\n",
       "      <td>0.000000</td>\n",
       "      <td>0.0</td>\n",
       "      <td>[]</td>\n",
       "    </tr>\n",
       "  </tbody>\n",
       "</table>\n",
       "<p>156 rows × 10 columns</p>\n",
       "</div>"
      ],
      "text/plain": [
       "               team1                        team2  matchups  wins for team 1  \\\n",
       "0    Deccan Chargers         Kochi Tuskers Kerala       1.0              1.0   \n",
       "1    Deccan Chargers      Rising Pune Supergiants       0.0              0.0   \n",
       "2    Deccan Chargers        Kolkata Knight Riders       2.0              0.0   \n",
       "3    Deccan Chargers               Mumbai Indians       5.0              3.0   \n",
       "4    Deccan Chargers  Royal Challengers Bangalore       8.0              5.0   \n",
       "..               ...                          ...       ...              ...   \n",
       "151   Delhi Capitals                Pune Warriors       2.0              1.0   \n",
       "152   Delhi Capitals          Chennai Super Kings       8.0              2.0   \n",
       "153   Delhi Capitals          Sunrisers Hyderabad       8.0              2.0   \n",
       "154   Delhi Capitals              Kings XI Punjab      11.0              2.0   \n",
       "155   Delhi Capitals                Gujarat Lions       0.0              0.0   \n",
       "\n",
       "     wins for team 2  tie(s)  probability of team1 winning  \\\n",
       "0                0.0     0.0                      1.000000   \n",
       "1                0.0     0.0                      0.000000   \n",
       "2                2.0     0.0                      0.000000   \n",
       "3                2.0     0.0                      0.600000   \n",
       "4                3.0     0.0                      0.625000   \n",
       "..               ...     ...                           ...   \n",
       "151              0.0     1.0                      0.500000   \n",
       "152              6.0     0.0                      0.250000   \n",
       "153              6.0     0.0                      0.250000   \n",
       "154              9.0     0.0                      0.181818   \n",
       "155              0.0     0.0                      0.000000   \n",
       "\n",
       "     probability of team2 winning  probability of tie  \\\n",
       "0                        0.000000                 0.0   \n",
       "1                        0.000000                 0.0   \n",
       "2                        1.000000                 0.0   \n",
       "3                        0.400000                 0.0   \n",
       "4                        0.375000                 0.0   \n",
       "..                            ...                 ...   \n",
       "151                      0.000000                 0.5   \n",
       "152                      0.750000                 0.0   \n",
       "153                      0.750000                 0.0   \n",
       "154                      0.818182                 0.0   \n",
       "155                      0.000000                 0.0   \n",
       "\n",
       "                                                 venue  \n",
       "0                                      [Nehru Stadium]  \n",
       "1                                                   []  \n",
       "2                     [Eden Gardens, Barabati Stadium]  \n",
       "3    [Kingsmead, SuperSport Park, Wankhede Stadium,...  \n",
       "4    [Rajiv Gandhi International Stadium, Uppal, Ne...  \n",
       "..                                                 ...  \n",
       "151  [Feroz Shah Kotla, Shaheed Veer Narayan Singh ...  \n",
       "152  [Feroz Shah Kotla, Kingsmead, Feroz Shah Kotla...  \n",
       "153  [Feroz Shah Kotla, Rajiv Gandhi International ...  \n",
       "154  [Feroz Shah Kotla, Punjab Cricket Association ...  \n",
       "155                                                 []  \n",
       "\n",
       "[156 rows x 10 columns]"
      ]
     },
     "execution_count": 33,
     "metadata": {},
     "output_type": "execute_result"
    }
   ],
   "source": [
    "h2h = data1[[\"team1\", \"team2\", \"winner\", \"venue\"]]\n",
    "h2h_data = pd.DataFrame({\"team1\": [], \"team2\": [], \"matchups\": [], \"wins for team 1\": [], \"wins for team 2\": [], \"tie(s)\": [], \"probability of team1 winning\": [], \"probability of team2 winning\": [], \"probability of tie\": [], \"venue\": []})\n",
    "\n",
    "h2h.reset_index(drop=True, inplace=True)\n",
    "buf = None\n",
    "explored = []\n",
    "for i in teams:\n",
    "    ct1 = 0\n",
    "    ct2 = 0\n",
    "    ct3 = 0\n",
    "    sct = 0\n",
    "    for j in teams:\n",
    "        if i != j:\n",
    "            # print(i, j)\n",
    "            buf = h2h.loc[(h2h[\"team1\"] == i) & (h2h[\"team2\"] == j)]\n",
    "            for k in range(len(buf)):\n",
    "                # print(buf.iloc[k].winner)\n",
    "                if buf.iloc[k].winner == i:\n",
    "                    ct1 += 1\n",
    "                elif buf.iloc[k].winner == j:\n",
    "                    ct2 += 1\n",
    "                else:\n",
    "                    ct3 += 1\n",
    "            sct = ct1+ct2+ct3\n",
    "            if sct == 0: sct = 1\n",
    "            h2h_data = h2h_data.append({\"team1\": i, \"team2\": j, \"matchups\": ct1+ct2+ct3, \"wins for team 1\": ct1, \"wins for team 2\": ct2, \"tie(s)\": ct3, \"probability of team1 winning\": ct1/sct, \"probability of team2 winning\": ct2/sct, \"probability of tie\": ct3/sct, \"venue\": list(buf.venue)}, ignore_index=True)\n",
    "        ct1 = 0\n",
    "        ct2 = 0\n",
    "        ct3 = 0\n",
    "\n",
    "h2h_data"
   ]
  },
  {
   "cell_type": "markdown",
   "metadata": {},
   "source": [
    "### Verifying that the data filtering is correct"
   ]
  },
  {
   "cell_type": "code",
   "execution_count": 34,
   "metadata": {
    "ExecuteTime": {
     "end_time": "2021-08-10T02:57:16.491316Z",
     "start_time": "2021-08-10T02:57:16.483602Z"
    }
   },
   "outputs": [
    {
     "data": {
      "text/plain": [
       "756.0"
      ]
     },
     "execution_count": 34,
     "metadata": {},
     "output_type": "execute_result"
    }
   ],
   "source": [
    "h2h_data[\"wins for team 2\"].sum() + h2h_data[\"wins for team 1\"].sum() + h2h_data[\"tie(s)\"].sum() # should be same as total matches played (756)"
   ]
  },
  {
   "cell_type": "markdown",
   "metadata": {},
   "source": [
    "### Finding tied matches:"
   ]
  },
  {
   "cell_type": "code",
   "execution_count": 35,
   "metadata": {
    "ExecuteTime": {
     "end_time": "2021-08-10T02:57:51.225478Z",
     "start_time": "2021-08-10T02:57:51.205661Z"
    },
    "scrolled": true
   },
   "outputs": [
    {
     "data": {
      "text/html": [
       "<div>\n",
       "<style scoped>\n",
       "    .dataframe tbody tr th:only-of-type {\n",
       "        vertical-align: middle;\n",
       "    }\n",
       "\n",
       "    .dataframe tbody tr th {\n",
       "        vertical-align: top;\n",
       "    }\n",
       "\n",
       "    .dataframe thead th {\n",
       "        text-align: right;\n",
       "    }\n",
       "</style>\n",
       "<table border=\"1\" class=\"dataframe\">\n",
       "  <thead>\n",
       "    <tr style=\"text-align: right;\">\n",
       "      <th></th>\n",
       "      <th>team1</th>\n",
       "      <th>team2</th>\n",
       "      <th>matchups</th>\n",
       "      <th>wins for team 1</th>\n",
       "      <th>wins for team 2</th>\n",
       "      <th>tie(s)</th>\n",
       "      <th>probability of team1 winning</th>\n",
       "      <th>probability of team2 winning</th>\n",
       "      <th>probability of tie</th>\n",
       "      <th>venue</th>\n",
       "    </tr>\n",
       "  </thead>\n",
       "  <tbody>\n",
       "    <tr>\n",
       "      <th>65</th>\n",
       "      <td>Royal Challengers Bangalore</td>\n",
       "      <td>Rajasthan Royals</td>\n",
       "      <td>11.0</td>\n",
       "      <td>3.0</td>\n",
       "      <td>6.0</td>\n",
       "      <td>2.0</td>\n",
       "      <td>0.272727</td>\n",
       "      <td>0.545455</td>\n",
       "      <td>0.181818</td>\n",
       "      <td>[M Chinnaswamy Stadium, Newlands, SuperSport P...</td>\n",
       "    </tr>\n",
       "    <tr>\n",
       "      <th>149</th>\n",
       "      <td>Delhi Capitals</td>\n",
       "      <td>Royal Challengers Bangalore</td>\n",
       "      <td>13.0</td>\n",
       "      <td>4.0</td>\n",
       "      <td>8.0</td>\n",
       "      <td>1.0</td>\n",
       "      <td>0.307692</td>\n",
       "      <td>0.615385</td>\n",
       "      <td>0.076923</td>\n",
       "      <td>[Feroz Shah Kotla, New Wanderers Stadium, M Ch...</td>\n",
       "    </tr>\n",
       "    <tr>\n",
       "      <th>151</th>\n",
       "      <td>Delhi Capitals</td>\n",
       "      <td>Pune Warriors</td>\n",
       "      <td>2.0</td>\n",
       "      <td>1.0</td>\n",
       "      <td>0.0</td>\n",
       "      <td>1.0</td>\n",
       "      <td>0.500000</td>\n",
       "      <td>0.000000</td>\n",
       "      <td>0.500000</td>\n",
       "      <td>[Feroz Shah Kotla, Shaheed Veer Narayan Singh ...</td>\n",
       "    </tr>\n",
       "  </tbody>\n",
       "</table>\n",
       "</div>"
      ],
      "text/plain": [
       "                           team1                        team2  matchups  \\\n",
       "65   Royal Challengers Bangalore             Rajasthan Royals      11.0   \n",
       "149               Delhi Capitals  Royal Challengers Bangalore      13.0   \n",
       "151               Delhi Capitals                Pune Warriors       2.0   \n",
       "\n",
       "     wins for team 1  wins for team 2  tie(s)  probability of team1 winning  \\\n",
       "65               3.0              6.0     2.0                      0.272727   \n",
       "149              4.0              8.0     1.0                      0.307692   \n",
       "151              1.0              0.0     1.0                      0.500000   \n",
       "\n",
       "     probability of team2 winning  probability of tie  \\\n",
       "65                       0.545455            0.181818   \n",
       "149                      0.615385            0.076923   \n",
       "151                      0.000000            0.500000   \n",
       "\n",
       "                                                 venue  \n",
       "65   [M Chinnaswamy Stadium, Newlands, SuperSport P...  \n",
       "149  [Feroz Shah Kotla, New Wanderers Stadium, M Ch...  \n",
       "151  [Feroz Shah Kotla, Shaheed Veer Narayan Singh ...  "
      ]
     },
     "execution_count": 35,
     "metadata": {},
     "output_type": "execute_result"
    }
   ],
   "source": [
    "h2h_data[h2h_data[\"tie(s)\"] > 0.0]"
   ]
  },
  {
   "cell_type": "code",
   "execution_count": 164,
   "metadata": {},
   "outputs": [],
   "source": [
    "# data1[(data1[\"team1\"] == \"Kings XI Punjab\") & (data1[\"team2\"] == \"Kolkata Knight Riders\")] # Verifying correctness of findings"
   ]
  },
  {
   "cell_type": "code",
   "execution_count": 36,
   "metadata": {
    "ExecuteTime": {
     "end_time": "2021-08-10T02:57:53.721317Z",
     "start_time": "2021-08-10T02:57:53.693827Z"
    }
   },
   "outputs": [
    {
     "data": {
      "text/html": [
       "<div>\n",
       "<style scoped>\n",
       "    .dataframe tbody tr th:only-of-type {\n",
       "        vertical-align: middle;\n",
       "    }\n",
       "\n",
       "    .dataframe tbody tr th {\n",
       "        vertical-align: top;\n",
       "    }\n",
       "\n",
       "    .dataframe thead th {\n",
       "        text-align: right;\n",
       "    }\n",
       "</style>\n",
       "<table border=\"1\" class=\"dataframe\">\n",
       "  <thead>\n",
       "    <tr style=\"text-align: right;\">\n",
       "      <th></th>\n",
       "      <th>team1</th>\n",
       "      <th>team2</th>\n",
       "      <th>matchups</th>\n",
       "      <th>wins for team 1</th>\n",
       "      <th>wins for team 2</th>\n",
       "      <th>tie(s)</th>\n",
       "      <th>probability of team1 winning</th>\n",
       "      <th>probability of team2 winning</th>\n",
       "      <th>probability of tie</th>\n",
       "      <th>venue</th>\n",
       "    </tr>\n",
       "  </thead>\n",
       "  <tbody>\n",
       "    <tr>\n",
       "      <th>75</th>\n",
       "      <td>Rajasthan Royals</td>\n",
       "      <td>Kolkata Knight Riders</td>\n",
       "      <td>17.0</td>\n",
       "      <td>8.0</td>\n",
       "      <td>9.0</td>\n",
       "      <td>0.0</td>\n",
       "      <td>0.470588</td>\n",
       "      <td>0.529412</td>\n",
       "      <td>0.0</td>\n",
       "      <td>[Sawai Mansingh Stadium, Newlands, Kingsmead, ...</td>\n",
       "    </tr>\n",
       "    <tr>\n",
       "      <th>59</th>\n",
       "      <td>Mumbai Indians</td>\n",
       "      <td>Delhi Capitals</td>\n",
       "      <td>17.0</td>\n",
       "      <td>10.0</td>\n",
       "      <td>7.0</td>\n",
       "      <td>0.0</td>\n",
       "      <td>0.588235</td>\n",
       "      <td>0.411765</td>\n",
       "      <td>0.0</td>\n",
       "      <td>[Wankhede Stadium, Feroz Shah Kotla, Dr DY Pat...</td>\n",
       "    </tr>\n",
       "    <tr>\n",
       "      <th>123</th>\n",
       "      <td>Kings XI Punjab</td>\n",
       "      <td>Kolkata Knight Riders</td>\n",
       "      <td>17.0</td>\n",
       "      <td>5.0</td>\n",
       "      <td>12.0</td>\n",
       "      <td>0.0</td>\n",
       "      <td>0.294118</td>\n",
       "      <td>0.705882</td>\n",
       "      <td>0.0</td>\n",
       "      <td>[Eden Gardens, Punjab Cricket Association IS B...</td>\n",
       "    </tr>\n",
       "    <tr>\n",
       "      <th>55</th>\n",
       "      <td>Mumbai Indians</td>\n",
       "      <td>Chennai Super Kings</td>\n",
       "      <td>16.0</td>\n",
       "      <td>10.0</td>\n",
       "      <td>6.0</td>\n",
       "      <td>0.0</td>\n",
       "      <td>0.625000</td>\n",
       "      <td>0.375000</td>\n",
       "      <td>0.0</td>\n",
       "      <td>[Newlands, St George's Park, Wankhede Stadium,...</td>\n",
       "    </tr>\n",
       "    <tr>\n",
       "      <th>40</th>\n",
       "      <td>Kolkata Knight Riders</td>\n",
       "      <td>Royal Challengers Bangalore</td>\n",
       "      <td>16.0</td>\n",
       "      <td>7.0</td>\n",
       "      <td>9.0</td>\n",
       "      <td>0.0</td>\n",
       "      <td>0.437500</td>\n",
       "      <td>0.562500</td>\n",
       "      <td>0.0</td>\n",
       "      <td>[Eden Gardens, M Chinnaswamy Stadium, Eden Gar...</td>\n",
       "    </tr>\n",
       "    <tr>\n",
       "      <th>...</th>\n",
       "      <td>...</td>\n",
       "      <td>...</td>\n",
       "      <td>...</td>\n",
       "      <td>...</td>\n",
       "      <td>...</td>\n",
       "      <td>...</td>\n",
       "      <td>...</td>\n",
       "      <td>...</td>\n",
       "      <td>...</td>\n",
       "      <td>...</td>\n",
       "    </tr>\n",
       "    <tr>\n",
       "      <th>37</th>\n",
       "      <td>Kolkata Knight Riders</td>\n",
       "      <td>Kochi Tuskers Kerala</td>\n",
       "      <td>0.0</td>\n",
       "      <td>0.0</td>\n",
       "      <td>0.0</td>\n",
       "      <td>0.0</td>\n",
       "      <td>0.000000</td>\n",
       "      <td>0.000000</td>\n",
       "      <td>0.0</td>\n",
       "      <td>[]</td>\n",
       "    </tr>\n",
       "    <tr>\n",
       "      <th>35</th>\n",
       "      <td>Rising Pune Supergiants</td>\n",
       "      <td>Delhi Capitals</td>\n",
       "      <td>0.0</td>\n",
       "      <td>0.0</td>\n",
       "      <td>0.0</td>\n",
       "      <td>0.0</td>\n",
       "      <td>0.000000</td>\n",
       "      <td>0.000000</td>\n",
       "      <td>0.0</td>\n",
       "      <td>[]</td>\n",
       "    </tr>\n",
       "    <tr>\n",
       "      <th>108</th>\n",
       "      <td>Sunrisers Hyderabad</td>\n",
       "      <td>Deccan Chargers</td>\n",
       "      <td>0.0</td>\n",
       "      <td>0.0</td>\n",
       "      <td>0.0</td>\n",
       "      <td>0.0</td>\n",
       "      <td>0.000000</td>\n",
       "      <td>0.000000</td>\n",
       "      <td>0.0</td>\n",
       "      <td>[]</td>\n",
       "    </tr>\n",
       "    <tr>\n",
       "      <th>133</th>\n",
       "      <td>Gujarat Lions</td>\n",
       "      <td>Kochi Tuskers Kerala</td>\n",
       "      <td>0.0</td>\n",
       "      <td>0.0</td>\n",
       "      <td>0.0</td>\n",
       "      <td>0.0</td>\n",
       "      <td>0.000000</td>\n",
       "      <td>0.000000</td>\n",
       "      <td>0.0</td>\n",
       "      <td>[]</td>\n",
       "    </tr>\n",
       "    <tr>\n",
       "      <th>155</th>\n",
       "      <td>Delhi Capitals</td>\n",
       "      <td>Gujarat Lions</td>\n",
       "      <td>0.0</td>\n",
       "      <td>0.0</td>\n",
       "      <td>0.0</td>\n",
       "      <td>0.0</td>\n",
       "      <td>0.000000</td>\n",
       "      <td>0.000000</td>\n",
       "      <td>0.0</td>\n",
       "      <td>[]</td>\n",
       "    </tr>\n",
       "  </tbody>\n",
       "</table>\n",
       "<p>156 rows × 10 columns</p>\n",
       "</div>"
      ],
      "text/plain": [
       "                       team1                        team2  matchups  \\\n",
       "75          Rajasthan Royals        Kolkata Knight Riders      17.0   \n",
       "59            Mumbai Indians               Delhi Capitals      17.0   \n",
       "123          Kings XI Punjab        Kolkata Knight Riders      17.0   \n",
       "55            Mumbai Indians          Chennai Super Kings      16.0   \n",
       "40     Kolkata Knight Riders  Royal Challengers Bangalore      16.0   \n",
       "..                       ...                          ...       ...   \n",
       "37     Kolkata Knight Riders         Kochi Tuskers Kerala       0.0   \n",
       "35   Rising Pune Supergiants               Delhi Capitals       0.0   \n",
       "108      Sunrisers Hyderabad              Deccan Chargers       0.0   \n",
       "133            Gujarat Lions         Kochi Tuskers Kerala       0.0   \n",
       "155           Delhi Capitals                Gujarat Lions       0.0   \n",
       "\n",
       "     wins for team 1  wins for team 2  tie(s)  probability of team1 winning  \\\n",
       "75               8.0              9.0     0.0                      0.470588   \n",
       "59              10.0              7.0     0.0                      0.588235   \n",
       "123              5.0             12.0     0.0                      0.294118   \n",
       "55              10.0              6.0     0.0                      0.625000   \n",
       "40               7.0              9.0     0.0                      0.437500   \n",
       "..               ...              ...     ...                           ...   \n",
       "37               0.0              0.0     0.0                      0.000000   \n",
       "35               0.0              0.0     0.0                      0.000000   \n",
       "108              0.0              0.0     0.0                      0.000000   \n",
       "133              0.0              0.0     0.0                      0.000000   \n",
       "155              0.0              0.0     0.0                      0.000000   \n",
       "\n",
       "     probability of team2 winning  probability of tie  \\\n",
       "75                       0.529412                 0.0   \n",
       "59                       0.411765                 0.0   \n",
       "123                      0.705882                 0.0   \n",
       "55                       0.375000                 0.0   \n",
       "40                       0.562500                 0.0   \n",
       "..                            ...                 ...   \n",
       "37                       0.000000                 0.0   \n",
       "35                       0.000000                 0.0   \n",
       "108                      0.000000                 0.0   \n",
       "133                      0.000000                 0.0   \n",
       "155                      0.000000                 0.0   \n",
       "\n",
       "                                                 venue  \n",
       "75   [Sawai Mansingh Stadium, Newlands, Kingsmead, ...  \n",
       "59   [Wankhede Stadium, Feroz Shah Kotla, Dr DY Pat...  \n",
       "123  [Eden Gardens, Punjab Cricket Association IS B...  \n",
       "55   [Newlands, St George's Park, Wankhede Stadium,...  \n",
       "40   [Eden Gardens, M Chinnaswamy Stadium, Eden Gar...  \n",
       "..                                                 ...  \n",
       "37                                                  []  \n",
       "35                                                  []  \n",
       "108                                                 []  \n",
       "133                                                 []  \n",
       "155                                                 []  \n",
       "\n",
       "[156 rows x 10 columns]"
      ]
     },
     "execution_count": 36,
     "metadata": {},
     "output_type": "execute_result"
    }
   ],
   "source": [
    "h2h_data.sort_values(\"matchups\", ascending=False)"
   ]
  },
  {
   "cell_type": "markdown",
   "metadata": {},
   "source": [
    "## Performance on home ground"
   ]
  },
  {
   "cell_type": "code",
   "execution_count": 45,
   "metadata": {
    "ExecuteTime": {
     "end_time": "2021-08-10T05:16:31.550308Z",
     "start_time": "2021-08-10T05:16:31.433871Z"
    }
   },
   "outputs": [
    {
     "data": {
      "application/vnd.plotly.v1+json": {
       "config": {
        "plotlyServerURL": "https://plot.ly"
       },
       "data": [
        {
         "alignmentgroup": "True",
         "hovertemplate": "Opponent=Kochi Tuskers Kerala<br>Team=%{x}<br>Wins=%{text}<extra></extra>",
         "legendgroup": "Kochi Tuskers Kerala",
         "marker": {
          "color": "#636efa",
          "pattern": {
           "shape": ""
          }
         },
         "name": "Kochi Tuskers Kerala",
         "offsetgroup": "Kochi Tuskers Kerala",
         "orientation": "v",
         "showlegend": true,
         "text": [
          "1.0",
          "0.0",
          "0.0",
          "0.0",
          "0.0",
          "0.0",
          "0.0",
          "1.0",
          "0.0",
          "0.0",
          "0.0",
          "1.0"
         ],
         "textposition": "auto",
         "type": "bar",
         "x": [
          "Deccan Chargers",
          "Rising Pune Supergiants",
          "Kolkata Knight Riders",
          "Mumbai Indians",
          "Royal Challengers Bangalore",
          "Rajasthan Royals",
          "Pune Warriors",
          "Chennai Super Kings",
          "Sunrisers Hyderabad",
          "Kings XI Punjab",
          "Gujarat Lions",
          "Delhi Capitals"
         ],
         "xaxis": "x",
         "y": [
          1,
          0,
          0,
          0,
          0,
          0,
          0,
          1,
          0,
          0,
          0,
          1
         ],
         "yaxis": "y"
        },
        {
         "alignmentgroup": "True",
         "hovertemplate": "Opponent=Rising Pune Supergiants<br>Team=%{x}<br>Wins=%{text}<extra></extra>",
         "legendgroup": "Rising Pune Supergiants",
         "marker": {
          "color": "#EF553B",
          "pattern": {
           "shape": ""
          }
         },
         "name": "Rising Pune Supergiants",
         "offsetgroup": "Rising Pune Supergiants",
         "orientation": "v",
         "showlegend": true,
         "text": [
          "0.0",
          "0.0",
          "0.0",
          "1.0",
          "1.0",
          "0.0",
          "0.0",
          "0.0",
          "1.0",
          "0.0",
          "0.0",
          "2.0"
         ],
         "textposition": "auto",
         "type": "bar",
         "x": [
          "Deccan Chargers",
          "Kochi Tuskers Kerala",
          "Kolkata Knight Riders",
          "Mumbai Indians",
          "Royal Challengers Bangalore",
          "Rajasthan Royals",
          "Pune Warriors",
          "Chennai Super Kings",
          "Sunrisers Hyderabad",
          "Kings XI Punjab",
          "Gujarat Lions",
          "Delhi Capitals"
         ],
         "xaxis": "x",
         "y": [
          0,
          0,
          0,
          1,
          1,
          0,
          0,
          0,
          1,
          0,
          0,
          2
         ],
         "yaxis": "y"
        },
        {
         "alignmentgroup": "True",
         "hovertemplate": "Opponent=Kolkata Knight Riders<br>Team=%{x}<br>Wins=%{text}<extra></extra>",
         "legendgroup": "Kolkata Knight Riders",
         "marker": {
          "color": "#00cc96",
          "pattern": {
           "shape": ""
          }
         },
         "name": "Kolkata Knight Riders",
         "offsetgroup": "Kolkata Knight Riders",
         "orientation": "v",
         "showlegend": true,
         "text": [
          "0.0",
          "2.0",
          "0.0",
          "8.0",
          "1.0",
          "8.0",
          "1.0",
          "5.0",
          "4.0",
          "5.0",
          "0.0",
          "3.0"
         ],
         "textposition": "auto",
         "type": "bar",
         "x": [
          "Deccan Chargers",
          "Kochi Tuskers Kerala",
          "Rising Pune Supergiants",
          "Mumbai Indians",
          "Royal Challengers Bangalore",
          "Rajasthan Royals",
          "Pune Warriors",
          "Chennai Super Kings",
          "Sunrisers Hyderabad",
          "Kings XI Punjab",
          "Gujarat Lions",
          "Delhi Capitals"
         ],
         "xaxis": "x",
         "y": [
          0,
          2,
          0,
          8,
          1,
          8,
          1,
          5,
          4,
          5,
          0,
          3
         ],
         "yaxis": "y"
        },
        {
         "alignmentgroup": "True",
         "hovertemplate": "Opponent=Mumbai Indians<br>Team=%{x}<br>Wins=%{text}<extra></extra>",
         "legendgroup": "Mumbai Indians",
         "marker": {
          "color": "#ab63fa",
          "pattern": {
           "shape": ""
          }
         },
         "name": "Mumbai Indians",
         "offsetgroup": "Mumbai Indians",
         "orientation": "v",
         "showlegend": true,
         "text": [
          "3.0",
          "0.0",
          "2.0",
          "3.0",
          "4.0",
          "2.0",
          "1.0",
          "5.0",
          "3.0",
          "7.0",
          "0.0",
          "5.0"
         ],
         "textposition": "auto",
         "type": "bar",
         "x": [
          "Deccan Chargers",
          "Kochi Tuskers Kerala",
          "Rising Pune Supergiants",
          "Kolkata Knight Riders",
          "Royal Challengers Bangalore",
          "Rajasthan Royals",
          "Pune Warriors",
          "Chennai Super Kings",
          "Sunrisers Hyderabad",
          "Kings XI Punjab",
          "Gujarat Lions",
          "Delhi Capitals"
         ],
         "xaxis": "x",
         "y": [
          3,
          0,
          2,
          3,
          4,
          2,
          1,
          5,
          3,
          7,
          0,
          5
         ],
         "yaxis": "y"
        },
        {
         "alignmentgroup": "True",
         "hovertemplate": "Opponent=Royal Challengers Bangalore<br>Team=%{x}<br>Wins=%{text}<extra></extra>",
         "legendgroup": "Royal Challengers Bangalore",
         "marker": {
          "color": "#FFA15A",
          "pattern": {
           "shape": ""
          }
         },
         "name": "Royal Challengers Bangalore",
         "offsetgroup": "Royal Challengers Bangalore",
         "orientation": "v",
         "showlegend": true,
         "text": [
          "5.0",
          "0.0",
          "2.0",
          "7.0",
          "8.0",
          "4.0",
          "0.0",
          "6.0",
          "5.0",
          "4.0",
          "0.0",
          "4.0"
         ],
         "textposition": "auto",
         "type": "bar",
         "x": [
          "Deccan Chargers",
          "Kochi Tuskers Kerala",
          "Rising Pune Supergiants",
          "Kolkata Knight Riders",
          "Mumbai Indians",
          "Rajasthan Royals",
          "Pune Warriors",
          "Chennai Super Kings",
          "Sunrisers Hyderabad",
          "Kings XI Punjab",
          "Gujarat Lions",
          "Delhi Capitals"
         ],
         "xaxis": "x",
         "y": [
          5,
          0,
          2,
          7,
          8,
          4,
          0,
          6,
          5,
          4,
          0,
          4
         ],
         "yaxis": "y"
        },
        {
         "alignmentgroup": "True",
         "hovertemplate": "Opponent=Rajasthan Royals<br>Team=%{x}<br>Wins=%{text}<extra></extra>",
         "legendgroup": "Rajasthan Royals",
         "marker": {
          "color": "#19d3f3",
          "pattern": {
           "shape": ""
          }
         },
         "name": "Rajasthan Royals",
         "offsetgroup": "Rajasthan Royals",
         "orientation": "v",
         "showlegend": true,
         "text": [
          "1.0",
          "0.0",
          "0.0",
          "1.0",
          "6.0",
          "3.0",
          "0.0",
          "7.0",
          "4.0",
          "6.0",
          "0.0",
          "4.0"
         ],
         "textposition": "auto",
         "type": "bar",
         "x": [
          "Deccan Chargers",
          "Kochi Tuskers Kerala",
          "Rising Pune Supergiants",
          "Kolkata Knight Riders",
          "Mumbai Indians",
          "Royal Challengers Bangalore",
          "Pune Warriors",
          "Chennai Super Kings",
          "Sunrisers Hyderabad",
          "Kings XI Punjab",
          "Gujarat Lions",
          "Delhi Capitals"
         ],
         "xaxis": "x",
         "y": [
          1,
          0,
          0,
          1,
          6,
          3,
          0,
          7,
          4,
          6,
          0,
          4
         ],
         "yaxis": "y"
        },
        {
         "alignmentgroup": "True",
         "hovertemplate": "Opponent=Pune Warriors<br>Team=%{x}<br>Wins=%{text}<extra></extra>",
         "legendgroup": "Pune Warriors",
         "marker": {
          "color": "#FF6692",
          "pattern": {
           "shape": ""
          }
         },
         "name": "Pune Warriors",
         "offsetgroup": "Pune Warriors",
         "orientation": "v",
         "showlegend": true,
         "text": [
          "2.0",
          "0.0",
          "0.0",
          "3.0",
          "3.0",
          "4.0",
          "1.0",
          "3.0",
          "2.0",
          "0.0",
          "0.0",
          "1.0"
         ],
         "textposition": "auto",
         "type": "bar",
         "x": [
          "Deccan Chargers",
          "Kochi Tuskers Kerala",
          "Rising Pune Supergiants",
          "Kolkata Knight Riders",
          "Mumbai Indians",
          "Royal Challengers Bangalore",
          "Rajasthan Royals",
          "Chennai Super Kings",
          "Sunrisers Hyderabad",
          "Kings XI Punjab",
          "Gujarat Lions",
          "Delhi Capitals"
         ],
         "xaxis": "x",
         "y": [
          2,
          0,
          0,
          3,
          3,
          4,
          1,
          3,
          2,
          0,
          0,
          1
         ],
         "yaxis": "y"
        },
        {
         "alignmentgroup": "True",
         "hovertemplate": "Opponent=Chennai Super Kings<br>Team=%{x}<br>Wins=%{text}<extra></extra>",
         "legendgroup": "Chennai Super Kings",
         "marker": {
          "color": "#B6E880",
          "pattern": {
           "shape": ""
          }
         },
         "name": "Chennai Super Kings",
         "offsetgroup": "Chennai Super Kings",
         "orientation": "v",
         "showlegend": true,
         "text": [
          "1.0",
          "0.0",
          "0.0",
          "0.0",
          "10.0",
          "4.0",
          "2.0",
          "1.0",
          "1.0",
          "5.0",
          "0.0",
          "2.0"
         ],
         "textposition": "auto",
         "type": "bar",
         "x": [
          "Deccan Chargers",
          "Kochi Tuskers Kerala",
          "Rising Pune Supergiants",
          "Kolkata Knight Riders",
          "Mumbai Indians",
          "Royal Challengers Bangalore",
          "Rajasthan Royals",
          "Pune Warriors",
          "Sunrisers Hyderabad",
          "Kings XI Punjab",
          "Gujarat Lions",
          "Delhi Capitals"
         ],
         "xaxis": "x",
         "y": [
          1,
          0,
          0,
          0,
          10,
          4,
          2,
          1,
          1,
          5,
          0,
          2
         ],
         "yaxis": "y"
        },
        {
         "alignmentgroup": "True",
         "hovertemplate": "Opponent=Sunrisers Hyderabad<br>Team=%{x}<br>Wins=%{text}<extra></extra>",
         "legendgroup": "Sunrisers Hyderabad",
         "marker": {
          "color": "#FF97FF",
          "pattern": {
           "shape": ""
          }
         },
         "name": "Sunrisers Hyderabad",
         "offsetgroup": "Sunrisers Hyderabad",
         "orientation": "v",
         "showlegend": true,
         "text": [
          "0.0",
          "0.0",
          "1.0",
          "4.0",
          "3.0",
          "2.0",
          "0.0",
          "0.0",
          "3.0",
          "2.0",
          "0.0",
          "2.0"
         ],
         "textposition": "auto",
         "type": "bar",
         "x": [
          "Deccan Chargers",
          "Kochi Tuskers Kerala",
          "Rising Pune Supergiants",
          "Kolkata Knight Riders",
          "Mumbai Indians",
          "Royal Challengers Bangalore",
          "Rajasthan Royals",
          "Pune Warriors",
          "Chennai Super Kings",
          "Kings XI Punjab",
          "Gujarat Lions",
          "Delhi Capitals"
         ],
         "xaxis": "x",
         "y": [
          0,
          0,
          1,
          4,
          3,
          2,
          0,
          0,
          3,
          2,
          0,
          2
         ],
         "yaxis": "y"
        },
        {
         "alignmentgroup": "True",
         "hovertemplate": "Opponent=Kings XI Punjab<br>Team=%{x}<br>Wins=%{text}<extra></extra>",
         "legendgroup": "Kings XI Punjab",
         "marker": {
          "color": "#FECB52",
          "pattern": {
           "shape": ""
          }
         },
         "name": "Kings XI Punjab",
         "offsetgroup": "Kings XI Punjab",
         "orientation": "v",
         "showlegend": true,
         "text": [
          "2.0",
          "0.0",
          "0.0",
          "5.0",
          "5.0",
          "6.0",
          "6.0",
          "1.0",
          "7.0",
          "7.0",
          "0.0",
          "2.0"
         ],
         "textposition": "auto",
         "type": "bar",
         "x": [
          "Deccan Chargers",
          "Kochi Tuskers Kerala",
          "Rising Pune Supergiants",
          "Kolkata Knight Riders",
          "Mumbai Indians",
          "Royal Challengers Bangalore",
          "Rajasthan Royals",
          "Pune Warriors",
          "Chennai Super Kings",
          "Sunrisers Hyderabad",
          "Gujarat Lions",
          "Delhi Capitals"
         ],
         "xaxis": "x",
         "y": [
          2,
          0,
          0,
          5,
          5,
          6,
          6,
          1,
          7,
          7,
          0,
          2
         ],
         "yaxis": "y"
        },
        {
         "alignmentgroup": "True",
         "hovertemplate": "Opponent=Gujarat Lions<br>Team=%{x}<br>Wins=%{text}<extra></extra>",
         "legendgroup": "Gujarat Lions",
         "marker": {
          "color": "#636efa",
          "pattern": {
           "shape": ""
          }
         },
         "name": "Gujarat Lions",
         "offsetgroup": "Gujarat Lions",
         "orientation": "v",
         "showlegend": true,
         "text": [
          "0.0",
          "0.0",
          "0.0",
          "0.0",
          "0.0",
          "2.0",
          "0.0",
          "0.0",
          "0.0",
          "0.0",
          "2.0",
          "0.0"
         ],
         "textposition": "auto",
         "type": "bar",
         "x": [
          "Deccan Chargers",
          "Kochi Tuskers Kerala",
          "Rising Pune Supergiants",
          "Kolkata Knight Riders",
          "Mumbai Indians",
          "Royal Challengers Bangalore",
          "Rajasthan Royals",
          "Pune Warriors",
          "Chennai Super Kings",
          "Sunrisers Hyderabad",
          "Kings XI Punjab",
          "Delhi Capitals"
         ],
         "xaxis": "x",
         "y": [
          0,
          0,
          0,
          0,
          0,
          2,
          0,
          0,
          0,
          0,
          2,
          0
         ],
         "yaxis": "y"
        },
        {
         "alignmentgroup": "True",
         "hovertemplate": "Opponent=Delhi Capitals<br>Team=%{x}<br>Wins=%{text}<extra></extra>",
         "legendgroup": "Delhi Capitals",
         "marker": {
          "color": "#EF553B",
          "pattern": {
           "shape": ""
          }
         },
         "name": "Delhi Capitals",
         "offsetgroup": "Delhi Capitals",
         "orientation": "v",
         "showlegend": true,
         "text": [
          "3.0",
          "0.0",
          "0.0",
          "6.0",
          "10.0",
          "6.0",
          "5.0",
          "2.0",
          "9.0",
          "3.0",
          "5.0",
          "1.0"
         ],
         "textposition": "auto",
         "type": "bar",
         "x": [
          "Deccan Chargers",
          "Kochi Tuskers Kerala",
          "Rising Pune Supergiants",
          "Kolkata Knight Riders",
          "Mumbai Indians",
          "Royal Challengers Bangalore",
          "Rajasthan Royals",
          "Pune Warriors",
          "Chennai Super Kings",
          "Sunrisers Hyderabad",
          "Kings XI Punjab",
          "Gujarat Lions"
         ],
         "xaxis": "x",
         "y": [
          3,
          0,
          0,
          6,
          10,
          6,
          5,
          2,
          9,
          3,
          5,
          1
         ],
         "yaxis": "y"
        },
        {
         "alignmentgroup": "True",
         "hovertemplate": "Opponent=Deccan Chargers<br>Team=%{x}<br>Wins=%{text}<extra></extra>",
         "legendgroup": "Deccan Chargers",
         "marker": {
          "color": "#00cc96",
          "pattern": {
           "shape": ""
          }
         },
         "name": "Deccan Chargers",
         "offsetgroup": "Deccan Chargers",
         "orientation": "v",
         "showlegend": true,
         "text": [
          "0.0",
          "0.0",
          "5.0",
          "4.0",
          "2.0",
          "1.0",
          "0.0",
          "5.0",
          "0.0",
          "2.0",
          "0.0",
          "2.0"
         ],
         "textposition": "auto",
         "type": "bar",
         "x": [
          "Kochi Tuskers Kerala",
          "Rising Pune Supergiants",
          "Kolkata Knight Riders",
          "Mumbai Indians",
          "Royal Challengers Bangalore",
          "Rajasthan Royals",
          "Pune Warriors",
          "Chennai Super Kings",
          "Sunrisers Hyderabad",
          "Kings XI Punjab",
          "Gujarat Lions",
          "Delhi Capitals"
         ],
         "xaxis": "x",
         "y": [
          0,
          0,
          5,
          4,
          2,
          1,
          0,
          5,
          0,
          2,
          0,
          2
         ],
         "yaxis": "y"
        }
       ],
       "layout": {
        "barmode": "relative",
        "height": 800,
        "legend": {
         "title": {
          "text": "Opponent"
         },
         "tracegroupgap": 0
        },
        "template": {
         "data": {
          "bar": [
           {
            "error_x": {
             "color": "#2a3f5f"
            },
            "error_y": {
             "color": "#2a3f5f"
            },
            "marker": {
             "line": {
              "color": "#E5ECF6",
              "width": 0.5
             },
             "pattern": {
              "fillmode": "overlay",
              "size": 10,
              "solidity": 0.2
             }
            },
            "type": "bar"
           }
          ],
          "barpolar": [
           {
            "marker": {
             "line": {
              "color": "#E5ECF6",
              "width": 0.5
             },
             "pattern": {
              "fillmode": "overlay",
              "size": 10,
              "solidity": 0.2
             }
            },
            "type": "barpolar"
           }
          ],
          "carpet": [
           {
            "aaxis": {
             "endlinecolor": "#2a3f5f",
             "gridcolor": "white",
             "linecolor": "white",
             "minorgridcolor": "white",
             "startlinecolor": "#2a3f5f"
            },
            "baxis": {
             "endlinecolor": "#2a3f5f",
             "gridcolor": "white",
             "linecolor": "white",
             "minorgridcolor": "white",
             "startlinecolor": "#2a3f5f"
            },
            "type": "carpet"
           }
          ],
          "choropleth": [
           {
            "colorbar": {
             "outlinewidth": 0,
             "ticks": ""
            },
            "type": "choropleth"
           }
          ],
          "contour": [
           {
            "colorbar": {
             "outlinewidth": 0,
             "ticks": ""
            },
            "colorscale": [
             [
              0,
              "#0d0887"
             ],
             [
              0.1111111111111111,
              "#46039f"
             ],
             [
              0.2222222222222222,
              "#7201a8"
             ],
             [
              0.3333333333333333,
              "#9c179e"
             ],
             [
              0.4444444444444444,
              "#bd3786"
             ],
             [
              0.5555555555555556,
              "#d8576b"
             ],
             [
              0.6666666666666666,
              "#ed7953"
             ],
             [
              0.7777777777777778,
              "#fb9f3a"
             ],
             [
              0.8888888888888888,
              "#fdca26"
             ],
             [
              1,
              "#f0f921"
             ]
            ],
            "type": "contour"
           }
          ],
          "contourcarpet": [
           {
            "colorbar": {
             "outlinewidth": 0,
             "ticks": ""
            },
            "type": "contourcarpet"
           }
          ],
          "heatmap": [
           {
            "colorbar": {
             "outlinewidth": 0,
             "ticks": ""
            },
            "colorscale": [
             [
              0,
              "#0d0887"
             ],
             [
              0.1111111111111111,
              "#46039f"
             ],
             [
              0.2222222222222222,
              "#7201a8"
             ],
             [
              0.3333333333333333,
              "#9c179e"
             ],
             [
              0.4444444444444444,
              "#bd3786"
             ],
             [
              0.5555555555555556,
              "#d8576b"
             ],
             [
              0.6666666666666666,
              "#ed7953"
             ],
             [
              0.7777777777777778,
              "#fb9f3a"
             ],
             [
              0.8888888888888888,
              "#fdca26"
             ],
             [
              1,
              "#f0f921"
             ]
            ],
            "type": "heatmap"
           }
          ],
          "heatmapgl": [
           {
            "colorbar": {
             "outlinewidth": 0,
             "ticks": ""
            },
            "colorscale": [
             [
              0,
              "#0d0887"
             ],
             [
              0.1111111111111111,
              "#46039f"
             ],
             [
              0.2222222222222222,
              "#7201a8"
             ],
             [
              0.3333333333333333,
              "#9c179e"
             ],
             [
              0.4444444444444444,
              "#bd3786"
             ],
             [
              0.5555555555555556,
              "#d8576b"
             ],
             [
              0.6666666666666666,
              "#ed7953"
             ],
             [
              0.7777777777777778,
              "#fb9f3a"
             ],
             [
              0.8888888888888888,
              "#fdca26"
             ],
             [
              1,
              "#f0f921"
             ]
            ],
            "type": "heatmapgl"
           }
          ],
          "histogram": [
           {
            "marker": {
             "pattern": {
              "fillmode": "overlay",
              "size": 10,
              "solidity": 0.2
             }
            },
            "type": "histogram"
           }
          ],
          "histogram2d": [
           {
            "colorbar": {
             "outlinewidth": 0,
             "ticks": ""
            },
            "colorscale": [
             [
              0,
              "#0d0887"
             ],
             [
              0.1111111111111111,
              "#46039f"
             ],
             [
              0.2222222222222222,
              "#7201a8"
             ],
             [
              0.3333333333333333,
              "#9c179e"
             ],
             [
              0.4444444444444444,
              "#bd3786"
             ],
             [
              0.5555555555555556,
              "#d8576b"
             ],
             [
              0.6666666666666666,
              "#ed7953"
             ],
             [
              0.7777777777777778,
              "#fb9f3a"
             ],
             [
              0.8888888888888888,
              "#fdca26"
             ],
             [
              1,
              "#f0f921"
             ]
            ],
            "type": "histogram2d"
           }
          ],
          "histogram2dcontour": [
           {
            "colorbar": {
             "outlinewidth": 0,
             "ticks": ""
            },
            "colorscale": [
             [
              0,
              "#0d0887"
             ],
             [
              0.1111111111111111,
              "#46039f"
             ],
             [
              0.2222222222222222,
              "#7201a8"
             ],
             [
              0.3333333333333333,
              "#9c179e"
             ],
             [
              0.4444444444444444,
              "#bd3786"
             ],
             [
              0.5555555555555556,
              "#d8576b"
             ],
             [
              0.6666666666666666,
              "#ed7953"
             ],
             [
              0.7777777777777778,
              "#fb9f3a"
             ],
             [
              0.8888888888888888,
              "#fdca26"
             ],
             [
              1,
              "#f0f921"
             ]
            ],
            "type": "histogram2dcontour"
           }
          ],
          "mesh3d": [
           {
            "colorbar": {
             "outlinewidth": 0,
             "ticks": ""
            },
            "type": "mesh3d"
           }
          ],
          "parcoords": [
           {
            "line": {
             "colorbar": {
              "outlinewidth": 0,
              "ticks": ""
             }
            },
            "type": "parcoords"
           }
          ],
          "pie": [
           {
            "automargin": true,
            "type": "pie"
           }
          ],
          "scatter": [
           {
            "marker": {
             "colorbar": {
              "outlinewidth": 0,
              "ticks": ""
             }
            },
            "type": "scatter"
           }
          ],
          "scatter3d": [
           {
            "line": {
             "colorbar": {
              "outlinewidth": 0,
              "ticks": ""
             }
            },
            "marker": {
             "colorbar": {
              "outlinewidth": 0,
              "ticks": ""
             }
            },
            "type": "scatter3d"
           }
          ],
          "scattercarpet": [
           {
            "marker": {
             "colorbar": {
              "outlinewidth": 0,
              "ticks": ""
             }
            },
            "type": "scattercarpet"
           }
          ],
          "scattergeo": [
           {
            "marker": {
             "colorbar": {
              "outlinewidth": 0,
              "ticks": ""
             }
            },
            "type": "scattergeo"
           }
          ],
          "scattergl": [
           {
            "marker": {
             "colorbar": {
              "outlinewidth": 0,
              "ticks": ""
             }
            },
            "type": "scattergl"
           }
          ],
          "scattermapbox": [
           {
            "marker": {
             "colorbar": {
              "outlinewidth": 0,
              "ticks": ""
             }
            },
            "type": "scattermapbox"
           }
          ],
          "scatterpolar": [
           {
            "marker": {
             "colorbar": {
              "outlinewidth": 0,
              "ticks": ""
             }
            },
            "type": "scatterpolar"
           }
          ],
          "scatterpolargl": [
           {
            "marker": {
             "colorbar": {
              "outlinewidth": 0,
              "ticks": ""
             }
            },
            "type": "scatterpolargl"
           }
          ],
          "scatterternary": [
           {
            "marker": {
             "colorbar": {
              "outlinewidth": 0,
              "ticks": ""
             }
            },
            "type": "scatterternary"
           }
          ],
          "surface": [
           {
            "colorbar": {
             "outlinewidth": 0,
             "ticks": ""
            },
            "colorscale": [
             [
              0,
              "#0d0887"
             ],
             [
              0.1111111111111111,
              "#46039f"
             ],
             [
              0.2222222222222222,
              "#7201a8"
             ],
             [
              0.3333333333333333,
              "#9c179e"
             ],
             [
              0.4444444444444444,
              "#bd3786"
             ],
             [
              0.5555555555555556,
              "#d8576b"
             ],
             [
              0.6666666666666666,
              "#ed7953"
             ],
             [
              0.7777777777777778,
              "#fb9f3a"
             ],
             [
              0.8888888888888888,
              "#fdca26"
             ],
             [
              1,
              "#f0f921"
             ]
            ],
            "type": "surface"
           }
          ],
          "table": [
           {
            "cells": {
             "fill": {
              "color": "#EBF0F8"
             },
             "line": {
              "color": "white"
             }
            },
            "header": {
             "fill": {
              "color": "#C8D4E3"
             },
             "line": {
              "color": "white"
             }
            },
            "type": "table"
           }
          ]
         },
         "layout": {
          "annotationdefaults": {
           "arrowcolor": "#2a3f5f",
           "arrowhead": 0,
           "arrowwidth": 1
          },
          "autotypenumbers": "strict",
          "coloraxis": {
           "colorbar": {
            "outlinewidth": 0,
            "ticks": ""
           }
          },
          "colorscale": {
           "diverging": [
            [
             0,
             "#8e0152"
            ],
            [
             0.1,
             "#c51b7d"
            ],
            [
             0.2,
             "#de77ae"
            ],
            [
             0.3,
             "#f1b6da"
            ],
            [
             0.4,
             "#fde0ef"
            ],
            [
             0.5,
             "#f7f7f7"
            ],
            [
             0.6,
             "#e6f5d0"
            ],
            [
             0.7,
             "#b8e186"
            ],
            [
             0.8,
             "#7fbc41"
            ],
            [
             0.9,
             "#4d9221"
            ],
            [
             1,
             "#276419"
            ]
           ],
           "sequential": [
            [
             0,
             "#0d0887"
            ],
            [
             0.1111111111111111,
             "#46039f"
            ],
            [
             0.2222222222222222,
             "#7201a8"
            ],
            [
             0.3333333333333333,
             "#9c179e"
            ],
            [
             0.4444444444444444,
             "#bd3786"
            ],
            [
             0.5555555555555556,
             "#d8576b"
            ],
            [
             0.6666666666666666,
             "#ed7953"
            ],
            [
             0.7777777777777778,
             "#fb9f3a"
            ],
            [
             0.8888888888888888,
             "#fdca26"
            ],
            [
             1,
             "#f0f921"
            ]
           ],
           "sequentialminus": [
            [
             0,
             "#0d0887"
            ],
            [
             0.1111111111111111,
             "#46039f"
            ],
            [
             0.2222222222222222,
             "#7201a8"
            ],
            [
             0.3333333333333333,
             "#9c179e"
            ],
            [
             0.4444444444444444,
             "#bd3786"
            ],
            [
             0.5555555555555556,
             "#d8576b"
            ],
            [
             0.6666666666666666,
             "#ed7953"
            ],
            [
             0.7777777777777778,
             "#fb9f3a"
            ],
            [
             0.8888888888888888,
             "#fdca26"
            ],
            [
             1,
             "#f0f921"
            ]
           ]
          },
          "colorway": [
           "#636efa",
           "#EF553B",
           "#00cc96",
           "#ab63fa",
           "#FFA15A",
           "#19d3f3",
           "#FF6692",
           "#B6E880",
           "#FF97FF",
           "#FECB52"
          ],
          "font": {
           "color": "#2a3f5f"
          },
          "geo": {
           "bgcolor": "white",
           "lakecolor": "white",
           "landcolor": "#E5ECF6",
           "showlakes": true,
           "showland": true,
           "subunitcolor": "white"
          },
          "hoverlabel": {
           "align": "left"
          },
          "hovermode": "closest",
          "mapbox": {
           "style": "light"
          },
          "paper_bgcolor": "white",
          "plot_bgcolor": "#E5ECF6",
          "polar": {
           "angularaxis": {
            "gridcolor": "white",
            "linecolor": "white",
            "ticks": ""
           },
           "bgcolor": "#E5ECF6",
           "radialaxis": {
            "gridcolor": "white",
            "linecolor": "white",
            "ticks": ""
           }
          },
          "scene": {
           "xaxis": {
            "backgroundcolor": "#E5ECF6",
            "gridcolor": "white",
            "gridwidth": 2,
            "linecolor": "white",
            "showbackground": true,
            "ticks": "",
            "zerolinecolor": "white"
           },
           "yaxis": {
            "backgroundcolor": "#E5ECF6",
            "gridcolor": "white",
            "gridwidth": 2,
            "linecolor": "white",
            "showbackground": true,
            "ticks": "",
            "zerolinecolor": "white"
           },
           "zaxis": {
            "backgroundcolor": "#E5ECF6",
            "gridcolor": "white",
            "gridwidth": 2,
            "linecolor": "white",
            "showbackground": true,
            "ticks": "",
            "zerolinecolor": "white"
           }
          },
          "shapedefaults": {
           "line": {
            "color": "#2a3f5f"
           }
          },
          "ternary": {
           "aaxis": {
            "gridcolor": "white",
            "linecolor": "white",
            "ticks": ""
           },
           "baxis": {
            "gridcolor": "white",
            "linecolor": "white",
            "ticks": ""
           },
           "bgcolor": "#E5ECF6",
           "caxis": {
            "gridcolor": "white",
            "linecolor": "white",
            "ticks": ""
           }
          },
          "title": {
           "x": 0.05
          },
          "xaxis": {
           "automargin": true,
           "gridcolor": "white",
           "linecolor": "white",
           "ticks": "",
           "title": {
            "standoff": 15
           },
           "zerolinecolor": "white",
           "zerolinewidth": 2
          },
          "yaxis": {
           "automargin": true,
           "gridcolor": "white",
           "linecolor": "white",
           "ticks": "",
           "title": {
            "standoff": 15
           },
           "zerolinecolor": "white",
           "zerolinewidth": 2
          }
         }
        },
        "title": {
         "text": "Stacked head-to-head wins at home"
        },
        "uniformtext": {
         "minsize": 8
        },
        "width": 1000,
        "xaxis": {
         "anchor": "y",
         "domain": [
          0,
          1
         ],
         "title": {
          "text": "Team"
         }
        },
        "yaxis": {
         "anchor": "x",
         "domain": [
          0,
          1
         ],
         "title": {
          "text": "Wins"
         }
        }
       }
      },
      "text/html": [
       "<div>                            <div id=\"30fbea2f-9c82-4763-9b0f-c6d754ec97c7\" class=\"plotly-graph-div\" style=\"height:800px; width:1000px;\"></div>            <script type=\"text/javascript\">                require([\"plotly\"], function(Plotly) {                    window.PLOTLYENV=window.PLOTLYENV || {};                                    if (document.getElementById(\"30fbea2f-9c82-4763-9b0f-c6d754ec97c7\")) {                    Plotly.newPlot(                        \"30fbea2f-9c82-4763-9b0f-c6d754ec97c7\",                        [{\"alignmentgroup\":\"True\",\"hovertemplate\":\"Opponent=Kochi Tuskers Kerala<br>Team=%{x}<br>Wins=%{text}<extra></extra>\",\"legendgroup\":\"Kochi Tuskers Kerala\",\"marker\":{\"color\":\"#636efa\",\"pattern\":{\"shape\":\"\"}},\"name\":\"Kochi Tuskers Kerala\",\"offsetgroup\":\"Kochi Tuskers Kerala\",\"orientation\":\"v\",\"showlegend\":true,\"text\":[\"1.0\",\"0.0\",\"0.0\",\"0.0\",\"0.0\",\"0.0\",\"0.0\",\"1.0\",\"0.0\",\"0.0\",\"0.0\",\"1.0\"],\"textposition\":\"auto\",\"type\":\"bar\",\"x\":[\"Deccan Chargers\",\"Rising Pune Supergiants\",\"Kolkata Knight Riders\",\"Mumbai Indians\",\"Royal Challengers Bangalore\",\"Rajasthan Royals\",\"Pune Warriors\",\"Chennai Super Kings\",\"Sunrisers Hyderabad\",\"Kings XI Punjab\",\"Gujarat Lions\",\"Delhi Capitals\"],\"xaxis\":\"x\",\"y\":[1.0,0.0,0.0,0.0,0.0,0.0,0.0,1.0,0.0,0.0,0.0,1.0],\"yaxis\":\"y\"},{\"alignmentgroup\":\"True\",\"hovertemplate\":\"Opponent=Rising Pune Supergiants<br>Team=%{x}<br>Wins=%{text}<extra></extra>\",\"legendgroup\":\"Rising Pune Supergiants\",\"marker\":{\"color\":\"#EF553B\",\"pattern\":{\"shape\":\"\"}},\"name\":\"Rising Pune Supergiants\",\"offsetgroup\":\"Rising Pune Supergiants\",\"orientation\":\"v\",\"showlegend\":true,\"text\":[\"0.0\",\"0.0\",\"0.0\",\"1.0\",\"1.0\",\"0.0\",\"0.0\",\"0.0\",\"1.0\",\"0.0\",\"0.0\",\"2.0\"],\"textposition\":\"auto\",\"type\":\"bar\",\"x\":[\"Deccan Chargers\",\"Kochi Tuskers Kerala\",\"Kolkata Knight Riders\",\"Mumbai Indians\",\"Royal Challengers Bangalore\",\"Rajasthan Royals\",\"Pune Warriors\",\"Chennai Super Kings\",\"Sunrisers Hyderabad\",\"Kings XI Punjab\",\"Gujarat Lions\",\"Delhi Capitals\"],\"xaxis\":\"x\",\"y\":[0.0,0.0,0.0,1.0,1.0,0.0,0.0,0.0,1.0,0.0,0.0,2.0],\"yaxis\":\"y\"},{\"alignmentgroup\":\"True\",\"hovertemplate\":\"Opponent=Kolkata Knight Riders<br>Team=%{x}<br>Wins=%{text}<extra></extra>\",\"legendgroup\":\"Kolkata Knight Riders\",\"marker\":{\"color\":\"#00cc96\",\"pattern\":{\"shape\":\"\"}},\"name\":\"Kolkata Knight Riders\",\"offsetgroup\":\"Kolkata Knight Riders\",\"orientation\":\"v\",\"showlegend\":true,\"text\":[\"0.0\",\"2.0\",\"0.0\",\"8.0\",\"1.0\",\"8.0\",\"1.0\",\"5.0\",\"4.0\",\"5.0\",\"0.0\",\"3.0\"],\"textposition\":\"auto\",\"type\":\"bar\",\"x\":[\"Deccan Chargers\",\"Kochi Tuskers Kerala\",\"Rising Pune Supergiants\",\"Mumbai Indians\",\"Royal Challengers Bangalore\",\"Rajasthan Royals\",\"Pune Warriors\",\"Chennai Super Kings\",\"Sunrisers Hyderabad\",\"Kings XI Punjab\",\"Gujarat Lions\",\"Delhi Capitals\"],\"xaxis\":\"x\",\"y\":[0.0,2.0,0.0,8.0,1.0,8.0,1.0,5.0,4.0,5.0,0.0,3.0],\"yaxis\":\"y\"},{\"alignmentgroup\":\"True\",\"hovertemplate\":\"Opponent=Mumbai Indians<br>Team=%{x}<br>Wins=%{text}<extra></extra>\",\"legendgroup\":\"Mumbai Indians\",\"marker\":{\"color\":\"#ab63fa\",\"pattern\":{\"shape\":\"\"}},\"name\":\"Mumbai Indians\",\"offsetgroup\":\"Mumbai Indians\",\"orientation\":\"v\",\"showlegend\":true,\"text\":[\"3.0\",\"0.0\",\"2.0\",\"3.0\",\"4.0\",\"2.0\",\"1.0\",\"5.0\",\"3.0\",\"7.0\",\"0.0\",\"5.0\"],\"textposition\":\"auto\",\"type\":\"bar\",\"x\":[\"Deccan Chargers\",\"Kochi Tuskers Kerala\",\"Rising Pune Supergiants\",\"Kolkata Knight Riders\",\"Royal Challengers Bangalore\",\"Rajasthan Royals\",\"Pune Warriors\",\"Chennai Super Kings\",\"Sunrisers Hyderabad\",\"Kings XI Punjab\",\"Gujarat Lions\",\"Delhi Capitals\"],\"xaxis\":\"x\",\"y\":[3.0,0.0,2.0,3.0,4.0,2.0,1.0,5.0,3.0,7.0,0.0,5.0],\"yaxis\":\"y\"},{\"alignmentgroup\":\"True\",\"hovertemplate\":\"Opponent=Royal Challengers Bangalore<br>Team=%{x}<br>Wins=%{text}<extra></extra>\",\"legendgroup\":\"Royal Challengers Bangalore\",\"marker\":{\"color\":\"#FFA15A\",\"pattern\":{\"shape\":\"\"}},\"name\":\"Royal Challengers Bangalore\",\"offsetgroup\":\"Royal Challengers Bangalore\",\"orientation\":\"v\",\"showlegend\":true,\"text\":[\"5.0\",\"0.0\",\"2.0\",\"7.0\",\"8.0\",\"4.0\",\"0.0\",\"6.0\",\"5.0\",\"4.0\",\"0.0\",\"4.0\"],\"textposition\":\"auto\",\"type\":\"bar\",\"x\":[\"Deccan Chargers\",\"Kochi Tuskers Kerala\",\"Rising Pune Supergiants\",\"Kolkata Knight Riders\",\"Mumbai Indians\",\"Rajasthan Royals\",\"Pune Warriors\",\"Chennai Super Kings\",\"Sunrisers Hyderabad\",\"Kings XI Punjab\",\"Gujarat Lions\",\"Delhi Capitals\"],\"xaxis\":\"x\",\"y\":[5.0,0.0,2.0,7.0,8.0,4.0,0.0,6.0,5.0,4.0,0.0,4.0],\"yaxis\":\"y\"},{\"alignmentgroup\":\"True\",\"hovertemplate\":\"Opponent=Rajasthan Royals<br>Team=%{x}<br>Wins=%{text}<extra></extra>\",\"legendgroup\":\"Rajasthan Royals\",\"marker\":{\"color\":\"#19d3f3\",\"pattern\":{\"shape\":\"\"}},\"name\":\"Rajasthan Royals\",\"offsetgroup\":\"Rajasthan Royals\",\"orientation\":\"v\",\"showlegend\":true,\"text\":[\"1.0\",\"0.0\",\"0.0\",\"1.0\",\"6.0\",\"3.0\",\"0.0\",\"7.0\",\"4.0\",\"6.0\",\"0.0\",\"4.0\"],\"textposition\":\"auto\",\"type\":\"bar\",\"x\":[\"Deccan Chargers\",\"Kochi Tuskers Kerala\",\"Rising Pune Supergiants\",\"Kolkata Knight Riders\",\"Mumbai Indians\",\"Royal Challengers Bangalore\",\"Pune Warriors\",\"Chennai Super Kings\",\"Sunrisers Hyderabad\",\"Kings XI Punjab\",\"Gujarat Lions\",\"Delhi Capitals\"],\"xaxis\":\"x\",\"y\":[1.0,0.0,0.0,1.0,6.0,3.0,0.0,7.0,4.0,6.0,0.0,4.0],\"yaxis\":\"y\"},{\"alignmentgroup\":\"True\",\"hovertemplate\":\"Opponent=Pune Warriors<br>Team=%{x}<br>Wins=%{text}<extra></extra>\",\"legendgroup\":\"Pune Warriors\",\"marker\":{\"color\":\"#FF6692\",\"pattern\":{\"shape\":\"\"}},\"name\":\"Pune Warriors\",\"offsetgroup\":\"Pune Warriors\",\"orientation\":\"v\",\"showlegend\":true,\"text\":[\"2.0\",\"0.0\",\"0.0\",\"3.0\",\"3.0\",\"4.0\",\"1.0\",\"3.0\",\"2.0\",\"0.0\",\"0.0\",\"1.0\"],\"textposition\":\"auto\",\"type\":\"bar\",\"x\":[\"Deccan Chargers\",\"Kochi Tuskers Kerala\",\"Rising Pune Supergiants\",\"Kolkata Knight Riders\",\"Mumbai Indians\",\"Royal Challengers Bangalore\",\"Rajasthan Royals\",\"Chennai Super Kings\",\"Sunrisers Hyderabad\",\"Kings XI Punjab\",\"Gujarat Lions\",\"Delhi Capitals\"],\"xaxis\":\"x\",\"y\":[2.0,0.0,0.0,3.0,3.0,4.0,1.0,3.0,2.0,0.0,0.0,1.0],\"yaxis\":\"y\"},{\"alignmentgroup\":\"True\",\"hovertemplate\":\"Opponent=Chennai Super Kings<br>Team=%{x}<br>Wins=%{text}<extra></extra>\",\"legendgroup\":\"Chennai Super Kings\",\"marker\":{\"color\":\"#B6E880\",\"pattern\":{\"shape\":\"\"}},\"name\":\"Chennai Super Kings\",\"offsetgroup\":\"Chennai Super Kings\",\"orientation\":\"v\",\"showlegend\":true,\"text\":[\"1.0\",\"0.0\",\"0.0\",\"0.0\",\"10.0\",\"4.0\",\"2.0\",\"1.0\",\"1.0\",\"5.0\",\"0.0\",\"2.0\"],\"textposition\":\"auto\",\"type\":\"bar\",\"x\":[\"Deccan Chargers\",\"Kochi Tuskers Kerala\",\"Rising Pune Supergiants\",\"Kolkata Knight Riders\",\"Mumbai Indians\",\"Royal Challengers Bangalore\",\"Rajasthan Royals\",\"Pune Warriors\",\"Sunrisers Hyderabad\",\"Kings XI Punjab\",\"Gujarat Lions\",\"Delhi Capitals\"],\"xaxis\":\"x\",\"y\":[1.0,0.0,0.0,0.0,10.0,4.0,2.0,1.0,1.0,5.0,0.0,2.0],\"yaxis\":\"y\"},{\"alignmentgroup\":\"True\",\"hovertemplate\":\"Opponent=Sunrisers Hyderabad<br>Team=%{x}<br>Wins=%{text}<extra></extra>\",\"legendgroup\":\"Sunrisers Hyderabad\",\"marker\":{\"color\":\"#FF97FF\",\"pattern\":{\"shape\":\"\"}},\"name\":\"Sunrisers Hyderabad\",\"offsetgroup\":\"Sunrisers Hyderabad\",\"orientation\":\"v\",\"showlegend\":true,\"text\":[\"0.0\",\"0.0\",\"1.0\",\"4.0\",\"3.0\",\"2.0\",\"0.0\",\"0.0\",\"3.0\",\"2.0\",\"0.0\",\"2.0\"],\"textposition\":\"auto\",\"type\":\"bar\",\"x\":[\"Deccan Chargers\",\"Kochi Tuskers Kerala\",\"Rising Pune Supergiants\",\"Kolkata Knight Riders\",\"Mumbai Indians\",\"Royal Challengers Bangalore\",\"Rajasthan Royals\",\"Pune Warriors\",\"Chennai Super Kings\",\"Kings XI Punjab\",\"Gujarat Lions\",\"Delhi Capitals\"],\"xaxis\":\"x\",\"y\":[0.0,0.0,1.0,4.0,3.0,2.0,0.0,0.0,3.0,2.0,0.0,2.0],\"yaxis\":\"y\"},{\"alignmentgroup\":\"True\",\"hovertemplate\":\"Opponent=Kings XI Punjab<br>Team=%{x}<br>Wins=%{text}<extra></extra>\",\"legendgroup\":\"Kings XI Punjab\",\"marker\":{\"color\":\"#FECB52\",\"pattern\":{\"shape\":\"\"}},\"name\":\"Kings XI Punjab\",\"offsetgroup\":\"Kings XI Punjab\",\"orientation\":\"v\",\"showlegend\":true,\"text\":[\"2.0\",\"0.0\",\"0.0\",\"5.0\",\"5.0\",\"6.0\",\"6.0\",\"1.0\",\"7.0\",\"7.0\",\"0.0\",\"2.0\"],\"textposition\":\"auto\",\"type\":\"bar\",\"x\":[\"Deccan Chargers\",\"Kochi Tuskers Kerala\",\"Rising Pune Supergiants\",\"Kolkata Knight Riders\",\"Mumbai Indians\",\"Royal Challengers Bangalore\",\"Rajasthan Royals\",\"Pune Warriors\",\"Chennai Super Kings\",\"Sunrisers Hyderabad\",\"Gujarat Lions\",\"Delhi Capitals\"],\"xaxis\":\"x\",\"y\":[2.0,0.0,0.0,5.0,5.0,6.0,6.0,1.0,7.0,7.0,0.0,2.0],\"yaxis\":\"y\"},{\"alignmentgroup\":\"True\",\"hovertemplate\":\"Opponent=Gujarat Lions<br>Team=%{x}<br>Wins=%{text}<extra></extra>\",\"legendgroup\":\"Gujarat Lions\",\"marker\":{\"color\":\"#636efa\",\"pattern\":{\"shape\":\"\"}},\"name\":\"Gujarat Lions\",\"offsetgroup\":\"Gujarat Lions\",\"orientation\":\"v\",\"showlegend\":true,\"text\":[\"0.0\",\"0.0\",\"0.0\",\"0.0\",\"0.0\",\"2.0\",\"0.0\",\"0.0\",\"0.0\",\"0.0\",\"2.0\",\"0.0\"],\"textposition\":\"auto\",\"type\":\"bar\",\"x\":[\"Deccan Chargers\",\"Kochi Tuskers Kerala\",\"Rising Pune Supergiants\",\"Kolkata Knight Riders\",\"Mumbai Indians\",\"Royal Challengers Bangalore\",\"Rajasthan Royals\",\"Pune Warriors\",\"Chennai Super Kings\",\"Sunrisers Hyderabad\",\"Kings XI Punjab\",\"Delhi Capitals\"],\"xaxis\":\"x\",\"y\":[0.0,0.0,0.0,0.0,0.0,2.0,0.0,0.0,0.0,0.0,2.0,0.0],\"yaxis\":\"y\"},{\"alignmentgroup\":\"True\",\"hovertemplate\":\"Opponent=Delhi Capitals<br>Team=%{x}<br>Wins=%{text}<extra></extra>\",\"legendgroup\":\"Delhi Capitals\",\"marker\":{\"color\":\"#EF553B\",\"pattern\":{\"shape\":\"\"}},\"name\":\"Delhi Capitals\",\"offsetgroup\":\"Delhi Capitals\",\"orientation\":\"v\",\"showlegend\":true,\"text\":[\"3.0\",\"0.0\",\"0.0\",\"6.0\",\"10.0\",\"6.0\",\"5.0\",\"2.0\",\"9.0\",\"3.0\",\"5.0\",\"1.0\"],\"textposition\":\"auto\",\"type\":\"bar\",\"x\":[\"Deccan Chargers\",\"Kochi Tuskers Kerala\",\"Rising Pune Supergiants\",\"Kolkata Knight Riders\",\"Mumbai Indians\",\"Royal Challengers Bangalore\",\"Rajasthan Royals\",\"Pune Warriors\",\"Chennai Super Kings\",\"Sunrisers Hyderabad\",\"Kings XI Punjab\",\"Gujarat Lions\"],\"xaxis\":\"x\",\"y\":[3.0,0.0,0.0,6.0,10.0,6.0,5.0,2.0,9.0,3.0,5.0,1.0],\"yaxis\":\"y\"},{\"alignmentgroup\":\"True\",\"hovertemplate\":\"Opponent=Deccan Chargers<br>Team=%{x}<br>Wins=%{text}<extra></extra>\",\"legendgroup\":\"Deccan Chargers\",\"marker\":{\"color\":\"#00cc96\",\"pattern\":{\"shape\":\"\"}},\"name\":\"Deccan Chargers\",\"offsetgroup\":\"Deccan Chargers\",\"orientation\":\"v\",\"showlegend\":true,\"text\":[\"0.0\",\"0.0\",\"5.0\",\"4.0\",\"2.0\",\"1.0\",\"0.0\",\"5.0\",\"0.0\",\"2.0\",\"0.0\",\"2.0\"],\"textposition\":\"auto\",\"type\":\"bar\",\"x\":[\"Kochi Tuskers Kerala\",\"Rising Pune Supergiants\",\"Kolkata Knight Riders\",\"Mumbai Indians\",\"Royal Challengers Bangalore\",\"Rajasthan Royals\",\"Pune Warriors\",\"Chennai Super Kings\",\"Sunrisers Hyderabad\",\"Kings XI Punjab\",\"Gujarat Lions\",\"Delhi Capitals\"],\"xaxis\":\"x\",\"y\":[0.0,0.0,5.0,4.0,2.0,1.0,0.0,5.0,0.0,2.0,0.0,2.0],\"yaxis\":\"y\"}],                        {\"barmode\":\"relative\",\"height\":800,\"legend\":{\"title\":{\"text\":\"Opponent\"},\"tracegroupgap\":0},\"template\":{\"data\":{\"bar\":[{\"error_x\":{\"color\":\"#2a3f5f\"},\"error_y\":{\"color\":\"#2a3f5f\"},\"marker\":{\"line\":{\"color\":\"#E5ECF6\",\"width\":0.5},\"pattern\":{\"fillmode\":\"overlay\",\"size\":10,\"solidity\":0.2}},\"type\":\"bar\"}],\"barpolar\":[{\"marker\":{\"line\":{\"color\":\"#E5ECF6\",\"width\":0.5},\"pattern\":{\"fillmode\":\"overlay\",\"size\":10,\"solidity\":0.2}},\"type\":\"barpolar\"}],\"carpet\":[{\"aaxis\":{\"endlinecolor\":\"#2a3f5f\",\"gridcolor\":\"white\",\"linecolor\":\"white\",\"minorgridcolor\":\"white\",\"startlinecolor\":\"#2a3f5f\"},\"baxis\":{\"endlinecolor\":\"#2a3f5f\",\"gridcolor\":\"white\",\"linecolor\":\"white\",\"minorgridcolor\":\"white\",\"startlinecolor\":\"#2a3f5f\"},\"type\":\"carpet\"}],\"choropleth\":[{\"colorbar\":{\"outlinewidth\":0,\"ticks\":\"\"},\"type\":\"choropleth\"}],\"contour\":[{\"colorbar\":{\"outlinewidth\":0,\"ticks\":\"\"},\"colorscale\":[[0.0,\"#0d0887\"],[0.1111111111111111,\"#46039f\"],[0.2222222222222222,\"#7201a8\"],[0.3333333333333333,\"#9c179e\"],[0.4444444444444444,\"#bd3786\"],[0.5555555555555556,\"#d8576b\"],[0.6666666666666666,\"#ed7953\"],[0.7777777777777778,\"#fb9f3a\"],[0.8888888888888888,\"#fdca26\"],[1.0,\"#f0f921\"]],\"type\":\"contour\"}],\"contourcarpet\":[{\"colorbar\":{\"outlinewidth\":0,\"ticks\":\"\"},\"type\":\"contourcarpet\"}],\"heatmap\":[{\"colorbar\":{\"outlinewidth\":0,\"ticks\":\"\"},\"colorscale\":[[0.0,\"#0d0887\"],[0.1111111111111111,\"#46039f\"],[0.2222222222222222,\"#7201a8\"],[0.3333333333333333,\"#9c179e\"],[0.4444444444444444,\"#bd3786\"],[0.5555555555555556,\"#d8576b\"],[0.6666666666666666,\"#ed7953\"],[0.7777777777777778,\"#fb9f3a\"],[0.8888888888888888,\"#fdca26\"],[1.0,\"#f0f921\"]],\"type\":\"heatmap\"}],\"heatmapgl\":[{\"colorbar\":{\"outlinewidth\":0,\"ticks\":\"\"},\"colorscale\":[[0.0,\"#0d0887\"],[0.1111111111111111,\"#46039f\"],[0.2222222222222222,\"#7201a8\"],[0.3333333333333333,\"#9c179e\"],[0.4444444444444444,\"#bd3786\"],[0.5555555555555556,\"#d8576b\"],[0.6666666666666666,\"#ed7953\"],[0.7777777777777778,\"#fb9f3a\"],[0.8888888888888888,\"#fdca26\"],[1.0,\"#f0f921\"]],\"type\":\"heatmapgl\"}],\"histogram\":[{\"marker\":{\"pattern\":{\"fillmode\":\"overlay\",\"size\":10,\"solidity\":0.2}},\"type\":\"histogram\"}],\"histogram2d\":[{\"colorbar\":{\"outlinewidth\":0,\"ticks\":\"\"},\"colorscale\":[[0.0,\"#0d0887\"],[0.1111111111111111,\"#46039f\"],[0.2222222222222222,\"#7201a8\"],[0.3333333333333333,\"#9c179e\"],[0.4444444444444444,\"#bd3786\"],[0.5555555555555556,\"#d8576b\"],[0.6666666666666666,\"#ed7953\"],[0.7777777777777778,\"#fb9f3a\"],[0.8888888888888888,\"#fdca26\"],[1.0,\"#f0f921\"]],\"type\":\"histogram2d\"}],\"histogram2dcontour\":[{\"colorbar\":{\"outlinewidth\":0,\"ticks\":\"\"},\"colorscale\":[[0.0,\"#0d0887\"],[0.1111111111111111,\"#46039f\"],[0.2222222222222222,\"#7201a8\"],[0.3333333333333333,\"#9c179e\"],[0.4444444444444444,\"#bd3786\"],[0.5555555555555556,\"#d8576b\"],[0.6666666666666666,\"#ed7953\"],[0.7777777777777778,\"#fb9f3a\"],[0.8888888888888888,\"#fdca26\"],[1.0,\"#f0f921\"]],\"type\":\"histogram2dcontour\"}],\"mesh3d\":[{\"colorbar\":{\"outlinewidth\":0,\"ticks\":\"\"},\"type\":\"mesh3d\"}],\"parcoords\":[{\"line\":{\"colorbar\":{\"outlinewidth\":0,\"ticks\":\"\"}},\"type\":\"parcoords\"}],\"pie\":[{\"automargin\":true,\"type\":\"pie\"}],\"scatter\":[{\"marker\":{\"colorbar\":{\"outlinewidth\":0,\"ticks\":\"\"}},\"type\":\"scatter\"}],\"scatter3d\":[{\"line\":{\"colorbar\":{\"outlinewidth\":0,\"ticks\":\"\"}},\"marker\":{\"colorbar\":{\"outlinewidth\":0,\"ticks\":\"\"}},\"type\":\"scatter3d\"}],\"scattercarpet\":[{\"marker\":{\"colorbar\":{\"outlinewidth\":0,\"ticks\":\"\"}},\"type\":\"scattercarpet\"}],\"scattergeo\":[{\"marker\":{\"colorbar\":{\"outlinewidth\":0,\"ticks\":\"\"}},\"type\":\"scattergeo\"}],\"scattergl\":[{\"marker\":{\"colorbar\":{\"outlinewidth\":0,\"ticks\":\"\"}},\"type\":\"scattergl\"}],\"scattermapbox\":[{\"marker\":{\"colorbar\":{\"outlinewidth\":0,\"ticks\":\"\"}},\"type\":\"scattermapbox\"}],\"scatterpolar\":[{\"marker\":{\"colorbar\":{\"outlinewidth\":0,\"ticks\":\"\"}},\"type\":\"scatterpolar\"}],\"scatterpolargl\":[{\"marker\":{\"colorbar\":{\"outlinewidth\":0,\"ticks\":\"\"}},\"type\":\"scatterpolargl\"}],\"scatterternary\":[{\"marker\":{\"colorbar\":{\"outlinewidth\":0,\"ticks\":\"\"}},\"type\":\"scatterternary\"}],\"surface\":[{\"colorbar\":{\"outlinewidth\":0,\"ticks\":\"\"},\"colorscale\":[[0.0,\"#0d0887\"],[0.1111111111111111,\"#46039f\"],[0.2222222222222222,\"#7201a8\"],[0.3333333333333333,\"#9c179e\"],[0.4444444444444444,\"#bd3786\"],[0.5555555555555556,\"#d8576b\"],[0.6666666666666666,\"#ed7953\"],[0.7777777777777778,\"#fb9f3a\"],[0.8888888888888888,\"#fdca26\"],[1.0,\"#f0f921\"]],\"type\":\"surface\"}],\"table\":[{\"cells\":{\"fill\":{\"color\":\"#EBF0F8\"},\"line\":{\"color\":\"white\"}},\"header\":{\"fill\":{\"color\":\"#C8D4E3\"},\"line\":{\"color\":\"white\"}},\"type\":\"table\"}]},\"layout\":{\"annotationdefaults\":{\"arrowcolor\":\"#2a3f5f\",\"arrowhead\":0,\"arrowwidth\":1},\"autotypenumbers\":\"strict\",\"coloraxis\":{\"colorbar\":{\"outlinewidth\":0,\"ticks\":\"\"}},\"colorscale\":{\"diverging\":[[0,\"#8e0152\"],[0.1,\"#c51b7d\"],[0.2,\"#de77ae\"],[0.3,\"#f1b6da\"],[0.4,\"#fde0ef\"],[0.5,\"#f7f7f7\"],[0.6,\"#e6f5d0\"],[0.7,\"#b8e186\"],[0.8,\"#7fbc41\"],[0.9,\"#4d9221\"],[1,\"#276419\"]],\"sequential\":[[0.0,\"#0d0887\"],[0.1111111111111111,\"#46039f\"],[0.2222222222222222,\"#7201a8\"],[0.3333333333333333,\"#9c179e\"],[0.4444444444444444,\"#bd3786\"],[0.5555555555555556,\"#d8576b\"],[0.6666666666666666,\"#ed7953\"],[0.7777777777777778,\"#fb9f3a\"],[0.8888888888888888,\"#fdca26\"],[1.0,\"#f0f921\"]],\"sequentialminus\":[[0.0,\"#0d0887\"],[0.1111111111111111,\"#46039f\"],[0.2222222222222222,\"#7201a8\"],[0.3333333333333333,\"#9c179e\"],[0.4444444444444444,\"#bd3786\"],[0.5555555555555556,\"#d8576b\"],[0.6666666666666666,\"#ed7953\"],[0.7777777777777778,\"#fb9f3a\"],[0.8888888888888888,\"#fdca26\"],[1.0,\"#f0f921\"]]},\"colorway\":[\"#636efa\",\"#EF553B\",\"#00cc96\",\"#ab63fa\",\"#FFA15A\",\"#19d3f3\",\"#FF6692\",\"#B6E880\",\"#FF97FF\",\"#FECB52\"],\"font\":{\"color\":\"#2a3f5f\"},\"geo\":{\"bgcolor\":\"white\",\"lakecolor\":\"white\",\"landcolor\":\"#E5ECF6\",\"showlakes\":true,\"showland\":true,\"subunitcolor\":\"white\"},\"hoverlabel\":{\"align\":\"left\"},\"hovermode\":\"closest\",\"mapbox\":{\"style\":\"light\"},\"paper_bgcolor\":\"white\",\"plot_bgcolor\":\"#E5ECF6\",\"polar\":{\"angularaxis\":{\"gridcolor\":\"white\",\"linecolor\":\"white\",\"ticks\":\"\"},\"bgcolor\":\"#E5ECF6\",\"radialaxis\":{\"gridcolor\":\"white\",\"linecolor\":\"white\",\"ticks\":\"\"}},\"scene\":{\"xaxis\":{\"backgroundcolor\":\"#E5ECF6\",\"gridcolor\":\"white\",\"gridwidth\":2,\"linecolor\":\"white\",\"showbackground\":true,\"ticks\":\"\",\"zerolinecolor\":\"white\"},\"yaxis\":{\"backgroundcolor\":\"#E5ECF6\",\"gridcolor\":\"white\",\"gridwidth\":2,\"linecolor\":\"white\",\"showbackground\":true,\"ticks\":\"\",\"zerolinecolor\":\"white\"},\"zaxis\":{\"backgroundcolor\":\"#E5ECF6\",\"gridcolor\":\"white\",\"gridwidth\":2,\"linecolor\":\"white\",\"showbackground\":true,\"ticks\":\"\",\"zerolinecolor\":\"white\"}},\"shapedefaults\":{\"line\":{\"color\":\"#2a3f5f\"}},\"ternary\":{\"aaxis\":{\"gridcolor\":\"white\",\"linecolor\":\"white\",\"ticks\":\"\"},\"baxis\":{\"gridcolor\":\"white\",\"linecolor\":\"white\",\"ticks\":\"\"},\"bgcolor\":\"#E5ECF6\",\"caxis\":{\"gridcolor\":\"white\",\"linecolor\":\"white\",\"ticks\":\"\"}},\"title\":{\"x\":0.05},\"xaxis\":{\"automargin\":true,\"gridcolor\":\"white\",\"linecolor\":\"white\",\"ticks\":\"\",\"title\":{\"standoff\":15},\"zerolinecolor\":\"white\",\"zerolinewidth\":2},\"yaxis\":{\"automargin\":true,\"gridcolor\":\"white\",\"linecolor\":\"white\",\"ticks\":\"\",\"title\":{\"standoff\":15},\"zerolinecolor\":\"white\",\"zerolinewidth\":2}}},\"title\":{\"text\":\"Stacked head-to-head wins at home\"},\"uniformtext\":{\"minsize\":8},\"width\":1000,\"xaxis\":{\"anchor\":\"y\",\"domain\":[0.0,1.0],\"title\":{\"text\":\"Team\"}},\"yaxis\":{\"anchor\":\"x\",\"domain\":[0.0,1.0],\"title\":{\"text\":\"Wins\"}}},                        {\"responsive\": true}                    ).then(function(){\n",
       "                            \n",
       "var gd = document.getElementById('30fbea2f-9c82-4763-9b0f-c6d754ec97c7');\n",
       "var x = new MutationObserver(function (mutations, observer) {{\n",
       "        var display = window.getComputedStyle(gd).display;\n",
       "        if (!display || display === 'none') {{\n",
       "            console.log([gd, 'removed!']);\n",
       "            Plotly.purge(gd);\n",
       "            observer.disconnect();\n",
       "        }}\n",
       "}});\n",
       "\n",
       "// Listen for the removal of the full notebook cells\n",
       "var notebookContainer = gd.closest('#notebook-container');\n",
       "if (notebookContainer) {{\n",
       "    x.observe(notebookContainer, {childList: true});\n",
       "}}\n",
       "\n",
       "// Listen for the clearing of the current output cell\n",
       "var outputEl = gd.closest('.output');\n",
       "if (outputEl) {{\n",
       "    x.observe(outputEl, {childList: true});\n",
       "}}\n",
       "\n",
       "                        })                };                });            </script>        </div>"
      ]
     },
     "metadata": {},
     "output_type": "display_data"
    }
   ],
   "source": [
    "fig1a = px.bar(h2h_data, x = \"team1\", y=\"wins for team 1\", text=\"wins for team 1\", color=\"team2\", labels={\n",
    "    \"team1\": \"Team\",\n",
    "    \"wins for team 1\": \"Wins\",\n",
    "    \"team2\": \"Opponent\",\n",
    "\n",
    "}, title=\"Stacked head-to-head wins at home\", width=1000, height=800)\n",
    "fig1a.update_layout(uniformtext_minsize=8)\n",
    "fig1a.show()"
   ]
  },
  {
   "cell_type": "code",
   "execution_count": 49,
   "metadata": {
    "ExecuteTime": {
     "end_time": "2021-08-10T05:18:49.731469Z",
     "start_time": "2021-08-10T05:18:49.615062Z"
    }
   },
   "outputs": [
    {
     "data": {
      "application/vnd.plotly.v1+json": {
       "config": {
        "plotlyServerURL": "https://plot.ly"
       },
       "data": [
        {
         "alignmentgroup": "True",
         "hovertemplate": "Opponent=Kochi Tuskers Kerala<br>Team=%{x}<br>Losses=%{text}<extra></extra>",
         "legendgroup": "Kochi Tuskers Kerala",
         "marker": {
          "color": "#636efa",
          "pattern": {
           "shape": ""
          }
         },
         "name": "Kochi Tuskers Kerala",
         "offsetgroup": "Kochi Tuskers Kerala",
         "orientation": "v",
         "showlegend": true,
         "text": [
          "0.0",
          "0.0",
          "0.0",
          "1.0",
          "0.0",
          "1.0",
          "0.0",
          "1.0",
          "0.0",
          "0.0",
          "0.0",
          "1.0"
         ],
         "textposition": "auto",
         "type": "bar",
         "x": [
          "Deccan Chargers",
          "Rising Pune Supergiants",
          "Kolkata Knight Riders",
          "Mumbai Indians",
          "Royal Challengers Bangalore",
          "Rajasthan Royals",
          "Pune Warriors",
          "Chennai Super Kings",
          "Sunrisers Hyderabad",
          "Kings XI Punjab",
          "Gujarat Lions",
          "Delhi Capitals"
         ],
         "xaxis": "x",
         "y": [
          0,
          0,
          0,
          1,
          0,
          1,
          0,
          1,
          0,
          0,
          0,
          1
         ],
         "yaxis": "y"
        },
        {
         "alignmentgroup": "True",
         "hovertemplate": "Opponent=Rising Pune Supergiants<br>Team=%{x}<br>Losses=%{text}<extra></extra>",
         "legendgroup": "Rising Pune Supergiants",
         "marker": {
          "color": "#EF553B",
          "pattern": {
           "shape": ""
          }
         },
         "name": "Rising Pune Supergiants",
         "offsetgroup": "Rising Pune Supergiants",
         "orientation": "v",
         "showlegend": true,
         "text": [
          "0.0",
          "0.0",
          "1.0",
          "2.0",
          "0.0",
          "0.0",
          "0.0",
          "0.0",
          "2.0",
          "2.0",
          "1.0",
          "2.0"
         ],
         "textposition": "auto",
         "type": "bar",
         "x": [
          "Deccan Chargers",
          "Kochi Tuskers Kerala",
          "Kolkata Knight Riders",
          "Mumbai Indians",
          "Royal Challengers Bangalore",
          "Rajasthan Royals",
          "Pune Warriors",
          "Chennai Super Kings",
          "Sunrisers Hyderabad",
          "Kings XI Punjab",
          "Gujarat Lions",
          "Delhi Capitals"
         ],
         "xaxis": "x",
         "y": [
          0,
          0,
          1,
          2,
          0,
          0,
          0,
          0,
          2,
          2,
          1,
          2
         ],
         "yaxis": "y"
        },
        {
         "alignmentgroup": "True",
         "hovertemplate": "Opponent=Kolkata Knight Riders<br>Team=%{x}<br>Losses=%{text}<extra></extra>",
         "legendgroup": "Kolkata Knight Riders",
         "marker": {
          "color": "#00cc96",
          "pattern": {
           "shape": ""
          }
         },
         "name": "Kolkata Knight Riders",
         "offsetgroup": "Kolkata Knight Riders",
         "orientation": "v",
         "showlegend": true,
         "text": [
          "2.0",
          "0.0",
          "3.0",
          "3.0",
          "7.0",
          "9.0",
          "1.0",
          "7.0",
          "6.0",
          "12.0",
          "1.0",
          "7.0"
         ],
         "textposition": "auto",
         "type": "bar",
         "x": [
          "Deccan Chargers",
          "Kochi Tuskers Kerala",
          "Rising Pune Supergiants",
          "Mumbai Indians",
          "Royal Challengers Bangalore",
          "Rajasthan Royals",
          "Pune Warriors",
          "Chennai Super Kings",
          "Sunrisers Hyderabad",
          "Kings XI Punjab",
          "Gujarat Lions",
          "Delhi Capitals"
         ],
         "xaxis": "x",
         "y": [
          2,
          0,
          3,
          3,
          7,
          9,
          1,
          7,
          6,
          12,
          1,
          7
         ],
         "yaxis": "y"
        },
        {
         "alignmentgroup": "True",
         "hovertemplate": "Opponent=Mumbai Indians<br>Team=%{x}<br>Losses=%{text}<extra></extra>",
         "legendgroup": "Mumbai Indians",
         "marker": {
          "color": "#ab63fa",
          "pattern": {
           "shape": ""
          }
         },
         "name": "Mumbai Indians",
         "offsetgroup": "Mumbai Indians",
         "orientation": "v",
         "showlegend": true,
         "text": [
          "2.0",
          "0.0",
          "1.0",
          "11.0",
          "8.0",
          "4.0",
          "2.0",
          "7.0",
          "4.0",
          "8.0",
          "2.0",
          "2.0"
         ],
         "textposition": "auto",
         "type": "bar",
         "x": [
          "Deccan Chargers",
          "Kochi Tuskers Kerala",
          "Rising Pune Supergiants",
          "Kolkata Knight Riders",
          "Royal Challengers Bangalore",
          "Rajasthan Royals",
          "Pune Warriors",
          "Chennai Super Kings",
          "Sunrisers Hyderabad",
          "Kings XI Punjab",
          "Gujarat Lions",
          "Delhi Capitals"
         ],
         "xaxis": "x",
         "y": [
          2,
          0,
          1,
          11,
          8,
          4,
          2,
          7,
          4,
          8,
          2,
          2
         ],
         "yaxis": "y"
        },
        {
         "alignmentgroup": "True",
         "hovertemplate": "Opponent=Royal Challengers Bangalore<br>Team=%{x}<br>Losses=%{text}<extra></extra>",
         "legendgroup": "Royal Challengers Bangalore",
         "marker": {
          "color": "#FFA15A",
          "pattern": {
           "shape": ""
          }
         },
         "name": "Royal Challengers Bangalore",
         "offsetgroup": "Royal Challengers Bangalore",
         "orientation": "v",
         "showlegend": true,
         "text": [
          "3.0",
          "2.0",
          "1.0",
          "9.0",
          "5.0",
          "5.0",
          "1.0",
          "4.0",
          "4.0",
          "6.0",
          "1.0",
          "8.0"
         ],
         "textposition": "auto",
         "type": "bar",
         "x": [
          "Deccan Chargers",
          "Kochi Tuskers Kerala",
          "Rising Pune Supergiants",
          "Kolkata Knight Riders",
          "Mumbai Indians",
          "Rajasthan Royals",
          "Pune Warriors",
          "Chennai Super Kings",
          "Sunrisers Hyderabad",
          "Kings XI Punjab",
          "Gujarat Lions",
          "Delhi Capitals"
         ],
         "xaxis": "x",
         "y": [
          3,
          2,
          1,
          9,
          5,
          5,
          1,
          4,
          4,
          6,
          1,
          8
         ],
         "yaxis": "y"
        },
        {
         "alignmentgroup": "True",
         "hovertemplate": "Opponent=Rajasthan Royals<br>Team=%{x}<br>Losses=%{text}<extra></extra>",
         "legendgroup": "Rajasthan Royals",
         "marker": {
          "color": "#19d3f3",
          "pattern": {
           "shape": ""
          }
         },
         "name": "Rajasthan Royals",
         "offsetgroup": "Rajasthan Royals",
         "orientation": "v",
         "showlegend": true,
         "text": [
          "6.0",
          "1.0",
          "0.0",
          "2.0",
          "8.0",
          "6.0",
          "3.0",
          "5.0",
          "5.0",
          "4.0",
          "0.0",
          "6.0"
         ],
         "textposition": "auto",
         "type": "bar",
         "x": [
          "Deccan Chargers",
          "Kochi Tuskers Kerala",
          "Rising Pune Supergiants",
          "Kolkata Knight Riders",
          "Mumbai Indians",
          "Royal Challengers Bangalore",
          "Pune Warriors",
          "Chennai Super Kings",
          "Sunrisers Hyderabad",
          "Kings XI Punjab",
          "Gujarat Lions",
          "Delhi Capitals"
         ],
         "xaxis": "x",
         "y": [
          6,
          1,
          0,
          2,
          8,
          6,
          3,
          5,
          5,
          4,
          0,
          6
         ],
         "yaxis": "y"
        },
        {
         "alignmentgroup": "True",
         "hovertemplate": "Opponent=Pune Warriors<br>Team=%{x}<br>Losses=%{text}<extra></extra>",
         "legendgroup": "Pune Warriors",
         "marker": {
          "color": "#FF6692",
          "pattern": {
           "shape": ""
          }
         },
         "name": "Pune Warriors",
         "offsetgroup": "Pune Warriors",
         "orientation": "v",
         "showlegend": true,
         "text": [
          "1.0",
          "1.0",
          "0.0",
          "0.0",
          "0.0",
          "0.0",
          "1.0",
          "1.0",
          "0.0",
          "2.0",
          "0.0",
          "0.0"
         ],
         "textposition": "auto",
         "type": "bar",
         "x": [
          "Deccan Chargers",
          "Kochi Tuskers Kerala",
          "Rising Pune Supergiants",
          "Kolkata Knight Riders",
          "Mumbai Indians",
          "Royal Challengers Bangalore",
          "Rajasthan Royals",
          "Chennai Super Kings",
          "Sunrisers Hyderabad",
          "Kings XI Punjab",
          "Gujarat Lions",
          "Delhi Capitals"
         ],
         "xaxis": "x",
         "y": [
          1,
          1,
          0,
          0,
          0,
          0,
          1,
          1,
          0,
          2,
          0,
          0
         ],
         "yaxis": "y"
        },
        {
         "alignmentgroup": "True",
         "hovertemplate": "Opponent=Chennai Super Kings<br>Team=%{x}<br>Losses=%{text}<extra></extra>",
         "legendgroup": "Chennai Super Kings",
         "marker": {
          "color": "#B6E880",
          "pattern": {
           "shape": ""
          }
         },
         "name": "Chennai Super Kings",
         "offsetgroup": "Chennai Super Kings",
         "orientation": "v",
         "showlegend": true,
         "text": [
          "1.0",
          "0.0",
          "0.0",
          "8.0",
          "6.0",
          "9.0",
          "7.0",
          "1.0",
          "6.0",
          "5.0",
          "0.0",
          "6.0"
         ],
         "textposition": "auto",
         "type": "bar",
         "x": [
          "Deccan Chargers",
          "Kochi Tuskers Kerala",
          "Rising Pune Supergiants",
          "Kolkata Knight Riders",
          "Mumbai Indians",
          "Royal Challengers Bangalore",
          "Rajasthan Royals",
          "Pune Warriors",
          "Sunrisers Hyderabad",
          "Kings XI Punjab",
          "Gujarat Lions",
          "Delhi Capitals"
         ],
         "xaxis": "x",
         "y": [
          1,
          0,
          0,
          8,
          6,
          9,
          7,
          1,
          6,
          5,
          0,
          6
         ],
         "yaxis": "y"
        },
        {
         "alignmentgroup": "True",
         "hovertemplate": "Opponent=Sunrisers Hyderabad<br>Team=%{x}<br>Losses=%{text}<extra></extra>",
         "legendgroup": "Sunrisers Hyderabad",
         "marker": {
          "color": "#FF97FF",
          "pattern": {
           "shape": ""
          }
         },
         "name": "Sunrisers Hyderabad",
         "offsetgroup": "Sunrisers Hyderabad",
         "orientation": "v",
         "showlegend": true,
         "text": [
          "0.0",
          "0.0",
          "0.0",
          "3.0",
          "4.0",
          "3.0",
          "2.0",
          "0.0",
          "2.0",
          "3.0",
          "5.0",
          "6.0"
         ],
         "textposition": "auto",
         "type": "bar",
         "x": [
          "Deccan Chargers",
          "Kochi Tuskers Kerala",
          "Rising Pune Supergiants",
          "Kolkata Knight Riders",
          "Mumbai Indians",
          "Royal Challengers Bangalore",
          "Rajasthan Royals",
          "Pune Warriors",
          "Chennai Super Kings",
          "Kings XI Punjab",
          "Gujarat Lions",
          "Delhi Capitals"
         ],
         "xaxis": "x",
         "y": [
          0,
          0,
          0,
          3,
          4,
          3,
          2,
          0,
          2,
          3,
          5,
          6
         ],
         "yaxis": "y"
        },
        {
         "alignmentgroup": "True",
         "hovertemplate": "Opponent=Kings XI Punjab<br>Team=%{x}<br>Losses=%{text}<extra></extra>",
         "legendgroup": "Kings XI Punjab",
         "marker": {
          "color": "#FECB52",
          "pattern": {
           "shape": ""
          }
         },
         "name": "Kings XI Punjab",
         "offsetgroup": "Kings XI Punjab",
         "orientation": "v",
         "showlegend": true,
         "text": [
          "5.0",
          "1.0",
          "2.0",
          "3.0",
          "4.0",
          "8.0",
          "3.0",
          "3.0",
          "4.0",
          "2.0",
          "0.0",
          "9.0"
         ],
         "textposition": "auto",
         "type": "bar",
         "x": [
          "Deccan Chargers",
          "Kochi Tuskers Kerala",
          "Rising Pune Supergiants",
          "Kolkata Knight Riders",
          "Mumbai Indians",
          "Royal Challengers Bangalore",
          "Rajasthan Royals",
          "Pune Warriors",
          "Chennai Super Kings",
          "Sunrisers Hyderabad",
          "Gujarat Lions",
          "Delhi Capitals"
         ],
         "xaxis": "x",
         "y": [
          5,
          1,
          2,
          3,
          4,
          8,
          3,
          3,
          4,
          2,
          0,
          9
         ],
         "yaxis": "y"
        },
        {
         "alignmentgroup": "True",
         "hovertemplate": "Opponent=Gujarat Lions<br>Team=%{x}<br>Losses=%{text}<extra></extra>",
         "legendgroup": "Gujarat Lions",
         "marker": {
          "color": "#636efa",
          "pattern": {
           "shape": ""
          }
         },
         "name": "Gujarat Lions",
         "offsetgroup": "Gujarat Lions",
         "orientation": "v",
         "showlegend": true,
         "text": [
          "0.0",
          "0.0",
          "3.0",
          "3.0",
          "2.0",
          "2.0",
          "0.0",
          "0.0",
          "0.0",
          "0.0",
          "2.0",
          "0.0"
         ],
         "textposition": "auto",
         "type": "bar",
         "x": [
          "Deccan Chargers",
          "Kochi Tuskers Kerala",
          "Rising Pune Supergiants",
          "Kolkata Knight Riders",
          "Mumbai Indians",
          "Royal Challengers Bangalore",
          "Rajasthan Royals",
          "Pune Warriors",
          "Chennai Super Kings",
          "Sunrisers Hyderabad",
          "Kings XI Punjab",
          "Delhi Capitals"
         ],
         "xaxis": "x",
         "y": [
          0,
          0,
          3,
          3,
          2,
          2,
          0,
          0,
          0,
          0,
          2,
          0
         ],
         "yaxis": "y"
        },
        {
         "alignmentgroup": "True",
         "hovertemplate": "Opponent=Delhi Capitals<br>Team=%{x}<br>Losses=%{text}<extra></extra>",
         "legendgroup": "Delhi Capitals",
         "marker": {
          "color": "#EF553B",
          "pattern": {
           "shape": ""
          }
         },
         "name": "Delhi Capitals",
         "offsetgroup": "Delhi Capitals",
         "orientation": "v",
         "showlegend": true,
         "text": [
          "5.0",
          "0.0",
          "0.0",
          "7.0",
          "7.0",
          "4.0",
          "5.0",
          "2.0",
          "4.0",
          "4.0",
          "8.0",
          "3.0"
         ],
         "textposition": "auto",
         "type": "bar",
         "x": [
          "Deccan Chargers",
          "Kochi Tuskers Kerala",
          "Rising Pune Supergiants",
          "Kolkata Knight Riders",
          "Mumbai Indians",
          "Royal Challengers Bangalore",
          "Rajasthan Royals",
          "Pune Warriors",
          "Chennai Super Kings",
          "Sunrisers Hyderabad",
          "Kings XI Punjab",
          "Gujarat Lions"
         ],
         "xaxis": "x",
         "y": [
          5,
          0,
          0,
          7,
          7,
          4,
          5,
          2,
          4,
          4,
          8,
          3
         ],
         "yaxis": "y"
        },
        {
         "alignmentgroup": "True",
         "hovertemplate": "Opponent=Deccan Chargers<br>Team=%{x}<br>Losses=%{text}<extra></extra>",
         "legendgroup": "Deccan Chargers",
         "marker": {
          "color": "#00cc96",
          "pattern": {
           "shape": ""
          }
         },
         "name": "Deccan Chargers",
         "offsetgroup": "Deccan Chargers",
         "orientation": "v",
         "showlegend": true,
         "text": [
          "0.0",
          "0.0",
          "2.0",
          "1.0",
          "1.0",
          "1.0",
          "1.0",
          "3.0",
          "0.0",
          "1.0",
          "0.0",
          "1.0"
         ],
         "textposition": "auto",
         "type": "bar",
         "x": [
          "Kochi Tuskers Kerala",
          "Rising Pune Supergiants",
          "Kolkata Knight Riders",
          "Mumbai Indians",
          "Royal Challengers Bangalore",
          "Rajasthan Royals",
          "Pune Warriors",
          "Chennai Super Kings",
          "Sunrisers Hyderabad",
          "Kings XI Punjab",
          "Gujarat Lions",
          "Delhi Capitals"
         ],
         "xaxis": "x",
         "y": [
          0,
          0,
          2,
          1,
          1,
          1,
          1,
          3,
          0,
          1,
          0,
          1
         ],
         "yaxis": "y"
        }
       ],
       "layout": {
        "barmode": "relative",
        "height": 800,
        "legend": {
         "title": {
          "text": "Opponent"
         },
         "tracegroupgap": 0
        },
        "template": {
         "data": {
          "bar": [
           {
            "error_x": {
             "color": "#2a3f5f"
            },
            "error_y": {
             "color": "#2a3f5f"
            },
            "marker": {
             "line": {
              "color": "#E5ECF6",
              "width": 0.5
             },
             "pattern": {
              "fillmode": "overlay",
              "size": 10,
              "solidity": 0.2
             }
            },
            "type": "bar"
           }
          ],
          "barpolar": [
           {
            "marker": {
             "line": {
              "color": "#E5ECF6",
              "width": 0.5
             },
             "pattern": {
              "fillmode": "overlay",
              "size": 10,
              "solidity": 0.2
             }
            },
            "type": "barpolar"
           }
          ],
          "carpet": [
           {
            "aaxis": {
             "endlinecolor": "#2a3f5f",
             "gridcolor": "white",
             "linecolor": "white",
             "minorgridcolor": "white",
             "startlinecolor": "#2a3f5f"
            },
            "baxis": {
             "endlinecolor": "#2a3f5f",
             "gridcolor": "white",
             "linecolor": "white",
             "minorgridcolor": "white",
             "startlinecolor": "#2a3f5f"
            },
            "type": "carpet"
           }
          ],
          "choropleth": [
           {
            "colorbar": {
             "outlinewidth": 0,
             "ticks": ""
            },
            "type": "choropleth"
           }
          ],
          "contour": [
           {
            "colorbar": {
             "outlinewidth": 0,
             "ticks": ""
            },
            "colorscale": [
             [
              0,
              "#0d0887"
             ],
             [
              0.1111111111111111,
              "#46039f"
             ],
             [
              0.2222222222222222,
              "#7201a8"
             ],
             [
              0.3333333333333333,
              "#9c179e"
             ],
             [
              0.4444444444444444,
              "#bd3786"
             ],
             [
              0.5555555555555556,
              "#d8576b"
             ],
             [
              0.6666666666666666,
              "#ed7953"
             ],
             [
              0.7777777777777778,
              "#fb9f3a"
             ],
             [
              0.8888888888888888,
              "#fdca26"
             ],
             [
              1,
              "#f0f921"
             ]
            ],
            "type": "contour"
           }
          ],
          "contourcarpet": [
           {
            "colorbar": {
             "outlinewidth": 0,
             "ticks": ""
            },
            "type": "contourcarpet"
           }
          ],
          "heatmap": [
           {
            "colorbar": {
             "outlinewidth": 0,
             "ticks": ""
            },
            "colorscale": [
             [
              0,
              "#0d0887"
             ],
             [
              0.1111111111111111,
              "#46039f"
             ],
             [
              0.2222222222222222,
              "#7201a8"
             ],
             [
              0.3333333333333333,
              "#9c179e"
             ],
             [
              0.4444444444444444,
              "#bd3786"
             ],
             [
              0.5555555555555556,
              "#d8576b"
             ],
             [
              0.6666666666666666,
              "#ed7953"
             ],
             [
              0.7777777777777778,
              "#fb9f3a"
             ],
             [
              0.8888888888888888,
              "#fdca26"
             ],
             [
              1,
              "#f0f921"
             ]
            ],
            "type": "heatmap"
           }
          ],
          "heatmapgl": [
           {
            "colorbar": {
             "outlinewidth": 0,
             "ticks": ""
            },
            "colorscale": [
             [
              0,
              "#0d0887"
             ],
             [
              0.1111111111111111,
              "#46039f"
             ],
             [
              0.2222222222222222,
              "#7201a8"
             ],
             [
              0.3333333333333333,
              "#9c179e"
             ],
             [
              0.4444444444444444,
              "#bd3786"
             ],
             [
              0.5555555555555556,
              "#d8576b"
             ],
             [
              0.6666666666666666,
              "#ed7953"
             ],
             [
              0.7777777777777778,
              "#fb9f3a"
             ],
             [
              0.8888888888888888,
              "#fdca26"
             ],
             [
              1,
              "#f0f921"
             ]
            ],
            "type": "heatmapgl"
           }
          ],
          "histogram": [
           {
            "marker": {
             "pattern": {
              "fillmode": "overlay",
              "size": 10,
              "solidity": 0.2
             }
            },
            "type": "histogram"
           }
          ],
          "histogram2d": [
           {
            "colorbar": {
             "outlinewidth": 0,
             "ticks": ""
            },
            "colorscale": [
             [
              0,
              "#0d0887"
             ],
             [
              0.1111111111111111,
              "#46039f"
             ],
             [
              0.2222222222222222,
              "#7201a8"
             ],
             [
              0.3333333333333333,
              "#9c179e"
             ],
             [
              0.4444444444444444,
              "#bd3786"
             ],
             [
              0.5555555555555556,
              "#d8576b"
             ],
             [
              0.6666666666666666,
              "#ed7953"
             ],
             [
              0.7777777777777778,
              "#fb9f3a"
             ],
             [
              0.8888888888888888,
              "#fdca26"
             ],
             [
              1,
              "#f0f921"
             ]
            ],
            "type": "histogram2d"
           }
          ],
          "histogram2dcontour": [
           {
            "colorbar": {
             "outlinewidth": 0,
             "ticks": ""
            },
            "colorscale": [
             [
              0,
              "#0d0887"
             ],
             [
              0.1111111111111111,
              "#46039f"
             ],
             [
              0.2222222222222222,
              "#7201a8"
             ],
             [
              0.3333333333333333,
              "#9c179e"
             ],
             [
              0.4444444444444444,
              "#bd3786"
             ],
             [
              0.5555555555555556,
              "#d8576b"
             ],
             [
              0.6666666666666666,
              "#ed7953"
             ],
             [
              0.7777777777777778,
              "#fb9f3a"
             ],
             [
              0.8888888888888888,
              "#fdca26"
             ],
             [
              1,
              "#f0f921"
             ]
            ],
            "type": "histogram2dcontour"
           }
          ],
          "mesh3d": [
           {
            "colorbar": {
             "outlinewidth": 0,
             "ticks": ""
            },
            "type": "mesh3d"
           }
          ],
          "parcoords": [
           {
            "line": {
             "colorbar": {
              "outlinewidth": 0,
              "ticks": ""
             }
            },
            "type": "parcoords"
           }
          ],
          "pie": [
           {
            "automargin": true,
            "type": "pie"
           }
          ],
          "scatter": [
           {
            "marker": {
             "colorbar": {
              "outlinewidth": 0,
              "ticks": ""
             }
            },
            "type": "scatter"
           }
          ],
          "scatter3d": [
           {
            "line": {
             "colorbar": {
              "outlinewidth": 0,
              "ticks": ""
             }
            },
            "marker": {
             "colorbar": {
              "outlinewidth": 0,
              "ticks": ""
             }
            },
            "type": "scatter3d"
           }
          ],
          "scattercarpet": [
           {
            "marker": {
             "colorbar": {
              "outlinewidth": 0,
              "ticks": ""
             }
            },
            "type": "scattercarpet"
           }
          ],
          "scattergeo": [
           {
            "marker": {
             "colorbar": {
              "outlinewidth": 0,
              "ticks": ""
             }
            },
            "type": "scattergeo"
           }
          ],
          "scattergl": [
           {
            "marker": {
             "colorbar": {
              "outlinewidth": 0,
              "ticks": ""
             }
            },
            "type": "scattergl"
           }
          ],
          "scattermapbox": [
           {
            "marker": {
             "colorbar": {
              "outlinewidth": 0,
              "ticks": ""
             }
            },
            "type": "scattermapbox"
           }
          ],
          "scatterpolar": [
           {
            "marker": {
             "colorbar": {
              "outlinewidth": 0,
              "ticks": ""
             }
            },
            "type": "scatterpolar"
           }
          ],
          "scatterpolargl": [
           {
            "marker": {
             "colorbar": {
              "outlinewidth": 0,
              "ticks": ""
             }
            },
            "type": "scatterpolargl"
           }
          ],
          "scatterternary": [
           {
            "marker": {
             "colorbar": {
              "outlinewidth": 0,
              "ticks": ""
             }
            },
            "type": "scatterternary"
           }
          ],
          "surface": [
           {
            "colorbar": {
             "outlinewidth": 0,
             "ticks": ""
            },
            "colorscale": [
             [
              0,
              "#0d0887"
             ],
             [
              0.1111111111111111,
              "#46039f"
             ],
             [
              0.2222222222222222,
              "#7201a8"
             ],
             [
              0.3333333333333333,
              "#9c179e"
             ],
             [
              0.4444444444444444,
              "#bd3786"
             ],
             [
              0.5555555555555556,
              "#d8576b"
             ],
             [
              0.6666666666666666,
              "#ed7953"
             ],
             [
              0.7777777777777778,
              "#fb9f3a"
             ],
             [
              0.8888888888888888,
              "#fdca26"
             ],
             [
              1,
              "#f0f921"
             ]
            ],
            "type": "surface"
           }
          ],
          "table": [
           {
            "cells": {
             "fill": {
              "color": "#EBF0F8"
             },
             "line": {
              "color": "white"
             }
            },
            "header": {
             "fill": {
              "color": "#C8D4E3"
             },
             "line": {
              "color": "white"
             }
            },
            "type": "table"
           }
          ]
         },
         "layout": {
          "annotationdefaults": {
           "arrowcolor": "#2a3f5f",
           "arrowhead": 0,
           "arrowwidth": 1
          },
          "autotypenumbers": "strict",
          "coloraxis": {
           "colorbar": {
            "outlinewidth": 0,
            "ticks": ""
           }
          },
          "colorscale": {
           "diverging": [
            [
             0,
             "#8e0152"
            ],
            [
             0.1,
             "#c51b7d"
            ],
            [
             0.2,
             "#de77ae"
            ],
            [
             0.3,
             "#f1b6da"
            ],
            [
             0.4,
             "#fde0ef"
            ],
            [
             0.5,
             "#f7f7f7"
            ],
            [
             0.6,
             "#e6f5d0"
            ],
            [
             0.7,
             "#b8e186"
            ],
            [
             0.8,
             "#7fbc41"
            ],
            [
             0.9,
             "#4d9221"
            ],
            [
             1,
             "#276419"
            ]
           ],
           "sequential": [
            [
             0,
             "#0d0887"
            ],
            [
             0.1111111111111111,
             "#46039f"
            ],
            [
             0.2222222222222222,
             "#7201a8"
            ],
            [
             0.3333333333333333,
             "#9c179e"
            ],
            [
             0.4444444444444444,
             "#bd3786"
            ],
            [
             0.5555555555555556,
             "#d8576b"
            ],
            [
             0.6666666666666666,
             "#ed7953"
            ],
            [
             0.7777777777777778,
             "#fb9f3a"
            ],
            [
             0.8888888888888888,
             "#fdca26"
            ],
            [
             1,
             "#f0f921"
            ]
           ],
           "sequentialminus": [
            [
             0,
             "#0d0887"
            ],
            [
             0.1111111111111111,
             "#46039f"
            ],
            [
             0.2222222222222222,
             "#7201a8"
            ],
            [
             0.3333333333333333,
             "#9c179e"
            ],
            [
             0.4444444444444444,
             "#bd3786"
            ],
            [
             0.5555555555555556,
             "#d8576b"
            ],
            [
             0.6666666666666666,
             "#ed7953"
            ],
            [
             0.7777777777777778,
             "#fb9f3a"
            ],
            [
             0.8888888888888888,
             "#fdca26"
            ],
            [
             1,
             "#f0f921"
            ]
           ]
          },
          "colorway": [
           "#636efa",
           "#EF553B",
           "#00cc96",
           "#ab63fa",
           "#FFA15A",
           "#19d3f3",
           "#FF6692",
           "#B6E880",
           "#FF97FF",
           "#FECB52"
          ],
          "font": {
           "color": "#2a3f5f"
          },
          "geo": {
           "bgcolor": "white",
           "lakecolor": "white",
           "landcolor": "#E5ECF6",
           "showlakes": true,
           "showland": true,
           "subunitcolor": "white"
          },
          "hoverlabel": {
           "align": "left"
          },
          "hovermode": "closest",
          "mapbox": {
           "style": "light"
          },
          "paper_bgcolor": "white",
          "plot_bgcolor": "#E5ECF6",
          "polar": {
           "angularaxis": {
            "gridcolor": "white",
            "linecolor": "white",
            "ticks": ""
           },
           "bgcolor": "#E5ECF6",
           "radialaxis": {
            "gridcolor": "white",
            "linecolor": "white",
            "ticks": ""
           }
          },
          "scene": {
           "xaxis": {
            "backgroundcolor": "#E5ECF6",
            "gridcolor": "white",
            "gridwidth": 2,
            "linecolor": "white",
            "showbackground": true,
            "ticks": "",
            "zerolinecolor": "white"
           },
           "yaxis": {
            "backgroundcolor": "#E5ECF6",
            "gridcolor": "white",
            "gridwidth": 2,
            "linecolor": "white",
            "showbackground": true,
            "ticks": "",
            "zerolinecolor": "white"
           },
           "zaxis": {
            "backgroundcolor": "#E5ECF6",
            "gridcolor": "white",
            "gridwidth": 2,
            "linecolor": "white",
            "showbackground": true,
            "ticks": "",
            "zerolinecolor": "white"
           }
          },
          "shapedefaults": {
           "line": {
            "color": "#2a3f5f"
           }
          },
          "ternary": {
           "aaxis": {
            "gridcolor": "white",
            "linecolor": "white",
            "ticks": ""
           },
           "baxis": {
            "gridcolor": "white",
            "linecolor": "white",
            "ticks": ""
           },
           "bgcolor": "#E5ECF6",
           "caxis": {
            "gridcolor": "white",
            "linecolor": "white",
            "ticks": ""
           }
          },
          "title": {
           "x": 0.05
          },
          "xaxis": {
           "automargin": true,
           "gridcolor": "white",
           "linecolor": "white",
           "ticks": "",
           "title": {
            "standoff": 15
           },
           "zerolinecolor": "white",
           "zerolinewidth": 2
          },
          "yaxis": {
           "automargin": true,
           "gridcolor": "white",
           "linecolor": "white",
           "ticks": "",
           "title": {
            "standoff": 15
           },
           "zerolinecolor": "white",
           "zerolinewidth": 2
          }
         }
        },
        "title": {
         "text": "Stacked head-to-head losses at home"
        },
        "uniformtext": {
         "minsize": 8
        },
        "width": 1000,
        "xaxis": {
         "anchor": "y",
         "domain": [
          0,
          1
         ],
         "title": {
          "text": "Team"
         }
        },
        "yaxis": {
         "anchor": "x",
         "domain": [
          0,
          1
         ],
         "title": {
          "text": "Losses"
         }
        }
       }
      },
      "text/html": [
       "<div>                            <div id=\"80397d5c-6f62-4e54-bf24-20b2d6c98e59\" class=\"plotly-graph-div\" style=\"height:800px; width:1000px;\"></div>            <script type=\"text/javascript\">                require([\"plotly\"], function(Plotly) {                    window.PLOTLYENV=window.PLOTLYENV || {};                                    if (document.getElementById(\"80397d5c-6f62-4e54-bf24-20b2d6c98e59\")) {                    Plotly.newPlot(                        \"80397d5c-6f62-4e54-bf24-20b2d6c98e59\",                        [{\"alignmentgroup\":\"True\",\"hovertemplate\":\"Opponent=Kochi Tuskers Kerala<br>Team=%{x}<br>Losses=%{text}<extra></extra>\",\"legendgroup\":\"Kochi Tuskers Kerala\",\"marker\":{\"color\":\"#636efa\",\"pattern\":{\"shape\":\"\"}},\"name\":\"Kochi Tuskers Kerala\",\"offsetgroup\":\"Kochi Tuskers Kerala\",\"orientation\":\"v\",\"showlegend\":true,\"text\":[\"0.0\",\"0.0\",\"0.0\",\"1.0\",\"0.0\",\"1.0\",\"0.0\",\"1.0\",\"0.0\",\"0.0\",\"0.0\",\"1.0\"],\"textposition\":\"auto\",\"type\":\"bar\",\"x\":[\"Deccan Chargers\",\"Rising Pune Supergiants\",\"Kolkata Knight Riders\",\"Mumbai Indians\",\"Royal Challengers Bangalore\",\"Rajasthan Royals\",\"Pune Warriors\",\"Chennai Super Kings\",\"Sunrisers Hyderabad\",\"Kings XI Punjab\",\"Gujarat Lions\",\"Delhi Capitals\"],\"xaxis\":\"x\",\"y\":[0.0,0.0,0.0,1.0,0.0,1.0,0.0,1.0,0.0,0.0,0.0,1.0],\"yaxis\":\"y\"},{\"alignmentgroup\":\"True\",\"hovertemplate\":\"Opponent=Rising Pune Supergiants<br>Team=%{x}<br>Losses=%{text}<extra></extra>\",\"legendgroup\":\"Rising Pune Supergiants\",\"marker\":{\"color\":\"#EF553B\",\"pattern\":{\"shape\":\"\"}},\"name\":\"Rising Pune Supergiants\",\"offsetgroup\":\"Rising Pune Supergiants\",\"orientation\":\"v\",\"showlegend\":true,\"text\":[\"0.0\",\"0.0\",\"1.0\",\"2.0\",\"0.0\",\"0.0\",\"0.0\",\"0.0\",\"2.0\",\"2.0\",\"1.0\",\"2.0\"],\"textposition\":\"auto\",\"type\":\"bar\",\"x\":[\"Deccan Chargers\",\"Kochi Tuskers Kerala\",\"Kolkata Knight Riders\",\"Mumbai Indians\",\"Royal Challengers Bangalore\",\"Rajasthan Royals\",\"Pune Warriors\",\"Chennai Super Kings\",\"Sunrisers Hyderabad\",\"Kings XI Punjab\",\"Gujarat Lions\",\"Delhi Capitals\"],\"xaxis\":\"x\",\"y\":[0.0,0.0,1.0,2.0,0.0,0.0,0.0,0.0,2.0,2.0,1.0,2.0],\"yaxis\":\"y\"},{\"alignmentgroup\":\"True\",\"hovertemplate\":\"Opponent=Kolkata Knight Riders<br>Team=%{x}<br>Losses=%{text}<extra></extra>\",\"legendgroup\":\"Kolkata Knight Riders\",\"marker\":{\"color\":\"#00cc96\",\"pattern\":{\"shape\":\"\"}},\"name\":\"Kolkata Knight Riders\",\"offsetgroup\":\"Kolkata Knight Riders\",\"orientation\":\"v\",\"showlegend\":true,\"text\":[\"2.0\",\"0.0\",\"3.0\",\"3.0\",\"7.0\",\"9.0\",\"1.0\",\"7.0\",\"6.0\",\"12.0\",\"1.0\",\"7.0\"],\"textposition\":\"auto\",\"type\":\"bar\",\"x\":[\"Deccan Chargers\",\"Kochi Tuskers Kerala\",\"Rising Pune Supergiants\",\"Mumbai Indians\",\"Royal Challengers Bangalore\",\"Rajasthan Royals\",\"Pune Warriors\",\"Chennai Super Kings\",\"Sunrisers Hyderabad\",\"Kings XI Punjab\",\"Gujarat Lions\",\"Delhi Capitals\"],\"xaxis\":\"x\",\"y\":[2.0,0.0,3.0,3.0,7.0,9.0,1.0,7.0,6.0,12.0,1.0,7.0],\"yaxis\":\"y\"},{\"alignmentgroup\":\"True\",\"hovertemplate\":\"Opponent=Mumbai Indians<br>Team=%{x}<br>Losses=%{text}<extra></extra>\",\"legendgroup\":\"Mumbai Indians\",\"marker\":{\"color\":\"#ab63fa\",\"pattern\":{\"shape\":\"\"}},\"name\":\"Mumbai Indians\",\"offsetgroup\":\"Mumbai Indians\",\"orientation\":\"v\",\"showlegend\":true,\"text\":[\"2.0\",\"0.0\",\"1.0\",\"11.0\",\"8.0\",\"4.0\",\"2.0\",\"7.0\",\"4.0\",\"8.0\",\"2.0\",\"2.0\"],\"textposition\":\"auto\",\"type\":\"bar\",\"x\":[\"Deccan Chargers\",\"Kochi Tuskers Kerala\",\"Rising Pune Supergiants\",\"Kolkata Knight Riders\",\"Royal Challengers Bangalore\",\"Rajasthan Royals\",\"Pune Warriors\",\"Chennai Super Kings\",\"Sunrisers Hyderabad\",\"Kings XI Punjab\",\"Gujarat Lions\",\"Delhi Capitals\"],\"xaxis\":\"x\",\"y\":[2.0,0.0,1.0,11.0,8.0,4.0,2.0,7.0,4.0,8.0,2.0,2.0],\"yaxis\":\"y\"},{\"alignmentgroup\":\"True\",\"hovertemplate\":\"Opponent=Royal Challengers Bangalore<br>Team=%{x}<br>Losses=%{text}<extra></extra>\",\"legendgroup\":\"Royal Challengers Bangalore\",\"marker\":{\"color\":\"#FFA15A\",\"pattern\":{\"shape\":\"\"}},\"name\":\"Royal Challengers Bangalore\",\"offsetgroup\":\"Royal Challengers Bangalore\",\"orientation\":\"v\",\"showlegend\":true,\"text\":[\"3.0\",\"2.0\",\"1.0\",\"9.0\",\"5.0\",\"5.0\",\"1.0\",\"4.0\",\"4.0\",\"6.0\",\"1.0\",\"8.0\"],\"textposition\":\"auto\",\"type\":\"bar\",\"x\":[\"Deccan Chargers\",\"Kochi Tuskers Kerala\",\"Rising Pune Supergiants\",\"Kolkata Knight Riders\",\"Mumbai Indians\",\"Rajasthan Royals\",\"Pune Warriors\",\"Chennai Super Kings\",\"Sunrisers Hyderabad\",\"Kings XI Punjab\",\"Gujarat Lions\",\"Delhi Capitals\"],\"xaxis\":\"x\",\"y\":[3.0,2.0,1.0,9.0,5.0,5.0,1.0,4.0,4.0,6.0,1.0,8.0],\"yaxis\":\"y\"},{\"alignmentgroup\":\"True\",\"hovertemplate\":\"Opponent=Rajasthan Royals<br>Team=%{x}<br>Losses=%{text}<extra></extra>\",\"legendgroup\":\"Rajasthan Royals\",\"marker\":{\"color\":\"#19d3f3\",\"pattern\":{\"shape\":\"\"}},\"name\":\"Rajasthan Royals\",\"offsetgroup\":\"Rajasthan Royals\",\"orientation\":\"v\",\"showlegend\":true,\"text\":[\"6.0\",\"1.0\",\"0.0\",\"2.0\",\"8.0\",\"6.0\",\"3.0\",\"5.0\",\"5.0\",\"4.0\",\"0.0\",\"6.0\"],\"textposition\":\"auto\",\"type\":\"bar\",\"x\":[\"Deccan Chargers\",\"Kochi Tuskers Kerala\",\"Rising Pune Supergiants\",\"Kolkata Knight Riders\",\"Mumbai Indians\",\"Royal Challengers Bangalore\",\"Pune Warriors\",\"Chennai Super Kings\",\"Sunrisers Hyderabad\",\"Kings XI Punjab\",\"Gujarat Lions\",\"Delhi Capitals\"],\"xaxis\":\"x\",\"y\":[6.0,1.0,0.0,2.0,8.0,6.0,3.0,5.0,5.0,4.0,0.0,6.0],\"yaxis\":\"y\"},{\"alignmentgroup\":\"True\",\"hovertemplate\":\"Opponent=Pune Warriors<br>Team=%{x}<br>Losses=%{text}<extra></extra>\",\"legendgroup\":\"Pune Warriors\",\"marker\":{\"color\":\"#FF6692\",\"pattern\":{\"shape\":\"\"}},\"name\":\"Pune Warriors\",\"offsetgroup\":\"Pune Warriors\",\"orientation\":\"v\",\"showlegend\":true,\"text\":[\"1.0\",\"1.0\",\"0.0\",\"0.0\",\"0.0\",\"0.0\",\"1.0\",\"1.0\",\"0.0\",\"2.0\",\"0.0\",\"0.0\"],\"textposition\":\"auto\",\"type\":\"bar\",\"x\":[\"Deccan Chargers\",\"Kochi Tuskers Kerala\",\"Rising Pune Supergiants\",\"Kolkata Knight Riders\",\"Mumbai Indians\",\"Royal Challengers Bangalore\",\"Rajasthan Royals\",\"Chennai Super Kings\",\"Sunrisers Hyderabad\",\"Kings XI Punjab\",\"Gujarat Lions\",\"Delhi Capitals\"],\"xaxis\":\"x\",\"y\":[1.0,1.0,0.0,0.0,0.0,0.0,1.0,1.0,0.0,2.0,0.0,0.0],\"yaxis\":\"y\"},{\"alignmentgroup\":\"True\",\"hovertemplate\":\"Opponent=Chennai Super Kings<br>Team=%{x}<br>Losses=%{text}<extra></extra>\",\"legendgroup\":\"Chennai Super Kings\",\"marker\":{\"color\":\"#B6E880\",\"pattern\":{\"shape\":\"\"}},\"name\":\"Chennai Super Kings\",\"offsetgroup\":\"Chennai Super Kings\",\"orientation\":\"v\",\"showlegend\":true,\"text\":[\"1.0\",\"0.0\",\"0.0\",\"8.0\",\"6.0\",\"9.0\",\"7.0\",\"1.0\",\"6.0\",\"5.0\",\"0.0\",\"6.0\"],\"textposition\":\"auto\",\"type\":\"bar\",\"x\":[\"Deccan Chargers\",\"Kochi Tuskers Kerala\",\"Rising Pune Supergiants\",\"Kolkata Knight Riders\",\"Mumbai Indians\",\"Royal Challengers Bangalore\",\"Rajasthan Royals\",\"Pune Warriors\",\"Sunrisers Hyderabad\",\"Kings XI Punjab\",\"Gujarat Lions\",\"Delhi Capitals\"],\"xaxis\":\"x\",\"y\":[1.0,0.0,0.0,8.0,6.0,9.0,7.0,1.0,6.0,5.0,0.0,6.0],\"yaxis\":\"y\"},{\"alignmentgroup\":\"True\",\"hovertemplate\":\"Opponent=Sunrisers Hyderabad<br>Team=%{x}<br>Losses=%{text}<extra></extra>\",\"legendgroup\":\"Sunrisers Hyderabad\",\"marker\":{\"color\":\"#FF97FF\",\"pattern\":{\"shape\":\"\"}},\"name\":\"Sunrisers Hyderabad\",\"offsetgroup\":\"Sunrisers Hyderabad\",\"orientation\":\"v\",\"showlegend\":true,\"text\":[\"0.0\",\"0.0\",\"0.0\",\"3.0\",\"4.0\",\"3.0\",\"2.0\",\"0.0\",\"2.0\",\"3.0\",\"5.0\",\"6.0\"],\"textposition\":\"auto\",\"type\":\"bar\",\"x\":[\"Deccan Chargers\",\"Kochi Tuskers Kerala\",\"Rising Pune Supergiants\",\"Kolkata Knight Riders\",\"Mumbai Indians\",\"Royal Challengers Bangalore\",\"Rajasthan Royals\",\"Pune Warriors\",\"Chennai Super Kings\",\"Kings XI Punjab\",\"Gujarat Lions\",\"Delhi Capitals\"],\"xaxis\":\"x\",\"y\":[0.0,0.0,0.0,3.0,4.0,3.0,2.0,0.0,2.0,3.0,5.0,6.0],\"yaxis\":\"y\"},{\"alignmentgroup\":\"True\",\"hovertemplate\":\"Opponent=Kings XI Punjab<br>Team=%{x}<br>Losses=%{text}<extra></extra>\",\"legendgroup\":\"Kings XI Punjab\",\"marker\":{\"color\":\"#FECB52\",\"pattern\":{\"shape\":\"\"}},\"name\":\"Kings XI Punjab\",\"offsetgroup\":\"Kings XI Punjab\",\"orientation\":\"v\",\"showlegend\":true,\"text\":[\"5.0\",\"1.0\",\"2.0\",\"3.0\",\"4.0\",\"8.0\",\"3.0\",\"3.0\",\"4.0\",\"2.0\",\"0.0\",\"9.0\"],\"textposition\":\"auto\",\"type\":\"bar\",\"x\":[\"Deccan Chargers\",\"Kochi Tuskers Kerala\",\"Rising Pune Supergiants\",\"Kolkata Knight Riders\",\"Mumbai Indians\",\"Royal Challengers Bangalore\",\"Rajasthan Royals\",\"Pune Warriors\",\"Chennai Super Kings\",\"Sunrisers Hyderabad\",\"Gujarat Lions\",\"Delhi Capitals\"],\"xaxis\":\"x\",\"y\":[5.0,1.0,2.0,3.0,4.0,8.0,3.0,3.0,4.0,2.0,0.0,9.0],\"yaxis\":\"y\"},{\"alignmentgroup\":\"True\",\"hovertemplate\":\"Opponent=Gujarat Lions<br>Team=%{x}<br>Losses=%{text}<extra></extra>\",\"legendgroup\":\"Gujarat Lions\",\"marker\":{\"color\":\"#636efa\",\"pattern\":{\"shape\":\"\"}},\"name\":\"Gujarat Lions\",\"offsetgroup\":\"Gujarat Lions\",\"orientation\":\"v\",\"showlegend\":true,\"text\":[\"0.0\",\"0.0\",\"3.0\",\"3.0\",\"2.0\",\"2.0\",\"0.0\",\"0.0\",\"0.0\",\"0.0\",\"2.0\",\"0.0\"],\"textposition\":\"auto\",\"type\":\"bar\",\"x\":[\"Deccan Chargers\",\"Kochi Tuskers Kerala\",\"Rising Pune Supergiants\",\"Kolkata Knight Riders\",\"Mumbai Indians\",\"Royal Challengers Bangalore\",\"Rajasthan Royals\",\"Pune Warriors\",\"Chennai Super Kings\",\"Sunrisers Hyderabad\",\"Kings XI Punjab\",\"Delhi Capitals\"],\"xaxis\":\"x\",\"y\":[0.0,0.0,3.0,3.0,2.0,2.0,0.0,0.0,0.0,0.0,2.0,0.0],\"yaxis\":\"y\"},{\"alignmentgroup\":\"True\",\"hovertemplate\":\"Opponent=Delhi Capitals<br>Team=%{x}<br>Losses=%{text}<extra></extra>\",\"legendgroup\":\"Delhi Capitals\",\"marker\":{\"color\":\"#EF553B\",\"pattern\":{\"shape\":\"\"}},\"name\":\"Delhi Capitals\",\"offsetgroup\":\"Delhi Capitals\",\"orientation\":\"v\",\"showlegend\":true,\"text\":[\"5.0\",\"0.0\",\"0.0\",\"7.0\",\"7.0\",\"4.0\",\"5.0\",\"2.0\",\"4.0\",\"4.0\",\"8.0\",\"3.0\"],\"textposition\":\"auto\",\"type\":\"bar\",\"x\":[\"Deccan Chargers\",\"Kochi Tuskers Kerala\",\"Rising Pune Supergiants\",\"Kolkata Knight Riders\",\"Mumbai Indians\",\"Royal Challengers Bangalore\",\"Rajasthan Royals\",\"Pune Warriors\",\"Chennai Super Kings\",\"Sunrisers Hyderabad\",\"Kings XI Punjab\",\"Gujarat Lions\"],\"xaxis\":\"x\",\"y\":[5.0,0.0,0.0,7.0,7.0,4.0,5.0,2.0,4.0,4.0,8.0,3.0],\"yaxis\":\"y\"},{\"alignmentgroup\":\"True\",\"hovertemplate\":\"Opponent=Deccan Chargers<br>Team=%{x}<br>Losses=%{text}<extra></extra>\",\"legendgroup\":\"Deccan Chargers\",\"marker\":{\"color\":\"#00cc96\",\"pattern\":{\"shape\":\"\"}},\"name\":\"Deccan Chargers\",\"offsetgroup\":\"Deccan Chargers\",\"orientation\":\"v\",\"showlegend\":true,\"text\":[\"0.0\",\"0.0\",\"2.0\",\"1.0\",\"1.0\",\"1.0\",\"1.0\",\"3.0\",\"0.0\",\"1.0\",\"0.0\",\"1.0\"],\"textposition\":\"auto\",\"type\":\"bar\",\"x\":[\"Kochi Tuskers Kerala\",\"Rising Pune Supergiants\",\"Kolkata Knight Riders\",\"Mumbai Indians\",\"Royal Challengers Bangalore\",\"Rajasthan Royals\",\"Pune Warriors\",\"Chennai Super Kings\",\"Sunrisers Hyderabad\",\"Kings XI Punjab\",\"Gujarat Lions\",\"Delhi Capitals\"],\"xaxis\":\"x\",\"y\":[0.0,0.0,2.0,1.0,1.0,1.0,1.0,3.0,0.0,1.0,0.0,1.0],\"yaxis\":\"y\"}],                        {\"barmode\":\"relative\",\"height\":800,\"legend\":{\"title\":{\"text\":\"Opponent\"},\"tracegroupgap\":0},\"template\":{\"data\":{\"bar\":[{\"error_x\":{\"color\":\"#2a3f5f\"},\"error_y\":{\"color\":\"#2a3f5f\"},\"marker\":{\"line\":{\"color\":\"#E5ECF6\",\"width\":0.5},\"pattern\":{\"fillmode\":\"overlay\",\"size\":10,\"solidity\":0.2}},\"type\":\"bar\"}],\"barpolar\":[{\"marker\":{\"line\":{\"color\":\"#E5ECF6\",\"width\":0.5},\"pattern\":{\"fillmode\":\"overlay\",\"size\":10,\"solidity\":0.2}},\"type\":\"barpolar\"}],\"carpet\":[{\"aaxis\":{\"endlinecolor\":\"#2a3f5f\",\"gridcolor\":\"white\",\"linecolor\":\"white\",\"minorgridcolor\":\"white\",\"startlinecolor\":\"#2a3f5f\"},\"baxis\":{\"endlinecolor\":\"#2a3f5f\",\"gridcolor\":\"white\",\"linecolor\":\"white\",\"minorgridcolor\":\"white\",\"startlinecolor\":\"#2a3f5f\"},\"type\":\"carpet\"}],\"choropleth\":[{\"colorbar\":{\"outlinewidth\":0,\"ticks\":\"\"},\"type\":\"choropleth\"}],\"contour\":[{\"colorbar\":{\"outlinewidth\":0,\"ticks\":\"\"},\"colorscale\":[[0.0,\"#0d0887\"],[0.1111111111111111,\"#46039f\"],[0.2222222222222222,\"#7201a8\"],[0.3333333333333333,\"#9c179e\"],[0.4444444444444444,\"#bd3786\"],[0.5555555555555556,\"#d8576b\"],[0.6666666666666666,\"#ed7953\"],[0.7777777777777778,\"#fb9f3a\"],[0.8888888888888888,\"#fdca26\"],[1.0,\"#f0f921\"]],\"type\":\"contour\"}],\"contourcarpet\":[{\"colorbar\":{\"outlinewidth\":0,\"ticks\":\"\"},\"type\":\"contourcarpet\"}],\"heatmap\":[{\"colorbar\":{\"outlinewidth\":0,\"ticks\":\"\"},\"colorscale\":[[0.0,\"#0d0887\"],[0.1111111111111111,\"#46039f\"],[0.2222222222222222,\"#7201a8\"],[0.3333333333333333,\"#9c179e\"],[0.4444444444444444,\"#bd3786\"],[0.5555555555555556,\"#d8576b\"],[0.6666666666666666,\"#ed7953\"],[0.7777777777777778,\"#fb9f3a\"],[0.8888888888888888,\"#fdca26\"],[1.0,\"#f0f921\"]],\"type\":\"heatmap\"}],\"heatmapgl\":[{\"colorbar\":{\"outlinewidth\":0,\"ticks\":\"\"},\"colorscale\":[[0.0,\"#0d0887\"],[0.1111111111111111,\"#46039f\"],[0.2222222222222222,\"#7201a8\"],[0.3333333333333333,\"#9c179e\"],[0.4444444444444444,\"#bd3786\"],[0.5555555555555556,\"#d8576b\"],[0.6666666666666666,\"#ed7953\"],[0.7777777777777778,\"#fb9f3a\"],[0.8888888888888888,\"#fdca26\"],[1.0,\"#f0f921\"]],\"type\":\"heatmapgl\"}],\"histogram\":[{\"marker\":{\"pattern\":{\"fillmode\":\"overlay\",\"size\":10,\"solidity\":0.2}},\"type\":\"histogram\"}],\"histogram2d\":[{\"colorbar\":{\"outlinewidth\":0,\"ticks\":\"\"},\"colorscale\":[[0.0,\"#0d0887\"],[0.1111111111111111,\"#46039f\"],[0.2222222222222222,\"#7201a8\"],[0.3333333333333333,\"#9c179e\"],[0.4444444444444444,\"#bd3786\"],[0.5555555555555556,\"#d8576b\"],[0.6666666666666666,\"#ed7953\"],[0.7777777777777778,\"#fb9f3a\"],[0.8888888888888888,\"#fdca26\"],[1.0,\"#f0f921\"]],\"type\":\"histogram2d\"}],\"histogram2dcontour\":[{\"colorbar\":{\"outlinewidth\":0,\"ticks\":\"\"},\"colorscale\":[[0.0,\"#0d0887\"],[0.1111111111111111,\"#46039f\"],[0.2222222222222222,\"#7201a8\"],[0.3333333333333333,\"#9c179e\"],[0.4444444444444444,\"#bd3786\"],[0.5555555555555556,\"#d8576b\"],[0.6666666666666666,\"#ed7953\"],[0.7777777777777778,\"#fb9f3a\"],[0.8888888888888888,\"#fdca26\"],[1.0,\"#f0f921\"]],\"type\":\"histogram2dcontour\"}],\"mesh3d\":[{\"colorbar\":{\"outlinewidth\":0,\"ticks\":\"\"},\"type\":\"mesh3d\"}],\"parcoords\":[{\"line\":{\"colorbar\":{\"outlinewidth\":0,\"ticks\":\"\"}},\"type\":\"parcoords\"}],\"pie\":[{\"automargin\":true,\"type\":\"pie\"}],\"scatter\":[{\"marker\":{\"colorbar\":{\"outlinewidth\":0,\"ticks\":\"\"}},\"type\":\"scatter\"}],\"scatter3d\":[{\"line\":{\"colorbar\":{\"outlinewidth\":0,\"ticks\":\"\"}},\"marker\":{\"colorbar\":{\"outlinewidth\":0,\"ticks\":\"\"}},\"type\":\"scatter3d\"}],\"scattercarpet\":[{\"marker\":{\"colorbar\":{\"outlinewidth\":0,\"ticks\":\"\"}},\"type\":\"scattercarpet\"}],\"scattergeo\":[{\"marker\":{\"colorbar\":{\"outlinewidth\":0,\"ticks\":\"\"}},\"type\":\"scattergeo\"}],\"scattergl\":[{\"marker\":{\"colorbar\":{\"outlinewidth\":0,\"ticks\":\"\"}},\"type\":\"scattergl\"}],\"scattermapbox\":[{\"marker\":{\"colorbar\":{\"outlinewidth\":0,\"ticks\":\"\"}},\"type\":\"scattermapbox\"}],\"scatterpolar\":[{\"marker\":{\"colorbar\":{\"outlinewidth\":0,\"ticks\":\"\"}},\"type\":\"scatterpolar\"}],\"scatterpolargl\":[{\"marker\":{\"colorbar\":{\"outlinewidth\":0,\"ticks\":\"\"}},\"type\":\"scatterpolargl\"}],\"scatterternary\":[{\"marker\":{\"colorbar\":{\"outlinewidth\":0,\"ticks\":\"\"}},\"type\":\"scatterternary\"}],\"surface\":[{\"colorbar\":{\"outlinewidth\":0,\"ticks\":\"\"},\"colorscale\":[[0.0,\"#0d0887\"],[0.1111111111111111,\"#46039f\"],[0.2222222222222222,\"#7201a8\"],[0.3333333333333333,\"#9c179e\"],[0.4444444444444444,\"#bd3786\"],[0.5555555555555556,\"#d8576b\"],[0.6666666666666666,\"#ed7953\"],[0.7777777777777778,\"#fb9f3a\"],[0.8888888888888888,\"#fdca26\"],[1.0,\"#f0f921\"]],\"type\":\"surface\"}],\"table\":[{\"cells\":{\"fill\":{\"color\":\"#EBF0F8\"},\"line\":{\"color\":\"white\"}},\"header\":{\"fill\":{\"color\":\"#C8D4E3\"},\"line\":{\"color\":\"white\"}},\"type\":\"table\"}]},\"layout\":{\"annotationdefaults\":{\"arrowcolor\":\"#2a3f5f\",\"arrowhead\":0,\"arrowwidth\":1},\"autotypenumbers\":\"strict\",\"coloraxis\":{\"colorbar\":{\"outlinewidth\":0,\"ticks\":\"\"}},\"colorscale\":{\"diverging\":[[0,\"#8e0152\"],[0.1,\"#c51b7d\"],[0.2,\"#de77ae\"],[0.3,\"#f1b6da\"],[0.4,\"#fde0ef\"],[0.5,\"#f7f7f7\"],[0.6,\"#e6f5d0\"],[0.7,\"#b8e186\"],[0.8,\"#7fbc41\"],[0.9,\"#4d9221\"],[1,\"#276419\"]],\"sequential\":[[0.0,\"#0d0887\"],[0.1111111111111111,\"#46039f\"],[0.2222222222222222,\"#7201a8\"],[0.3333333333333333,\"#9c179e\"],[0.4444444444444444,\"#bd3786\"],[0.5555555555555556,\"#d8576b\"],[0.6666666666666666,\"#ed7953\"],[0.7777777777777778,\"#fb9f3a\"],[0.8888888888888888,\"#fdca26\"],[1.0,\"#f0f921\"]],\"sequentialminus\":[[0.0,\"#0d0887\"],[0.1111111111111111,\"#46039f\"],[0.2222222222222222,\"#7201a8\"],[0.3333333333333333,\"#9c179e\"],[0.4444444444444444,\"#bd3786\"],[0.5555555555555556,\"#d8576b\"],[0.6666666666666666,\"#ed7953\"],[0.7777777777777778,\"#fb9f3a\"],[0.8888888888888888,\"#fdca26\"],[1.0,\"#f0f921\"]]},\"colorway\":[\"#636efa\",\"#EF553B\",\"#00cc96\",\"#ab63fa\",\"#FFA15A\",\"#19d3f3\",\"#FF6692\",\"#B6E880\",\"#FF97FF\",\"#FECB52\"],\"font\":{\"color\":\"#2a3f5f\"},\"geo\":{\"bgcolor\":\"white\",\"lakecolor\":\"white\",\"landcolor\":\"#E5ECF6\",\"showlakes\":true,\"showland\":true,\"subunitcolor\":\"white\"},\"hoverlabel\":{\"align\":\"left\"},\"hovermode\":\"closest\",\"mapbox\":{\"style\":\"light\"},\"paper_bgcolor\":\"white\",\"plot_bgcolor\":\"#E5ECF6\",\"polar\":{\"angularaxis\":{\"gridcolor\":\"white\",\"linecolor\":\"white\",\"ticks\":\"\"},\"bgcolor\":\"#E5ECF6\",\"radialaxis\":{\"gridcolor\":\"white\",\"linecolor\":\"white\",\"ticks\":\"\"}},\"scene\":{\"xaxis\":{\"backgroundcolor\":\"#E5ECF6\",\"gridcolor\":\"white\",\"gridwidth\":2,\"linecolor\":\"white\",\"showbackground\":true,\"ticks\":\"\",\"zerolinecolor\":\"white\"},\"yaxis\":{\"backgroundcolor\":\"#E5ECF6\",\"gridcolor\":\"white\",\"gridwidth\":2,\"linecolor\":\"white\",\"showbackground\":true,\"ticks\":\"\",\"zerolinecolor\":\"white\"},\"zaxis\":{\"backgroundcolor\":\"#E5ECF6\",\"gridcolor\":\"white\",\"gridwidth\":2,\"linecolor\":\"white\",\"showbackground\":true,\"ticks\":\"\",\"zerolinecolor\":\"white\"}},\"shapedefaults\":{\"line\":{\"color\":\"#2a3f5f\"}},\"ternary\":{\"aaxis\":{\"gridcolor\":\"white\",\"linecolor\":\"white\",\"ticks\":\"\"},\"baxis\":{\"gridcolor\":\"white\",\"linecolor\":\"white\",\"ticks\":\"\"},\"bgcolor\":\"#E5ECF6\",\"caxis\":{\"gridcolor\":\"white\",\"linecolor\":\"white\",\"ticks\":\"\"}},\"title\":{\"x\":0.05},\"xaxis\":{\"automargin\":true,\"gridcolor\":\"white\",\"linecolor\":\"white\",\"ticks\":\"\",\"title\":{\"standoff\":15},\"zerolinecolor\":\"white\",\"zerolinewidth\":2},\"yaxis\":{\"automargin\":true,\"gridcolor\":\"white\",\"linecolor\":\"white\",\"ticks\":\"\",\"title\":{\"standoff\":15},\"zerolinecolor\":\"white\",\"zerolinewidth\":2}}},\"title\":{\"text\":\"Stacked head-to-head losses at home\"},\"uniformtext\":{\"minsize\":8},\"width\":1000,\"xaxis\":{\"anchor\":\"y\",\"domain\":[0.0,1.0],\"title\":{\"text\":\"Team\"}},\"yaxis\":{\"anchor\":\"x\",\"domain\":[0.0,1.0],\"title\":{\"text\":\"Losses\"}}},                        {\"responsive\": true}                    ).then(function(){\n",
       "                            \n",
       "var gd = document.getElementById('80397d5c-6f62-4e54-bf24-20b2d6c98e59');\n",
       "var x = new MutationObserver(function (mutations, observer) {{\n",
       "        var display = window.getComputedStyle(gd).display;\n",
       "        if (!display || display === 'none') {{\n",
       "            console.log([gd, 'removed!']);\n",
       "            Plotly.purge(gd);\n",
       "            observer.disconnect();\n",
       "        }}\n",
       "}});\n",
       "\n",
       "// Listen for the removal of the full notebook cells\n",
       "var notebookContainer = gd.closest('#notebook-container');\n",
       "if (notebookContainer) {{\n",
       "    x.observe(notebookContainer, {childList: true});\n",
       "}}\n",
       "\n",
       "// Listen for the clearing of the current output cell\n",
       "var outputEl = gd.closest('.output');\n",
       "if (outputEl) {{\n",
       "    x.observe(outputEl, {childList: true});\n",
       "}}\n",
       "\n",
       "                        })                };                });            </script>        </div>"
      ]
     },
     "metadata": {},
     "output_type": "display_data"
    }
   ],
   "source": [
    "fig2a = px.bar(h2h_data, x = \"team1\" , y=\"wins for team 2\", text=\"wins for team 2\", color=\"team2\", labels={\n",
    "    \"team1\": \"Team\",\n",
    "    \"wins for team 2\": \"Losses\",\n",
    "    \"team2\": \"Opponent\",\n",
    "\n",
    "}, title=\"Stacked head-to-head losses at home\", width=1000, height=800)\n",
    "fig2a.update_layout(uniformtext_minsize=8)\n",
    "fig2a.show()"
   ]
  },
  {
   "cell_type": "code",
   "execution_count": 50,
   "metadata": {
    "ExecuteTime": {
     "end_time": "2021-08-10T05:18:59.953165Z",
     "start_time": "2021-08-10T05:18:59.834285Z"
    }
   },
   "outputs": [
    {
     "data": {
      "application/vnd.plotly.v1+json": {
       "config": {
        "plotlyServerURL": "https://plot.ly"
       },
       "data": [
        {
         "alignmentgroup": "True",
         "hovertemplate": "Opponent=Kochi Tuskers Kerala<br>Team=%{x}<br>Stats (wins | losses)=%{y}<extra></extra>",
         "legendgroup": "Kochi Tuskers Kerala",
         "marker": {
          "color": "#636efa",
          "pattern": {
           "shape": ""
          }
         },
         "name": "Kochi Tuskers Kerala",
         "offsetgroup": "Kochi Tuskers Kerala",
         "orientation": "v",
         "showlegend": true,
         "textposition": "auto",
         "type": "bar",
         "x": [
          "Deccan Chargers",
          "Rising Pune Supergiants",
          "Kolkata Knight Riders",
          "Mumbai Indians",
          "Royal Challengers Bangalore",
          "Rajasthan Royals",
          "Pune Warriors",
          "Chennai Super Kings",
          "Sunrisers Hyderabad",
          "Kings XI Punjab",
          "Gujarat Lions",
          "Delhi Capitals",
          "Deccan Chargers",
          "Rising Pune Supergiants",
          "Kolkata Knight Riders",
          "Mumbai Indians",
          "Royal Challengers Bangalore",
          "Rajasthan Royals",
          "Pune Warriors",
          "Chennai Super Kings",
          "Sunrisers Hyderabad",
          "Kings XI Punjab",
          "Gujarat Lions",
          "Delhi Capitals"
         ],
         "xaxis": "x",
         "y": [
          1,
          0,
          0,
          0,
          0,
          0,
          0,
          1,
          0,
          0,
          0,
          1,
          0,
          0,
          0,
          1,
          0,
          1,
          0,
          1,
          0,
          0,
          0,
          1
         ],
         "yaxis": "y"
        },
        {
         "alignmentgroup": "True",
         "hovertemplate": "Opponent=Rising Pune Supergiants<br>Team=%{x}<br>Stats (wins | losses)=%{y}<extra></extra>",
         "legendgroup": "Rising Pune Supergiants",
         "marker": {
          "color": "#EF553B",
          "pattern": {
           "shape": ""
          }
         },
         "name": "Rising Pune Supergiants",
         "offsetgroup": "Rising Pune Supergiants",
         "orientation": "v",
         "showlegend": true,
         "textposition": "auto",
         "type": "bar",
         "x": [
          "Deccan Chargers",
          "Kochi Tuskers Kerala",
          "Kolkata Knight Riders",
          "Mumbai Indians",
          "Royal Challengers Bangalore",
          "Rajasthan Royals",
          "Pune Warriors",
          "Chennai Super Kings",
          "Sunrisers Hyderabad",
          "Kings XI Punjab",
          "Gujarat Lions",
          "Delhi Capitals",
          "Deccan Chargers",
          "Kochi Tuskers Kerala",
          "Kolkata Knight Riders",
          "Mumbai Indians",
          "Royal Challengers Bangalore",
          "Rajasthan Royals",
          "Pune Warriors",
          "Chennai Super Kings",
          "Sunrisers Hyderabad",
          "Kings XI Punjab",
          "Gujarat Lions",
          "Delhi Capitals"
         ],
         "xaxis": "x",
         "y": [
          0,
          0,
          0,
          1,
          1,
          0,
          0,
          0,
          1,
          0,
          0,
          2,
          0,
          0,
          1,
          2,
          0,
          0,
          0,
          0,
          2,
          2,
          1,
          2
         ],
         "yaxis": "y"
        },
        {
         "alignmentgroup": "True",
         "hovertemplate": "Opponent=Kolkata Knight Riders<br>Team=%{x}<br>Stats (wins | losses)=%{y}<extra></extra>",
         "legendgroup": "Kolkata Knight Riders",
         "marker": {
          "color": "#00cc96",
          "pattern": {
           "shape": ""
          }
         },
         "name": "Kolkata Knight Riders",
         "offsetgroup": "Kolkata Knight Riders",
         "orientation": "v",
         "showlegend": true,
         "textposition": "auto",
         "type": "bar",
         "x": [
          "Deccan Chargers",
          "Kochi Tuskers Kerala",
          "Rising Pune Supergiants",
          "Mumbai Indians",
          "Royal Challengers Bangalore",
          "Rajasthan Royals",
          "Pune Warriors",
          "Chennai Super Kings",
          "Sunrisers Hyderabad",
          "Kings XI Punjab",
          "Gujarat Lions",
          "Delhi Capitals",
          "Deccan Chargers",
          "Kochi Tuskers Kerala",
          "Rising Pune Supergiants",
          "Mumbai Indians",
          "Royal Challengers Bangalore",
          "Rajasthan Royals",
          "Pune Warriors",
          "Chennai Super Kings",
          "Sunrisers Hyderabad",
          "Kings XI Punjab",
          "Gujarat Lions",
          "Delhi Capitals"
         ],
         "xaxis": "x",
         "y": [
          0,
          2,
          0,
          8,
          1,
          8,
          1,
          5,
          4,
          5,
          0,
          3,
          2,
          0,
          3,
          3,
          7,
          9,
          1,
          7,
          6,
          12,
          1,
          7
         ],
         "yaxis": "y"
        },
        {
         "alignmentgroup": "True",
         "hovertemplate": "Opponent=Mumbai Indians<br>Team=%{x}<br>Stats (wins | losses)=%{y}<extra></extra>",
         "legendgroup": "Mumbai Indians",
         "marker": {
          "color": "#ab63fa",
          "pattern": {
           "shape": ""
          }
         },
         "name": "Mumbai Indians",
         "offsetgroup": "Mumbai Indians",
         "orientation": "v",
         "showlegend": true,
         "textposition": "auto",
         "type": "bar",
         "x": [
          "Deccan Chargers",
          "Kochi Tuskers Kerala",
          "Rising Pune Supergiants",
          "Kolkata Knight Riders",
          "Royal Challengers Bangalore",
          "Rajasthan Royals",
          "Pune Warriors",
          "Chennai Super Kings",
          "Sunrisers Hyderabad",
          "Kings XI Punjab",
          "Gujarat Lions",
          "Delhi Capitals",
          "Deccan Chargers",
          "Kochi Tuskers Kerala",
          "Rising Pune Supergiants",
          "Kolkata Knight Riders",
          "Royal Challengers Bangalore",
          "Rajasthan Royals",
          "Pune Warriors",
          "Chennai Super Kings",
          "Sunrisers Hyderabad",
          "Kings XI Punjab",
          "Gujarat Lions",
          "Delhi Capitals"
         ],
         "xaxis": "x",
         "y": [
          3,
          0,
          2,
          3,
          4,
          2,
          1,
          5,
          3,
          7,
          0,
          5,
          2,
          0,
          1,
          11,
          8,
          4,
          2,
          7,
          4,
          8,
          2,
          2
         ],
         "yaxis": "y"
        },
        {
         "alignmentgroup": "True",
         "hovertemplate": "Opponent=Royal Challengers Bangalore<br>Team=%{x}<br>Stats (wins | losses)=%{y}<extra></extra>",
         "legendgroup": "Royal Challengers Bangalore",
         "marker": {
          "color": "#FFA15A",
          "pattern": {
           "shape": ""
          }
         },
         "name": "Royal Challengers Bangalore",
         "offsetgroup": "Royal Challengers Bangalore",
         "orientation": "v",
         "showlegend": true,
         "textposition": "auto",
         "type": "bar",
         "x": [
          "Deccan Chargers",
          "Kochi Tuskers Kerala",
          "Rising Pune Supergiants",
          "Kolkata Knight Riders",
          "Mumbai Indians",
          "Rajasthan Royals",
          "Pune Warriors",
          "Chennai Super Kings",
          "Sunrisers Hyderabad",
          "Kings XI Punjab",
          "Gujarat Lions",
          "Delhi Capitals",
          "Deccan Chargers",
          "Kochi Tuskers Kerala",
          "Rising Pune Supergiants",
          "Kolkata Knight Riders",
          "Mumbai Indians",
          "Rajasthan Royals",
          "Pune Warriors",
          "Chennai Super Kings",
          "Sunrisers Hyderabad",
          "Kings XI Punjab",
          "Gujarat Lions",
          "Delhi Capitals"
         ],
         "xaxis": "x",
         "y": [
          5,
          0,
          2,
          7,
          8,
          4,
          0,
          6,
          5,
          4,
          0,
          4,
          3,
          2,
          1,
          9,
          5,
          5,
          1,
          4,
          4,
          6,
          1,
          8
         ],
         "yaxis": "y"
        },
        {
         "alignmentgroup": "True",
         "hovertemplate": "Opponent=Rajasthan Royals<br>Team=%{x}<br>Stats (wins | losses)=%{y}<extra></extra>",
         "legendgroup": "Rajasthan Royals",
         "marker": {
          "color": "#19d3f3",
          "pattern": {
           "shape": ""
          }
         },
         "name": "Rajasthan Royals",
         "offsetgroup": "Rajasthan Royals",
         "orientation": "v",
         "showlegend": true,
         "textposition": "auto",
         "type": "bar",
         "x": [
          "Deccan Chargers",
          "Kochi Tuskers Kerala",
          "Rising Pune Supergiants",
          "Kolkata Knight Riders",
          "Mumbai Indians",
          "Royal Challengers Bangalore",
          "Pune Warriors",
          "Chennai Super Kings",
          "Sunrisers Hyderabad",
          "Kings XI Punjab",
          "Gujarat Lions",
          "Delhi Capitals",
          "Deccan Chargers",
          "Kochi Tuskers Kerala",
          "Rising Pune Supergiants",
          "Kolkata Knight Riders",
          "Mumbai Indians",
          "Royal Challengers Bangalore",
          "Pune Warriors",
          "Chennai Super Kings",
          "Sunrisers Hyderabad",
          "Kings XI Punjab",
          "Gujarat Lions",
          "Delhi Capitals"
         ],
         "xaxis": "x",
         "y": [
          1,
          0,
          0,
          1,
          6,
          3,
          0,
          7,
          4,
          6,
          0,
          4,
          6,
          1,
          0,
          2,
          8,
          6,
          3,
          5,
          5,
          4,
          0,
          6
         ],
         "yaxis": "y"
        },
        {
         "alignmentgroup": "True",
         "hovertemplate": "Opponent=Pune Warriors<br>Team=%{x}<br>Stats (wins | losses)=%{y}<extra></extra>",
         "legendgroup": "Pune Warriors",
         "marker": {
          "color": "#FF6692",
          "pattern": {
           "shape": ""
          }
         },
         "name": "Pune Warriors",
         "offsetgroup": "Pune Warriors",
         "orientation": "v",
         "showlegend": true,
         "textposition": "auto",
         "type": "bar",
         "x": [
          "Deccan Chargers",
          "Kochi Tuskers Kerala",
          "Rising Pune Supergiants",
          "Kolkata Knight Riders",
          "Mumbai Indians",
          "Royal Challengers Bangalore",
          "Rajasthan Royals",
          "Chennai Super Kings",
          "Sunrisers Hyderabad",
          "Kings XI Punjab",
          "Gujarat Lions",
          "Delhi Capitals",
          "Deccan Chargers",
          "Kochi Tuskers Kerala",
          "Rising Pune Supergiants",
          "Kolkata Knight Riders",
          "Mumbai Indians",
          "Royal Challengers Bangalore",
          "Rajasthan Royals",
          "Chennai Super Kings",
          "Sunrisers Hyderabad",
          "Kings XI Punjab",
          "Gujarat Lions",
          "Delhi Capitals"
         ],
         "xaxis": "x",
         "y": [
          2,
          0,
          0,
          3,
          3,
          4,
          1,
          3,
          2,
          0,
          0,
          1,
          1,
          1,
          0,
          0,
          0,
          0,
          1,
          1,
          0,
          2,
          0,
          0
         ],
         "yaxis": "y"
        },
        {
         "alignmentgroup": "True",
         "hovertemplate": "Opponent=Chennai Super Kings<br>Team=%{x}<br>Stats (wins | losses)=%{y}<extra></extra>",
         "legendgroup": "Chennai Super Kings",
         "marker": {
          "color": "#B6E880",
          "pattern": {
           "shape": ""
          }
         },
         "name": "Chennai Super Kings",
         "offsetgroup": "Chennai Super Kings",
         "orientation": "v",
         "showlegend": true,
         "textposition": "auto",
         "type": "bar",
         "x": [
          "Deccan Chargers",
          "Kochi Tuskers Kerala",
          "Rising Pune Supergiants",
          "Kolkata Knight Riders",
          "Mumbai Indians",
          "Royal Challengers Bangalore",
          "Rajasthan Royals",
          "Pune Warriors",
          "Sunrisers Hyderabad",
          "Kings XI Punjab",
          "Gujarat Lions",
          "Delhi Capitals",
          "Deccan Chargers",
          "Kochi Tuskers Kerala",
          "Rising Pune Supergiants",
          "Kolkata Knight Riders",
          "Mumbai Indians",
          "Royal Challengers Bangalore",
          "Rajasthan Royals",
          "Pune Warriors",
          "Sunrisers Hyderabad",
          "Kings XI Punjab",
          "Gujarat Lions",
          "Delhi Capitals"
         ],
         "xaxis": "x",
         "y": [
          1,
          0,
          0,
          0,
          10,
          4,
          2,
          1,
          1,
          5,
          0,
          2,
          1,
          0,
          0,
          8,
          6,
          9,
          7,
          1,
          6,
          5,
          0,
          6
         ],
         "yaxis": "y"
        },
        {
         "alignmentgroup": "True",
         "hovertemplate": "Opponent=Sunrisers Hyderabad<br>Team=%{x}<br>Stats (wins | losses)=%{y}<extra></extra>",
         "legendgroup": "Sunrisers Hyderabad",
         "marker": {
          "color": "#FF97FF",
          "pattern": {
           "shape": ""
          }
         },
         "name": "Sunrisers Hyderabad",
         "offsetgroup": "Sunrisers Hyderabad",
         "orientation": "v",
         "showlegend": true,
         "textposition": "auto",
         "type": "bar",
         "x": [
          "Deccan Chargers",
          "Kochi Tuskers Kerala",
          "Rising Pune Supergiants",
          "Kolkata Knight Riders",
          "Mumbai Indians",
          "Royal Challengers Bangalore",
          "Rajasthan Royals",
          "Pune Warriors",
          "Chennai Super Kings",
          "Kings XI Punjab",
          "Gujarat Lions",
          "Delhi Capitals",
          "Deccan Chargers",
          "Kochi Tuskers Kerala",
          "Rising Pune Supergiants",
          "Kolkata Knight Riders",
          "Mumbai Indians",
          "Royal Challengers Bangalore",
          "Rajasthan Royals",
          "Pune Warriors",
          "Chennai Super Kings",
          "Kings XI Punjab",
          "Gujarat Lions",
          "Delhi Capitals"
         ],
         "xaxis": "x",
         "y": [
          0,
          0,
          1,
          4,
          3,
          2,
          0,
          0,
          3,
          2,
          0,
          2,
          0,
          0,
          0,
          3,
          4,
          3,
          2,
          0,
          2,
          3,
          5,
          6
         ],
         "yaxis": "y"
        },
        {
         "alignmentgroup": "True",
         "hovertemplate": "Opponent=Kings XI Punjab<br>Team=%{x}<br>Stats (wins | losses)=%{y}<extra></extra>",
         "legendgroup": "Kings XI Punjab",
         "marker": {
          "color": "#FECB52",
          "pattern": {
           "shape": ""
          }
         },
         "name": "Kings XI Punjab",
         "offsetgroup": "Kings XI Punjab",
         "orientation": "v",
         "showlegend": true,
         "textposition": "auto",
         "type": "bar",
         "x": [
          "Deccan Chargers",
          "Kochi Tuskers Kerala",
          "Rising Pune Supergiants",
          "Kolkata Knight Riders",
          "Mumbai Indians",
          "Royal Challengers Bangalore",
          "Rajasthan Royals",
          "Pune Warriors",
          "Chennai Super Kings",
          "Sunrisers Hyderabad",
          "Gujarat Lions",
          "Delhi Capitals",
          "Deccan Chargers",
          "Kochi Tuskers Kerala",
          "Rising Pune Supergiants",
          "Kolkata Knight Riders",
          "Mumbai Indians",
          "Royal Challengers Bangalore",
          "Rajasthan Royals",
          "Pune Warriors",
          "Chennai Super Kings",
          "Sunrisers Hyderabad",
          "Gujarat Lions",
          "Delhi Capitals"
         ],
         "xaxis": "x",
         "y": [
          2,
          0,
          0,
          5,
          5,
          6,
          6,
          1,
          7,
          7,
          0,
          2,
          5,
          1,
          2,
          3,
          4,
          8,
          3,
          3,
          4,
          2,
          0,
          9
         ],
         "yaxis": "y"
        },
        {
         "alignmentgroup": "True",
         "hovertemplate": "Opponent=Gujarat Lions<br>Team=%{x}<br>Stats (wins | losses)=%{y}<extra></extra>",
         "legendgroup": "Gujarat Lions",
         "marker": {
          "color": "#636efa",
          "pattern": {
           "shape": ""
          }
         },
         "name": "Gujarat Lions",
         "offsetgroup": "Gujarat Lions",
         "orientation": "v",
         "showlegend": true,
         "textposition": "auto",
         "type": "bar",
         "x": [
          "Deccan Chargers",
          "Kochi Tuskers Kerala",
          "Rising Pune Supergiants",
          "Kolkata Knight Riders",
          "Mumbai Indians",
          "Royal Challengers Bangalore",
          "Rajasthan Royals",
          "Pune Warriors",
          "Chennai Super Kings",
          "Sunrisers Hyderabad",
          "Kings XI Punjab",
          "Delhi Capitals",
          "Deccan Chargers",
          "Kochi Tuskers Kerala",
          "Rising Pune Supergiants",
          "Kolkata Knight Riders",
          "Mumbai Indians",
          "Royal Challengers Bangalore",
          "Rajasthan Royals",
          "Pune Warriors",
          "Chennai Super Kings",
          "Sunrisers Hyderabad",
          "Kings XI Punjab",
          "Delhi Capitals"
         ],
         "xaxis": "x",
         "y": [
          0,
          0,
          0,
          0,
          0,
          2,
          0,
          0,
          0,
          0,
          2,
          0,
          0,
          0,
          3,
          3,
          2,
          2,
          0,
          0,
          0,
          0,
          2,
          0
         ],
         "yaxis": "y"
        },
        {
         "alignmentgroup": "True",
         "hovertemplate": "Opponent=Delhi Capitals<br>Team=%{x}<br>Stats (wins | losses)=%{y}<extra></extra>",
         "legendgroup": "Delhi Capitals",
         "marker": {
          "color": "#EF553B",
          "pattern": {
           "shape": ""
          }
         },
         "name": "Delhi Capitals",
         "offsetgroup": "Delhi Capitals",
         "orientation": "v",
         "showlegend": true,
         "textposition": "auto",
         "type": "bar",
         "x": [
          "Deccan Chargers",
          "Kochi Tuskers Kerala",
          "Rising Pune Supergiants",
          "Kolkata Knight Riders",
          "Mumbai Indians",
          "Royal Challengers Bangalore",
          "Rajasthan Royals",
          "Pune Warriors",
          "Chennai Super Kings",
          "Sunrisers Hyderabad",
          "Kings XI Punjab",
          "Gujarat Lions",
          "Deccan Chargers",
          "Kochi Tuskers Kerala",
          "Rising Pune Supergiants",
          "Kolkata Knight Riders",
          "Mumbai Indians",
          "Royal Challengers Bangalore",
          "Rajasthan Royals",
          "Pune Warriors",
          "Chennai Super Kings",
          "Sunrisers Hyderabad",
          "Kings XI Punjab",
          "Gujarat Lions"
         ],
         "xaxis": "x",
         "y": [
          3,
          0,
          0,
          6,
          10,
          6,
          5,
          2,
          9,
          3,
          5,
          1,
          5,
          0,
          0,
          7,
          7,
          4,
          5,
          2,
          4,
          4,
          8,
          3
         ],
         "yaxis": "y"
        },
        {
         "alignmentgroup": "True",
         "hovertemplate": "Opponent=Deccan Chargers<br>Team=%{x}<br>Stats (wins | losses)=%{y}<extra></extra>",
         "legendgroup": "Deccan Chargers",
         "marker": {
          "color": "#00cc96",
          "pattern": {
           "shape": ""
          }
         },
         "name": "Deccan Chargers",
         "offsetgroup": "Deccan Chargers",
         "orientation": "v",
         "showlegend": true,
         "textposition": "auto",
         "type": "bar",
         "x": [
          "Kochi Tuskers Kerala",
          "Rising Pune Supergiants",
          "Kolkata Knight Riders",
          "Mumbai Indians",
          "Royal Challengers Bangalore",
          "Rajasthan Royals",
          "Pune Warriors",
          "Chennai Super Kings",
          "Sunrisers Hyderabad",
          "Kings XI Punjab",
          "Gujarat Lions",
          "Delhi Capitals",
          "Kochi Tuskers Kerala",
          "Rising Pune Supergiants",
          "Kolkata Knight Riders",
          "Mumbai Indians",
          "Royal Challengers Bangalore",
          "Rajasthan Royals",
          "Pune Warriors",
          "Chennai Super Kings",
          "Sunrisers Hyderabad",
          "Kings XI Punjab",
          "Gujarat Lions",
          "Delhi Capitals"
         ],
         "xaxis": "x",
         "y": [
          0,
          0,
          5,
          4,
          2,
          1,
          0,
          5,
          0,
          2,
          0,
          2,
          0,
          0,
          2,
          1,
          1,
          1,
          1,
          3,
          0,
          1,
          0,
          1
         ],
         "yaxis": "y"
        }
       ],
       "layout": {
        "barmode": "relative",
        "height": 800,
        "legend": {
         "title": {
          "text": "Opponent"
         },
         "tracegroupgap": 0
        },
        "template": {
         "data": {
          "bar": [
           {
            "error_x": {
             "color": "#2a3f5f"
            },
            "error_y": {
             "color": "#2a3f5f"
            },
            "marker": {
             "line": {
              "color": "#E5ECF6",
              "width": 0.5
             },
             "pattern": {
              "fillmode": "overlay",
              "size": 10,
              "solidity": 0.2
             }
            },
            "type": "bar"
           }
          ],
          "barpolar": [
           {
            "marker": {
             "line": {
              "color": "#E5ECF6",
              "width": 0.5
             },
             "pattern": {
              "fillmode": "overlay",
              "size": 10,
              "solidity": 0.2
             }
            },
            "type": "barpolar"
           }
          ],
          "carpet": [
           {
            "aaxis": {
             "endlinecolor": "#2a3f5f",
             "gridcolor": "white",
             "linecolor": "white",
             "minorgridcolor": "white",
             "startlinecolor": "#2a3f5f"
            },
            "baxis": {
             "endlinecolor": "#2a3f5f",
             "gridcolor": "white",
             "linecolor": "white",
             "minorgridcolor": "white",
             "startlinecolor": "#2a3f5f"
            },
            "type": "carpet"
           }
          ],
          "choropleth": [
           {
            "colorbar": {
             "outlinewidth": 0,
             "ticks": ""
            },
            "type": "choropleth"
           }
          ],
          "contour": [
           {
            "colorbar": {
             "outlinewidth": 0,
             "ticks": ""
            },
            "colorscale": [
             [
              0,
              "#0d0887"
             ],
             [
              0.1111111111111111,
              "#46039f"
             ],
             [
              0.2222222222222222,
              "#7201a8"
             ],
             [
              0.3333333333333333,
              "#9c179e"
             ],
             [
              0.4444444444444444,
              "#bd3786"
             ],
             [
              0.5555555555555556,
              "#d8576b"
             ],
             [
              0.6666666666666666,
              "#ed7953"
             ],
             [
              0.7777777777777778,
              "#fb9f3a"
             ],
             [
              0.8888888888888888,
              "#fdca26"
             ],
             [
              1,
              "#f0f921"
             ]
            ],
            "type": "contour"
           }
          ],
          "contourcarpet": [
           {
            "colorbar": {
             "outlinewidth": 0,
             "ticks": ""
            },
            "type": "contourcarpet"
           }
          ],
          "heatmap": [
           {
            "colorbar": {
             "outlinewidth": 0,
             "ticks": ""
            },
            "colorscale": [
             [
              0,
              "#0d0887"
             ],
             [
              0.1111111111111111,
              "#46039f"
             ],
             [
              0.2222222222222222,
              "#7201a8"
             ],
             [
              0.3333333333333333,
              "#9c179e"
             ],
             [
              0.4444444444444444,
              "#bd3786"
             ],
             [
              0.5555555555555556,
              "#d8576b"
             ],
             [
              0.6666666666666666,
              "#ed7953"
             ],
             [
              0.7777777777777778,
              "#fb9f3a"
             ],
             [
              0.8888888888888888,
              "#fdca26"
             ],
             [
              1,
              "#f0f921"
             ]
            ],
            "type": "heatmap"
           }
          ],
          "heatmapgl": [
           {
            "colorbar": {
             "outlinewidth": 0,
             "ticks": ""
            },
            "colorscale": [
             [
              0,
              "#0d0887"
             ],
             [
              0.1111111111111111,
              "#46039f"
             ],
             [
              0.2222222222222222,
              "#7201a8"
             ],
             [
              0.3333333333333333,
              "#9c179e"
             ],
             [
              0.4444444444444444,
              "#bd3786"
             ],
             [
              0.5555555555555556,
              "#d8576b"
             ],
             [
              0.6666666666666666,
              "#ed7953"
             ],
             [
              0.7777777777777778,
              "#fb9f3a"
             ],
             [
              0.8888888888888888,
              "#fdca26"
             ],
             [
              1,
              "#f0f921"
             ]
            ],
            "type": "heatmapgl"
           }
          ],
          "histogram": [
           {
            "marker": {
             "pattern": {
              "fillmode": "overlay",
              "size": 10,
              "solidity": 0.2
             }
            },
            "type": "histogram"
           }
          ],
          "histogram2d": [
           {
            "colorbar": {
             "outlinewidth": 0,
             "ticks": ""
            },
            "colorscale": [
             [
              0,
              "#0d0887"
             ],
             [
              0.1111111111111111,
              "#46039f"
             ],
             [
              0.2222222222222222,
              "#7201a8"
             ],
             [
              0.3333333333333333,
              "#9c179e"
             ],
             [
              0.4444444444444444,
              "#bd3786"
             ],
             [
              0.5555555555555556,
              "#d8576b"
             ],
             [
              0.6666666666666666,
              "#ed7953"
             ],
             [
              0.7777777777777778,
              "#fb9f3a"
             ],
             [
              0.8888888888888888,
              "#fdca26"
             ],
             [
              1,
              "#f0f921"
             ]
            ],
            "type": "histogram2d"
           }
          ],
          "histogram2dcontour": [
           {
            "colorbar": {
             "outlinewidth": 0,
             "ticks": ""
            },
            "colorscale": [
             [
              0,
              "#0d0887"
             ],
             [
              0.1111111111111111,
              "#46039f"
             ],
             [
              0.2222222222222222,
              "#7201a8"
             ],
             [
              0.3333333333333333,
              "#9c179e"
             ],
             [
              0.4444444444444444,
              "#bd3786"
             ],
             [
              0.5555555555555556,
              "#d8576b"
             ],
             [
              0.6666666666666666,
              "#ed7953"
             ],
             [
              0.7777777777777778,
              "#fb9f3a"
             ],
             [
              0.8888888888888888,
              "#fdca26"
             ],
             [
              1,
              "#f0f921"
             ]
            ],
            "type": "histogram2dcontour"
           }
          ],
          "mesh3d": [
           {
            "colorbar": {
             "outlinewidth": 0,
             "ticks": ""
            },
            "type": "mesh3d"
           }
          ],
          "parcoords": [
           {
            "line": {
             "colorbar": {
              "outlinewidth": 0,
              "ticks": ""
             }
            },
            "type": "parcoords"
           }
          ],
          "pie": [
           {
            "automargin": true,
            "type": "pie"
           }
          ],
          "scatter": [
           {
            "marker": {
             "colorbar": {
              "outlinewidth": 0,
              "ticks": ""
             }
            },
            "type": "scatter"
           }
          ],
          "scatter3d": [
           {
            "line": {
             "colorbar": {
              "outlinewidth": 0,
              "ticks": ""
             }
            },
            "marker": {
             "colorbar": {
              "outlinewidth": 0,
              "ticks": ""
             }
            },
            "type": "scatter3d"
           }
          ],
          "scattercarpet": [
           {
            "marker": {
             "colorbar": {
              "outlinewidth": 0,
              "ticks": ""
             }
            },
            "type": "scattercarpet"
           }
          ],
          "scattergeo": [
           {
            "marker": {
             "colorbar": {
              "outlinewidth": 0,
              "ticks": ""
             }
            },
            "type": "scattergeo"
           }
          ],
          "scattergl": [
           {
            "marker": {
             "colorbar": {
              "outlinewidth": 0,
              "ticks": ""
             }
            },
            "type": "scattergl"
           }
          ],
          "scattermapbox": [
           {
            "marker": {
             "colorbar": {
              "outlinewidth": 0,
              "ticks": ""
             }
            },
            "type": "scattermapbox"
           }
          ],
          "scatterpolar": [
           {
            "marker": {
             "colorbar": {
              "outlinewidth": 0,
              "ticks": ""
             }
            },
            "type": "scatterpolar"
           }
          ],
          "scatterpolargl": [
           {
            "marker": {
             "colorbar": {
              "outlinewidth": 0,
              "ticks": ""
             }
            },
            "type": "scatterpolargl"
           }
          ],
          "scatterternary": [
           {
            "marker": {
             "colorbar": {
              "outlinewidth": 0,
              "ticks": ""
             }
            },
            "type": "scatterternary"
           }
          ],
          "surface": [
           {
            "colorbar": {
             "outlinewidth": 0,
             "ticks": ""
            },
            "colorscale": [
             [
              0,
              "#0d0887"
             ],
             [
              0.1111111111111111,
              "#46039f"
             ],
             [
              0.2222222222222222,
              "#7201a8"
             ],
             [
              0.3333333333333333,
              "#9c179e"
             ],
             [
              0.4444444444444444,
              "#bd3786"
             ],
             [
              0.5555555555555556,
              "#d8576b"
             ],
             [
              0.6666666666666666,
              "#ed7953"
             ],
             [
              0.7777777777777778,
              "#fb9f3a"
             ],
             [
              0.8888888888888888,
              "#fdca26"
             ],
             [
              1,
              "#f0f921"
             ]
            ],
            "type": "surface"
           }
          ],
          "table": [
           {
            "cells": {
             "fill": {
              "color": "#EBF0F8"
             },
             "line": {
              "color": "white"
             }
            },
            "header": {
             "fill": {
              "color": "#C8D4E3"
             },
             "line": {
              "color": "white"
             }
            },
            "type": "table"
           }
          ]
         },
         "layout": {
          "annotationdefaults": {
           "arrowcolor": "#2a3f5f",
           "arrowhead": 0,
           "arrowwidth": 1
          },
          "autotypenumbers": "strict",
          "coloraxis": {
           "colorbar": {
            "outlinewidth": 0,
            "ticks": ""
           }
          },
          "colorscale": {
           "diverging": [
            [
             0,
             "#8e0152"
            ],
            [
             0.1,
             "#c51b7d"
            ],
            [
             0.2,
             "#de77ae"
            ],
            [
             0.3,
             "#f1b6da"
            ],
            [
             0.4,
             "#fde0ef"
            ],
            [
             0.5,
             "#f7f7f7"
            ],
            [
             0.6,
             "#e6f5d0"
            ],
            [
             0.7,
             "#b8e186"
            ],
            [
             0.8,
             "#7fbc41"
            ],
            [
             0.9,
             "#4d9221"
            ],
            [
             1,
             "#276419"
            ]
           ],
           "sequential": [
            [
             0,
             "#0d0887"
            ],
            [
             0.1111111111111111,
             "#46039f"
            ],
            [
             0.2222222222222222,
             "#7201a8"
            ],
            [
             0.3333333333333333,
             "#9c179e"
            ],
            [
             0.4444444444444444,
             "#bd3786"
            ],
            [
             0.5555555555555556,
             "#d8576b"
            ],
            [
             0.6666666666666666,
             "#ed7953"
            ],
            [
             0.7777777777777778,
             "#fb9f3a"
            ],
            [
             0.8888888888888888,
             "#fdca26"
            ],
            [
             1,
             "#f0f921"
            ]
           ],
           "sequentialminus": [
            [
             0,
             "#0d0887"
            ],
            [
             0.1111111111111111,
             "#46039f"
            ],
            [
             0.2222222222222222,
             "#7201a8"
            ],
            [
             0.3333333333333333,
             "#9c179e"
            ],
            [
             0.4444444444444444,
             "#bd3786"
            ],
            [
             0.5555555555555556,
             "#d8576b"
            ],
            [
             0.6666666666666666,
             "#ed7953"
            ],
            [
             0.7777777777777778,
             "#fb9f3a"
            ],
            [
             0.8888888888888888,
             "#fdca26"
            ],
            [
             1,
             "#f0f921"
            ]
           ]
          },
          "colorway": [
           "#636efa",
           "#EF553B",
           "#00cc96",
           "#ab63fa",
           "#FFA15A",
           "#19d3f3",
           "#FF6692",
           "#B6E880",
           "#FF97FF",
           "#FECB52"
          ],
          "font": {
           "color": "#2a3f5f"
          },
          "geo": {
           "bgcolor": "white",
           "lakecolor": "white",
           "landcolor": "#E5ECF6",
           "showlakes": true,
           "showland": true,
           "subunitcolor": "white"
          },
          "hoverlabel": {
           "align": "left"
          },
          "hovermode": "closest",
          "mapbox": {
           "style": "light"
          },
          "paper_bgcolor": "white",
          "plot_bgcolor": "#E5ECF6",
          "polar": {
           "angularaxis": {
            "gridcolor": "white",
            "linecolor": "white",
            "ticks": ""
           },
           "bgcolor": "#E5ECF6",
           "radialaxis": {
            "gridcolor": "white",
            "linecolor": "white",
            "ticks": ""
           }
          },
          "scene": {
           "xaxis": {
            "backgroundcolor": "#E5ECF6",
            "gridcolor": "white",
            "gridwidth": 2,
            "linecolor": "white",
            "showbackground": true,
            "ticks": "",
            "zerolinecolor": "white"
           },
           "yaxis": {
            "backgroundcolor": "#E5ECF6",
            "gridcolor": "white",
            "gridwidth": 2,
            "linecolor": "white",
            "showbackground": true,
            "ticks": "",
            "zerolinecolor": "white"
           },
           "zaxis": {
            "backgroundcolor": "#E5ECF6",
            "gridcolor": "white",
            "gridwidth": 2,
            "linecolor": "white",
            "showbackground": true,
            "ticks": "",
            "zerolinecolor": "white"
           }
          },
          "shapedefaults": {
           "line": {
            "color": "#2a3f5f"
           }
          },
          "ternary": {
           "aaxis": {
            "gridcolor": "white",
            "linecolor": "white",
            "ticks": ""
           },
           "baxis": {
            "gridcolor": "white",
            "linecolor": "white",
            "ticks": ""
           },
           "bgcolor": "#E5ECF6",
           "caxis": {
            "gridcolor": "white",
            "linecolor": "white",
            "ticks": ""
           }
          },
          "title": {
           "x": 0.05
          },
          "xaxis": {
           "automargin": true,
           "gridcolor": "white",
           "linecolor": "white",
           "ticks": "",
           "title": {
            "standoff": 15
           },
           "zerolinecolor": "white",
           "zerolinewidth": 2
          },
          "yaxis": {
           "automargin": true,
           "gridcolor": "white",
           "linecolor": "white",
           "ticks": "",
           "title": {
            "standoff": 15
           },
           "zerolinecolor": "white",
           "zerolinewidth": 2
          }
         }
        },
        "title": {
         "text": "Stacked head-to-head performance at home"
        },
        "width": 1000,
        "xaxis": {
         "anchor": "y",
         "domain": [
          0,
          1
         ],
         "title": {
          "text": "Team"
         }
        },
        "yaxis": {
         "anchor": "x",
         "domain": [
          0,
          1
         ],
         "title": {
          "text": "Stats (wins | losses)"
         }
        }
       }
      },
      "text/html": [
       "<div>                            <div id=\"7bccba87-a524-4ac5-a1e8-bb57610eef1e\" class=\"plotly-graph-div\" style=\"height:800px; width:1000px;\"></div>            <script type=\"text/javascript\">                require([\"plotly\"], function(Plotly) {                    window.PLOTLYENV=window.PLOTLYENV || {};                                    if (document.getElementById(\"7bccba87-a524-4ac5-a1e8-bb57610eef1e\")) {                    Plotly.newPlot(                        \"7bccba87-a524-4ac5-a1e8-bb57610eef1e\",                        [{\"alignmentgroup\":\"True\",\"hovertemplate\":\"Opponent=Kochi Tuskers Kerala<br>Team=%{x}<br>Stats (wins | losses)=%{y}<extra></extra>\",\"legendgroup\":\"Kochi Tuskers Kerala\",\"marker\":{\"color\":\"#636efa\",\"pattern\":{\"shape\":\"\"}},\"name\":\"Kochi Tuskers Kerala\",\"offsetgroup\":\"Kochi Tuskers Kerala\",\"orientation\":\"v\",\"showlegend\":true,\"textposition\":\"auto\",\"type\":\"bar\",\"x\":[\"Deccan Chargers\",\"Rising Pune Supergiants\",\"Kolkata Knight Riders\",\"Mumbai Indians\",\"Royal Challengers Bangalore\",\"Rajasthan Royals\",\"Pune Warriors\",\"Chennai Super Kings\",\"Sunrisers Hyderabad\",\"Kings XI Punjab\",\"Gujarat Lions\",\"Delhi Capitals\",\"Deccan Chargers\",\"Rising Pune Supergiants\",\"Kolkata Knight Riders\",\"Mumbai Indians\",\"Royal Challengers Bangalore\",\"Rajasthan Royals\",\"Pune Warriors\",\"Chennai Super Kings\",\"Sunrisers Hyderabad\",\"Kings XI Punjab\",\"Gujarat Lions\",\"Delhi Capitals\"],\"xaxis\":\"x\",\"y\":[1.0,0.0,0.0,0.0,0.0,0.0,0.0,1.0,0.0,0.0,0.0,1.0,0.0,0.0,0.0,1.0,0.0,1.0,0.0,1.0,0.0,0.0,0.0,1.0],\"yaxis\":\"y\"},{\"alignmentgroup\":\"True\",\"hovertemplate\":\"Opponent=Rising Pune Supergiants<br>Team=%{x}<br>Stats (wins | losses)=%{y}<extra></extra>\",\"legendgroup\":\"Rising Pune Supergiants\",\"marker\":{\"color\":\"#EF553B\",\"pattern\":{\"shape\":\"\"}},\"name\":\"Rising Pune Supergiants\",\"offsetgroup\":\"Rising Pune Supergiants\",\"orientation\":\"v\",\"showlegend\":true,\"textposition\":\"auto\",\"type\":\"bar\",\"x\":[\"Deccan Chargers\",\"Kochi Tuskers Kerala\",\"Kolkata Knight Riders\",\"Mumbai Indians\",\"Royal Challengers Bangalore\",\"Rajasthan Royals\",\"Pune Warriors\",\"Chennai Super Kings\",\"Sunrisers Hyderabad\",\"Kings XI Punjab\",\"Gujarat Lions\",\"Delhi Capitals\",\"Deccan Chargers\",\"Kochi Tuskers Kerala\",\"Kolkata Knight Riders\",\"Mumbai Indians\",\"Royal Challengers Bangalore\",\"Rajasthan Royals\",\"Pune Warriors\",\"Chennai Super Kings\",\"Sunrisers Hyderabad\",\"Kings XI Punjab\",\"Gujarat Lions\",\"Delhi Capitals\"],\"xaxis\":\"x\",\"y\":[0.0,0.0,0.0,1.0,1.0,0.0,0.0,0.0,1.0,0.0,0.0,2.0,0.0,0.0,1.0,2.0,0.0,0.0,0.0,0.0,2.0,2.0,1.0,2.0],\"yaxis\":\"y\"},{\"alignmentgroup\":\"True\",\"hovertemplate\":\"Opponent=Kolkata Knight Riders<br>Team=%{x}<br>Stats (wins | losses)=%{y}<extra></extra>\",\"legendgroup\":\"Kolkata Knight Riders\",\"marker\":{\"color\":\"#00cc96\",\"pattern\":{\"shape\":\"\"}},\"name\":\"Kolkata Knight Riders\",\"offsetgroup\":\"Kolkata Knight Riders\",\"orientation\":\"v\",\"showlegend\":true,\"textposition\":\"auto\",\"type\":\"bar\",\"x\":[\"Deccan Chargers\",\"Kochi Tuskers Kerala\",\"Rising Pune Supergiants\",\"Mumbai Indians\",\"Royal Challengers Bangalore\",\"Rajasthan Royals\",\"Pune Warriors\",\"Chennai Super Kings\",\"Sunrisers Hyderabad\",\"Kings XI Punjab\",\"Gujarat Lions\",\"Delhi Capitals\",\"Deccan Chargers\",\"Kochi Tuskers Kerala\",\"Rising Pune Supergiants\",\"Mumbai Indians\",\"Royal Challengers Bangalore\",\"Rajasthan Royals\",\"Pune Warriors\",\"Chennai Super Kings\",\"Sunrisers Hyderabad\",\"Kings XI Punjab\",\"Gujarat Lions\",\"Delhi Capitals\"],\"xaxis\":\"x\",\"y\":[0.0,2.0,0.0,8.0,1.0,8.0,1.0,5.0,4.0,5.0,0.0,3.0,2.0,0.0,3.0,3.0,7.0,9.0,1.0,7.0,6.0,12.0,1.0,7.0],\"yaxis\":\"y\"},{\"alignmentgroup\":\"True\",\"hovertemplate\":\"Opponent=Mumbai Indians<br>Team=%{x}<br>Stats (wins | losses)=%{y}<extra></extra>\",\"legendgroup\":\"Mumbai Indians\",\"marker\":{\"color\":\"#ab63fa\",\"pattern\":{\"shape\":\"\"}},\"name\":\"Mumbai Indians\",\"offsetgroup\":\"Mumbai Indians\",\"orientation\":\"v\",\"showlegend\":true,\"textposition\":\"auto\",\"type\":\"bar\",\"x\":[\"Deccan Chargers\",\"Kochi Tuskers Kerala\",\"Rising Pune Supergiants\",\"Kolkata Knight Riders\",\"Royal Challengers Bangalore\",\"Rajasthan Royals\",\"Pune Warriors\",\"Chennai Super Kings\",\"Sunrisers Hyderabad\",\"Kings XI Punjab\",\"Gujarat Lions\",\"Delhi Capitals\",\"Deccan Chargers\",\"Kochi Tuskers Kerala\",\"Rising Pune Supergiants\",\"Kolkata Knight Riders\",\"Royal Challengers Bangalore\",\"Rajasthan Royals\",\"Pune Warriors\",\"Chennai Super Kings\",\"Sunrisers Hyderabad\",\"Kings XI Punjab\",\"Gujarat Lions\",\"Delhi Capitals\"],\"xaxis\":\"x\",\"y\":[3.0,0.0,2.0,3.0,4.0,2.0,1.0,5.0,3.0,7.0,0.0,5.0,2.0,0.0,1.0,11.0,8.0,4.0,2.0,7.0,4.0,8.0,2.0,2.0],\"yaxis\":\"y\"},{\"alignmentgroup\":\"True\",\"hovertemplate\":\"Opponent=Royal Challengers Bangalore<br>Team=%{x}<br>Stats (wins | losses)=%{y}<extra></extra>\",\"legendgroup\":\"Royal Challengers Bangalore\",\"marker\":{\"color\":\"#FFA15A\",\"pattern\":{\"shape\":\"\"}},\"name\":\"Royal Challengers Bangalore\",\"offsetgroup\":\"Royal Challengers Bangalore\",\"orientation\":\"v\",\"showlegend\":true,\"textposition\":\"auto\",\"type\":\"bar\",\"x\":[\"Deccan Chargers\",\"Kochi Tuskers Kerala\",\"Rising Pune Supergiants\",\"Kolkata Knight Riders\",\"Mumbai Indians\",\"Rajasthan Royals\",\"Pune Warriors\",\"Chennai Super Kings\",\"Sunrisers Hyderabad\",\"Kings XI Punjab\",\"Gujarat Lions\",\"Delhi Capitals\",\"Deccan Chargers\",\"Kochi Tuskers Kerala\",\"Rising Pune Supergiants\",\"Kolkata Knight Riders\",\"Mumbai Indians\",\"Rajasthan Royals\",\"Pune Warriors\",\"Chennai Super Kings\",\"Sunrisers Hyderabad\",\"Kings XI Punjab\",\"Gujarat Lions\",\"Delhi Capitals\"],\"xaxis\":\"x\",\"y\":[5.0,0.0,2.0,7.0,8.0,4.0,0.0,6.0,5.0,4.0,0.0,4.0,3.0,2.0,1.0,9.0,5.0,5.0,1.0,4.0,4.0,6.0,1.0,8.0],\"yaxis\":\"y\"},{\"alignmentgroup\":\"True\",\"hovertemplate\":\"Opponent=Rajasthan Royals<br>Team=%{x}<br>Stats (wins | losses)=%{y}<extra></extra>\",\"legendgroup\":\"Rajasthan Royals\",\"marker\":{\"color\":\"#19d3f3\",\"pattern\":{\"shape\":\"\"}},\"name\":\"Rajasthan Royals\",\"offsetgroup\":\"Rajasthan Royals\",\"orientation\":\"v\",\"showlegend\":true,\"textposition\":\"auto\",\"type\":\"bar\",\"x\":[\"Deccan Chargers\",\"Kochi Tuskers Kerala\",\"Rising Pune Supergiants\",\"Kolkata Knight Riders\",\"Mumbai Indians\",\"Royal Challengers Bangalore\",\"Pune Warriors\",\"Chennai Super Kings\",\"Sunrisers Hyderabad\",\"Kings XI Punjab\",\"Gujarat Lions\",\"Delhi Capitals\",\"Deccan Chargers\",\"Kochi Tuskers Kerala\",\"Rising Pune Supergiants\",\"Kolkata Knight Riders\",\"Mumbai Indians\",\"Royal Challengers Bangalore\",\"Pune Warriors\",\"Chennai Super Kings\",\"Sunrisers Hyderabad\",\"Kings XI Punjab\",\"Gujarat Lions\",\"Delhi Capitals\"],\"xaxis\":\"x\",\"y\":[1.0,0.0,0.0,1.0,6.0,3.0,0.0,7.0,4.0,6.0,0.0,4.0,6.0,1.0,0.0,2.0,8.0,6.0,3.0,5.0,5.0,4.0,0.0,6.0],\"yaxis\":\"y\"},{\"alignmentgroup\":\"True\",\"hovertemplate\":\"Opponent=Pune Warriors<br>Team=%{x}<br>Stats (wins | losses)=%{y}<extra></extra>\",\"legendgroup\":\"Pune Warriors\",\"marker\":{\"color\":\"#FF6692\",\"pattern\":{\"shape\":\"\"}},\"name\":\"Pune Warriors\",\"offsetgroup\":\"Pune Warriors\",\"orientation\":\"v\",\"showlegend\":true,\"textposition\":\"auto\",\"type\":\"bar\",\"x\":[\"Deccan Chargers\",\"Kochi Tuskers Kerala\",\"Rising Pune Supergiants\",\"Kolkata Knight Riders\",\"Mumbai Indians\",\"Royal Challengers Bangalore\",\"Rajasthan Royals\",\"Chennai Super Kings\",\"Sunrisers Hyderabad\",\"Kings XI Punjab\",\"Gujarat Lions\",\"Delhi Capitals\",\"Deccan Chargers\",\"Kochi Tuskers Kerala\",\"Rising Pune Supergiants\",\"Kolkata Knight Riders\",\"Mumbai Indians\",\"Royal Challengers Bangalore\",\"Rajasthan Royals\",\"Chennai Super Kings\",\"Sunrisers Hyderabad\",\"Kings XI Punjab\",\"Gujarat Lions\",\"Delhi Capitals\"],\"xaxis\":\"x\",\"y\":[2.0,0.0,0.0,3.0,3.0,4.0,1.0,3.0,2.0,0.0,0.0,1.0,1.0,1.0,0.0,0.0,0.0,0.0,1.0,1.0,0.0,2.0,0.0,0.0],\"yaxis\":\"y\"},{\"alignmentgroup\":\"True\",\"hovertemplate\":\"Opponent=Chennai Super Kings<br>Team=%{x}<br>Stats (wins | losses)=%{y}<extra></extra>\",\"legendgroup\":\"Chennai Super Kings\",\"marker\":{\"color\":\"#B6E880\",\"pattern\":{\"shape\":\"\"}},\"name\":\"Chennai Super Kings\",\"offsetgroup\":\"Chennai Super Kings\",\"orientation\":\"v\",\"showlegend\":true,\"textposition\":\"auto\",\"type\":\"bar\",\"x\":[\"Deccan Chargers\",\"Kochi Tuskers Kerala\",\"Rising Pune Supergiants\",\"Kolkata Knight Riders\",\"Mumbai Indians\",\"Royal Challengers Bangalore\",\"Rajasthan Royals\",\"Pune Warriors\",\"Sunrisers Hyderabad\",\"Kings XI Punjab\",\"Gujarat Lions\",\"Delhi Capitals\",\"Deccan Chargers\",\"Kochi Tuskers Kerala\",\"Rising Pune Supergiants\",\"Kolkata Knight Riders\",\"Mumbai Indians\",\"Royal Challengers Bangalore\",\"Rajasthan Royals\",\"Pune Warriors\",\"Sunrisers Hyderabad\",\"Kings XI Punjab\",\"Gujarat Lions\",\"Delhi Capitals\"],\"xaxis\":\"x\",\"y\":[1.0,0.0,0.0,0.0,10.0,4.0,2.0,1.0,1.0,5.0,0.0,2.0,1.0,0.0,0.0,8.0,6.0,9.0,7.0,1.0,6.0,5.0,0.0,6.0],\"yaxis\":\"y\"},{\"alignmentgroup\":\"True\",\"hovertemplate\":\"Opponent=Sunrisers Hyderabad<br>Team=%{x}<br>Stats (wins | losses)=%{y}<extra></extra>\",\"legendgroup\":\"Sunrisers Hyderabad\",\"marker\":{\"color\":\"#FF97FF\",\"pattern\":{\"shape\":\"\"}},\"name\":\"Sunrisers Hyderabad\",\"offsetgroup\":\"Sunrisers Hyderabad\",\"orientation\":\"v\",\"showlegend\":true,\"textposition\":\"auto\",\"type\":\"bar\",\"x\":[\"Deccan Chargers\",\"Kochi Tuskers Kerala\",\"Rising Pune Supergiants\",\"Kolkata Knight Riders\",\"Mumbai Indians\",\"Royal Challengers Bangalore\",\"Rajasthan Royals\",\"Pune Warriors\",\"Chennai Super Kings\",\"Kings XI Punjab\",\"Gujarat Lions\",\"Delhi Capitals\",\"Deccan Chargers\",\"Kochi Tuskers Kerala\",\"Rising Pune Supergiants\",\"Kolkata Knight Riders\",\"Mumbai Indians\",\"Royal Challengers Bangalore\",\"Rajasthan Royals\",\"Pune Warriors\",\"Chennai Super Kings\",\"Kings XI Punjab\",\"Gujarat Lions\",\"Delhi Capitals\"],\"xaxis\":\"x\",\"y\":[0.0,0.0,1.0,4.0,3.0,2.0,0.0,0.0,3.0,2.0,0.0,2.0,0.0,0.0,0.0,3.0,4.0,3.0,2.0,0.0,2.0,3.0,5.0,6.0],\"yaxis\":\"y\"},{\"alignmentgroup\":\"True\",\"hovertemplate\":\"Opponent=Kings XI Punjab<br>Team=%{x}<br>Stats (wins | losses)=%{y}<extra></extra>\",\"legendgroup\":\"Kings XI Punjab\",\"marker\":{\"color\":\"#FECB52\",\"pattern\":{\"shape\":\"\"}},\"name\":\"Kings XI Punjab\",\"offsetgroup\":\"Kings XI Punjab\",\"orientation\":\"v\",\"showlegend\":true,\"textposition\":\"auto\",\"type\":\"bar\",\"x\":[\"Deccan Chargers\",\"Kochi Tuskers Kerala\",\"Rising Pune Supergiants\",\"Kolkata Knight Riders\",\"Mumbai Indians\",\"Royal Challengers Bangalore\",\"Rajasthan Royals\",\"Pune Warriors\",\"Chennai Super Kings\",\"Sunrisers Hyderabad\",\"Gujarat Lions\",\"Delhi Capitals\",\"Deccan Chargers\",\"Kochi Tuskers Kerala\",\"Rising Pune Supergiants\",\"Kolkata Knight Riders\",\"Mumbai Indians\",\"Royal Challengers Bangalore\",\"Rajasthan Royals\",\"Pune Warriors\",\"Chennai Super Kings\",\"Sunrisers Hyderabad\",\"Gujarat Lions\",\"Delhi Capitals\"],\"xaxis\":\"x\",\"y\":[2.0,0.0,0.0,5.0,5.0,6.0,6.0,1.0,7.0,7.0,0.0,2.0,5.0,1.0,2.0,3.0,4.0,8.0,3.0,3.0,4.0,2.0,0.0,9.0],\"yaxis\":\"y\"},{\"alignmentgroup\":\"True\",\"hovertemplate\":\"Opponent=Gujarat Lions<br>Team=%{x}<br>Stats (wins | losses)=%{y}<extra></extra>\",\"legendgroup\":\"Gujarat Lions\",\"marker\":{\"color\":\"#636efa\",\"pattern\":{\"shape\":\"\"}},\"name\":\"Gujarat Lions\",\"offsetgroup\":\"Gujarat Lions\",\"orientation\":\"v\",\"showlegend\":true,\"textposition\":\"auto\",\"type\":\"bar\",\"x\":[\"Deccan Chargers\",\"Kochi Tuskers Kerala\",\"Rising Pune Supergiants\",\"Kolkata Knight Riders\",\"Mumbai Indians\",\"Royal Challengers Bangalore\",\"Rajasthan Royals\",\"Pune Warriors\",\"Chennai Super Kings\",\"Sunrisers Hyderabad\",\"Kings XI Punjab\",\"Delhi Capitals\",\"Deccan Chargers\",\"Kochi Tuskers Kerala\",\"Rising Pune Supergiants\",\"Kolkata Knight Riders\",\"Mumbai Indians\",\"Royal Challengers Bangalore\",\"Rajasthan Royals\",\"Pune Warriors\",\"Chennai Super Kings\",\"Sunrisers Hyderabad\",\"Kings XI Punjab\",\"Delhi Capitals\"],\"xaxis\":\"x\",\"y\":[0.0,0.0,0.0,0.0,0.0,2.0,0.0,0.0,0.0,0.0,2.0,0.0,0.0,0.0,3.0,3.0,2.0,2.0,0.0,0.0,0.0,0.0,2.0,0.0],\"yaxis\":\"y\"},{\"alignmentgroup\":\"True\",\"hovertemplate\":\"Opponent=Delhi Capitals<br>Team=%{x}<br>Stats (wins | losses)=%{y}<extra></extra>\",\"legendgroup\":\"Delhi Capitals\",\"marker\":{\"color\":\"#EF553B\",\"pattern\":{\"shape\":\"\"}},\"name\":\"Delhi Capitals\",\"offsetgroup\":\"Delhi Capitals\",\"orientation\":\"v\",\"showlegend\":true,\"textposition\":\"auto\",\"type\":\"bar\",\"x\":[\"Deccan Chargers\",\"Kochi Tuskers Kerala\",\"Rising Pune Supergiants\",\"Kolkata Knight Riders\",\"Mumbai Indians\",\"Royal Challengers Bangalore\",\"Rajasthan Royals\",\"Pune Warriors\",\"Chennai Super Kings\",\"Sunrisers Hyderabad\",\"Kings XI Punjab\",\"Gujarat Lions\",\"Deccan Chargers\",\"Kochi Tuskers Kerala\",\"Rising Pune Supergiants\",\"Kolkata Knight Riders\",\"Mumbai Indians\",\"Royal Challengers Bangalore\",\"Rajasthan Royals\",\"Pune Warriors\",\"Chennai Super Kings\",\"Sunrisers Hyderabad\",\"Kings XI Punjab\",\"Gujarat Lions\"],\"xaxis\":\"x\",\"y\":[3.0,0.0,0.0,6.0,10.0,6.0,5.0,2.0,9.0,3.0,5.0,1.0,5.0,0.0,0.0,7.0,7.0,4.0,5.0,2.0,4.0,4.0,8.0,3.0],\"yaxis\":\"y\"},{\"alignmentgroup\":\"True\",\"hovertemplate\":\"Opponent=Deccan Chargers<br>Team=%{x}<br>Stats (wins | losses)=%{y}<extra></extra>\",\"legendgroup\":\"Deccan Chargers\",\"marker\":{\"color\":\"#00cc96\",\"pattern\":{\"shape\":\"\"}},\"name\":\"Deccan Chargers\",\"offsetgroup\":\"Deccan Chargers\",\"orientation\":\"v\",\"showlegend\":true,\"textposition\":\"auto\",\"type\":\"bar\",\"x\":[\"Kochi Tuskers Kerala\",\"Rising Pune Supergiants\",\"Kolkata Knight Riders\",\"Mumbai Indians\",\"Royal Challengers Bangalore\",\"Rajasthan Royals\",\"Pune Warriors\",\"Chennai Super Kings\",\"Sunrisers Hyderabad\",\"Kings XI Punjab\",\"Gujarat Lions\",\"Delhi Capitals\",\"Kochi Tuskers Kerala\",\"Rising Pune Supergiants\",\"Kolkata Knight Riders\",\"Mumbai Indians\",\"Royal Challengers Bangalore\",\"Rajasthan Royals\",\"Pune Warriors\",\"Chennai Super Kings\",\"Sunrisers Hyderabad\",\"Kings XI Punjab\",\"Gujarat Lions\",\"Delhi Capitals\"],\"xaxis\":\"x\",\"y\":[0.0,0.0,5.0,4.0,2.0,1.0,0.0,5.0,0.0,2.0,0.0,2.0,0.0,0.0,2.0,1.0,1.0,1.0,1.0,3.0,0.0,1.0,0.0,1.0],\"yaxis\":\"y\"}],                        {\"barmode\":\"relative\",\"height\":800,\"legend\":{\"title\":{\"text\":\"Opponent\"},\"tracegroupgap\":0},\"template\":{\"data\":{\"bar\":[{\"error_x\":{\"color\":\"#2a3f5f\"},\"error_y\":{\"color\":\"#2a3f5f\"},\"marker\":{\"line\":{\"color\":\"#E5ECF6\",\"width\":0.5},\"pattern\":{\"fillmode\":\"overlay\",\"size\":10,\"solidity\":0.2}},\"type\":\"bar\"}],\"barpolar\":[{\"marker\":{\"line\":{\"color\":\"#E5ECF6\",\"width\":0.5},\"pattern\":{\"fillmode\":\"overlay\",\"size\":10,\"solidity\":0.2}},\"type\":\"barpolar\"}],\"carpet\":[{\"aaxis\":{\"endlinecolor\":\"#2a3f5f\",\"gridcolor\":\"white\",\"linecolor\":\"white\",\"minorgridcolor\":\"white\",\"startlinecolor\":\"#2a3f5f\"},\"baxis\":{\"endlinecolor\":\"#2a3f5f\",\"gridcolor\":\"white\",\"linecolor\":\"white\",\"minorgridcolor\":\"white\",\"startlinecolor\":\"#2a3f5f\"},\"type\":\"carpet\"}],\"choropleth\":[{\"colorbar\":{\"outlinewidth\":0,\"ticks\":\"\"},\"type\":\"choropleth\"}],\"contour\":[{\"colorbar\":{\"outlinewidth\":0,\"ticks\":\"\"},\"colorscale\":[[0.0,\"#0d0887\"],[0.1111111111111111,\"#46039f\"],[0.2222222222222222,\"#7201a8\"],[0.3333333333333333,\"#9c179e\"],[0.4444444444444444,\"#bd3786\"],[0.5555555555555556,\"#d8576b\"],[0.6666666666666666,\"#ed7953\"],[0.7777777777777778,\"#fb9f3a\"],[0.8888888888888888,\"#fdca26\"],[1.0,\"#f0f921\"]],\"type\":\"contour\"}],\"contourcarpet\":[{\"colorbar\":{\"outlinewidth\":0,\"ticks\":\"\"},\"type\":\"contourcarpet\"}],\"heatmap\":[{\"colorbar\":{\"outlinewidth\":0,\"ticks\":\"\"},\"colorscale\":[[0.0,\"#0d0887\"],[0.1111111111111111,\"#46039f\"],[0.2222222222222222,\"#7201a8\"],[0.3333333333333333,\"#9c179e\"],[0.4444444444444444,\"#bd3786\"],[0.5555555555555556,\"#d8576b\"],[0.6666666666666666,\"#ed7953\"],[0.7777777777777778,\"#fb9f3a\"],[0.8888888888888888,\"#fdca26\"],[1.0,\"#f0f921\"]],\"type\":\"heatmap\"}],\"heatmapgl\":[{\"colorbar\":{\"outlinewidth\":0,\"ticks\":\"\"},\"colorscale\":[[0.0,\"#0d0887\"],[0.1111111111111111,\"#46039f\"],[0.2222222222222222,\"#7201a8\"],[0.3333333333333333,\"#9c179e\"],[0.4444444444444444,\"#bd3786\"],[0.5555555555555556,\"#d8576b\"],[0.6666666666666666,\"#ed7953\"],[0.7777777777777778,\"#fb9f3a\"],[0.8888888888888888,\"#fdca26\"],[1.0,\"#f0f921\"]],\"type\":\"heatmapgl\"}],\"histogram\":[{\"marker\":{\"pattern\":{\"fillmode\":\"overlay\",\"size\":10,\"solidity\":0.2}},\"type\":\"histogram\"}],\"histogram2d\":[{\"colorbar\":{\"outlinewidth\":0,\"ticks\":\"\"},\"colorscale\":[[0.0,\"#0d0887\"],[0.1111111111111111,\"#46039f\"],[0.2222222222222222,\"#7201a8\"],[0.3333333333333333,\"#9c179e\"],[0.4444444444444444,\"#bd3786\"],[0.5555555555555556,\"#d8576b\"],[0.6666666666666666,\"#ed7953\"],[0.7777777777777778,\"#fb9f3a\"],[0.8888888888888888,\"#fdca26\"],[1.0,\"#f0f921\"]],\"type\":\"histogram2d\"}],\"histogram2dcontour\":[{\"colorbar\":{\"outlinewidth\":0,\"ticks\":\"\"},\"colorscale\":[[0.0,\"#0d0887\"],[0.1111111111111111,\"#46039f\"],[0.2222222222222222,\"#7201a8\"],[0.3333333333333333,\"#9c179e\"],[0.4444444444444444,\"#bd3786\"],[0.5555555555555556,\"#d8576b\"],[0.6666666666666666,\"#ed7953\"],[0.7777777777777778,\"#fb9f3a\"],[0.8888888888888888,\"#fdca26\"],[1.0,\"#f0f921\"]],\"type\":\"histogram2dcontour\"}],\"mesh3d\":[{\"colorbar\":{\"outlinewidth\":0,\"ticks\":\"\"},\"type\":\"mesh3d\"}],\"parcoords\":[{\"line\":{\"colorbar\":{\"outlinewidth\":0,\"ticks\":\"\"}},\"type\":\"parcoords\"}],\"pie\":[{\"automargin\":true,\"type\":\"pie\"}],\"scatter\":[{\"marker\":{\"colorbar\":{\"outlinewidth\":0,\"ticks\":\"\"}},\"type\":\"scatter\"}],\"scatter3d\":[{\"line\":{\"colorbar\":{\"outlinewidth\":0,\"ticks\":\"\"}},\"marker\":{\"colorbar\":{\"outlinewidth\":0,\"ticks\":\"\"}},\"type\":\"scatter3d\"}],\"scattercarpet\":[{\"marker\":{\"colorbar\":{\"outlinewidth\":0,\"ticks\":\"\"}},\"type\":\"scattercarpet\"}],\"scattergeo\":[{\"marker\":{\"colorbar\":{\"outlinewidth\":0,\"ticks\":\"\"}},\"type\":\"scattergeo\"}],\"scattergl\":[{\"marker\":{\"colorbar\":{\"outlinewidth\":0,\"ticks\":\"\"}},\"type\":\"scattergl\"}],\"scattermapbox\":[{\"marker\":{\"colorbar\":{\"outlinewidth\":0,\"ticks\":\"\"}},\"type\":\"scattermapbox\"}],\"scatterpolar\":[{\"marker\":{\"colorbar\":{\"outlinewidth\":0,\"ticks\":\"\"}},\"type\":\"scatterpolar\"}],\"scatterpolargl\":[{\"marker\":{\"colorbar\":{\"outlinewidth\":0,\"ticks\":\"\"}},\"type\":\"scatterpolargl\"}],\"scatterternary\":[{\"marker\":{\"colorbar\":{\"outlinewidth\":0,\"ticks\":\"\"}},\"type\":\"scatterternary\"}],\"surface\":[{\"colorbar\":{\"outlinewidth\":0,\"ticks\":\"\"},\"colorscale\":[[0.0,\"#0d0887\"],[0.1111111111111111,\"#46039f\"],[0.2222222222222222,\"#7201a8\"],[0.3333333333333333,\"#9c179e\"],[0.4444444444444444,\"#bd3786\"],[0.5555555555555556,\"#d8576b\"],[0.6666666666666666,\"#ed7953\"],[0.7777777777777778,\"#fb9f3a\"],[0.8888888888888888,\"#fdca26\"],[1.0,\"#f0f921\"]],\"type\":\"surface\"}],\"table\":[{\"cells\":{\"fill\":{\"color\":\"#EBF0F8\"},\"line\":{\"color\":\"white\"}},\"header\":{\"fill\":{\"color\":\"#C8D4E3\"},\"line\":{\"color\":\"white\"}},\"type\":\"table\"}]},\"layout\":{\"annotationdefaults\":{\"arrowcolor\":\"#2a3f5f\",\"arrowhead\":0,\"arrowwidth\":1},\"autotypenumbers\":\"strict\",\"coloraxis\":{\"colorbar\":{\"outlinewidth\":0,\"ticks\":\"\"}},\"colorscale\":{\"diverging\":[[0,\"#8e0152\"],[0.1,\"#c51b7d\"],[0.2,\"#de77ae\"],[0.3,\"#f1b6da\"],[0.4,\"#fde0ef\"],[0.5,\"#f7f7f7\"],[0.6,\"#e6f5d0\"],[0.7,\"#b8e186\"],[0.8,\"#7fbc41\"],[0.9,\"#4d9221\"],[1,\"#276419\"]],\"sequential\":[[0.0,\"#0d0887\"],[0.1111111111111111,\"#46039f\"],[0.2222222222222222,\"#7201a8\"],[0.3333333333333333,\"#9c179e\"],[0.4444444444444444,\"#bd3786\"],[0.5555555555555556,\"#d8576b\"],[0.6666666666666666,\"#ed7953\"],[0.7777777777777778,\"#fb9f3a\"],[0.8888888888888888,\"#fdca26\"],[1.0,\"#f0f921\"]],\"sequentialminus\":[[0.0,\"#0d0887\"],[0.1111111111111111,\"#46039f\"],[0.2222222222222222,\"#7201a8\"],[0.3333333333333333,\"#9c179e\"],[0.4444444444444444,\"#bd3786\"],[0.5555555555555556,\"#d8576b\"],[0.6666666666666666,\"#ed7953\"],[0.7777777777777778,\"#fb9f3a\"],[0.8888888888888888,\"#fdca26\"],[1.0,\"#f0f921\"]]},\"colorway\":[\"#636efa\",\"#EF553B\",\"#00cc96\",\"#ab63fa\",\"#FFA15A\",\"#19d3f3\",\"#FF6692\",\"#B6E880\",\"#FF97FF\",\"#FECB52\"],\"font\":{\"color\":\"#2a3f5f\"},\"geo\":{\"bgcolor\":\"white\",\"lakecolor\":\"white\",\"landcolor\":\"#E5ECF6\",\"showlakes\":true,\"showland\":true,\"subunitcolor\":\"white\"},\"hoverlabel\":{\"align\":\"left\"},\"hovermode\":\"closest\",\"mapbox\":{\"style\":\"light\"},\"paper_bgcolor\":\"white\",\"plot_bgcolor\":\"#E5ECF6\",\"polar\":{\"angularaxis\":{\"gridcolor\":\"white\",\"linecolor\":\"white\",\"ticks\":\"\"},\"bgcolor\":\"#E5ECF6\",\"radialaxis\":{\"gridcolor\":\"white\",\"linecolor\":\"white\",\"ticks\":\"\"}},\"scene\":{\"xaxis\":{\"backgroundcolor\":\"#E5ECF6\",\"gridcolor\":\"white\",\"gridwidth\":2,\"linecolor\":\"white\",\"showbackground\":true,\"ticks\":\"\",\"zerolinecolor\":\"white\"},\"yaxis\":{\"backgroundcolor\":\"#E5ECF6\",\"gridcolor\":\"white\",\"gridwidth\":2,\"linecolor\":\"white\",\"showbackground\":true,\"ticks\":\"\",\"zerolinecolor\":\"white\"},\"zaxis\":{\"backgroundcolor\":\"#E5ECF6\",\"gridcolor\":\"white\",\"gridwidth\":2,\"linecolor\":\"white\",\"showbackground\":true,\"ticks\":\"\",\"zerolinecolor\":\"white\"}},\"shapedefaults\":{\"line\":{\"color\":\"#2a3f5f\"}},\"ternary\":{\"aaxis\":{\"gridcolor\":\"white\",\"linecolor\":\"white\",\"ticks\":\"\"},\"baxis\":{\"gridcolor\":\"white\",\"linecolor\":\"white\",\"ticks\":\"\"},\"bgcolor\":\"#E5ECF6\",\"caxis\":{\"gridcolor\":\"white\",\"linecolor\":\"white\",\"ticks\":\"\"}},\"title\":{\"x\":0.05},\"xaxis\":{\"automargin\":true,\"gridcolor\":\"white\",\"linecolor\":\"white\",\"ticks\":\"\",\"title\":{\"standoff\":15},\"zerolinecolor\":\"white\",\"zerolinewidth\":2},\"yaxis\":{\"automargin\":true,\"gridcolor\":\"white\",\"linecolor\":\"white\",\"ticks\":\"\",\"title\":{\"standoff\":15},\"zerolinecolor\":\"white\",\"zerolinewidth\":2}}},\"title\":{\"text\":\"Stacked head-to-head performance at home\"},\"width\":1000,\"xaxis\":{\"anchor\":\"y\",\"domain\":[0.0,1.0],\"title\":{\"text\":\"Team\"}},\"yaxis\":{\"anchor\":\"x\",\"domain\":[0.0,1.0],\"title\":{\"text\":\"Stats (wins | losses)\"}}},                        {\"responsive\": true}                    ).then(function(){\n",
       "                            \n",
       "var gd = document.getElementById('7bccba87-a524-4ac5-a1e8-bb57610eef1e');\n",
       "var x = new MutationObserver(function (mutations, observer) {{\n",
       "        var display = window.getComputedStyle(gd).display;\n",
       "        if (!display || display === 'none') {{\n",
       "            console.log([gd, 'removed!']);\n",
       "            Plotly.purge(gd);\n",
       "            observer.disconnect();\n",
       "        }}\n",
       "}});\n",
       "\n",
       "// Listen for the removal of the full notebook cells\n",
       "var notebookContainer = gd.closest('#notebook-container');\n",
       "if (notebookContainer) {{\n",
       "    x.observe(notebookContainer, {childList: true});\n",
       "}}\n",
       "\n",
       "// Listen for the clearing of the current output cell\n",
       "var outputEl = gd.closest('.output');\n",
       "if (outputEl) {{\n",
       "    x.observe(outputEl, {childList: true});\n",
       "}}\n",
       "\n",
       "                        })                };                });            </script>        </div>"
      ]
     },
     "metadata": {},
     "output_type": "display_data"
    }
   ],
   "source": [
    "figA = px.bar(h2h_data, x = \"team1\", y=[\"wins for team 1\", \"wins for team 2\"], color=\"team2\", labels={\n",
    "    \"team1\": \"Team\",\n",
    "    \"value\": \"Stats (wins | losses)\",\n",
    "    \"team2\": \"Opponent\",\n",
    "\n",
    "}, title=\"Stacked head-to-head performance at home\", width=1000, height=800)\n",
    "\n",
    "figA.show()"
   ]
  },
  {
   "cell_type": "markdown",
   "metadata": {},
   "source": [
    "## Performance in away matches"
   ]
  },
  {
   "cell_type": "code",
   "execution_count": 53,
   "metadata": {
    "ExecuteTime": {
     "end_time": "2021-08-10T05:28:28.276232Z",
     "start_time": "2021-08-10T05:28:28.168651Z"
    }
   },
   "outputs": [
    {
     "data": {
      "application/vnd.plotly.v1+json": {
       "config": {
        "plotlyServerURL": "https://plot.ly"
       },
       "data": [
        {
         "alignmentgroup": "True",
         "hovertemplate": "Opponent=Deccan Chargers<br>Team=%{x}<br>Wins=%{text}<extra></extra>",
         "legendgroup": "Deccan Chargers",
         "marker": {
          "color": "#636efa",
          "pattern": {
           "shape": ""
          }
         },
         "name": "Deccan Chargers",
         "offsetgroup": "Deccan Chargers",
         "orientation": "v",
         "showlegend": true,
         "text": [
          "0.0",
          "0.0",
          "2.0",
          "2.0",
          "3.0",
          "6.0",
          "1.0",
          "1.0",
          "0.0",
          "5.0",
          "0.0",
          "5.0"
         ],
         "textposition": "auto",
         "type": "bar",
         "x": [
          "Kochi Tuskers Kerala",
          "Rising Pune Supergiants",
          "Kolkata Knight Riders",
          "Mumbai Indians",
          "Royal Challengers Bangalore",
          "Rajasthan Royals",
          "Pune Warriors",
          "Chennai Super Kings",
          "Sunrisers Hyderabad",
          "Kings XI Punjab",
          "Gujarat Lions",
          "Delhi Capitals"
         ],
         "xaxis": "x",
         "y": [
          0,
          0,
          2,
          2,
          3,
          6,
          1,
          1,
          0,
          5,
          0,
          5
         ],
         "yaxis": "y"
        },
        {
         "alignmentgroup": "True",
         "hovertemplate": "Opponent=Kochi Tuskers Kerala<br>Team=%{x}<br>Wins=%{text}<extra></extra>",
         "legendgroup": "Kochi Tuskers Kerala",
         "marker": {
          "color": "#EF553B",
          "pattern": {
           "shape": ""
          }
         },
         "name": "Kochi Tuskers Kerala",
         "offsetgroup": "Kochi Tuskers Kerala",
         "orientation": "v",
         "showlegend": true,
         "text": [
          "0.0",
          "0.0",
          "0.0",
          "0.0",
          "2.0",
          "1.0",
          "1.0",
          "0.0",
          "0.0",
          "1.0",
          "0.0",
          "0.0"
         ],
         "textposition": "auto",
         "type": "bar",
         "x": [
          "Deccan Chargers",
          "Rising Pune Supergiants",
          "Kolkata Knight Riders",
          "Mumbai Indians",
          "Royal Challengers Bangalore",
          "Rajasthan Royals",
          "Pune Warriors",
          "Chennai Super Kings",
          "Sunrisers Hyderabad",
          "Kings XI Punjab",
          "Gujarat Lions",
          "Delhi Capitals"
         ],
         "xaxis": "x",
         "y": [
          0,
          0,
          0,
          0,
          2,
          1,
          1,
          0,
          0,
          1,
          0,
          0
         ],
         "yaxis": "y"
        },
        {
         "alignmentgroup": "True",
         "hovertemplate": "Opponent=Rising Pune Supergiants<br>Team=%{x}<br>Wins=%{text}<extra></extra>",
         "legendgroup": "Rising Pune Supergiants",
         "marker": {
          "color": "#00cc96",
          "pattern": {
           "shape": ""
          }
         },
         "name": "Rising Pune Supergiants",
         "offsetgroup": "Rising Pune Supergiants",
         "orientation": "v",
         "showlegend": true,
         "text": [
          "0.0",
          "0.0",
          "3.0",
          "1.0",
          "1.0",
          "0.0",
          "0.0",
          "0.0",
          "0.0",
          "2.0",
          "3.0",
          "0.0"
         ],
         "textposition": "auto",
         "type": "bar",
         "x": [
          "Deccan Chargers",
          "Kochi Tuskers Kerala",
          "Kolkata Knight Riders",
          "Mumbai Indians",
          "Royal Challengers Bangalore",
          "Rajasthan Royals",
          "Pune Warriors",
          "Chennai Super Kings",
          "Sunrisers Hyderabad",
          "Kings XI Punjab",
          "Gujarat Lions",
          "Delhi Capitals"
         ],
         "xaxis": "x",
         "y": [
          0,
          0,
          3,
          1,
          1,
          0,
          0,
          0,
          0,
          2,
          3,
          0
         ],
         "yaxis": "y"
        },
        {
         "alignmentgroup": "True",
         "hovertemplate": "Opponent=Kolkata Knight Riders<br>Team=%{x}<br>Wins=%{text}<extra></extra>",
         "legendgroup": "Kolkata Knight Riders",
         "marker": {
          "color": "#ab63fa",
          "pattern": {
           "shape": ""
          }
         },
         "name": "Kolkata Knight Riders",
         "offsetgroup": "Kolkata Knight Riders",
         "orientation": "v",
         "showlegend": true,
         "text": [
          "2.0",
          "0.0",
          "1.0",
          "11.0",
          "9.0",
          "2.0",
          "0.0",
          "8.0",
          "3.0",
          "3.0",
          "3.0",
          "7.0"
         ],
         "textposition": "auto",
         "type": "bar",
         "x": [
          "Deccan Chargers",
          "Kochi Tuskers Kerala",
          "Rising Pune Supergiants",
          "Mumbai Indians",
          "Royal Challengers Bangalore",
          "Rajasthan Royals",
          "Pune Warriors",
          "Chennai Super Kings",
          "Sunrisers Hyderabad",
          "Kings XI Punjab",
          "Gujarat Lions",
          "Delhi Capitals"
         ],
         "xaxis": "x",
         "y": [
          2,
          0,
          1,
          11,
          9,
          2,
          0,
          8,
          3,
          3,
          3,
          7
         ],
         "yaxis": "y"
        },
        {
         "alignmentgroup": "True",
         "hovertemplate": "Opponent=Mumbai Indians<br>Team=%{x}<br>Wins=%{text}<extra></extra>",
         "legendgroup": "Mumbai Indians",
         "marker": {
          "color": "#FFA15A",
          "pattern": {
           "shape": ""
          }
         },
         "name": "Mumbai Indians",
         "offsetgroup": "Mumbai Indians",
         "orientation": "v",
         "showlegend": true,
         "text": [
          "1.0",
          "1.0",
          "2.0",
          "3.0",
          "5.0",
          "8.0",
          "0.0",
          "6.0",
          "4.0",
          "4.0",
          "2.0",
          "7.0"
         ],
         "textposition": "auto",
         "type": "bar",
         "x": [
          "Deccan Chargers",
          "Kochi Tuskers Kerala",
          "Rising Pune Supergiants",
          "Kolkata Knight Riders",
          "Royal Challengers Bangalore",
          "Rajasthan Royals",
          "Pune Warriors",
          "Chennai Super Kings",
          "Sunrisers Hyderabad",
          "Kings XI Punjab",
          "Gujarat Lions",
          "Delhi Capitals"
         ],
         "xaxis": "x",
         "y": [
          1,
          1,
          2,
          3,
          5,
          8,
          0,
          6,
          4,
          4,
          2,
          7
         ],
         "yaxis": "y"
        },
        {
         "alignmentgroup": "True",
         "hovertemplate": "Opponent=Royal Challengers Bangalore<br>Team=%{x}<br>Wins=%{text}<extra></extra>",
         "legendgroup": "Royal Challengers Bangalore",
         "marker": {
          "color": "#19d3f3",
          "pattern": {
           "shape": ""
          }
         },
         "name": "Royal Challengers Bangalore",
         "offsetgroup": "Royal Challengers Bangalore",
         "orientation": "v",
         "showlegend": true,
         "text": [
          "1.0",
          "0.0",
          "0.0",
          "7.0",
          "8.0",
          "6.0",
          "0.0",
          "9.0",
          "3.0",
          "8.0",
          "2.0",
          "4.0"
         ],
         "textposition": "auto",
         "type": "bar",
         "x": [
          "Deccan Chargers",
          "Kochi Tuskers Kerala",
          "Rising Pune Supergiants",
          "Kolkata Knight Riders",
          "Mumbai Indians",
          "Rajasthan Royals",
          "Pune Warriors",
          "Chennai Super Kings",
          "Sunrisers Hyderabad",
          "Kings XI Punjab",
          "Gujarat Lions",
          "Delhi Capitals"
         ],
         "xaxis": "x",
         "y": [
          1,
          0,
          0,
          7,
          8,
          6,
          0,
          9,
          3,
          8,
          2,
          4
         ],
         "yaxis": "y"
        },
        {
         "alignmentgroup": "True",
         "hovertemplate": "Opponent=Rajasthan Royals<br>Team=%{x}<br>Wins=%{text}<extra></extra>",
         "legendgroup": "Rajasthan Royals",
         "marker": {
          "color": "#FF6692",
          "pattern": {
           "shape": ""
          }
         },
         "name": "Rajasthan Royals",
         "offsetgroup": "Rajasthan Royals",
         "orientation": "v",
         "showlegend": true,
         "text": [
          "1.0",
          "1.0",
          "0.0",
          "9.0",
          "4.0",
          "5.0",
          "1.0",
          "7.0",
          "2.0",
          "3.0",
          "0.0",
          "5.0"
         ],
         "textposition": "auto",
         "type": "bar",
         "x": [
          "Deccan Chargers",
          "Kochi Tuskers Kerala",
          "Rising Pune Supergiants",
          "Kolkata Knight Riders",
          "Mumbai Indians",
          "Royal Challengers Bangalore",
          "Pune Warriors",
          "Chennai Super Kings",
          "Sunrisers Hyderabad",
          "Kings XI Punjab",
          "Gujarat Lions",
          "Delhi Capitals"
         ],
         "xaxis": "x",
         "y": [
          1,
          1,
          0,
          9,
          4,
          5,
          1,
          7,
          2,
          3,
          0,
          5
         ],
         "yaxis": "y"
        },
        {
         "alignmentgroup": "True",
         "hovertemplate": "Opponent=Pune Warriors<br>Team=%{x}<br>Wins=%{text}<extra></extra>",
         "legendgroup": "Pune Warriors",
         "marker": {
          "color": "#B6E880",
          "pattern": {
           "shape": ""
          }
         },
         "name": "Pune Warriors",
         "offsetgroup": "Pune Warriors",
         "orientation": "v",
         "showlegend": true,
         "text": [
          "1.0",
          "0.0",
          "0.0",
          "1.0",
          "2.0",
          "1.0",
          "3.0",
          "1.0",
          "0.0",
          "3.0",
          "0.0",
          "2.0"
         ],
         "textposition": "auto",
         "type": "bar",
         "x": [
          "Deccan Chargers",
          "Kochi Tuskers Kerala",
          "Rising Pune Supergiants",
          "Kolkata Knight Riders",
          "Mumbai Indians",
          "Royal Challengers Bangalore",
          "Rajasthan Royals",
          "Chennai Super Kings",
          "Sunrisers Hyderabad",
          "Kings XI Punjab",
          "Gujarat Lions",
          "Delhi Capitals"
         ],
         "xaxis": "x",
         "y": [
          1,
          0,
          0,
          1,
          2,
          1,
          3,
          1,
          0,
          3,
          0,
          2
         ],
         "yaxis": "y"
        },
        {
         "alignmentgroup": "True",
         "hovertemplate": "Opponent=Chennai Super Kings<br>Team=%{x}<br>Wins=%{text}<extra></extra>",
         "legendgroup": "Chennai Super Kings",
         "marker": {
          "color": "#FF97FF",
          "pattern": {
           "shape": ""
          }
         },
         "name": "Chennai Super Kings",
         "offsetgroup": "Chennai Super Kings",
         "orientation": "v",
         "showlegend": true,
         "text": [
          "3.0",
          "1.0",
          "0.0",
          "7.0",
          "7.0",
          "4.0",
          "5.0",
          "1.0",
          "2.0",
          "4.0",
          "0.0",
          "4.0"
         ],
         "textposition": "auto",
         "type": "bar",
         "x": [
          "Deccan Chargers",
          "Kochi Tuskers Kerala",
          "Rising Pune Supergiants",
          "Kolkata Knight Riders",
          "Mumbai Indians",
          "Royal Challengers Bangalore",
          "Rajasthan Royals",
          "Pune Warriors",
          "Sunrisers Hyderabad",
          "Kings XI Punjab",
          "Gujarat Lions",
          "Delhi Capitals"
         ],
         "xaxis": "x",
         "y": [
          3,
          1,
          0,
          7,
          7,
          4,
          5,
          1,
          2,
          4,
          0,
          4
         ],
         "yaxis": "y"
        },
        {
         "alignmentgroup": "True",
         "hovertemplate": "Opponent=Sunrisers Hyderabad<br>Team=%{x}<br>Wins=%{text}<extra></extra>",
         "legendgroup": "Sunrisers Hyderabad",
         "marker": {
          "color": "#FECB52",
          "pattern": {
           "shape": ""
          }
         },
         "name": "Sunrisers Hyderabad",
         "offsetgroup": "Sunrisers Hyderabad",
         "orientation": "v",
         "showlegend": true,
         "text": [
          "0.0",
          "0.0",
          "2.0",
          "6.0",
          "4.0",
          "4.0",
          "5.0",
          "0.0",
          "6.0",
          "2.0",
          "0.0",
          "4.0"
         ],
         "textposition": "auto",
         "type": "bar",
         "x": [
          "Deccan Chargers",
          "Kochi Tuskers Kerala",
          "Rising Pune Supergiants",
          "Kolkata Knight Riders",
          "Mumbai Indians",
          "Royal Challengers Bangalore",
          "Rajasthan Royals",
          "Pune Warriors",
          "Chennai Super Kings",
          "Kings XI Punjab",
          "Gujarat Lions",
          "Delhi Capitals"
         ],
         "xaxis": "x",
         "y": [
          0,
          0,
          2,
          6,
          4,
          4,
          5,
          0,
          6,
          2,
          0,
          4
         ],
         "yaxis": "y"
        },
        {
         "alignmentgroup": "True",
         "hovertemplate": "Opponent=Kings XI Punjab<br>Team=%{x}<br>Wins=%{text}<extra></extra>",
         "legendgroup": "Kings XI Punjab",
         "marker": {
          "color": "#636efa",
          "pattern": {
           "shape": ""
          }
         },
         "name": "Kings XI Punjab",
         "offsetgroup": "Kings XI Punjab",
         "orientation": "v",
         "showlegend": true,
         "text": [
          "1.0",
          "0.0",
          "2.0",
          "12.0",
          "8.0",
          "6.0",
          "4.0",
          "2.0",
          "5.0",
          "3.0",
          "2.0",
          "8.0"
         ],
         "textposition": "auto",
         "type": "bar",
         "x": [
          "Deccan Chargers",
          "Kochi Tuskers Kerala",
          "Rising Pune Supergiants",
          "Kolkata Knight Riders",
          "Mumbai Indians",
          "Royal Challengers Bangalore",
          "Rajasthan Royals",
          "Pune Warriors",
          "Chennai Super Kings",
          "Sunrisers Hyderabad",
          "Gujarat Lions",
          "Delhi Capitals"
         ],
         "xaxis": "x",
         "y": [
          1,
          0,
          2,
          12,
          8,
          6,
          4,
          2,
          5,
          3,
          2,
          8
         ],
         "yaxis": "y"
        },
        {
         "alignmentgroup": "True",
         "hovertemplate": "Opponent=Gujarat Lions<br>Team=%{x}<br>Wins=%{text}<extra></extra>",
         "legendgroup": "Gujarat Lions",
         "marker": {
          "color": "#EF553B",
          "pattern": {
           "shape": ""
          }
         },
         "name": "Gujarat Lions",
         "offsetgroup": "Gujarat Lions",
         "orientation": "v",
         "showlegend": true,
         "text": [
          "0.0",
          "0.0",
          "1.0",
          "1.0",
          "2.0",
          "1.0",
          "0.0",
          "0.0",
          "0.0",
          "5.0",
          "0.0",
          "3.0"
         ],
         "textposition": "auto",
         "type": "bar",
         "x": [
          "Deccan Chargers",
          "Kochi Tuskers Kerala",
          "Rising Pune Supergiants",
          "Kolkata Knight Riders",
          "Mumbai Indians",
          "Royal Challengers Bangalore",
          "Rajasthan Royals",
          "Pune Warriors",
          "Chennai Super Kings",
          "Sunrisers Hyderabad",
          "Kings XI Punjab",
          "Delhi Capitals"
         ],
         "xaxis": "x",
         "y": [
          0,
          0,
          1,
          1,
          2,
          1,
          0,
          0,
          0,
          5,
          0,
          3
         ],
         "yaxis": "y"
        },
        {
         "alignmentgroup": "True",
         "hovertemplate": "Opponent=Delhi Capitals<br>Team=%{x}<br>Wins=%{text}<extra></extra>",
         "legendgroup": "Delhi Capitals",
         "marker": {
          "color": "#00cc96",
          "pattern": {
           "shape": ""
          }
         },
         "name": "Delhi Capitals",
         "offsetgroup": "Delhi Capitals",
         "orientation": "v",
         "showlegend": true,
         "text": [
          "1.0",
          "1.0",
          "2.0",
          "7.0",
          "2.0",
          "8.0",
          "6.0",
          "0.0",
          "6.0",
          "6.0",
          "9.0",
          "0.0"
         ],
         "textposition": "auto",
         "type": "bar",
         "x": [
          "Deccan Chargers",
          "Kochi Tuskers Kerala",
          "Rising Pune Supergiants",
          "Kolkata Knight Riders",
          "Mumbai Indians",
          "Royal Challengers Bangalore",
          "Rajasthan Royals",
          "Pune Warriors",
          "Chennai Super Kings",
          "Sunrisers Hyderabad",
          "Kings XI Punjab",
          "Gujarat Lions"
         ],
         "xaxis": "x",
         "y": [
          1,
          1,
          2,
          7,
          2,
          8,
          6,
          0,
          6,
          6,
          9,
          0
         ],
         "yaxis": "y"
        }
       ],
       "layout": {
        "barmode": "relative",
        "height": 800,
        "legend": {
         "title": {
          "text": "Opponent"
         },
         "tracegroupgap": 0
        },
        "template": {
         "data": {
          "bar": [
           {
            "error_x": {
             "color": "#2a3f5f"
            },
            "error_y": {
             "color": "#2a3f5f"
            },
            "marker": {
             "line": {
              "color": "#E5ECF6",
              "width": 0.5
             },
             "pattern": {
              "fillmode": "overlay",
              "size": 10,
              "solidity": 0.2
             }
            },
            "type": "bar"
           }
          ],
          "barpolar": [
           {
            "marker": {
             "line": {
              "color": "#E5ECF6",
              "width": 0.5
             },
             "pattern": {
              "fillmode": "overlay",
              "size": 10,
              "solidity": 0.2
             }
            },
            "type": "barpolar"
           }
          ],
          "carpet": [
           {
            "aaxis": {
             "endlinecolor": "#2a3f5f",
             "gridcolor": "white",
             "linecolor": "white",
             "minorgridcolor": "white",
             "startlinecolor": "#2a3f5f"
            },
            "baxis": {
             "endlinecolor": "#2a3f5f",
             "gridcolor": "white",
             "linecolor": "white",
             "minorgridcolor": "white",
             "startlinecolor": "#2a3f5f"
            },
            "type": "carpet"
           }
          ],
          "choropleth": [
           {
            "colorbar": {
             "outlinewidth": 0,
             "ticks": ""
            },
            "type": "choropleth"
           }
          ],
          "contour": [
           {
            "colorbar": {
             "outlinewidth": 0,
             "ticks": ""
            },
            "colorscale": [
             [
              0,
              "#0d0887"
             ],
             [
              0.1111111111111111,
              "#46039f"
             ],
             [
              0.2222222222222222,
              "#7201a8"
             ],
             [
              0.3333333333333333,
              "#9c179e"
             ],
             [
              0.4444444444444444,
              "#bd3786"
             ],
             [
              0.5555555555555556,
              "#d8576b"
             ],
             [
              0.6666666666666666,
              "#ed7953"
             ],
             [
              0.7777777777777778,
              "#fb9f3a"
             ],
             [
              0.8888888888888888,
              "#fdca26"
             ],
             [
              1,
              "#f0f921"
             ]
            ],
            "type": "contour"
           }
          ],
          "contourcarpet": [
           {
            "colorbar": {
             "outlinewidth": 0,
             "ticks": ""
            },
            "type": "contourcarpet"
           }
          ],
          "heatmap": [
           {
            "colorbar": {
             "outlinewidth": 0,
             "ticks": ""
            },
            "colorscale": [
             [
              0,
              "#0d0887"
             ],
             [
              0.1111111111111111,
              "#46039f"
             ],
             [
              0.2222222222222222,
              "#7201a8"
             ],
             [
              0.3333333333333333,
              "#9c179e"
             ],
             [
              0.4444444444444444,
              "#bd3786"
             ],
             [
              0.5555555555555556,
              "#d8576b"
             ],
             [
              0.6666666666666666,
              "#ed7953"
             ],
             [
              0.7777777777777778,
              "#fb9f3a"
             ],
             [
              0.8888888888888888,
              "#fdca26"
             ],
             [
              1,
              "#f0f921"
             ]
            ],
            "type": "heatmap"
           }
          ],
          "heatmapgl": [
           {
            "colorbar": {
             "outlinewidth": 0,
             "ticks": ""
            },
            "colorscale": [
             [
              0,
              "#0d0887"
             ],
             [
              0.1111111111111111,
              "#46039f"
             ],
             [
              0.2222222222222222,
              "#7201a8"
             ],
             [
              0.3333333333333333,
              "#9c179e"
             ],
             [
              0.4444444444444444,
              "#bd3786"
             ],
             [
              0.5555555555555556,
              "#d8576b"
             ],
             [
              0.6666666666666666,
              "#ed7953"
             ],
             [
              0.7777777777777778,
              "#fb9f3a"
             ],
             [
              0.8888888888888888,
              "#fdca26"
             ],
             [
              1,
              "#f0f921"
             ]
            ],
            "type": "heatmapgl"
           }
          ],
          "histogram": [
           {
            "marker": {
             "pattern": {
              "fillmode": "overlay",
              "size": 10,
              "solidity": 0.2
             }
            },
            "type": "histogram"
           }
          ],
          "histogram2d": [
           {
            "colorbar": {
             "outlinewidth": 0,
             "ticks": ""
            },
            "colorscale": [
             [
              0,
              "#0d0887"
             ],
             [
              0.1111111111111111,
              "#46039f"
             ],
             [
              0.2222222222222222,
              "#7201a8"
             ],
             [
              0.3333333333333333,
              "#9c179e"
             ],
             [
              0.4444444444444444,
              "#bd3786"
             ],
             [
              0.5555555555555556,
              "#d8576b"
             ],
             [
              0.6666666666666666,
              "#ed7953"
             ],
             [
              0.7777777777777778,
              "#fb9f3a"
             ],
             [
              0.8888888888888888,
              "#fdca26"
             ],
             [
              1,
              "#f0f921"
             ]
            ],
            "type": "histogram2d"
           }
          ],
          "histogram2dcontour": [
           {
            "colorbar": {
             "outlinewidth": 0,
             "ticks": ""
            },
            "colorscale": [
             [
              0,
              "#0d0887"
             ],
             [
              0.1111111111111111,
              "#46039f"
             ],
             [
              0.2222222222222222,
              "#7201a8"
             ],
             [
              0.3333333333333333,
              "#9c179e"
             ],
             [
              0.4444444444444444,
              "#bd3786"
             ],
             [
              0.5555555555555556,
              "#d8576b"
             ],
             [
              0.6666666666666666,
              "#ed7953"
             ],
             [
              0.7777777777777778,
              "#fb9f3a"
             ],
             [
              0.8888888888888888,
              "#fdca26"
             ],
             [
              1,
              "#f0f921"
             ]
            ],
            "type": "histogram2dcontour"
           }
          ],
          "mesh3d": [
           {
            "colorbar": {
             "outlinewidth": 0,
             "ticks": ""
            },
            "type": "mesh3d"
           }
          ],
          "parcoords": [
           {
            "line": {
             "colorbar": {
              "outlinewidth": 0,
              "ticks": ""
             }
            },
            "type": "parcoords"
           }
          ],
          "pie": [
           {
            "automargin": true,
            "type": "pie"
           }
          ],
          "scatter": [
           {
            "marker": {
             "colorbar": {
              "outlinewidth": 0,
              "ticks": ""
             }
            },
            "type": "scatter"
           }
          ],
          "scatter3d": [
           {
            "line": {
             "colorbar": {
              "outlinewidth": 0,
              "ticks": ""
             }
            },
            "marker": {
             "colorbar": {
              "outlinewidth": 0,
              "ticks": ""
             }
            },
            "type": "scatter3d"
           }
          ],
          "scattercarpet": [
           {
            "marker": {
             "colorbar": {
              "outlinewidth": 0,
              "ticks": ""
             }
            },
            "type": "scattercarpet"
           }
          ],
          "scattergeo": [
           {
            "marker": {
             "colorbar": {
              "outlinewidth": 0,
              "ticks": ""
             }
            },
            "type": "scattergeo"
           }
          ],
          "scattergl": [
           {
            "marker": {
             "colorbar": {
              "outlinewidth": 0,
              "ticks": ""
             }
            },
            "type": "scattergl"
           }
          ],
          "scattermapbox": [
           {
            "marker": {
             "colorbar": {
              "outlinewidth": 0,
              "ticks": ""
             }
            },
            "type": "scattermapbox"
           }
          ],
          "scatterpolar": [
           {
            "marker": {
             "colorbar": {
              "outlinewidth": 0,
              "ticks": ""
             }
            },
            "type": "scatterpolar"
           }
          ],
          "scatterpolargl": [
           {
            "marker": {
             "colorbar": {
              "outlinewidth": 0,
              "ticks": ""
             }
            },
            "type": "scatterpolargl"
           }
          ],
          "scatterternary": [
           {
            "marker": {
             "colorbar": {
              "outlinewidth": 0,
              "ticks": ""
             }
            },
            "type": "scatterternary"
           }
          ],
          "surface": [
           {
            "colorbar": {
             "outlinewidth": 0,
             "ticks": ""
            },
            "colorscale": [
             [
              0,
              "#0d0887"
             ],
             [
              0.1111111111111111,
              "#46039f"
             ],
             [
              0.2222222222222222,
              "#7201a8"
             ],
             [
              0.3333333333333333,
              "#9c179e"
             ],
             [
              0.4444444444444444,
              "#bd3786"
             ],
             [
              0.5555555555555556,
              "#d8576b"
             ],
             [
              0.6666666666666666,
              "#ed7953"
             ],
             [
              0.7777777777777778,
              "#fb9f3a"
             ],
             [
              0.8888888888888888,
              "#fdca26"
             ],
             [
              1,
              "#f0f921"
             ]
            ],
            "type": "surface"
           }
          ],
          "table": [
           {
            "cells": {
             "fill": {
              "color": "#EBF0F8"
             },
             "line": {
              "color": "white"
             }
            },
            "header": {
             "fill": {
              "color": "#C8D4E3"
             },
             "line": {
              "color": "white"
             }
            },
            "type": "table"
           }
          ]
         },
         "layout": {
          "annotationdefaults": {
           "arrowcolor": "#2a3f5f",
           "arrowhead": 0,
           "arrowwidth": 1
          },
          "autotypenumbers": "strict",
          "coloraxis": {
           "colorbar": {
            "outlinewidth": 0,
            "ticks": ""
           }
          },
          "colorscale": {
           "diverging": [
            [
             0,
             "#8e0152"
            ],
            [
             0.1,
             "#c51b7d"
            ],
            [
             0.2,
             "#de77ae"
            ],
            [
             0.3,
             "#f1b6da"
            ],
            [
             0.4,
             "#fde0ef"
            ],
            [
             0.5,
             "#f7f7f7"
            ],
            [
             0.6,
             "#e6f5d0"
            ],
            [
             0.7,
             "#b8e186"
            ],
            [
             0.8,
             "#7fbc41"
            ],
            [
             0.9,
             "#4d9221"
            ],
            [
             1,
             "#276419"
            ]
           ],
           "sequential": [
            [
             0,
             "#0d0887"
            ],
            [
             0.1111111111111111,
             "#46039f"
            ],
            [
             0.2222222222222222,
             "#7201a8"
            ],
            [
             0.3333333333333333,
             "#9c179e"
            ],
            [
             0.4444444444444444,
             "#bd3786"
            ],
            [
             0.5555555555555556,
             "#d8576b"
            ],
            [
             0.6666666666666666,
             "#ed7953"
            ],
            [
             0.7777777777777778,
             "#fb9f3a"
            ],
            [
             0.8888888888888888,
             "#fdca26"
            ],
            [
             1,
             "#f0f921"
            ]
           ],
           "sequentialminus": [
            [
             0,
             "#0d0887"
            ],
            [
             0.1111111111111111,
             "#46039f"
            ],
            [
             0.2222222222222222,
             "#7201a8"
            ],
            [
             0.3333333333333333,
             "#9c179e"
            ],
            [
             0.4444444444444444,
             "#bd3786"
            ],
            [
             0.5555555555555556,
             "#d8576b"
            ],
            [
             0.6666666666666666,
             "#ed7953"
            ],
            [
             0.7777777777777778,
             "#fb9f3a"
            ],
            [
             0.8888888888888888,
             "#fdca26"
            ],
            [
             1,
             "#f0f921"
            ]
           ]
          },
          "colorway": [
           "#636efa",
           "#EF553B",
           "#00cc96",
           "#ab63fa",
           "#FFA15A",
           "#19d3f3",
           "#FF6692",
           "#B6E880",
           "#FF97FF",
           "#FECB52"
          ],
          "font": {
           "color": "#2a3f5f"
          },
          "geo": {
           "bgcolor": "white",
           "lakecolor": "white",
           "landcolor": "#E5ECF6",
           "showlakes": true,
           "showland": true,
           "subunitcolor": "white"
          },
          "hoverlabel": {
           "align": "left"
          },
          "hovermode": "closest",
          "mapbox": {
           "style": "light"
          },
          "paper_bgcolor": "white",
          "plot_bgcolor": "#E5ECF6",
          "polar": {
           "angularaxis": {
            "gridcolor": "white",
            "linecolor": "white",
            "ticks": ""
           },
           "bgcolor": "#E5ECF6",
           "radialaxis": {
            "gridcolor": "white",
            "linecolor": "white",
            "ticks": ""
           }
          },
          "scene": {
           "xaxis": {
            "backgroundcolor": "#E5ECF6",
            "gridcolor": "white",
            "gridwidth": 2,
            "linecolor": "white",
            "showbackground": true,
            "ticks": "",
            "zerolinecolor": "white"
           },
           "yaxis": {
            "backgroundcolor": "#E5ECF6",
            "gridcolor": "white",
            "gridwidth": 2,
            "linecolor": "white",
            "showbackground": true,
            "ticks": "",
            "zerolinecolor": "white"
           },
           "zaxis": {
            "backgroundcolor": "#E5ECF6",
            "gridcolor": "white",
            "gridwidth": 2,
            "linecolor": "white",
            "showbackground": true,
            "ticks": "",
            "zerolinecolor": "white"
           }
          },
          "shapedefaults": {
           "line": {
            "color": "#2a3f5f"
           }
          },
          "ternary": {
           "aaxis": {
            "gridcolor": "white",
            "linecolor": "white",
            "ticks": ""
           },
           "baxis": {
            "gridcolor": "white",
            "linecolor": "white",
            "ticks": ""
           },
           "bgcolor": "#E5ECF6",
           "caxis": {
            "gridcolor": "white",
            "linecolor": "white",
            "ticks": ""
           }
          },
          "title": {
           "x": 0.05
          },
          "xaxis": {
           "automargin": true,
           "gridcolor": "white",
           "linecolor": "white",
           "ticks": "",
           "title": {
            "standoff": 15
           },
           "zerolinecolor": "white",
           "zerolinewidth": 2
          },
          "yaxis": {
           "automargin": true,
           "gridcolor": "white",
           "linecolor": "white",
           "ticks": "",
           "title": {
            "standoff": 15
           },
           "zerolinecolor": "white",
           "zerolinewidth": 2
          }
         }
        },
        "title": {
         "text": "Stacked head-to-head wins at away matches"
        },
        "uniformtext": {
         "minsize": 8
        },
        "width": 1000,
        "xaxis": {
         "anchor": "y",
         "domain": [
          0,
          1
         ],
         "title": {
          "text": "Team"
         }
        },
        "yaxis": {
         "anchor": "x",
         "domain": [
          0,
          1
         ],
         "title": {
          "text": "Wins"
         }
        }
       }
      },
      "text/html": [
       "<div>                            <div id=\"23f4520d-d4bd-4bf4-b902-bdcd4ff715ea\" class=\"plotly-graph-div\" style=\"height:800px; width:1000px;\"></div>            <script type=\"text/javascript\">                require([\"plotly\"], function(Plotly) {                    window.PLOTLYENV=window.PLOTLYENV || {};                                    if (document.getElementById(\"23f4520d-d4bd-4bf4-b902-bdcd4ff715ea\")) {                    Plotly.newPlot(                        \"23f4520d-d4bd-4bf4-b902-bdcd4ff715ea\",                        [{\"alignmentgroup\":\"True\",\"hovertemplate\":\"Opponent=Deccan Chargers<br>Team=%{x}<br>Wins=%{text}<extra></extra>\",\"legendgroup\":\"Deccan Chargers\",\"marker\":{\"color\":\"#636efa\",\"pattern\":{\"shape\":\"\"}},\"name\":\"Deccan Chargers\",\"offsetgroup\":\"Deccan Chargers\",\"orientation\":\"v\",\"showlegend\":true,\"text\":[\"0.0\",\"0.0\",\"2.0\",\"2.0\",\"3.0\",\"6.0\",\"1.0\",\"1.0\",\"0.0\",\"5.0\",\"0.0\",\"5.0\"],\"textposition\":\"auto\",\"type\":\"bar\",\"x\":[\"Kochi Tuskers Kerala\",\"Rising Pune Supergiants\",\"Kolkata Knight Riders\",\"Mumbai Indians\",\"Royal Challengers Bangalore\",\"Rajasthan Royals\",\"Pune Warriors\",\"Chennai Super Kings\",\"Sunrisers Hyderabad\",\"Kings XI Punjab\",\"Gujarat Lions\",\"Delhi Capitals\"],\"xaxis\":\"x\",\"y\":[0.0,0.0,2.0,2.0,3.0,6.0,1.0,1.0,0.0,5.0,0.0,5.0],\"yaxis\":\"y\"},{\"alignmentgroup\":\"True\",\"hovertemplate\":\"Opponent=Kochi Tuskers Kerala<br>Team=%{x}<br>Wins=%{text}<extra></extra>\",\"legendgroup\":\"Kochi Tuskers Kerala\",\"marker\":{\"color\":\"#EF553B\",\"pattern\":{\"shape\":\"\"}},\"name\":\"Kochi Tuskers Kerala\",\"offsetgroup\":\"Kochi Tuskers Kerala\",\"orientation\":\"v\",\"showlegend\":true,\"text\":[\"0.0\",\"0.0\",\"0.0\",\"0.0\",\"2.0\",\"1.0\",\"1.0\",\"0.0\",\"0.0\",\"1.0\",\"0.0\",\"0.0\"],\"textposition\":\"auto\",\"type\":\"bar\",\"x\":[\"Deccan Chargers\",\"Rising Pune Supergiants\",\"Kolkata Knight Riders\",\"Mumbai Indians\",\"Royal Challengers Bangalore\",\"Rajasthan Royals\",\"Pune Warriors\",\"Chennai Super Kings\",\"Sunrisers Hyderabad\",\"Kings XI Punjab\",\"Gujarat Lions\",\"Delhi Capitals\"],\"xaxis\":\"x\",\"y\":[0.0,0.0,0.0,0.0,2.0,1.0,1.0,0.0,0.0,1.0,0.0,0.0],\"yaxis\":\"y\"},{\"alignmentgroup\":\"True\",\"hovertemplate\":\"Opponent=Rising Pune Supergiants<br>Team=%{x}<br>Wins=%{text}<extra></extra>\",\"legendgroup\":\"Rising Pune Supergiants\",\"marker\":{\"color\":\"#00cc96\",\"pattern\":{\"shape\":\"\"}},\"name\":\"Rising Pune Supergiants\",\"offsetgroup\":\"Rising Pune Supergiants\",\"orientation\":\"v\",\"showlegend\":true,\"text\":[\"0.0\",\"0.0\",\"3.0\",\"1.0\",\"1.0\",\"0.0\",\"0.0\",\"0.0\",\"0.0\",\"2.0\",\"3.0\",\"0.0\"],\"textposition\":\"auto\",\"type\":\"bar\",\"x\":[\"Deccan Chargers\",\"Kochi Tuskers Kerala\",\"Kolkata Knight Riders\",\"Mumbai Indians\",\"Royal Challengers Bangalore\",\"Rajasthan Royals\",\"Pune Warriors\",\"Chennai Super Kings\",\"Sunrisers Hyderabad\",\"Kings XI Punjab\",\"Gujarat Lions\",\"Delhi Capitals\"],\"xaxis\":\"x\",\"y\":[0.0,0.0,3.0,1.0,1.0,0.0,0.0,0.0,0.0,2.0,3.0,0.0],\"yaxis\":\"y\"},{\"alignmentgroup\":\"True\",\"hovertemplate\":\"Opponent=Kolkata Knight Riders<br>Team=%{x}<br>Wins=%{text}<extra></extra>\",\"legendgroup\":\"Kolkata Knight Riders\",\"marker\":{\"color\":\"#ab63fa\",\"pattern\":{\"shape\":\"\"}},\"name\":\"Kolkata Knight Riders\",\"offsetgroup\":\"Kolkata Knight Riders\",\"orientation\":\"v\",\"showlegend\":true,\"text\":[\"2.0\",\"0.0\",\"1.0\",\"11.0\",\"9.0\",\"2.0\",\"0.0\",\"8.0\",\"3.0\",\"3.0\",\"3.0\",\"7.0\"],\"textposition\":\"auto\",\"type\":\"bar\",\"x\":[\"Deccan Chargers\",\"Kochi Tuskers Kerala\",\"Rising Pune Supergiants\",\"Mumbai Indians\",\"Royal Challengers Bangalore\",\"Rajasthan Royals\",\"Pune Warriors\",\"Chennai Super Kings\",\"Sunrisers Hyderabad\",\"Kings XI Punjab\",\"Gujarat Lions\",\"Delhi Capitals\"],\"xaxis\":\"x\",\"y\":[2.0,0.0,1.0,11.0,9.0,2.0,0.0,8.0,3.0,3.0,3.0,7.0],\"yaxis\":\"y\"},{\"alignmentgroup\":\"True\",\"hovertemplate\":\"Opponent=Mumbai Indians<br>Team=%{x}<br>Wins=%{text}<extra></extra>\",\"legendgroup\":\"Mumbai Indians\",\"marker\":{\"color\":\"#FFA15A\",\"pattern\":{\"shape\":\"\"}},\"name\":\"Mumbai Indians\",\"offsetgroup\":\"Mumbai Indians\",\"orientation\":\"v\",\"showlegend\":true,\"text\":[\"1.0\",\"1.0\",\"2.0\",\"3.0\",\"5.0\",\"8.0\",\"0.0\",\"6.0\",\"4.0\",\"4.0\",\"2.0\",\"7.0\"],\"textposition\":\"auto\",\"type\":\"bar\",\"x\":[\"Deccan Chargers\",\"Kochi Tuskers Kerala\",\"Rising Pune Supergiants\",\"Kolkata Knight Riders\",\"Royal Challengers Bangalore\",\"Rajasthan Royals\",\"Pune Warriors\",\"Chennai Super Kings\",\"Sunrisers Hyderabad\",\"Kings XI Punjab\",\"Gujarat Lions\",\"Delhi Capitals\"],\"xaxis\":\"x\",\"y\":[1.0,1.0,2.0,3.0,5.0,8.0,0.0,6.0,4.0,4.0,2.0,7.0],\"yaxis\":\"y\"},{\"alignmentgroup\":\"True\",\"hovertemplate\":\"Opponent=Royal Challengers Bangalore<br>Team=%{x}<br>Wins=%{text}<extra></extra>\",\"legendgroup\":\"Royal Challengers Bangalore\",\"marker\":{\"color\":\"#19d3f3\",\"pattern\":{\"shape\":\"\"}},\"name\":\"Royal Challengers Bangalore\",\"offsetgroup\":\"Royal Challengers Bangalore\",\"orientation\":\"v\",\"showlegend\":true,\"text\":[\"1.0\",\"0.0\",\"0.0\",\"7.0\",\"8.0\",\"6.0\",\"0.0\",\"9.0\",\"3.0\",\"8.0\",\"2.0\",\"4.0\"],\"textposition\":\"auto\",\"type\":\"bar\",\"x\":[\"Deccan Chargers\",\"Kochi Tuskers Kerala\",\"Rising Pune Supergiants\",\"Kolkata Knight Riders\",\"Mumbai Indians\",\"Rajasthan Royals\",\"Pune Warriors\",\"Chennai Super Kings\",\"Sunrisers Hyderabad\",\"Kings XI Punjab\",\"Gujarat Lions\",\"Delhi Capitals\"],\"xaxis\":\"x\",\"y\":[1.0,0.0,0.0,7.0,8.0,6.0,0.0,9.0,3.0,8.0,2.0,4.0],\"yaxis\":\"y\"},{\"alignmentgroup\":\"True\",\"hovertemplate\":\"Opponent=Rajasthan Royals<br>Team=%{x}<br>Wins=%{text}<extra></extra>\",\"legendgroup\":\"Rajasthan Royals\",\"marker\":{\"color\":\"#FF6692\",\"pattern\":{\"shape\":\"\"}},\"name\":\"Rajasthan Royals\",\"offsetgroup\":\"Rajasthan Royals\",\"orientation\":\"v\",\"showlegend\":true,\"text\":[\"1.0\",\"1.0\",\"0.0\",\"9.0\",\"4.0\",\"5.0\",\"1.0\",\"7.0\",\"2.0\",\"3.0\",\"0.0\",\"5.0\"],\"textposition\":\"auto\",\"type\":\"bar\",\"x\":[\"Deccan Chargers\",\"Kochi Tuskers Kerala\",\"Rising Pune Supergiants\",\"Kolkata Knight Riders\",\"Mumbai Indians\",\"Royal Challengers Bangalore\",\"Pune Warriors\",\"Chennai Super Kings\",\"Sunrisers Hyderabad\",\"Kings XI Punjab\",\"Gujarat Lions\",\"Delhi Capitals\"],\"xaxis\":\"x\",\"y\":[1.0,1.0,0.0,9.0,4.0,5.0,1.0,7.0,2.0,3.0,0.0,5.0],\"yaxis\":\"y\"},{\"alignmentgroup\":\"True\",\"hovertemplate\":\"Opponent=Pune Warriors<br>Team=%{x}<br>Wins=%{text}<extra></extra>\",\"legendgroup\":\"Pune Warriors\",\"marker\":{\"color\":\"#B6E880\",\"pattern\":{\"shape\":\"\"}},\"name\":\"Pune Warriors\",\"offsetgroup\":\"Pune Warriors\",\"orientation\":\"v\",\"showlegend\":true,\"text\":[\"1.0\",\"0.0\",\"0.0\",\"1.0\",\"2.0\",\"1.0\",\"3.0\",\"1.0\",\"0.0\",\"3.0\",\"0.0\",\"2.0\"],\"textposition\":\"auto\",\"type\":\"bar\",\"x\":[\"Deccan Chargers\",\"Kochi Tuskers Kerala\",\"Rising Pune Supergiants\",\"Kolkata Knight Riders\",\"Mumbai Indians\",\"Royal Challengers Bangalore\",\"Rajasthan Royals\",\"Chennai Super Kings\",\"Sunrisers Hyderabad\",\"Kings XI Punjab\",\"Gujarat Lions\",\"Delhi Capitals\"],\"xaxis\":\"x\",\"y\":[1.0,0.0,0.0,1.0,2.0,1.0,3.0,1.0,0.0,3.0,0.0,2.0],\"yaxis\":\"y\"},{\"alignmentgroup\":\"True\",\"hovertemplate\":\"Opponent=Chennai Super Kings<br>Team=%{x}<br>Wins=%{text}<extra></extra>\",\"legendgroup\":\"Chennai Super Kings\",\"marker\":{\"color\":\"#FF97FF\",\"pattern\":{\"shape\":\"\"}},\"name\":\"Chennai Super Kings\",\"offsetgroup\":\"Chennai Super Kings\",\"orientation\":\"v\",\"showlegend\":true,\"text\":[\"3.0\",\"1.0\",\"0.0\",\"7.0\",\"7.0\",\"4.0\",\"5.0\",\"1.0\",\"2.0\",\"4.0\",\"0.0\",\"4.0\"],\"textposition\":\"auto\",\"type\":\"bar\",\"x\":[\"Deccan Chargers\",\"Kochi Tuskers Kerala\",\"Rising Pune Supergiants\",\"Kolkata Knight Riders\",\"Mumbai Indians\",\"Royal Challengers Bangalore\",\"Rajasthan Royals\",\"Pune Warriors\",\"Sunrisers Hyderabad\",\"Kings XI Punjab\",\"Gujarat Lions\",\"Delhi Capitals\"],\"xaxis\":\"x\",\"y\":[3.0,1.0,0.0,7.0,7.0,4.0,5.0,1.0,2.0,4.0,0.0,4.0],\"yaxis\":\"y\"},{\"alignmentgroup\":\"True\",\"hovertemplate\":\"Opponent=Sunrisers Hyderabad<br>Team=%{x}<br>Wins=%{text}<extra></extra>\",\"legendgroup\":\"Sunrisers Hyderabad\",\"marker\":{\"color\":\"#FECB52\",\"pattern\":{\"shape\":\"\"}},\"name\":\"Sunrisers Hyderabad\",\"offsetgroup\":\"Sunrisers Hyderabad\",\"orientation\":\"v\",\"showlegend\":true,\"text\":[\"0.0\",\"0.0\",\"2.0\",\"6.0\",\"4.0\",\"4.0\",\"5.0\",\"0.0\",\"6.0\",\"2.0\",\"0.0\",\"4.0\"],\"textposition\":\"auto\",\"type\":\"bar\",\"x\":[\"Deccan Chargers\",\"Kochi Tuskers Kerala\",\"Rising Pune Supergiants\",\"Kolkata Knight Riders\",\"Mumbai Indians\",\"Royal Challengers Bangalore\",\"Rajasthan Royals\",\"Pune Warriors\",\"Chennai Super Kings\",\"Kings XI Punjab\",\"Gujarat Lions\",\"Delhi Capitals\"],\"xaxis\":\"x\",\"y\":[0.0,0.0,2.0,6.0,4.0,4.0,5.0,0.0,6.0,2.0,0.0,4.0],\"yaxis\":\"y\"},{\"alignmentgroup\":\"True\",\"hovertemplate\":\"Opponent=Kings XI Punjab<br>Team=%{x}<br>Wins=%{text}<extra></extra>\",\"legendgroup\":\"Kings XI Punjab\",\"marker\":{\"color\":\"#636efa\",\"pattern\":{\"shape\":\"\"}},\"name\":\"Kings XI Punjab\",\"offsetgroup\":\"Kings XI Punjab\",\"orientation\":\"v\",\"showlegend\":true,\"text\":[\"1.0\",\"0.0\",\"2.0\",\"12.0\",\"8.0\",\"6.0\",\"4.0\",\"2.0\",\"5.0\",\"3.0\",\"2.0\",\"8.0\"],\"textposition\":\"auto\",\"type\":\"bar\",\"x\":[\"Deccan Chargers\",\"Kochi Tuskers Kerala\",\"Rising Pune Supergiants\",\"Kolkata Knight Riders\",\"Mumbai Indians\",\"Royal Challengers Bangalore\",\"Rajasthan Royals\",\"Pune Warriors\",\"Chennai Super Kings\",\"Sunrisers Hyderabad\",\"Gujarat Lions\",\"Delhi Capitals\"],\"xaxis\":\"x\",\"y\":[1.0,0.0,2.0,12.0,8.0,6.0,4.0,2.0,5.0,3.0,2.0,8.0],\"yaxis\":\"y\"},{\"alignmentgroup\":\"True\",\"hovertemplate\":\"Opponent=Gujarat Lions<br>Team=%{x}<br>Wins=%{text}<extra></extra>\",\"legendgroup\":\"Gujarat Lions\",\"marker\":{\"color\":\"#EF553B\",\"pattern\":{\"shape\":\"\"}},\"name\":\"Gujarat Lions\",\"offsetgroup\":\"Gujarat Lions\",\"orientation\":\"v\",\"showlegend\":true,\"text\":[\"0.0\",\"0.0\",\"1.0\",\"1.0\",\"2.0\",\"1.0\",\"0.0\",\"0.0\",\"0.0\",\"5.0\",\"0.0\",\"3.0\"],\"textposition\":\"auto\",\"type\":\"bar\",\"x\":[\"Deccan Chargers\",\"Kochi Tuskers Kerala\",\"Rising Pune Supergiants\",\"Kolkata Knight Riders\",\"Mumbai Indians\",\"Royal Challengers Bangalore\",\"Rajasthan Royals\",\"Pune Warriors\",\"Chennai Super Kings\",\"Sunrisers Hyderabad\",\"Kings XI Punjab\",\"Delhi Capitals\"],\"xaxis\":\"x\",\"y\":[0.0,0.0,1.0,1.0,2.0,1.0,0.0,0.0,0.0,5.0,0.0,3.0],\"yaxis\":\"y\"},{\"alignmentgroup\":\"True\",\"hovertemplate\":\"Opponent=Delhi Capitals<br>Team=%{x}<br>Wins=%{text}<extra></extra>\",\"legendgroup\":\"Delhi Capitals\",\"marker\":{\"color\":\"#00cc96\",\"pattern\":{\"shape\":\"\"}},\"name\":\"Delhi Capitals\",\"offsetgroup\":\"Delhi Capitals\",\"orientation\":\"v\",\"showlegend\":true,\"text\":[\"1.0\",\"1.0\",\"2.0\",\"7.0\",\"2.0\",\"8.0\",\"6.0\",\"0.0\",\"6.0\",\"6.0\",\"9.0\",\"0.0\"],\"textposition\":\"auto\",\"type\":\"bar\",\"x\":[\"Deccan Chargers\",\"Kochi Tuskers Kerala\",\"Rising Pune Supergiants\",\"Kolkata Knight Riders\",\"Mumbai Indians\",\"Royal Challengers Bangalore\",\"Rajasthan Royals\",\"Pune Warriors\",\"Chennai Super Kings\",\"Sunrisers Hyderabad\",\"Kings XI Punjab\",\"Gujarat Lions\"],\"xaxis\":\"x\",\"y\":[1.0,1.0,2.0,7.0,2.0,8.0,6.0,0.0,6.0,6.0,9.0,0.0],\"yaxis\":\"y\"}],                        {\"barmode\":\"relative\",\"height\":800,\"legend\":{\"title\":{\"text\":\"Opponent\"},\"tracegroupgap\":0},\"template\":{\"data\":{\"bar\":[{\"error_x\":{\"color\":\"#2a3f5f\"},\"error_y\":{\"color\":\"#2a3f5f\"},\"marker\":{\"line\":{\"color\":\"#E5ECF6\",\"width\":0.5},\"pattern\":{\"fillmode\":\"overlay\",\"size\":10,\"solidity\":0.2}},\"type\":\"bar\"}],\"barpolar\":[{\"marker\":{\"line\":{\"color\":\"#E5ECF6\",\"width\":0.5},\"pattern\":{\"fillmode\":\"overlay\",\"size\":10,\"solidity\":0.2}},\"type\":\"barpolar\"}],\"carpet\":[{\"aaxis\":{\"endlinecolor\":\"#2a3f5f\",\"gridcolor\":\"white\",\"linecolor\":\"white\",\"minorgridcolor\":\"white\",\"startlinecolor\":\"#2a3f5f\"},\"baxis\":{\"endlinecolor\":\"#2a3f5f\",\"gridcolor\":\"white\",\"linecolor\":\"white\",\"minorgridcolor\":\"white\",\"startlinecolor\":\"#2a3f5f\"},\"type\":\"carpet\"}],\"choropleth\":[{\"colorbar\":{\"outlinewidth\":0,\"ticks\":\"\"},\"type\":\"choropleth\"}],\"contour\":[{\"colorbar\":{\"outlinewidth\":0,\"ticks\":\"\"},\"colorscale\":[[0.0,\"#0d0887\"],[0.1111111111111111,\"#46039f\"],[0.2222222222222222,\"#7201a8\"],[0.3333333333333333,\"#9c179e\"],[0.4444444444444444,\"#bd3786\"],[0.5555555555555556,\"#d8576b\"],[0.6666666666666666,\"#ed7953\"],[0.7777777777777778,\"#fb9f3a\"],[0.8888888888888888,\"#fdca26\"],[1.0,\"#f0f921\"]],\"type\":\"contour\"}],\"contourcarpet\":[{\"colorbar\":{\"outlinewidth\":0,\"ticks\":\"\"},\"type\":\"contourcarpet\"}],\"heatmap\":[{\"colorbar\":{\"outlinewidth\":0,\"ticks\":\"\"},\"colorscale\":[[0.0,\"#0d0887\"],[0.1111111111111111,\"#46039f\"],[0.2222222222222222,\"#7201a8\"],[0.3333333333333333,\"#9c179e\"],[0.4444444444444444,\"#bd3786\"],[0.5555555555555556,\"#d8576b\"],[0.6666666666666666,\"#ed7953\"],[0.7777777777777778,\"#fb9f3a\"],[0.8888888888888888,\"#fdca26\"],[1.0,\"#f0f921\"]],\"type\":\"heatmap\"}],\"heatmapgl\":[{\"colorbar\":{\"outlinewidth\":0,\"ticks\":\"\"},\"colorscale\":[[0.0,\"#0d0887\"],[0.1111111111111111,\"#46039f\"],[0.2222222222222222,\"#7201a8\"],[0.3333333333333333,\"#9c179e\"],[0.4444444444444444,\"#bd3786\"],[0.5555555555555556,\"#d8576b\"],[0.6666666666666666,\"#ed7953\"],[0.7777777777777778,\"#fb9f3a\"],[0.8888888888888888,\"#fdca26\"],[1.0,\"#f0f921\"]],\"type\":\"heatmapgl\"}],\"histogram\":[{\"marker\":{\"pattern\":{\"fillmode\":\"overlay\",\"size\":10,\"solidity\":0.2}},\"type\":\"histogram\"}],\"histogram2d\":[{\"colorbar\":{\"outlinewidth\":0,\"ticks\":\"\"},\"colorscale\":[[0.0,\"#0d0887\"],[0.1111111111111111,\"#46039f\"],[0.2222222222222222,\"#7201a8\"],[0.3333333333333333,\"#9c179e\"],[0.4444444444444444,\"#bd3786\"],[0.5555555555555556,\"#d8576b\"],[0.6666666666666666,\"#ed7953\"],[0.7777777777777778,\"#fb9f3a\"],[0.8888888888888888,\"#fdca26\"],[1.0,\"#f0f921\"]],\"type\":\"histogram2d\"}],\"histogram2dcontour\":[{\"colorbar\":{\"outlinewidth\":0,\"ticks\":\"\"},\"colorscale\":[[0.0,\"#0d0887\"],[0.1111111111111111,\"#46039f\"],[0.2222222222222222,\"#7201a8\"],[0.3333333333333333,\"#9c179e\"],[0.4444444444444444,\"#bd3786\"],[0.5555555555555556,\"#d8576b\"],[0.6666666666666666,\"#ed7953\"],[0.7777777777777778,\"#fb9f3a\"],[0.8888888888888888,\"#fdca26\"],[1.0,\"#f0f921\"]],\"type\":\"histogram2dcontour\"}],\"mesh3d\":[{\"colorbar\":{\"outlinewidth\":0,\"ticks\":\"\"},\"type\":\"mesh3d\"}],\"parcoords\":[{\"line\":{\"colorbar\":{\"outlinewidth\":0,\"ticks\":\"\"}},\"type\":\"parcoords\"}],\"pie\":[{\"automargin\":true,\"type\":\"pie\"}],\"scatter\":[{\"marker\":{\"colorbar\":{\"outlinewidth\":0,\"ticks\":\"\"}},\"type\":\"scatter\"}],\"scatter3d\":[{\"line\":{\"colorbar\":{\"outlinewidth\":0,\"ticks\":\"\"}},\"marker\":{\"colorbar\":{\"outlinewidth\":0,\"ticks\":\"\"}},\"type\":\"scatter3d\"}],\"scattercarpet\":[{\"marker\":{\"colorbar\":{\"outlinewidth\":0,\"ticks\":\"\"}},\"type\":\"scattercarpet\"}],\"scattergeo\":[{\"marker\":{\"colorbar\":{\"outlinewidth\":0,\"ticks\":\"\"}},\"type\":\"scattergeo\"}],\"scattergl\":[{\"marker\":{\"colorbar\":{\"outlinewidth\":0,\"ticks\":\"\"}},\"type\":\"scattergl\"}],\"scattermapbox\":[{\"marker\":{\"colorbar\":{\"outlinewidth\":0,\"ticks\":\"\"}},\"type\":\"scattermapbox\"}],\"scatterpolar\":[{\"marker\":{\"colorbar\":{\"outlinewidth\":0,\"ticks\":\"\"}},\"type\":\"scatterpolar\"}],\"scatterpolargl\":[{\"marker\":{\"colorbar\":{\"outlinewidth\":0,\"ticks\":\"\"}},\"type\":\"scatterpolargl\"}],\"scatterternary\":[{\"marker\":{\"colorbar\":{\"outlinewidth\":0,\"ticks\":\"\"}},\"type\":\"scatterternary\"}],\"surface\":[{\"colorbar\":{\"outlinewidth\":0,\"ticks\":\"\"},\"colorscale\":[[0.0,\"#0d0887\"],[0.1111111111111111,\"#46039f\"],[0.2222222222222222,\"#7201a8\"],[0.3333333333333333,\"#9c179e\"],[0.4444444444444444,\"#bd3786\"],[0.5555555555555556,\"#d8576b\"],[0.6666666666666666,\"#ed7953\"],[0.7777777777777778,\"#fb9f3a\"],[0.8888888888888888,\"#fdca26\"],[1.0,\"#f0f921\"]],\"type\":\"surface\"}],\"table\":[{\"cells\":{\"fill\":{\"color\":\"#EBF0F8\"},\"line\":{\"color\":\"white\"}},\"header\":{\"fill\":{\"color\":\"#C8D4E3\"},\"line\":{\"color\":\"white\"}},\"type\":\"table\"}]},\"layout\":{\"annotationdefaults\":{\"arrowcolor\":\"#2a3f5f\",\"arrowhead\":0,\"arrowwidth\":1},\"autotypenumbers\":\"strict\",\"coloraxis\":{\"colorbar\":{\"outlinewidth\":0,\"ticks\":\"\"}},\"colorscale\":{\"diverging\":[[0,\"#8e0152\"],[0.1,\"#c51b7d\"],[0.2,\"#de77ae\"],[0.3,\"#f1b6da\"],[0.4,\"#fde0ef\"],[0.5,\"#f7f7f7\"],[0.6,\"#e6f5d0\"],[0.7,\"#b8e186\"],[0.8,\"#7fbc41\"],[0.9,\"#4d9221\"],[1,\"#276419\"]],\"sequential\":[[0.0,\"#0d0887\"],[0.1111111111111111,\"#46039f\"],[0.2222222222222222,\"#7201a8\"],[0.3333333333333333,\"#9c179e\"],[0.4444444444444444,\"#bd3786\"],[0.5555555555555556,\"#d8576b\"],[0.6666666666666666,\"#ed7953\"],[0.7777777777777778,\"#fb9f3a\"],[0.8888888888888888,\"#fdca26\"],[1.0,\"#f0f921\"]],\"sequentialminus\":[[0.0,\"#0d0887\"],[0.1111111111111111,\"#46039f\"],[0.2222222222222222,\"#7201a8\"],[0.3333333333333333,\"#9c179e\"],[0.4444444444444444,\"#bd3786\"],[0.5555555555555556,\"#d8576b\"],[0.6666666666666666,\"#ed7953\"],[0.7777777777777778,\"#fb9f3a\"],[0.8888888888888888,\"#fdca26\"],[1.0,\"#f0f921\"]]},\"colorway\":[\"#636efa\",\"#EF553B\",\"#00cc96\",\"#ab63fa\",\"#FFA15A\",\"#19d3f3\",\"#FF6692\",\"#B6E880\",\"#FF97FF\",\"#FECB52\"],\"font\":{\"color\":\"#2a3f5f\"},\"geo\":{\"bgcolor\":\"white\",\"lakecolor\":\"white\",\"landcolor\":\"#E5ECF6\",\"showlakes\":true,\"showland\":true,\"subunitcolor\":\"white\"},\"hoverlabel\":{\"align\":\"left\"},\"hovermode\":\"closest\",\"mapbox\":{\"style\":\"light\"},\"paper_bgcolor\":\"white\",\"plot_bgcolor\":\"#E5ECF6\",\"polar\":{\"angularaxis\":{\"gridcolor\":\"white\",\"linecolor\":\"white\",\"ticks\":\"\"},\"bgcolor\":\"#E5ECF6\",\"radialaxis\":{\"gridcolor\":\"white\",\"linecolor\":\"white\",\"ticks\":\"\"}},\"scene\":{\"xaxis\":{\"backgroundcolor\":\"#E5ECF6\",\"gridcolor\":\"white\",\"gridwidth\":2,\"linecolor\":\"white\",\"showbackground\":true,\"ticks\":\"\",\"zerolinecolor\":\"white\"},\"yaxis\":{\"backgroundcolor\":\"#E5ECF6\",\"gridcolor\":\"white\",\"gridwidth\":2,\"linecolor\":\"white\",\"showbackground\":true,\"ticks\":\"\",\"zerolinecolor\":\"white\"},\"zaxis\":{\"backgroundcolor\":\"#E5ECF6\",\"gridcolor\":\"white\",\"gridwidth\":2,\"linecolor\":\"white\",\"showbackground\":true,\"ticks\":\"\",\"zerolinecolor\":\"white\"}},\"shapedefaults\":{\"line\":{\"color\":\"#2a3f5f\"}},\"ternary\":{\"aaxis\":{\"gridcolor\":\"white\",\"linecolor\":\"white\",\"ticks\":\"\"},\"baxis\":{\"gridcolor\":\"white\",\"linecolor\":\"white\",\"ticks\":\"\"},\"bgcolor\":\"#E5ECF6\",\"caxis\":{\"gridcolor\":\"white\",\"linecolor\":\"white\",\"ticks\":\"\"}},\"title\":{\"x\":0.05},\"xaxis\":{\"automargin\":true,\"gridcolor\":\"white\",\"linecolor\":\"white\",\"ticks\":\"\",\"title\":{\"standoff\":15},\"zerolinecolor\":\"white\",\"zerolinewidth\":2},\"yaxis\":{\"automargin\":true,\"gridcolor\":\"white\",\"linecolor\":\"white\",\"ticks\":\"\",\"title\":{\"standoff\":15},\"zerolinecolor\":\"white\",\"zerolinewidth\":2}}},\"title\":{\"text\":\"Stacked head-to-head wins at away matches\"},\"uniformtext\":{\"minsize\":8},\"width\":1000,\"xaxis\":{\"anchor\":\"y\",\"domain\":[0.0,1.0],\"title\":{\"text\":\"Team\"}},\"yaxis\":{\"anchor\":\"x\",\"domain\":[0.0,1.0],\"title\":{\"text\":\"Wins\"}}},                        {\"responsive\": true}                    ).then(function(){\n",
       "                            \n",
       "var gd = document.getElementById('23f4520d-d4bd-4bf4-b902-bdcd4ff715ea');\n",
       "var x = new MutationObserver(function (mutations, observer) {{\n",
       "        var display = window.getComputedStyle(gd).display;\n",
       "        if (!display || display === 'none') {{\n",
       "            console.log([gd, 'removed!']);\n",
       "            Plotly.purge(gd);\n",
       "            observer.disconnect();\n",
       "        }}\n",
       "}});\n",
       "\n",
       "// Listen for the removal of the full notebook cells\n",
       "var notebookContainer = gd.closest('#notebook-container');\n",
       "if (notebookContainer) {{\n",
       "    x.observe(notebookContainer, {childList: true});\n",
       "}}\n",
       "\n",
       "// Listen for the clearing of the current output cell\n",
       "var outputEl = gd.closest('.output');\n",
       "if (outputEl) {{\n",
       "    x.observe(outputEl, {childList: true});\n",
       "}}\n",
       "\n",
       "                        })                };                });            </script>        </div>"
      ]
     },
     "metadata": {},
     "output_type": "display_data"
    }
   ],
   "source": [
    "fig1b = px.bar(h2h_data, x = \"team2\", y=\"wins for team 2\", text=\"wins for team 2\", color=\"team1\", labels={\n",
    "    \"team2\": \"Team\",\n",
    "    \"wins for team 2\": \"Wins\",\n",
    "    \"team1\": \"Opponent\",\n",
    "\n",
    "}, title=\"Stacked head-to-head wins at away matches\", width=1000, height=800)\n",
    "fig1b.update_layout(uniformtext_minsize=8)\n",
    "fig1b.show()"
   ]
  },
  {
   "cell_type": "code",
   "execution_count": 54,
   "metadata": {
    "ExecuteTime": {
     "end_time": "2021-08-10T05:29:40.851648Z",
     "start_time": "2021-08-10T05:29:40.742824Z"
    }
   },
   "outputs": [
    {
     "data": {
      "application/vnd.plotly.v1+json": {
       "config": {
        "plotlyServerURL": "https://plot.ly"
       },
       "data": [
        {
         "alignmentgroup": "True",
         "hovertemplate": "Opponent=Deccan Chargers<br>Team=%{x}<br>Losses=%{text}<extra></extra>",
         "legendgroup": "Deccan Chargers",
         "marker": {
          "color": "#636efa",
          "pattern": {
           "shape": ""
          }
         },
         "name": "Deccan Chargers",
         "offsetgroup": "Deccan Chargers",
         "orientation": "v",
         "showlegend": true,
         "text": [
          "1.0",
          "0.0",
          "0.0",
          "3.0",
          "5.0",
          "1.0",
          "2.0",
          "1.0",
          "0.0",
          "2.0",
          "0.0",
          "3.0"
         ],
         "textposition": "auto",
         "type": "bar",
         "x": [
          "Kochi Tuskers Kerala",
          "Rising Pune Supergiants",
          "Kolkata Knight Riders",
          "Mumbai Indians",
          "Royal Challengers Bangalore",
          "Rajasthan Royals",
          "Pune Warriors",
          "Chennai Super Kings",
          "Sunrisers Hyderabad",
          "Kings XI Punjab",
          "Gujarat Lions",
          "Delhi Capitals"
         ],
         "xaxis": "x",
         "y": [
          1,
          0,
          0,
          3,
          5,
          1,
          2,
          1,
          0,
          2,
          0,
          3
         ],
         "yaxis": "y"
        },
        {
         "alignmentgroup": "True",
         "hovertemplate": "Opponent=Kochi Tuskers Kerala<br>Team=%{x}<br>Losses=%{text}<extra></extra>",
         "legendgroup": "Kochi Tuskers Kerala",
         "marker": {
          "color": "#EF553B",
          "pattern": {
           "shape": ""
          }
         },
         "name": "Kochi Tuskers Kerala",
         "offsetgroup": "Kochi Tuskers Kerala",
         "orientation": "v",
         "showlegend": true,
         "text": [
          "0.0",
          "0.0",
          "2.0",
          "0.0",
          "0.0",
          "0.0",
          "0.0",
          "0.0",
          "0.0",
          "0.0",
          "0.0",
          "0.0"
         ],
         "textposition": "auto",
         "type": "bar",
         "x": [
          "Deccan Chargers",
          "Rising Pune Supergiants",
          "Kolkata Knight Riders",
          "Mumbai Indians",
          "Royal Challengers Bangalore",
          "Rajasthan Royals",
          "Pune Warriors",
          "Chennai Super Kings",
          "Sunrisers Hyderabad",
          "Kings XI Punjab",
          "Gujarat Lions",
          "Delhi Capitals"
         ],
         "xaxis": "x",
         "y": [
          0,
          0,
          2,
          0,
          0,
          0,
          0,
          0,
          0,
          0,
          0,
          0
         ],
         "yaxis": "y"
        },
        {
         "alignmentgroup": "True",
         "hovertemplate": "Opponent=Rising Pune Supergiants<br>Team=%{x}<br>Losses=%{text}<extra></extra>",
         "legendgroup": "Rising Pune Supergiants",
         "marker": {
          "color": "#00cc96",
          "pattern": {
           "shape": ""
          }
         },
         "name": "Rising Pune Supergiants",
         "offsetgroup": "Rising Pune Supergiants",
         "orientation": "v",
         "showlegend": true,
         "text": [
          "0.0",
          "0.0",
          "0.0",
          "2.0",
          "2.0",
          "0.0",
          "0.0",
          "0.0",
          "1.0",
          "0.0",
          "0.0",
          "0.0"
         ],
         "textposition": "auto",
         "type": "bar",
         "x": [
          "Deccan Chargers",
          "Kochi Tuskers Kerala",
          "Kolkata Knight Riders",
          "Mumbai Indians",
          "Royal Challengers Bangalore",
          "Rajasthan Royals",
          "Pune Warriors",
          "Chennai Super Kings",
          "Sunrisers Hyderabad",
          "Kings XI Punjab",
          "Gujarat Lions",
          "Delhi Capitals"
         ],
         "xaxis": "x",
         "y": [
          0,
          0,
          0,
          2,
          2,
          0,
          0,
          0,
          1,
          0,
          0,
          0
         ],
         "yaxis": "y"
        },
        {
         "alignmentgroup": "True",
         "hovertemplate": "Opponent=Kolkata Knight Riders<br>Team=%{x}<br>Losses=%{text}<extra></extra>",
         "legendgroup": "Kolkata Knight Riders",
         "marker": {
          "color": "#ab63fa",
          "pattern": {
           "shape": ""
          }
         },
         "name": "Kolkata Knight Riders",
         "offsetgroup": "Kolkata Knight Riders",
         "orientation": "v",
         "showlegend": true,
         "text": [
          "5.0",
          "0.0",
          "0.0",
          "3.0",
          "7.0",
          "1.0",
          "3.0",
          "0.0",
          "4.0",
          "5.0",
          "0.0",
          "6.0"
         ],
         "textposition": "auto",
         "type": "bar",
         "x": [
          "Deccan Chargers",
          "Kochi Tuskers Kerala",
          "Rising Pune Supergiants",
          "Mumbai Indians",
          "Royal Challengers Bangalore",
          "Rajasthan Royals",
          "Pune Warriors",
          "Chennai Super Kings",
          "Sunrisers Hyderabad",
          "Kings XI Punjab",
          "Gujarat Lions",
          "Delhi Capitals"
         ],
         "xaxis": "x",
         "y": [
          5,
          0,
          0,
          3,
          7,
          1,
          3,
          0,
          4,
          5,
          0,
          6
         ],
         "yaxis": "y"
        },
        {
         "alignmentgroup": "True",
         "hovertemplate": "Opponent=Mumbai Indians<br>Team=%{x}<br>Losses=%{text}<extra></extra>",
         "legendgroup": "Mumbai Indians",
         "marker": {
          "color": "#FFA15A",
          "pattern": {
           "shape": ""
          }
         },
         "name": "Mumbai Indians",
         "offsetgroup": "Mumbai Indians",
         "orientation": "v",
         "showlegend": true,
         "text": [
          "4.0",
          "0.0",
          "1.0",
          "8.0",
          "8.0",
          "6.0",
          "3.0",
          "10.0",
          "3.0",
          "5.0",
          "0.0",
          "10.0"
         ],
         "textposition": "auto",
         "type": "bar",
         "x": [
          "Deccan Chargers",
          "Kochi Tuskers Kerala",
          "Rising Pune Supergiants",
          "Kolkata Knight Riders",
          "Royal Challengers Bangalore",
          "Rajasthan Royals",
          "Pune Warriors",
          "Chennai Super Kings",
          "Sunrisers Hyderabad",
          "Kings XI Punjab",
          "Gujarat Lions",
          "Delhi Capitals"
         ],
         "xaxis": "x",
         "y": [
          4,
          0,
          1,
          8,
          8,
          6,
          3,
          10,
          3,
          5,
          0,
          10
         ],
         "yaxis": "y"
        },
        {
         "alignmentgroup": "True",
         "hovertemplate": "Opponent=Royal Challengers Bangalore<br>Team=%{x}<br>Losses=%{text}<extra></extra>",
         "legendgroup": "Royal Challengers Bangalore",
         "marker": {
          "color": "#19d3f3",
          "pattern": {
           "shape": ""
          }
         },
         "name": "Royal Challengers Bangalore",
         "offsetgroup": "Royal Challengers Bangalore",
         "orientation": "v",
         "showlegend": true,
         "text": [
          "2.0",
          "0.0",
          "1.0",
          "1.0",
          "4.0",
          "3.0",
          "4.0",
          "4.0",
          "2.0",
          "6.0",
          "2.0",
          "6.0"
         ],
         "textposition": "auto",
         "type": "bar",
         "x": [
          "Deccan Chargers",
          "Kochi Tuskers Kerala",
          "Rising Pune Supergiants",
          "Kolkata Knight Riders",
          "Mumbai Indians",
          "Rajasthan Royals",
          "Pune Warriors",
          "Chennai Super Kings",
          "Sunrisers Hyderabad",
          "Kings XI Punjab",
          "Gujarat Lions",
          "Delhi Capitals"
         ],
         "xaxis": "x",
         "y": [
          2,
          0,
          1,
          1,
          4,
          3,
          4,
          4,
          2,
          6,
          2,
          6
         ],
         "yaxis": "y"
        },
        {
         "alignmentgroup": "True",
         "hovertemplate": "Opponent=Rajasthan Royals<br>Team=%{x}<br>Losses=%{text}<extra></extra>",
         "legendgroup": "Rajasthan Royals",
         "marker": {
          "color": "#FF6692",
          "pattern": {
           "shape": ""
          }
         },
         "name": "Rajasthan Royals",
         "offsetgroup": "Rajasthan Royals",
         "orientation": "v",
         "showlegend": true,
         "text": [
          "1.0",
          "0.0",
          "0.0",
          "8.0",
          "2.0",
          "4.0",
          "1.0",
          "2.0",
          "0.0",
          "6.0",
          "0.0",
          "5.0"
         ],
         "textposition": "auto",
         "type": "bar",
         "x": [
          "Deccan Chargers",
          "Kochi Tuskers Kerala",
          "Rising Pune Supergiants",
          "Kolkata Knight Riders",
          "Mumbai Indians",
          "Royal Challengers Bangalore",
          "Pune Warriors",
          "Chennai Super Kings",
          "Sunrisers Hyderabad",
          "Kings XI Punjab",
          "Gujarat Lions",
          "Delhi Capitals"
         ],
         "xaxis": "x",
         "y": [
          1,
          0,
          0,
          8,
          2,
          4,
          1,
          2,
          0,
          6,
          0,
          5
         ],
         "yaxis": "y"
        },
        {
         "alignmentgroup": "True",
         "hovertemplate": "Opponent=Pune Warriors<br>Team=%{x}<br>Losses=%{text}<extra></extra>",
         "legendgroup": "Pune Warriors",
         "marker": {
          "color": "#B6E880",
          "pattern": {
           "shape": ""
          }
         },
         "name": "Pune Warriors",
         "offsetgroup": "Pune Warriors",
         "orientation": "v",
         "showlegend": true,
         "text": [
          "0.0",
          "0.0",
          "0.0",
          "1.0",
          "1.0",
          "0.0",
          "0.0",
          "1.0",
          "0.0",
          "1.0",
          "0.0",
          "2.0"
         ],
         "textposition": "auto",
         "type": "bar",
         "x": [
          "Deccan Chargers",
          "Kochi Tuskers Kerala",
          "Rising Pune Supergiants",
          "Kolkata Knight Riders",
          "Mumbai Indians",
          "Royal Challengers Bangalore",
          "Rajasthan Royals",
          "Chennai Super Kings",
          "Sunrisers Hyderabad",
          "Kings XI Punjab",
          "Gujarat Lions",
          "Delhi Capitals"
         ],
         "xaxis": "x",
         "y": [
          0,
          0,
          0,
          1,
          1,
          0,
          0,
          1,
          0,
          1,
          0,
          2
         ],
         "yaxis": "y"
        },
        {
         "alignmentgroup": "True",
         "hovertemplate": "Opponent=Chennai Super Kings<br>Team=%{x}<br>Losses=%{text}<extra></extra>",
         "legendgroup": "Chennai Super Kings",
         "marker": {
          "color": "#FF97FF",
          "pattern": {
           "shape": ""
          }
         },
         "name": "Chennai Super Kings",
         "offsetgroup": "Chennai Super Kings",
         "orientation": "v",
         "showlegend": true,
         "text": [
          "5.0",
          "1.0",
          "0.0",
          "5.0",
          "5.0",
          "6.0",
          "7.0",
          "3.0",
          "3.0",
          "7.0",
          "0.0",
          "9.0"
         ],
         "textposition": "auto",
         "type": "bar",
         "x": [
          "Deccan Chargers",
          "Kochi Tuskers Kerala",
          "Rising Pune Supergiants",
          "Kolkata Knight Riders",
          "Mumbai Indians",
          "Royal Challengers Bangalore",
          "Rajasthan Royals",
          "Pune Warriors",
          "Sunrisers Hyderabad",
          "Kings XI Punjab",
          "Gujarat Lions",
          "Delhi Capitals"
         ],
         "xaxis": "x",
         "y": [
          5,
          1,
          0,
          5,
          5,
          6,
          7,
          3,
          3,
          7,
          0,
          9
         ],
         "yaxis": "y"
        },
        {
         "alignmentgroup": "True",
         "hovertemplate": "Opponent=Sunrisers Hyderabad<br>Team=%{x}<br>Losses=%{text}<extra></extra>",
         "legendgroup": "Sunrisers Hyderabad",
         "marker": {
          "color": "#FECB52",
          "pattern": {
           "shape": ""
          }
         },
         "name": "Sunrisers Hyderabad",
         "offsetgroup": "Sunrisers Hyderabad",
         "orientation": "v",
         "showlegend": true,
         "text": [
          "0.0",
          "0.0",
          "1.0",
          "4.0",
          "3.0",
          "5.0",
          "4.0",
          "2.0",
          "1.0",
          "7.0",
          "0.0",
          "3.0"
         ],
         "textposition": "auto",
         "type": "bar",
         "x": [
          "Deccan Chargers",
          "Kochi Tuskers Kerala",
          "Rising Pune Supergiants",
          "Kolkata Knight Riders",
          "Mumbai Indians",
          "Royal Challengers Bangalore",
          "Rajasthan Royals",
          "Pune Warriors",
          "Chennai Super Kings",
          "Kings XI Punjab",
          "Gujarat Lions",
          "Delhi Capitals"
         ],
         "xaxis": "x",
         "y": [
          0,
          0,
          1,
          4,
          3,
          5,
          4,
          2,
          1,
          7,
          0,
          3
         ],
         "yaxis": "y"
        },
        {
         "alignmentgroup": "True",
         "hovertemplate": "Opponent=Kings XI Punjab<br>Team=%{x}<br>Losses=%{text}<extra></extra>",
         "legendgroup": "Kings XI Punjab",
         "marker": {
          "color": "#636efa",
          "pattern": {
           "shape": ""
          }
         },
         "name": "Kings XI Punjab",
         "offsetgroup": "Kings XI Punjab",
         "orientation": "v",
         "showlegend": true,
         "text": [
          "2.0",
          "0.0",
          "0.0",
          "5.0",
          "7.0",
          "4.0",
          "6.0",
          "0.0",
          "5.0",
          "2.0",
          "2.0",
          "5.0"
         ],
         "textposition": "auto",
         "type": "bar",
         "x": [
          "Deccan Chargers",
          "Kochi Tuskers Kerala",
          "Rising Pune Supergiants",
          "Kolkata Knight Riders",
          "Mumbai Indians",
          "Royal Challengers Bangalore",
          "Rajasthan Royals",
          "Pune Warriors",
          "Chennai Super Kings",
          "Sunrisers Hyderabad",
          "Gujarat Lions",
          "Delhi Capitals"
         ],
         "xaxis": "x",
         "y": [
          2,
          0,
          0,
          5,
          7,
          4,
          6,
          0,
          5,
          2,
          2,
          5
         ],
         "yaxis": "y"
        },
        {
         "alignmentgroup": "True",
         "hovertemplate": "Opponent=Gujarat Lions<br>Team=%{x}<br>Losses=%{text}<extra></extra>",
         "legendgroup": "Gujarat Lions",
         "marker": {
          "color": "#EF553B",
          "pattern": {
           "shape": ""
          }
         },
         "name": "Gujarat Lions",
         "offsetgroup": "Gujarat Lions",
         "orientation": "v",
         "showlegend": true,
         "text": [
          "0.0",
          "0.0",
          "0.0",
          "0.0",
          "0.0",
          "0.0",
          "0.0",
          "0.0",
          "0.0",
          "0.0",
          "0.0",
          "1.0"
         ],
         "textposition": "auto",
         "type": "bar",
         "x": [
          "Deccan Chargers",
          "Kochi Tuskers Kerala",
          "Rising Pune Supergiants",
          "Kolkata Knight Riders",
          "Mumbai Indians",
          "Royal Challengers Bangalore",
          "Rajasthan Royals",
          "Pune Warriors",
          "Chennai Super Kings",
          "Sunrisers Hyderabad",
          "Kings XI Punjab",
          "Delhi Capitals"
         ],
         "xaxis": "x",
         "y": [
          0,
          0,
          0,
          0,
          0,
          0,
          0,
          0,
          0,
          0,
          0,
          1
         ],
         "yaxis": "y"
        },
        {
         "alignmentgroup": "True",
         "hovertemplate": "Opponent=Delhi Capitals<br>Team=%{x}<br>Losses=%{text}<extra></extra>",
         "legendgroup": "Delhi Capitals",
         "marker": {
          "color": "#00cc96",
          "pattern": {
           "shape": ""
          }
         },
         "name": "Delhi Capitals",
         "offsetgroup": "Delhi Capitals",
         "orientation": "v",
         "showlegend": true,
         "text": [
          "2.0",
          "1.0",
          "2.0",
          "3.0",
          "5.0",
          "4.0",
          "4.0",
          "1.0",
          "2.0",
          "2.0",
          "2.0",
          "0.0"
         ],
         "textposition": "auto",
         "type": "bar",
         "x": [
          "Deccan Chargers",
          "Kochi Tuskers Kerala",
          "Rising Pune Supergiants",
          "Kolkata Knight Riders",
          "Mumbai Indians",
          "Royal Challengers Bangalore",
          "Rajasthan Royals",
          "Pune Warriors",
          "Chennai Super Kings",
          "Sunrisers Hyderabad",
          "Kings XI Punjab",
          "Gujarat Lions"
         ],
         "xaxis": "x",
         "y": [
          2,
          1,
          2,
          3,
          5,
          4,
          4,
          1,
          2,
          2,
          2,
          0
         ],
         "yaxis": "y"
        }
       ],
       "layout": {
        "barmode": "relative",
        "height": 800,
        "legend": {
         "title": {
          "text": "Opponent"
         },
         "tracegroupgap": 0
        },
        "template": {
         "data": {
          "bar": [
           {
            "error_x": {
             "color": "#2a3f5f"
            },
            "error_y": {
             "color": "#2a3f5f"
            },
            "marker": {
             "line": {
              "color": "#E5ECF6",
              "width": 0.5
             },
             "pattern": {
              "fillmode": "overlay",
              "size": 10,
              "solidity": 0.2
             }
            },
            "type": "bar"
           }
          ],
          "barpolar": [
           {
            "marker": {
             "line": {
              "color": "#E5ECF6",
              "width": 0.5
             },
             "pattern": {
              "fillmode": "overlay",
              "size": 10,
              "solidity": 0.2
             }
            },
            "type": "barpolar"
           }
          ],
          "carpet": [
           {
            "aaxis": {
             "endlinecolor": "#2a3f5f",
             "gridcolor": "white",
             "linecolor": "white",
             "minorgridcolor": "white",
             "startlinecolor": "#2a3f5f"
            },
            "baxis": {
             "endlinecolor": "#2a3f5f",
             "gridcolor": "white",
             "linecolor": "white",
             "minorgridcolor": "white",
             "startlinecolor": "#2a3f5f"
            },
            "type": "carpet"
           }
          ],
          "choropleth": [
           {
            "colorbar": {
             "outlinewidth": 0,
             "ticks": ""
            },
            "type": "choropleth"
           }
          ],
          "contour": [
           {
            "colorbar": {
             "outlinewidth": 0,
             "ticks": ""
            },
            "colorscale": [
             [
              0,
              "#0d0887"
             ],
             [
              0.1111111111111111,
              "#46039f"
             ],
             [
              0.2222222222222222,
              "#7201a8"
             ],
             [
              0.3333333333333333,
              "#9c179e"
             ],
             [
              0.4444444444444444,
              "#bd3786"
             ],
             [
              0.5555555555555556,
              "#d8576b"
             ],
             [
              0.6666666666666666,
              "#ed7953"
             ],
             [
              0.7777777777777778,
              "#fb9f3a"
             ],
             [
              0.8888888888888888,
              "#fdca26"
             ],
             [
              1,
              "#f0f921"
             ]
            ],
            "type": "contour"
           }
          ],
          "contourcarpet": [
           {
            "colorbar": {
             "outlinewidth": 0,
             "ticks": ""
            },
            "type": "contourcarpet"
           }
          ],
          "heatmap": [
           {
            "colorbar": {
             "outlinewidth": 0,
             "ticks": ""
            },
            "colorscale": [
             [
              0,
              "#0d0887"
             ],
             [
              0.1111111111111111,
              "#46039f"
             ],
             [
              0.2222222222222222,
              "#7201a8"
             ],
             [
              0.3333333333333333,
              "#9c179e"
             ],
             [
              0.4444444444444444,
              "#bd3786"
             ],
             [
              0.5555555555555556,
              "#d8576b"
             ],
             [
              0.6666666666666666,
              "#ed7953"
             ],
             [
              0.7777777777777778,
              "#fb9f3a"
             ],
             [
              0.8888888888888888,
              "#fdca26"
             ],
             [
              1,
              "#f0f921"
             ]
            ],
            "type": "heatmap"
           }
          ],
          "heatmapgl": [
           {
            "colorbar": {
             "outlinewidth": 0,
             "ticks": ""
            },
            "colorscale": [
             [
              0,
              "#0d0887"
             ],
             [
              0.1111111111111111,
              "#46039f"
             ],
             [
              0.2222222222222222,
              "#7201a8"
             ],
             [
              0.3333333333333333,
              "#9c179e"
             ],
             [
              0.4444444444444444,
              "#bd3786"
             ],
             [
              0.5555555555555556,
              "#d8576b"
             ],
             [
              0.6666666666666666,
              "#ed7953"
             ],
             [
              0.7777777777777778,
              "#fb9f3a"
             ],
             [
              0.8888888888888888,
              "#fdca26"
             ],
             [
              1,
              "#f0f921"
             ]
            ],
            "type": "heatmapgl"
           }
          ],
          "histogram": [
           {
            "marker": {
             "pattern": {
              "fillmode": "overlay",
              "size": 10,
              "solidity": 0.2
             }
            },
            "type": "histogram"
           }
          ],
          "histogram2d": [
           {
            "colorbar": {
             "outlinewidth": 0,
             "ticks": ""
            },
            "colorscale": [
             [
              0,
              "#0d0887"
             ],
             [
              0.1111111111111111,
              "#46039f"
             ],
             [
              0.2222222222222222,
              "#7201a8"
             ],
             [
              0.3333333333333333,
              "#9c179e"
             ],
             [
              0.4444444444444444,
              "#bd3786"
             ],
             [
              0.5555555555555556,
              "#d8576b"
             ],
             [
              0.6666666666666666,
              "#ed7953"
             ],
             [
              0.7777777777777778,
              "#fb9f3a"
             ],
             [
              0.8888888888888888,
              "#fdca26"
             ],
             [
              1,
              "#f0f921"
             ]
            ],
            "type": "histogram2d"
           }
          ],
          "histogram2dcontour": [
           {
            "colorbar": {
             "outlinewidth": 0,
             "ticks": ""
            },
            "colorscale": [
             [
              0,
              "#0d0887"
             ],
             [
              0.1111111111111111,
              "#46039f"
             ],
             [
              0.2222222222222222,
              "#7201a8"
             ],
             [
              0.3333333333333333,
              "#9c179e"
             ],
             [
              0.4444444444444444,
              "#bd3786"
             ],
             [
              0.5555555555555556,
              "#d8576b"
             ],
             [
              0.6666666666666666,
              "#ed7953"
             ],
             [
              0.7777777777777778,
              "#fb9f3a"
             ],
             [
              0.8888888888888888,
              "#fdca26"
             ],
             [
              1,
              "#f0f921"
             ]
            ],
            "type": "histogram2dcontour"
           }
          ],
          "mesh3d": [
           {
            "colorbar": {
             "outlinewidth": 0,
             "ticks": ""
            },
            "type": "mesh3d"
           }
          ],
          "parcoords": [
           {
            "line": {
             "colorbar": {
              "outlinewidth": 0,
              "ticks": ""
             }
            },
            "type": "parcoords"
           }
          ],
          "pie": [
           {
            "automargin": true,
            "type": "pie"
           }
          ],
          "scatter": [
           {
            "marker": {
             "colorbar": {
              "outlinewidth": 0,
              "ticks": ""
             }
            },
            "type": "scatter"
           }
          ],
          "scatter3d": [
           {
            "line": {
             "colorbar": {
              "outlinewidth": 0,
              "ticks": ""
             }
            },
            "marker": {
             "colorbar": {
              "outlinewidth": 0,
              "ticks": ""
             }
            },
            "type": "scatter3d"
           }
          ],
          "scattercarpet": [
           {
            "marker": {
             "colorbar": {
              "outlinewidth": 0,
              "ticks": ""
             }
            },
            "type": "scattercarpet"
           }
          ],
          "scattergeo": [
           {
            "marker": {
             "colorbar": {
              "outlinewidth": 0,
              "ticks": ""
             }
            },
            "type": "scattergeo"
           }
          ],
          "scattergl": [
           {
            "marker": {
             "colorbar": {
              "outlinewidth": 0,
              "ticks": ""
             }
            },
            "type": "scattergl"
           }
          ],
          "scattermapbox": [
           {
            "marker": {
             "colorbar": {
              "outlinewidth": 0,
              "ticks": ""
             }
            },
            "type": "scattermapbox"
           }
          ],
          "scatterpolar": [
           {
            "marker": {
             "colorbar": {
              "outlinewidth": 0,
              "ticks": ""
             }
            },
            "type": "scatterpolar"
           }
          ],
          "scatterpolargl": [
           {
            "marker": {
             "colorbar": {
              "outlinewidth": 0,
              "ticks": ""
             }
            },
            "type": "scatterpolargl"
           }
          ],
          "scatterternary": [
           {
            "marker": {
             "colorbar": {
              "outlinewidth": 0,
              "ticks": ""
             }
            },
            "type": "scatterternary"
           }
          ],
          "surface": [
           {
            "colorbar": {
             "outlinewidth": 0,
             "ticks": ""
            },
            "colorscale": [
             [
              0,
              "#0d0887"
             ],
             [
              0.1111111111111111,
              "#46039f"
             ],
             [
              0.2222222222222222,
              "#7201a8"
             ],
             [
              0.3333333333333333,
              "#9c179e"
             ],
             [
              0.4444444444444444,
              "#bd3786"
             ],
             [
              0.5555555555555556,
              "#d8576b"
             ],
             [
              0.6666666666666666,
              "#ed7953"
             ],
             [
              0.7777777777777778,
              "#fb9f3a"
             ],
             [
              0.8888888888888888,
              "#fdca26"
             ],
             [
              1,
              "#f0f921"
             ]
            ],
            "type": "surface"
           }
          ],
          "table": [
           {
            "cells": {
             "fill": {
              "color": "#EBF0F8"
             },
             "line": {
              "color": "white"
             }
            },
            "header": {
             "fill": {
              "color": "#C8D4E3"
             },
             "line": {
              "color": "white"
             }
            },
            "type": "table"
           }
          ]
         },
         "layout": {
          "annotationdefaults": {
           "arrowcolor": "#2a3f5f",
           "arrowhead": 0,
           "arrowwidth": 1
          },
          "autotypenumbers": "strict",
          "coloraxis": {
           "colorbar": {
            "outlinewidth": 0,
            "ticks": ""
           }
          },
          "colorscale": {
           "diverging": [
            [
             0,
             "#8e0152"
            ],
            [
             0.1,
             "#c51b7d"
            ],
            [
             0.2,
             "#de77ae"
            ],
            [
             0.3,
             "#f1b6da"
            ],
            [
             0.4,
             "#fde0ef"
            ],
            [
             0.5,
             "#f7f7f7"
            ],
            [
             0.6,
             "#e6f5d0"
            ],
            [
             0.7,
             "#b8e186"
            ],
            [
             0.8,
             "#7fbc41"
            ],
            [
             0.9,
             "#4d9221"
            ],
            [
             1,
             "#276419"
            ]
           ],
           "sequential": [
            [
             0,
             "#0d0887"
            ],
            [
             0.1111111111111111,
             "#46039f"
            ],
            [
             0.2222222222222222,
             "#7201a8"
            ],
            [
             0.3333333333333333,
             "#9c179e"
            ],
            [
             0.4444444444444444,
             "#bd3786"
            ],
            [
             0.5555555555555556,
             "#d8576b"
            ],
            [
             0.6666666666666666,
             "#ed7953"
            ],
            [
             0.7777777777777778,
             "#fb9f3a"
            ],
            [
             0.8888888888888888,
             "#fdca26"
            ],
            [
             1,
             "#f0f921"
            ]
           ],
           "sequentialminus": [
            [
             0,
             "#0d0887"
            ],
            [
             0.1111111111111111,
             "#46039f"
            ],
            [
             0.2222222222222222,
             "#7201a8"
            ],
            [
             0.3333333333333333,
             "#9c179e"
            ],
            [
             0.4444444444444444,
             "#bd3786"
            ],
            [
             0.5555555555555556,
             "#d8576b"
            ],
            [
             0.6666666666666666,
             "#ed7953"
            ],
            [
             0.7777777777777778,
             "#fb9f3a"
            ],
            [
             0.8888888888888888,
             "#fdca26"
            ],
            [
             1,
             "#f0f921"
            ]
           ]
          },
          "colorway": [
           "#636efa",
           "#EF553B",
           "#00cc96",
           "#ab63fa",
           "#FFA15A",
           "#19d3f3",
           "#FF6692",
           "#B6E880",
           "#FF97FF",
           "#FECB52"
          ],
          "font": {
           "color": "#2a3f5f"
          },
          "geo": {
           "bgcolor": "white",
           "lakecolor": "white",
           "landcolor": "#E5ECF6",
           "showlakes": true,
           "showland": true,
           "subunitcolor": "white"
          },
          "hoverlabel": {
           "align": "left"
          },
          "hovermode": "closest",
          "mapbox": {
           "style": "light"
          },
          "paper_bgcolor": "white",
          "plot_bgcolor": "#E5ECF6",
          "polar": {
           "angularaxis": {
            "gridcolor": "white",
            "linecolor": "white",
            "ticks": ""
           },
           "bgcolor": "#E5ECF6",
           "radialaxis": {
            "gridcolor": "white",
            "linecolor": "white",
            "ticks": ""
           }
          },
          "scene": {
           "xaxis": {
            "backgroundcolor": "#E5ECF6",
            "gridcolor": "white",
            "gridwidth": 2,
            "linecolor": "white",
            "showbackground": true,
            "ticks": "",
            "zerolinecolor": "white"
           },
           "yaxis": {
            "backgroundcolor": "#E5ECF6",
            "gridcolor": "white",
            "gridwidth": 2,
            "linecolor": "white",
            "showbackground": true,
            "ticks": "",
            "zerolinecolor": "white"
           },
           "zaxis": {
            "backgroundcolor": "#E5ECF6",
            "gridcolor": "white",
            "gridwidth": 2,
            "linecolor": "white",
            "showbackground": true,
            "ticks": "",
            "zerolinecolor": "white"
           }
          },
          "shapedefaults": {
           "line": {
            "color": "#2a3f5f"
           }
          },
          "ternary": {
           "aaxis": {
            "gridcolor": "white",
            "linecolor": "white",
            "ticks": ""
           },
           "baxis": {
            "gridcolor": "white",
            "linecolor": "white",
            "ticks": ""
           },
           "bgcolor": "#E5ECF6",
           "caxis": {
            "gridcolor": "white",
            "linecolor": "white",
            "ticks": ""
           }
          },
          "title": {
           "x": 0.05
          },
          "xaxis": {
           "automargin": true,
           "gridcolor": "white",
           "linecolor": "white",
           "ticks": "",
           "title": {
            "standoff": 15
           },
           "zerolinecolor": "white",
           "zerolinewidth": 2
          },
          "yaxis": {
           "automargin": true,
           "gridcolor": "white",
           "linecolor": "white",
           "ticks": "",
           "title": {
            "standoff": 15
           },
           "zerolinecolor": "white",
           "zerolinewidth": 2
          }
         }
        },
        "title": {
         "text": "Stacked head-to-head losses at away matches"
        },
        "uniformtext": {
         "minsize": 8
        },
        "width": 1000,
        "xaxis": {
         "anchor": "y",
         "domain": [
          0,
          1
         ],
         "title": {
          "text": "Team"
         }
        },
        "yaxis": {
         "anchor": "x",
         "domain": [
          0,
          1
         ],
         "title": {
          "text": "Losses"
         }
        }
       }
      },
      "text/html": [
       "<div>                            <div id=\"c793053b-93dc-46ff-9e56-01021dae6d12\" class=\"plotly-graph-div\" style=\"height:800px; width:1000px;\"></div>            <script type=\"text/javascript\">                require([\"plotly\"], function(Plotly) {                    window.PLOTLYENV=window.PLOTLYENV || {};                                    if (document.getElementById(\"c793053b-93dc-46ff-9e56-01021dae6d12\")) {                    Plotly.newPlot(                        \"c793053b-93dc-46ff-9e56-01021dae6d12\",                        [{\"alignmentgroup\":\"True\",\"hovertemplate\":\"Opponent=Deccan Chargers<br>Team=%{x}<br>Losses=%{text}<extra></extra>\",\"legendgroup\":\"Deccan Chargers\",\"marker\":{\"color\":\"#636efa\",\"pattern\":{\"shape\":\"\"}},\"name\":\"Deccan Chargers\",\"offsetgroup\":\"Deccan Chargers\",\"orientation\":\"v\",\"showlegend\":true,\"text\":[\"1.0\",\"0.0\",\"0.0\",\"3.0\",\"5.0\",\"1.0\",\"2.0\",\"1.0\",\"0.0\",\"2.0\",\"0.0\",\"3.0\"],\"textposition\":\"auto\",\"type\":\"bar\",\"x\":[\"Kochi Tuskers Kerala\",\"Rising Pune Supergiants\",\"Kolkata Knight Riders\",\"Mumbai Indians\",\"Royal Challengers Bangalore\",\"Rajasthan Royals\",\"Pune Warriors\",\"Chennai Super Kings\",\"Sunrisers Hyderabad\",\"Kings XI Punjab\",\"Gujarat Lions\",\"Delhi Capitals\"],\"xaxis\":\"x\",\"y\":[1.0,0.0,0.0,3.0,5.0,1.0,2.0,1.0,0.0,2.0,0.0,3.0],\"yaxis\":\"y\"},{\"alignmentgroup\":\"True\",\"hovertemplate\":\"Opponent=Kochi Tuskers Kerala<br>Team=%{x}<br>Losses=%{text}<extra></extra>\",\"legendgroup\":\"Kochi Tuskers Kerala\",\"marker\":{\"color\":\"#EF553B\",\"pattern\":{\"shape\":\"\"}},\"name\":\"Kochi Tuskers Kerala\",\"offsetgroup\":\"Kochi Tuskers Kerala\",\"orientation\":\"v\",\"showlegend\":true,\"text\":[\"0.0\",\"0.0\",\"2.0\",\"0.0\",\"0.0\",\"0.0\",\"0.0\",\"0.0\",\"0.0\",\"0.0\",\"0.0\",\"0.0\"],\"textposition\":\"auto\",\"type\":\"bar\",\"x\":[\"Deccan Chargers\",\"Rising Pune Supergiants\",\"Kolkata Knight Riders\",\"Mumbai Indians\",\"Royal Challengers Bangalore\",\"Rajasthan Royals\",\"Pune Warriors\",\"Chennai Super Kings\",\"Sunrisers Hyderabad\",\"Kings XI Punjab\",\"Gujarat Lions\",\"Delhi Capitals\"],\"xaxis\":\"x\",\"y\":[0.0,0.0,2.0,0.0,0.0,0.0,0.0,0.0,0.0,0.0,0.0,0.0],\"yaxis\":\"y\"},{\"alignmentgroup\":\"True\",\"hovertemplate\":\"Opponent=Rising Pune Supergiants<br>Team=%{x}<br>Losses=%{text}<extra></extra>\",\"legendgroup\":\"Rising Pune Supergiants\",\"marker\":{\"color\":\"#00cc96\",\"pattern\":{\"shape\":\"\"}},\"name\":\"Rising Pune Supergiants\",\"offsetgroup\":\"Rising Pune Supergiants\",\"orientation\":\"v\",\"showlegend\":true,\"text\":[\"0.0\",\"0.0\",\"0.0\",\"2.0\",\"2.0\",\"0.0\",\"0.0\",\"0.0\",\"1.0\",\"0.0\",\"0.0\",\"0.0\"],\"textposition\":\"auto\",\"type\":\"bar\",\"x\":[\"Deccan Chargers\",\"Kochi Tuskers Kerala\",\"Kolkata Knight Riders\",\"Mumbai Indians\",\"Royal Challengers Bangalore\",\"Rajasthan Royals\",\"Pune Warriors\",\"Chennai Super Kings\",\"Sunrisers Hyderabad\",\"Kings XI Punjab\",\"Gujarat Lions\",\"Delhi Capitals\"],\"xaxis\":\"x\",\"y\":[0.0,0.0,0.0,2.0,2.0,0.0,0.0,0.0,1.0,0.0,0.0,0.0],\"yaxis\":\"y\"},{\"alignmentgroup\":\"True\",\"hovertemplate\":\"Opponent=Kolkata Knight Riders<br>Team=%{x}<br>Losses=%{text}<extra></extra>\",\"legendgroup\":\"Kolkata Knight Riders\",\"marker\":{\"color\":\"#ab63fa\",\"pattern\":{\"shape\":\"\"}},\"name\":\"Kolkata Knight Riders\",\"offsetgroup\":\"Kolkata Knight Riders\",\"orientation\":\"v\",\"showlegend\":true,\"text\":[\"5.0\",\"0.0\",\"0.0\",\"3.0\",\"7.0\",\"1.0\",\"3.0\",\"0.0\",\"4.0\",\"5.0\",\"0.0\",\"6.0\"],\"textposition\":\"auto\",\"type\":\"bar\",\"x\":[\"Deccan Chargers\",\"Kochi Tuskers Kerala\",\"Rising Pune Supergiants\",\"Mumbai Indians\",\"Royal Challengers Bangalore\",\"Rajasthan Royals\",\"Pune Warriors\",\"Chennai Super Kings\",\"Sunrisers Hyderabad\",\"Kings XI Punjab\",\"Gujarat Lions\",\"Delhi Capitals\"],\"xaxis\":\"x\",\"y\":[5.0,0.0,0.0,3.0,7.0,1.0,3.0,0.0,4.0,5.0,0.0,6.0],\"yaxis\":\"y\"},{\"alignmentgroup\":\"True\",\"hovertemplate\":\"Opponent=Mumbai Indians<br>Team=%{x}<br>Losses=%{text}<extra></extra>\",\"legendgroup\":\"Mumbai Indians\",\"marker\":{\"color\":\"#FFA15A\",\"pattern\":{\"shape\":\"\"}},\"name\":\"Mumbai Indians\",\"offsetgroup\":\"Mumbai Indians\",\"orientation\":\"v\",\"showlegend\":true,\"text\":[\"4.0\",\"0.0\",\"1.0\",\"8.0\",\"8.0\",\"6.0\",\"3.0\",\"10.0\",\"3.0\",\"5.0\",\"0.0\",\"10.0\"],\"textposition\":\"auto\",\"type\":\"bar\",\"x\":[\"Deccan Chargers\",\"Kochi Tuskers Kerala\",\"Rising Pune Supergiants\",\"Kolkata Knight Riders\",\"Royal Challengers Bangalore\",\"Rajasthan Royals\",\"Pune Warriors\",\"Chennai Super Kings\",\"Sunrisers Hyderabad\",\"Kings XI Punjab\",\"Gujarat Lions\",\"Delhi Capitals\"],\"xaxis\":\"x\",\"y\":[4.0,0.0,1.0,8.0,8.0,6.0,3.0,10.0,3.0,5.0,0.0,10.0],\"yaxis\":\"y\"},{\"alignmentgroup\":\"True\",\"hovertemplate\":\"Opponent=Royal Challengers Bangalore<br>Team=%{x}<br>Losses=%{text}<extra></extra>\",\"legendgroup\":\"Royal Challengers Bangalore\",\"marker\":{\"color\":\"#19d3f3\",\"pattern\":{\"shape\":\"\"}},\"name\":\"Royal Challengers Bangalore\",\"offsetgroup\":\"Royal Challengers Bangalore\",\"orientation\":\"v\",\"showlegend\":true,\"text\":[\"2.0\",\"0.0\",\"1.0\",\"1.0\",\"4.0\",\"3.0\",\"4.0\",\"4.0\",\"2.0\",\"6.0\",\"2.0\",\"6.0\"],\"textposition\":\"auto\",\"type\":\"bar\",\"x\":[\"Deccan Chargers\",\"Kochi Tuskers Kerala\",\"Rising Pune Supergiants\",\"Kolkata Knight Riders\",\"Mumbai Indians\",\"Rajasthan Royals\",\"Pune Warriors\",\"Chennai Super Kings\",\"Sunrisers Hyderabad\",\"Kings XI Punjab\",\"Gujarat Lions\",\"Delhi Capitals\"],\"xaxis\":\"x\",\"y\":[2.0,0.0,1.0,1.0,4.0,3.0,4.0,4.0,2.0,6.0,2.0,6.0],\"yaxis\":\"y\"},{\"alignmentgroup\":\"True\",\"hovertemplate\":\"Opponent=Rajasthan Royals<br>Team=%{x}<br>Losses=%{text}<extra></extra>\",\"legendgroup\":\"Rajasthan Royals\",\"marker\":{\"color\":\"#FF6692\",\"pattern\":{\"shape\":\"\"}},\"name\":\"Rajasthan Royals\",\"offsetgroup\":\"Rajasthan Royals\",\"orientation\":\"v\",\"showlegend\":true,\"text\":[\"1.0\",\"0.0\",\"0.0\",\"8.0\",\"2.0\",\"4.0\",\"1.0\",\"2.0\",\"0.0\",\"6.0\",\"0.0\",\"5.0\"],\"textposition\":\"auto\",\"type\":\"bar\",\"x\":[\"Deccan Chargers\",\"Kochi Tuskers Kerala\",\"Rising Pune Supergiants\",\"Kolkata Knight Riders\",\"Mumbai Indians\",\"Royal Challengers Bangalore\",\"Pune Warriors\",\"Chennai Super Kings\",\"Sunrisers Hyderabad\",\"Kings XI Punjab\",\"Gujarat Lions\",\"Delhi Capitals\"],\"xaxis\":\"x\",\"y\":[1.0,0.0,0.0,8.0,2.0,4.0,1.0,2.0,0.0,6.0,0.0,5.0],\"yaxis\":\"y\"},{\"alignmentgroup\":\"True\",\"hovertemplate\":\"Opponent=Pune Warriors<br>Team=%{x}<br>Losses=%{text}<extra></extra>\",\"legendgroup\":\"Pune Warriors\",\"marker\":{\"color\":\"#B6E880\",\"pattern\":{\"shape\":\"\"}},\"name\":\"Pune Warriors\",\"offsetgroup\":\"Pune Warriors\",\"orientation\":\"v\",\"showlegend\":true,\"text\":[\"0.0\",\"0.0\",\"0.0\",\"1.0\",\"1.0\",\"0.0\",\"0.0\",\"1.0\",\"0.0\",\"1.0\",\"0.0\",\"2.0\"],\"textposition\":\"auto\",\"type\":\"bar\",\"x\":[\"Deccan Chargers\",\"Kochi Tuskers Kerala\",\"Rising Pune Supergiants\",\"Kolkata Knight Riders\",\"Mumbai Indians\",\"Royal Challengers Bangalore\",\"Rajasthan Royals\",\"Chennai Super Kings\",\"Sunrisers Hyderabad\",\"Kings XI Punjab\",\"Gujarat Lions\",\"Delhi Capitals\"],\"xaxis\":\"x\",\"y\":[0.0,0.0,0.0,1.0,1.0,0.0,0.0,1.0,0.0,1.0,0.0,2.0],\"yaxis\":\"y\"},{\"alignmentgroup\":\"True\",\"hovertemplate\":\"Opponent=Chennai Super Kings<br>Team=%{x}<br>Losses=%{text}<extra></extra>\",\"legendgroup\":\"Chennai Super Kings\",\"marker\":{\"color\":\"#FF97FF\",\"pattern\":{\"shape\":\"\"}},\"name\":\"Chennai Super Kings\",\"offsetgroup\":\"Chennai Super Kings\",\"orientation\":\"v\",\"showlegend\":true,\"text\":[\"5.0\",\"1.0\",\"0.0\",\"5.0\",\"5.0\",\"6.0\",\"7.0\",\"3.0\",\"3.0\",\"7.0\",\"0.0\",\"9.0\"],\"textposition\":\"auto\",\"type\":\"bar\",\"x\":[\"Deccan Chargers\",\"Kochi Tuskers Kerala\",\"Rising Pune Supergiants\",\"Kolkata Knight Riders\",\"Mumbai Indians\",\"Royal Challengers Bangalore\",\"Rajasthan Royals\",\"Pune Warriors\",\"Sunrisers Hyderabad\",\"Kings XI Punjab\",\"Gujarat Lions\",\"Delhi Capitals\"],\"xaxis\":\"x\",\"y\":[5.0,1.0,0.0,5.0,5.0,6.0,7.0,3.0,3.0,7.0,0.0,9.0],\"yaxis\":\"y\"},{\"alignmentgroup\":\"True\",\"hovertemplate\":\"Opponent=Sunrisers Hyderabad<br>Team=%{x}<br>Losses=%{text}<extra></extra>\",\"legendgroup\":\"Sunrisers Hyderabad\",\"marker\":{\"color\":\"#FECB52\",\"pattern\":{\"shape\":\"\"}},\"name\":\"Sunrisers Hyderabad\",\"offsetgroup\":\"Sunrisers Hyderabad\",\"orientation\":\"v\",\"showlegend\":true,\"text\":[\"0.0\",\"0.0\",\"1.0\",\"4.0\",\"3.0\",\"5.0\",\"4.0\",\"2.0\",\"1.0\",\"7.0\",\"0.0\",\"3.0\"],\"textposition\":\"auto\",\"type\":\"bar\",\"x\":[\"Deccan Chargers\",\"Kochi Tuskers Kerala\",\"Rising Pune Supergiants\",\"Kolkata Knight Riders\",\"Mumbai Indians\",\"Royal Challengers Bangalore\",\"Rajasthan Royals\",\"Pune Warriors\",\"Chennai Super Kings\",\"Kings XI Punjab\",\"Gujarat Lions\",\"Delhi Capitals\"],\"xaxis\":\"x\",\"y\":[0.0,0.0,1.0,4.0,3.0,5.0,4.0,2.0,1.0,7.0,0.0,3.0],\"yaxis\":\"y\"},{\"alignmentgroup\":\"True\",\"hovertemplate\":\"Opponent=Kings XI Punjab<br>Team=%{x}<br>Losses=%{text}<extra></extra>\",\"legendgroup\":\"Kings XI Punjab\",\"marker\":{\"color\":\"#636efa\",\"pattern\":{\"shape\":\"\"}},\"name\":\"Kings XI Punjab\",\"offsetgroup\":\"Kings XI Punjab\",\"orientation\":\"v\",\"showlegend\":true,\"text\":[\"2.0\",\"0.0\",\"0.0\",\"5.0\",\"7.0\",\"4.0\",\"6.0\",\"0.0\",\"5.0\",\"2.0\",\"2.0\",\"5.0\"],\"textposition\":\"auto\",\"type\":\"bar\",\"x\":[\"Deccan Chargers\",\"Kochi Tuskers Kerala\",\"Rising Pune Supergiants\",\"Kolkata Knight Riders\",\"Mumbai Indians\",\"Royal Challengers Bangalore\",\"Rajasthan Royals\",\"Pune Warriors\",\"Chennai Super Kings\",\"Sunrisers Hyderabad\",\"Gujarat Lions\",\"Delhi Capitals\"],\"xaxis\":\"x\",\"y\":[2.0,0.0,0.0,5.0,7.0,4.0,6.0,0.0,5.0,2.0,2.0,5.0],\"yaxis\":\"y\"},{\"alignmentgroup\":\"True\",\"hovertemplate\":\"Opponent=Gujarat Lions<br>Team=%{x}<br>Losses=%{text}<extra></extra>\",\"legendgroup\":\"Gujarat Lions\",\"marker\":{\"color\":\"#EF553B\",\"pattern\":{\"shape\":\"\"}},\"name\":\"Gujarat Lions\",\"offsetgroup\":\"Gujarat Lions\",\"orientation\":\"v\",\"showlegend\":true,\"text\":[\"0.0\",\"0.0\",\"0.0\",\"0.0\",\"0.0\",\"0.0\",\"0.0\",\"0.0\",\"0.0\",\"0.0\",\"0.0\",\"1.0\"],\"textposition\":\"auto\",\"type\":\"bar\",\"x\":[\"Deccan Chargers\",\"Kochi Tuskers Kerala\",\"Rising Pune Supergiants\",\"Kolkata Knight Riders\",\"Mumbai Indians\",\"Royal Challengers Bangalore\",\"Rajasthan Royals\",\"Pune Warriors\",\"Chennai Super Kings\",\"Sunrisers Hyderabad\",\"Kings XI Punjab\",\"Delhi Capitals\"],\"xaxis\":\"x\",\"y\":[0.0,0.0,0.0,0.0,0.0,0.0,0.0,0.0,0.0,0.0,0.0,1.0],\"yaxis\":\"y\"},{\"alignmentgroup\":\"True\",\"hovertemplate\":\"Opponent=Delhi Capitals<br>Team=%{x}<br>Losses=%{text}<extra></extra>\",\"legendgroup\":\"Delhi Capitals\",\"marker\":{\"color\":\"#00cc96\",\"pattern\":{\"shape\":\"\"}},\"name\":\"Delhi Capitals\",\"offsetgroup\":\"Delhi Capitals\",\"orientation\":\"v\",\"showlegend\":true,\"text\":[\"2.0\",\"1.0\",\"2.0\",\"3.0\",\"5.0\",\"4.0\",\"4.0\",\"1.0\",\"2.0\",\"2.0\",\"2.0\",\"0.0\"],\"textposition\":\"auto\",\"type\":\"bar\",\"x\":[\"Deccan Chargers\",\"Kochi Tuskers Kerala\",\"Rising Pune Supergiants\",\"Kolkata Knight Riders\",\"Mumbai Indians\",\"Royal Challengers Bangalore\",\"Rajasthan Royals\",\"Pune Warriors\",\"Chennai Super Kings\",\"Sunrisers Hyderabad\",\"Kings XI Punjab\",\"Gujarat Lions\"],\"xaxis\":\"x\",\"y\":[2.0,1.0,2.0,3.0,5.0,4.0,4.0,1.0,2.0,2.0,2.0,0.0],\"yaxis\":\"y\"}],                        {\"barmode\":\"relative\",\"height\":800,\"legend\":{\"title\":{\"text\":\"Opponent\"},\"tracegroupgap\":0},\"template\":{\"data\":{\"bar\":[{\"error_x\":{\"color\":\"#2a3f5f\"},\"error_y\":{\"color\":\"#2a3f5f\"},\"marker\":{\"line\":{\"color\":\"#E5ECF6\",\"width\":0.5},\"pattern\":{\"fillmode\":\"overlay\",\"size\":10,\"solidity\":0.2}},\"type\":\"bar\"}],\"barpolar\":[{\"marker\":{\"line\":{\"color\":\"#E5ECF6\",\"width\":0.5},\"pattern\":{\"fillmode\":\"overlay\",\"size\":10,\"solidity\":0.2}},\"type\":\"barpolar\"}],\"carpet\":[{\"aaxis\":{\"endlinecolor\":\"#2a3f5f\",\"gridcolor\":\"white\",\"linecolor\":\"white\",\"minorgridcolor\":\"white\",\"startlinecolor\":\"#2a3f5f\"},\"baxis\":{\"endlinecolor\":\"#2a3f5f\",\"gridcolor\":\"white\",\"linecolor\":\"white\",\"minorgridcolor\":\"white\",\"startlinecolor\":\"#2a3f5f\"},\"type\":\"carpet\"}],\"choropleth\":[{\"colorbar\":{\"outlinewidth\":0,\"ticks\":\"\"},\"type\":\"choropleth\"}],\"contour\":[{\"colorbar\":{\"outlinewidth\":0,\"ticks\":\"\"},\"colorscale\":[[0.0,\"#0d0887\"],[0.1111111111111111,\"#46039f\"],[0.2222222222222222,\"#7201a8\"],[0.3333333333333333,\"#9c179e\"],[0.4444444444444444,\"#bd3786\"],[0.5555555555555556,\"#d8576b\"],[0.6666666666666666,\"#ed7953\"],[0.7777777777777778,\"#fb9f3a\"],[0.8888888888888888,\"#fdca26\"],[1.0,\"#f0f921\"]],\"type\":\"contour\"}],\"contourcarpet\":[{\"colorbar\":{\"outlinewidth\":0,\"ticks\":\"\"},\"type\":\"contourcarpet\"}],\"heatmap\":[{\"colorbar\":{\"outlinewidth\":0,\"ticks\":\"\"},\"colorscale\":[[0.0,\"#0d0887\"],[0.1111111111111111,\"#46039f\"],[0.2222222222222222,\"#7201a8\"],[0.3333333333333333,\"#9c179e\"],[0.4444444444444444,\"#bd3786\"],[0.5555555555555556,\"#d8576b\"],[0.6666666666666666,\"#ed7953\"],[0.7777777777777778,\"#fb9f3a\"],[0.8888888888888888,\"#fdca26\"],[1.0,\"#f0f921\"]],\"type\":\"heatmap\"}],\"heatmapgl\":[{\"colorbar\":{\"outlinewidth\":0,\"ticks\":\"\"},\"colorscale\":[[0.0,\"#0d0887\"],[0.1111111111111111,\"#46039f\"],[0.2222222222222222,\"#7201a8\"],[0.3333333333333333,\"#9c179e\"],[0.4444444444444444,\"#bd3786\"],[0.5555555555555556,\"#d8576b\"],[0.6666666666666666,\"#ed7953\"],[0.7777777777777778,\"#fb9f3a\"],[0.8888888888888888,\"#fdca26\"],[1.0,\"#f0f921\"]],\"type\":\"heatmapgl\"}],\"histogram\":[{\"marker\":{\"pattern\":{\"fillmode\":\"overlay\",\"size\":10,\"solidity\":0.2}},\"type\":\"histogram\"}],\"histogram2d\":[{\"colorbar\":{\"outlinewidth\":0,\"ticks\":\"\"},\"colorscale\":[[0.0,\"#0d0887\"],[0.1111111111111111,\"#46039f\"],[0.2222222222222222,\"#7201a8\"],[0.3333333333333333,\"#9c179e\"],[0.4444444444444444,\"#bd3786\"],[0.5555555555555556,\"#d8576b\"],[0.6666666666666666,\"#ed7953\"],[0.7777777777777778,\"#fb9f3a\"],[0.8888888888888888,\"#fdca26\"],[1.0,\"#f0f921\"]],\"type\":\"histogram2d\"}],\"histogram2dcontour\":[{\"colorbar\":{\"outlinewidth\":0,\"ticks\":\"\"},\"colorscale\":[[0.0,\"#0d0887\"],[0.1111111111111111,\"#46039f\"],[0.2222222222222222,\"#7201a8\"],[0.3333333333333333,\"#9c179e\"],[0.4444444444444444,\"#bd3786\"],[0.5555555555555556,\"#d8576b\"],[0.6666666666666666,\"#ed7953\"],[0.7777777777777778,\"#fb9f3a\"],[0.8888888888888888,\"#fdca26\"],[1.0,\"#f0f921\"]],\"type\":\"histogram2dcontour\"}],\"mesh3d\":[{\"colorbar\":{\"outlinewidth\":0,\"ticks\":\"\"},\"type\":\"mesh3d\"}],\"parcoords\":[{\"line\":{\"colorbar\":{\"outlinewidth\":0,\"ticks\":\"\"}},\"type\":\"parcoords\"}],\"pie\":[{\"automargin\":true,\"type\":\"pie\"}],\"scatter\":[{\"marker\":{\"colorbar\":{\"outlinewidth\":0,\"ticks\":\"\"}},\"type\":\"scatter\"}],\"scatter3d\":[{\"line\":{\"colorbar\":{\"outlinewidth\":0,\"ticks\":\"\"}},\"marker\":{\"colorbar\":{\"outlinewidth\":0,\"ticks\":\"\"}},\"type\":\"scatter3d\"}],\"scattercarpet\":[{\"marker\":{\"colorbar\":{\"outlinewidth\":0,\"ticks\":\"\"}},\"type\":\"scattercarpet\"}],\"scattergeo\":[{\"marker\":{\"colorbar\":{\"outlinewidth\":0,\"ticks\":\"\"}},\"type\":\"scattergeo\"}],\"scattergl\":[{\"marker\":{\"colorbar\":{\"outlinewidth\":0,\"ticks\":\"\"}},\"type\":\"scattergl\"}],\"scattermapbox\":[{\"marker\":{\"colorbar\":{\"outlinewidth\":0,\"ticks\":\"\"}},\"type\":\"scattermapbox\"}],\"scatterpolar\":[{\"marker\":{\"colorbar\":{\"outlinewidth\":0,\"ticks\":\"\"}},\"type\":\"scatterpolar\"}],\"scatterpolargl\":[{\"marker\":{\"colorbar\":{\"outlinewidth\":0,\"ticks\":\"\"}},\"type\":\"scatterpolargl\"}],\"scatterternary\":[{\"marker\":{\"colorbar\":{\"outlinewidth\":0,\"ticks\":\"\"}},\"type\":\"scatterternary\"}],\"surface\":[{\"colorbar\":{\"outlinewidth\":0,\"ticks\":\"\"},\"colorscale\":[[0.0,\"#0d0887\"],[0.1111111111111111,\"#46039f\"],[0.2222222222222222,\"#7201a8\"],[0.3333333333333333,\"#9c179e\"],[0.4444444444444444,\"#bd3786\"],[0.5555555555555556,\"#d8576b\"],[0.6666666666666666,\"#ed7953\"],[0.7777777777777778,\"#fb9f3a\"],[0.8888888888888888,\"#fdca26\"],[1.0,\"#f0f921\"]],\"type\":\"surface\"}],\"table\":[{\"cells\":{\"fill\":{\"color\":\"#EBF0F8\"},\"line\":{\"color\":\"white\"}},\"header\":{\"fill\":{\"color\":\"#C8D4E3\"},\"line\":{\"color\":\"white\"}},\"type\":\"table\"}]},\"layout\":{\"annotationdefaults\":{\"arrowcolor\":\"#2a3f5f\",\"arrowhead\":0,\"arrowwidth\":1},\"autotypenumbers\":\"strict\",\"coloraxis\":{\"colorbar\":{\"outlinewidth\":0,\"ticks\":\"\"}},\"colorscale\":{\"diverging\":[[0,\"#8e0152\"],[0.1,\"#c51b7d\"],[0.2,\"#de77ae\"],[0.3,\"#f1b6da\"],[0.4,\"#fde0ef\"],[0.5,\"#f7f7f7\"],[0.6,\"#e6f5d0\"],[0.7,\"#b8e186\"],[0.8,\"#7fbc41\"],[0.9,\"#4d9221\"],[1,\"#276419\"]],\"sequential\":[[0.0,\"#0d0887\"],[0.1111111111111111,\"#46039f\"],[0.2222222222222222,\"#7201a8\"],[0.3333333333333333,\"#9c179e\"],[0.4444444444444444,\"#bd3786\"],[0.5555555555555556,\"#d8576b\"],[0.6666666666666666,\"#ed7953\"],[0.7777777777777778,\"#fb9f3a\"],[0.8888888888888888,\"#fdca26\"],[1.0,\"#f0f921\"]],\"sequentialminus\":[[0.0,\"#0d0887\"],[0.1111111111111111,\"#46039f\"],[0.2222222222222222,\"#7201a8\"],[0.3333333333333333,\"#9c179e\"],[0.4444444444444444,\"#bd3786\"],[0.5555555555555556,\"#d8576b\"],[0.6666666666666666,\"#ed7953\"],[0.7777777777777778,\"#fb9f3a\"],[0.8888888888888888,\"#fdca26\"],[1.0,\"#f0f921\"]]},\"colorway\":[\"#636efa\",\"#EF553B\",\"#00cc96\",\"#ab63fa\",\"#FFA15A\",\"#19d3f3\",\"#FF6692\",\"#B6E880\",\"#FF97FF\",\"#FECB52\"],\"font\":{\"color\":\"#2a3f5f\"},\"geo\":{\"bgcolor\":\"white\",\"lakecolor\":\"white\",\"landcolor\":\"#E5ECF6\",\"showlakes\":true,\"showland\":true,\"subunitcolor\":\"white\"},\"hoverlabel\":{\"align\":\"left\"},\"hovermode\":\"closest\",\"mapbox\":{\"style\":\"light\"},\"paper_bgcolor\":\"white\",\"plot_bgcolor\":\"#E5ECF6\",\"polar\":{\"angularaxis\":{\"gridcolor\":\"white\",\"linecolor\":\"white\",\"ticks\":\"\"},\"bgcolor\":\"#E5ECF6\",\"radialaxis\":{\"gridcolor\":\"white\",\"linecolor\":\"white\",\"ticks\":\"\"}},\"scene\":{\"xaxis\":{\"backgroundcolor\":\"#E5ECF6\",\"gridcolor\":\"white\",\"gridwidth\":2,\"linecolor\":\"white\",\"showbackground\":true,\"ticks\":\"\",\"zerolinecolor\":\"white\"},\"yaxis\":{\"backgroundcolor\":\"#E5ECF6\",\"gridcolor\":\"white\",\"gridwidth\":2,\"linecolor\":\"white\",\"showbackground\":true,\"ticks\":\"\",\"zerolinecolor\":\"white\"},\"zaxis\":{\"backgroundcolor\":\"#E5ECF6\",\"gridcolor\":\"white\",\"gridwidth\":2,\"linecolor\":\"white\",\"showbackground\":true,\"ticks\":\"\",\"zerolinecolor\":\"white\"}},\"shapedefaults\":{\"line\":{\"color\":\"#2a3f5f\"}},\"ternary\":{\"aaxis\":{\"gridcolor\":\"white\",\"linecolor\":\"white\",\"ticks\":\"\"},\"baxis\":{\"gridcolor\":\"white\",\"linecolor\":\"white\",\"ticks\":\"\"},\"bgcolor\":\"#E5ECF6\",\"caxis\":{\"gridcolor\":\"white\",\"linecolor\":\"white\",\"ticks\":\"\"}},\"title\":{\"x\":0.05},\"xaxis\":{\"automargin\":true,\"gridcolor\":\"white\",\"linecolor\":\"white\",\"ticks\":\"\",\"title\":{\"standoff\":15},\"zerolinecolor\":\"white\",\"zerolinewidth\":2},\"yaxis\":{\"automargin\":true,\"gridcolor\":\"white\",\"linecolor\":\"white\",\"ticks\":\"\",\"title\":{\"standoff\":15},\"zerolinecolor\":\"white\",\"zerolinewidth\":2}}},\"title\":{\"text\":\"Stacked head-to-head losses at away matches\"},\"uniformtext\":{\"minsize\":8},\"width\":1000,\"xaxis\":{\"anchor\":\"y\",\"domain\":[0.0,1.0],\"title\":{\"text\":\"Team\"}},\"yaxis\":{\"anchor\":\"x\",\"domain\":[0.0,1.0],\"title\":{\"text\":\"Losses\"}}},                        {\"responsive\": true}                    ).then(function(){\n",
       "                            \n",
       "var gd = document.getElementById('c793053b-93dc-46ff-9e56-01021dae6d12');\n",
       "var x = new MutationObserver(function (mutations, observer) {{\n",
       "        var display = window.getComputedStyle(gd).display;\n",
       "        if (!display || display === 'none') {{\n",
       "            console.log([gd, 'removed!']);\n",
       "            Plotly.purge(gd);\n",
       "            observer.disconnect();\n",
       "        }}\n",
       "}});\n",
       "\n",
       "// Listen for the removal of the full notebook cells\n",
       "var notebookContainer = gd.closest('#notebook-container');\n",
       "if (notebookContainer) {{\n",
       "    x.observe(notebookContainer, {childList: true});\n",
       "}}\n",
       "\n",
       "// Listen for the clearing of the current output cell\n",
       "var outputEl = gd.closest('.output');\n",
       "if (outputEl) {{\n",
       "    x.observe(outputEl, {childList: true});\n",
       "}}\n",
       "\n",
       "                        })                };                });            </script>        </div>"
      ]
     },
     "metadata": {},
     "output_type": "display_data"
    }
   ],
   "source": [
    "fig2b = px.bar(h2h_data, x = \"team2\", y=\"wins for team 1\", text=\"wins for team 1\", color=\"team1\", labels={\n",
    "    \"team2\": \"Team\",\n",
    "    \"wins for team 1\": \"Losses\",\n",
    "    \"team1\": \"Opponent\",\n",
    "\n",
    "}, title=\"Stacked head-to-head losses at away matches\", width=1000, height=800)\n",
    "fig2b.update_layout(uniformtext_minsize=8)\n",
    "fig2b.show()"
   ]
  },
  {
   "cell_type": "code",
   "execution_count": 55,
   "metadata": {
    "ExecuteTime": {
     "end_time": "2021-08-10T05:31:14.110292Z",
     "start_time": "2021-08-10T05:31:13.997939Z"
    }
   },
   "outputs": [
    {
     "data": {
      "application/vnd.plotly.v1+json": {
       "config": {
        "plotlyServerURL": "https://plot.ly"
       },
       "data": [
        {
         "alignmentgroup": "True",
         "hovertemplate": "Opponent=Deccan Chargers<br>Team=%{x}<br>Stats (wins | losses)=%{y}<extra></extra>",
         "legendgroup": "Deccan Chargers",
         "marker": {
          "color": "#636efa",
          "pattern": {
           "shape": ""
          }
         },
         "name": "Deccan Chargers",
         "offsetgroup": "Deccan Chargers",
         "orientation": "v",
         "showlegend": true,
         "textposition": "auto",
         "type": "bar",
         "x": [
          "Kochi Tuskers Kerala",
          "Rising Pune Supergiants",
          "Kolkata Knight Riders",
          "Mumbai Indians",
          "Royal Challengers Bangalore",
          "Rajasthan Royals",
          "Pune Warriors",
          "Chennai Super Kings",
          "Sunrisers Hyderabad",
          "Kings XI Punjab",
          "Gujarat Lions",
          "Delhi Capitals",
          "Kochi Tuskers Kerala",
          "Rising Pune Supergiants",
          "Kolkata Knight Riders",
          "Mumbai Indians",
          "Royal Challengers Bangalore",
          "Rajasthan Royals",
          "Pune Warriors",
          "Chennai Super Kings",
          "Sunrisers Hyderabad",
          "Kings XI Punjab",
          "Gujarat Lions",
          "Delhi Capitals"
         ],
         "xaxis": "x",
         "y": [
          0,
          0,
          2,
          2,
          3,
          6,
          1,
          1,
          0,
          5,
          0,
          5,
          1,
          0,
          0,
          3,
          5,
          1,
          2,
          1,
          0,
          2,
          0,
          3
         ],
         "yaxis": "y"
        },
        {
         "alignmentgroup": "True",
         "hovertemplate": "Opponent=Kochi Tuskers Kerala<br>Team=%{x}<br>Stats (wins | losses)=%{y}<extra></extra>",
         "legendgroup": "Kochi Tuskers Kerala",
         "marker": {
          "color": "#EF553B",
          "pattern": {
           "shape": ""
          }
         },
         "name": "Kochi Tuskers Kerala",
         "offsetgroup": "Kochi Tuskers Kerala",
         "orientation": "v",
         "showlegend": true,
         "textposition": "auto",
         "type": "bar",
         "x": [
          "Deccan Chargers",
          "Rising Pune Supergiants",
          "Kolkata Knight Riders",
          "Mumbai Indians",
          "Royal Challengers Bangalore",
          "Rajasthan Royals",
          "Pune Warriors",
          "Chennai Super Kings",
          "Sunrisers Hyderabad",
          "Kings XI Punjab",
          "Gujarat Lions",
          "Delhi Capitals",
          "Deccan Chargers",
          "Rising Pune Supergiants",
          "Kolkata Knight Riders",
          "Mumbai Indians",
          "Royal Challengers Bangalore",
          "Rajasthan Royals",
          "Pune Warriors",
          "Chennai Super Kings",
          "Sunrisers Hyderabad",
          "Kings XI Punjab",
          "Gujarat Lions",
          "Delhi Capitals"
         ],
         "xaxis": "x",
         "y": [
          0,
          0,
          0,
          0,
          2,
          1,
          1,
          0,
          0,
          1,
          0,
          0,
          0,
          0,
          2,
          0,
          0,
          0,
          0,
          0,
          0,
          0,
          0,
          0
         ],
         "yaxis": "y"
        },
        {
         "alignmentgroup": "True",
         "hovertemplate": "Opponent=Rising Pune Supergiants<br>Team=%{x}<br>Stats (wins | losses)=%{y}<extra></extra>",
         "legendgroup": "Rising Pune Supergiants",
         "marker": {
          "color": "#00cc96",
          "pattern": {
           "shape": ""
          }
         },
         "name": "Rising Pune Supergiants",
         "offsetgroup": "Rising Pune Supergiants",
         "orientation": "v",
         "showlegend": true,
         "textposition": "auto",
         "type": "bar",
         "x": [
          "Deccan Chargers",
          "Kochi Tuskers Kerala",
          "Kolkata Knight Riders",
          "Mumbai Indians",
          "Royal Challengers Bangalore",
          "Rajasthan Royals",
          "Pune Warriors",
          "Chennai Super Kings",
          "Sunrisers Hyderabad",
          "Kings XI Punjab",
          "Gujarat Lions",
          "Delhi Capitals",
          "Deccan Chargers",
          "Kochi Tuskers Kerala",
          "Kolkata Knight Riders",
          "Mumbai Indians",
          "Royal Challengers Bangalore",
          "Rajasthan Royals",
          "Pune Warriors",
          "Chennai Super Kings",
          "Sunrisers Hyderabad",
          "Kings XI Punjab",
          "Gujarat Lions",
          "Delhi Capitals"
         ],
         "xaxis": "x",
         "y": [
          0,
          0,
          3,
          1,
          1,
          0,
          0,
          0,
          0,
          2,
          3,
          0,
          0,
          0,
          0,
          2,
          2,
          0,
          0,
          0,
          1,
          0,
          0,
          0
         ],
         "yaxis": "y"
        },
        {
         "alignmentgroup": "True",
         "hovertemplate": "Opponent=Kolkata Knight Riders<br>Team=%{x}<br>Stats (wins | losses)=%{y}<extra></extra>",
         "legendgroup": "Kolkata Knight Riders",
         "marker": {
          "color": "#ab63fa",
          "pattern": {
           "shape": ""
          }
         },
         "name": "Kolkata Knight Riders",
         "offsetgroup": "Kolkata Knight Riders",
         "orientation": "v",
         "showlegend": true,
         "textposition": "auto",
         "type": "bar",
         "x": [
          "Deccan Chargers",
          "Kochi Tuskers Kerala",
          "Rising Pune Supergiants",
          "Mumbai Indians",
          "Royal Challengers Bangalore",
          "Rajasthan Royals",
          "Pune Warriors",
          "Chennai Super Kings",
          "Sunrisers Hyderabad",
          "Kings XI Punjab",
          "Gujarat Lions",
          "Delhi Capitals",
          "Deccan Chargers",
          "Kochi Tuskers Kerala",
          "Rising Pune Supergiants",
          "Mumbai Indians",
          "Royal Challengers Bangalore",
          "Rajasthan Royals",
          "Pune Warriors",
          "Chennai Super Kings",
          "Sunrisers Hyderabad",
          "Kings XI Punjab",
          "Gujarat Lions",
          "Delhi Capitals"
         ],
         "xaxis": "x",
         "y": [
          2,
          0,
          1,
          11,
          9,
          2,
          0,
          8,
          3,
          3,
          3,
          7,
          5,
          0,
          0,
          3,
          7,
          1,
          3,
          0,
          4,
          5,
          0,
          6
         ],
         "yaxis": "y"
        },
        {
         "alignmentgroup": "True",
         "hovertemplate": "Opponent=Mumbai Indians<br>Team=%{x}<br>Stats (wins | losses)=%{y}<extra></extra>",
         "legendgroup": "Mumbai Indians",
         "marker": {
          "color": "#FFA15A",
          "pattern": {
           "shape": ""
          }
         },
         "name": "Mumbai Indians",
         "offsetgroup": "Mumbai Indians",
         "orientation": "v",
         "showlegend": true,
         "textposition": "auto",
         "type": "bar",
         "x": [
          "Deccan Chargers",
          "Kochi Tuskers Kerala",
          "Rising Pune Supergiants",
          "Kolkata Knight Riders",
          "Royal Challengers Bangalore",
          "Rajasthan Royals",
          "Pune Warriors",
          "Chennai Super Kings",
          "Sunrisers Hyderabad",
          "Kings XI Punjab",
          "Gujarat Lions",
          "Delhi Capitals",
          "Deccan Chargers",
          "Kochi Tuskers Kerala",
          "Rising Pune Supergiants",
          "Kolkata Knight Riders",
          "Royal Challengers Bangalore",
          "Rajasthan Royals",
          "Pune Warriors",
          "Chennai Super Kings",
          "Sunrisers Hyderabad",
          "Kings XI Punjab",
          "Gujarat Lions",
          "Delhi Capitals"
         ],
         "xaxis": "x",
         "y": [
          1,
          1,
          2,
          3,
          5,
          8,
          0,
          6,
          4,
          4,
          2,
          7,
          4,
          0,
          1,
          8,
          8,
          6,
          3,
          10,
          3,
          5,
          0,
          10
         ],
         "yaxis": "y"
        },
        {
         "alignmentgroup": "True",
         "hovertemplate": "Opponent=Royal Challengers Bangalore<br>Team=%{x}<br>Stats (wins | losses)=%{y}<extra></extra>",
         "legendgroup": "Royal Challengers Bangalore",
         "marker": {
          "color": "#19d3f3",
          "pattern": {
           "shape": ""
          }
         },
         "name": "Royal Challengers Bangalore",
         "offsetgroup": "Royal Challengers Bangalore",
         "orientation": "v",
         "showlegend": true,
         "textposition": "auto",
         "type": "bar",
         "x": [
          "Deccan Chargers",
          "Kochi Tuskers Kerala",
          "Rising Pune Supergiants",
          "Kolkata Knight Riders",
          "Mumbai Indians",
          "Rajasthan Royals",
          "Pune Warriors",
          "Chennai Super Kings",
          "Sunrisers Hyderabad",
          "Kings XI Punjab",
          "Gujarat Lions",
          "Delhi Capitals",
          "Deccan Chargers",
          "Kochi Tuskers Kerala",
          "Rising Pune Supergiants",
          "Kolkata Knight Riders",
          "Mumbai Indians",
          "Rajasthan Royals",
          "Pune Warriors",
          "Chennai Super Kings",
          "Sunrisers Hyderabad",
          "Kings XI Punjab",
          "Gujarat Lions",
          "Delhi Capitals"
         ],
         "xaxis": "x",
         "y": [
          1,
          0,
          0,
          7,
          8,
          6,
          0,
          9,
          3,
          8,
          2,
          4,
          2,
          0,
          1,
          1,
          4,
          3,
          4,
          4,
          2,
          6,
          2,
          6
         ],
         "yaxis": "y"
        },
        {
         "alignmentgroup": "True",
         "hovertemplate": "Opponent=Rajasthan Royals<br>Team=%{x}<br>Stats (wins | losses)=%{y}<extra></extra>",
         "legendgroup": "Rajasthan Royals",
         "marker": {
          "color": "#FF6692",
          "pattern": {
           "shape": ""
          }
         },
         "name": "Rajasthan Royals",
         "offsetgroup": "Rajasthan Royals",
         "orientation": "v",
         "showlegend": true,
         "textposition": "auto",
         "type": "bar",
         "x": [
          "Deccan Chargers",
          "Kochi Tuskers Kerala",
          "Rising Pune Supergiants",
          "Kolkata Knight Riders",
          "Mumbai Indians",
          "Royal Challengers Bangalore",
          "Pune Warriors",
          "Chennai Super Kings",
          "Sunrisers Hyderabad",
          "Kings XI Punjab",
          "Gujarat Lions",
          "Delhi Capitals",
          "Deccan Chargers",
          "Kochi Tuskers Kerala",
          "Rising Pune Supergiants",
          "Kolkata Knight Riders",
          "Mumbai Indians",
          "Royal Challengers Bangalore",
          "Pune Warriors",
          "Chennai Super Kings",
          "Sunrisers Hyderabad",
          "Kings XI Punjab",
          "Gujarat Lions",
          "Delhi Capitals"
         ],
         "xaxis": "x",
         "y": [
          1,
          1,
          0,
          9,
          4,
          5,
          1,
          7,
          2,
          3,
          0,
          5,
          1,
          0,
          0,
          8,
          2,
          4,
          1,
          2,
          0,
          6,
          0,
          5
         ],
         "yaxis": "y"
        },
        {
         "alignmentgroup": "True",
         "hovertemplate": "Opponent=Pune Warriors<br>Team=%{x}<br>Stats (wins | losses)=%{y}<extra></extra>",
         "legendgroup": "Pune Warriors",
         "marker": {
          "color": "#B6E880",
          "pattern": {
           "shape": ""
          }
         },
         "name": "Pune Warriors",
         "offsetgroup": "Pune Warriors",
         "orientation": "v",
         "showlegend": true,
         "textposition": "auto",
         "type": "bar",
         "x": [
          "Deccan Chargers",
          "Kochi Tuskers Kerala",
          "Rising Pune Supergiants",
          "Kolkata Knight Riders",
          "Mumbai Indians",
          "Royal Challengers Bangalore",
          "Rajasthan Royals",
          "Chennai Super Kings",
          "Sunrisers Hyderabad",
          "Kings XI Punjab",
          "Gujarat Lions",
          "Delhi Capitals",
          "Deccan Chargers",
          "Kochi Tuskers Kerala",
          "Rising Pune Supergiants",
          "Kolkata Knight Riders",
          "Mumbai Indians",
          "Royal Challengers Bangalore",
          "Rajasthan Royals",
          "Chennai Super Kings",
          "Sunrisers Hyderabad",
          "Kings XI Punjab",
          "Gujarat Lions",
          "Delhi Capitals"
         ],
         "xaxis": "x",
         "y": [
          1,
          0,
          0,
          1,
          2,
          1,
          3,
          1,
          0,
          3,
          0,
          2,
          0,
          0,
          0,
          1,
          1,
          0,
          0,
          1,
          0,
          1,
          0,
          2
         ],
         "yaxis": "y"
        },
        {
         "alignmentgroup": "True",
         "hovertemplate": "Opponent=Chennai Super Kings<br>Team=%{x}<br>Stats (wins | losses)=%{y}<extra></extra>",
         "legendgroup": "Chennai Super Kings",
         "marker": {
          "color": "#FF97FF",
          "pattern": {
           "shape": ""
          }
         },
         "name": "Chennai Super Kings",
         "offsetgroup": "Chennai Super Kings",
         "orientation": "v",
         "showlegend": true,
         "textposition": "auto",
         "type": "bar",
         "x": [
          "Deccan Chargers",
          "Kochi Tuskers Kerala",
          "Rising Pune Supergiants",
          "Kolkata Knight Riders",
          "Mumbai Indians",
          "Royal Challengers Bangalore",
          "Rajasthan Royals",
          "Pune Warriors",
          "Sunrisers Hyderabad",
          "Kings XI Punjab",
          "Gujarat Lions",
          "Delhi Capitals",
          "Deccan Chargers",
          "Kochi Tuskers Kerala",
          "Rising Pune Supergiants",
          "Kolkata Knight Riders",
          "Mumbai Indians",
          "Royal Challengers Bangalore",
          "Rajasthan Royals",
          "Pune Warriors",
          "Sunrisers Hyderabad",
          "Kings XI Punjab",
          "Gujarat Lions",
          "Delhi Capitals"
         ],
         "xaxis": "x",
         "y": [
          3,
          1,
          0,
          7,
          7,
          4,
          5,
          1,
          2,
          4,
          0,
          4,
          5,
          1,
          0,
          5,
          5,
          6,
          7,
          3,
          3,
          7,
          0,
          9
         ],
         "yaxis": "y"
        },
        {
         "alignmentgroup": "True",
         "hovertemplate": "Opponent=Sunrisers Hyderabad<br>Team=%{x}<br>Stats (wins | losses)=%{y}<extra></extra>",
         "legendgroup": "Sunrisers Hyderabad",
         "marker": {
          "color": "#FECB52",
          "pattern": {
           "shape": ""
          }
         },
         "name": "Sunrisers Hyderabad",
         "offsetgroup": "Sunrisers Hyderabad",
         "orientation": "v",
         "showlegend": true,
         "textposition": "auto",
         "type": "bar",
         "x": [
          "Deccan Chargers",
          "Kochi Tuskers Kerala",
          "Rising Pune Supergiants",
          "Kolkata Knight Riders",
          "Mumbai Indians",
          "Royal Challengers Bangalore",
          "Rajasthan Royals",
          "Pune Warriors",
          "Chennai Super Kings",
          "Kings XI Punjab",
          "Gujarat Lions",
          "Delhi Capitals",
          "Deccan Chargers",
          "Kochi Tuskers Kerala",
          "Rising Pune Supergiants",
          "Kolkata Knight Riders",
          "Mumbai Indians",
          "Royal Challengers Bangalore",
          "Rajasthan Royals",
          "Pune Warriors",
          "Chennai Super Kings",
          "Kings XI Punjab",
          "Gujarat Lions",
          "Delhi Capitals"
         ],
         "xaxis": "x",
         "y": [
          0,
          0,
          2,
          6,
          4,
          4,
          5,
          0,
          6,
          2,
          0,
          4,
          0,
          0,
          1,
          4,
          3,
          5,
          4,
          2,
          1,
          7,
          0,
          3
         ],
         "yaxis": "y"
        },
        {
         "alignmentgroup": "True",
         "hovertemplate": "Opponent=Kings XI Punjab<br>Team=%{x}<br>Stats (wins | losses)=%{y}<extra></extra>",
         "legendgroup": "Kings XI Punjab",
         "marker": {
          "color": "#636efa",
          "pattern": {
           "shape": ""
          }
         },
         "name": "Kings XI Punjab",
         "offsetgroup": "Kings XI Punjab",
         "orientation": "v",
         "showlegend": true,
         "textposition": "auto",
         "type": "bar",
         "x": [
          "Deccan Chargers",
          "Kochi Tuskers Kerala",
          "Rising Pune Supergiants",
          "Kolkata Knight Riders",
          "Mumbai Indians",
          "Royal Challengers Bangalore",
          "Rajasthan Royals",
          "Pune Warriors",
          "Chennai Super Kings",
          "Sunrisers Hyderabad",
          "Gujarat Lions",
          "Delhi Capitals",
          "Deccan Chargers",
          "Kochi Tuskers Kerala",
          "Rising Pune Supergiants",
          "Kolkata Knight Riders",
          "Mumbai Indians",
          "Royal Challengers Bangalore",
          "Rajasthan Royals",
          "Pune Warriors",
          "Chennai Super Kings",
          "Sunrisers Hyderabad",
          "Gujarat Lions",
          "Delhi Capitals"
         ],
         "xaxis": "x",
         "y": [
          1,
          0,
          2,
          12,
          8,
          6,
          4,
          2,
          5,
          3,
          2,
          8,
          2,
          0,
          0,
          5,
          7,
          4,
          6,
          0,
          5,
          2,
          2,
          5
         ],
         "yaxis": "y"
        },
        {
         "alignmentgroup": "True",
         "hovertemplate": "Opponent=Gujarat Lions<br>Team=%{x}<br>Stats (wins | losses)=%{y}<extra></extra>",
         "legendgroup": "Gujarat Lions",
         "marker": {
          "color": "#EF553B",
          "pattern": {
           "shape": ""
          }
         },
         "name": "Gujarat Lions",
         "offsetgroup": "Gujarat Lions",
         "orientation": "v",
         "showlegend": true,
         "textposition": "auto",
         "type": "bar",
         "x": [
          "Deccan Chargers",
          "Kochi Tuskers Kerala",
          "Rising Pune Supergiants",
          "Kolkata Knight Riders",
          "Mumbai Indians",
          "Royal Challengers Bangalore",
          "Rajasthan Royals",
          "Pune Warriors",
          "Chennai Super Kings",
          "Sunrisers Hyderabad",
          "Kings XI Punjab",
          "Delhi Capitals",
          "Deccan Chargers",
          "Kochi Tuskers Kerala",
          "Rising Pune Supergiants",
          "Kolkata Knight Riders",
          "Mumbai Indians",
          "Royal Challengers Bangalore",
          "Rajasthan Royals",
          "Pune Warriors",
          "Chennai Super Kings",
          "Sunrisers Hyderabad",
          "Kings XI Punjab",
          "Delhi Capitals"
         ],
         "xaxis": "x",
         "y": [
          0,
          0,
          1,
          1,
          2,
          1,
          0,
          0,
          0,
          5,
          0,
          3,
          0,
          0,
          0,
          0,
          0,
          0,
          0,
          0,
          0,
          0,
          0,
          1
         ],
         "yaxis": "y"
        },
        {
         "alignmentgroup": "True",
         "hovertemplate": "Opponent=Delhi Capitals<br>Team=%{x}<br>Stats (wins | losses)=%{y}<extra></extra>",
         "legendgroup": "Delhi Capitals",
         "marker": {
          "color": "#00cc96",
          "pattern": {
           "shape": ""
          }
         },
         "name": "Delhi Capitals",
         "offsetgroup": "Delhi Capitals",
         "orientation": "v",
         "showlegend": true,
         "textposition": "auto",
         "type": "bar",
         "x": [
          "Deccan Chargers",
          "Kochi Tuskers Kerala",
          "Rising Pune Supergiants",
          "Kolkata Knight Riders",
          "Mumbai Indians",
          "Royal Challengers Bangalore",
          "Rajasthan Royals",
          "Pune Warriors",
          "Chennai Super Kings",
          "Sunrisers Hyderabad",
          "Kings XI Punjab",
          "Gujarat Lions",
          "Deccan Chargers",
          "Kochi Tuskers Kerala",
          "Rising Pune Supergiants",
          "Kolkata Knight Riders",
          "Mumbai Indians",
          "Royal Challengers Bangalore",
          "Rajasthan Royals",
          "Pune Warriors",
          "Chennai Super Kings",
          "Sunrisers Hyderabad",
          "Kings XI Punjab",
          "Gujarat Lions"
         ],
         "xaxis": "x",
         "y": [
          1,
          1,
          2,
          7,
          2,
          8,
          6,
          0,
          6,
          6,
          9,
          0,
          2,
          1,
          2,
          3,
          5,
          4,
          4,
          1,
          2,
          2,
          2,
          0
         ],
         "yaxis": "y"
        }
       ],
       "layout": {
        "barmode": "relative",
        "height": 800,
        "legend": {
         "title": {
          "text": "Opponent"
         },
         "tracegroupgap": 0
        },
        "template": {
         "data": {
          "bar": [
           {
            "error_x": {
             "color": "#2a3f5f"
            },
            "error_y": {
             "color": "#2a3f5f"
            },
            "marker": {
             "line": {
              "color": "#E5ECF6",
              "width": 0.5
             },
             "pattern": {
              "fillmode": "overlay",
              "size": 10,
              "solidity": 0.2
             }
            },
            "type": "bar"
           }
          ],
          "barpolar": [
           {
            "marker": {
             "line": {
              "color": "#E5ECF6",
              "width": 0.5
             },
             "pattern": {
              "fillmode": "overlay",
              "size": 10,
              "solidity": 0.2
             }
            },
            "type": "barpolar"
           }
          ],
          "carpet": [
           {
            "aaxis": {
             "endlinecolor": "#2a3f5f",
             "gridcolor": "white",
             "linecolor": "white",
             "minorgridcolor": "white",
             "startlinecolor": "#2a3f5f"
            },
            "baxis": {
             "endlinecolor": "#2a3f5f",
             "gridcolor": "white",
             "linecolor": "white",
             "minorgridcolor": "white",
             "startlinecolor": "#2a3f5f"
            },
            "type": "carpet"
           }
          ],
          "choropleth": [
           {
            "colorbar": {
             "outlinewidth": 0,
             "ticks": ""
            },
            "type": "choropleth"
           }
          ],
          "contour": [
           {
            "colorbar": {
             "outlinewidth": 0,
             "ticks": ""
            },
            "colorscale": [
             [
              0,
              "#0d0887"
             ],
             [
              0.1111111111111111,
              "#46039f"
             ],
             [
              0.2222222222222222,
              "#7201a8"
             ],
             [
              0.3333333333333333,
              "#9c179e"
             ],
             [
              0.4444444444444444,
              "#bd3786"
             ],
             [
              0.5555555555555556,
              "#d8576b"
             ],
             [
              0.6666666666666666,
              "#ed7953"
             ],
             [
              0.7777777777777778,
              "#fb9f3a"
             ],
             [
              0.8888888888888888,
              "#fdca26"
             ],
             [
              1,
              "#f0f921"
             ]
            ],
            "type": "contour"
           }
          ],
          "contourcarpet": [
           {
            "colorbar": {
             "outlinewidth": 0,
             "ticks": ""
            },
            "type": "contourcarpet"
           }
          ],
          "heatmap": [
           {
            "colorbar": {
             "outlinewidth": 0,
             "ticks": ""
            },
            "colorscale": [
             [
              0,
              "#0d0887"
             ],
             [
              0.1111111111111111,
              "#46039f"
             ],
             [
              0.2222222222222222,
              "#7201a8"
             ],
             [
              0.3333333333333333,
              "#9c179e"
             ],
             [
              0.4444444444444444,
              "#bd3786"
             ],
             [
              0.5555555555555556,
              "#d8576b"
             ],
             [
              0.6666666666666666,
              "#ed7953"
             ],
             [
              0.7777777777777778,
              "#fb9f3a"
             ],
             [
              0.8888888888888888,
              "#fdca26"
             ],
             [
              1,
              "#f0f921"
             ]
            ],
            "type": "heatmap"
           }
          ],
          "heatmapgl": [
           {
            "colorbar": {
             "outlinewidth": 0,
             "ticks": ""
            },
            "colorscale": [
             [
              0,
              "#0d0887"
             ],
             [
              0.1111111111111111,
              "#46039f"
             ],
             [
              0.2222222222222222,
              "#7201a8"
             ],
             [
              0.3333333333333333,
              "#9c179e"
             ],
             [
              0.4444444444444444,
              "#bd3786"
             ],
             [
              0.5555555555555556,
              "#d8576b"
             ],
             [
              0.6666666666666666,
              "#ed7953"
             ],
             [
              0.7777777777777778,
              "#fb9f3a"
             ],
             [
              0.8888888888888888,
              "#fdca26"
             ],
             [
              1,
              "#f0f921"
             ]
            ],
            "type": "heatmapgl"
           }
          ],
          "histogram": [
           {
            "marker": {
             "pattern": {
              "fillmode": "overlay",
              "size": 10,
              "solidity": 0.2
             }
            },
            "type": "histogram"
           }
          ],
          "histogram2d": [
           {
            "colorbar": {
             "outlinewidth": 0,
             "ticks": ""
            },
            "colorscale": [
             [
              0,
              "#0d0887"
             ],
             [
              0.1111111111111111,
              "#46039f"
             ],
             [
              0.2222222222222222,
              "#7201a8"
             ],
             [
              0.3333333333333333,
              "#9c179e"
             ],
             [
              0.4444444444444444,
              "#bd3786"
             ],
             [
              0.5555555555555556,
              "#d8576b"
             ],
             [
              0.6666666666666666,
              "#ed7953"
             ],
             [
              0.7777777777777778,
              "#fb9f3a"
             ],
             [
              0.8888888888888888,
              "#fdca26"
             ],
             [
              1,
              "#f0f921"
             ]
            ],
            "type": "histogram2d"
           }
          ],
          "histogram2dcontour": [
           {
            "colorbar": {
             "outlinewidth": 0,
             "ticks": ""
            },
            "colorscale": [
             [
              0,
              "#0d0887"
             ],
             [
              0.1111111111111111,
              "#46039f"
             ],
             [
              0.2222222222222222,
              "#7201a8"
             ],
             [
              0.3333333333333333,
              "#9c179e"
             ],
             [
              0.4444444444444444,
              "#bd3786"
             ],
             [
              0.5555555555555556,
              "#d8576b"
             ],
             [
              0.6666666666666666,
              "#ed7953"
             ],
             [
              0.7777777777777778,
              "#fb9f3a"
             ],
             [
              0.8888888888888888,
              "#fdca26"
             ],
             [
              1,
              "#f0f921"
             ]
            ],
            "type": "histogram2dcontour"
           }
          ],
          "mesh3d": [
           {
            "colorbar": {
             "outlinewidth": 0,
             "ticks": ""
            },
            "type": "mesh3d"
           }
          ],
          "parcoords": [
           {
            "line": {
             "colorbar": {
              "outlinewidth": 0,
              "ticks": ""
             }
            },
            "type": "parcoords"
           }
          ],
          "pie": [
           {
            "automargin": true,
            "type": "pie"
           }
          ],
          "scatter": [
           {
            "marker": {
             "colorbar": {
              "outlinewidth": 0,
              "ticks": ""
             }
            },
            "type": "scatter"
           }
          ],
          "scatter3d": [
           {
            "line": {
             "colorbar": {
              "outlinewidth": 0,
              "ticks": ""
             }
            },
            "marker": {
             "colorbar": {
              "outlinewidth": 0,
              "ticks": ""
             }
            },
            "type": "scatter3d"
           }
          ],
          "scattercarpet": [
           {
            "marker": {
             "colorbar": {
              "outlinewidth": 0,
              "ticks": ""
             }
            },
            "type": "scattercarpet"
           }
          ],
          "scattergeo": [
           {
            "marker": {
             "colorbar": {
              "outlinewidth": 0,
              "ticks": ""
             }
            },
            "type": "scattergeo"
           }
          ],
          "scattergl": [
           {
            "marker": {
             "colorbar": {
              "outlinewidth": 0,
              "ticks": ""
             }
            },
            "type": "scattergl"
           }
          ],
          "scattermapbox": [
           {
            "marker": {
             "colorbar": {
              "outlinewidth": 0,
              "ticks": ""
             }
            },
            "type": "scattermapbox"
           }
          ],
          "scatterpolar": [
           {
            "marker": {
             "colorbar": {
              "outlinewidth": 0,
              "ticks": ""
             }
            },
            "type": "scatterpolar"
           }
          ],
          "scatterpolargl": [
           {
            "marker": {
             "colorbar": {
              "outlinewidth": 0,
              "ticks": ""
             }
            },
            "type": "scatterpolargl"
           }
          ],
          "scatterternary": [
           {
            "marker": {
             "colorbar": {
              "outlinewidth": 0,
              "ticks": ""
             }
            },
            "type": "scatterternary"
           }
          ],
          "surface": [
           {
            "colorbar": {
             "outlinewidth": 0,
             "ticks": ""
            },
            "colorscale": [
             [
              0,
              "#0d0887"
             ],
             [
              0.1111111111111111,
              "#46039f"
             ],
             [
              0.2222222222222222,
              "#7201a8"
             ],
             [
              0.3333333333333333,
              "#9c179e"
             ],
             [
              0.4444444444444444,
              "#bd3786"
             ],
             [
              0.5555555555555556,
              "#d8576b"
             ],
             [
              0.6666666666666666,
              "#ed7953"
             ],
             [
              0.7777777777777778,
              "#fb9f3a"
             ],
             [
              0.8888888888888888,
              "#fdca26"
             ],
             [
              1,
              "#f0f921"
             ]
            ],
            "type": "surface"
           }
          ],
          "table": [
           {
            "cells": {
             "fill": {
              "color": "#EBF0F8"
             },
             "line": {
              "color": "white"
             }
            },
            "header": {
             "fill": {
              "color": "#C8D4E3"
             },
             "line": {
              "color": "white"
             }
            },
            "type": "table"
           }
          ]
         },
         "layout": {
          "annotationdefaults": {
           "arrowcolor": "#2a3f5f",
           "arrowhead": 0,
           "arrowwidth": 1
          },
          "autotypenumbers": "strict",
          "coloraxis": {
           "colorbar": {
            "outlinewidth": 0,
            "ticks": ""
           }
          },
          "colorscale": {
           "diverging": [
            [
             0,
             "#8e0152"
            ],
            [
             0.1,
             "#c51b7d"
            ],
            [
             0.2,
             "#de77ae"
            ],
            [
             0.3,
             "#f1b6da"
            ],
            [
             0.4,
             "#fde0ef"
            ],
            [
             0.5,
             "#f7f7f7"
            ],
            [
             0.6,
             "#e6f5d0"
            ],
            [
             0.7,
             "#b8e186"
            ],
            [
             0.8,
             "#7fbc41"
            ],
            [
             0.9,
             "#4d9221"
            ],
            [
             1,
             "#276419"
            ]
           ],
           "sequential": [
            [
             0,
             "#0d0887"
            ],
            [
             0.1111111111111111,
             "#46039f"
            ],
            [
             0.2222222222222222,
             "#7201a8"
            ],
            [
             0.3333333333333333,
             "#9c179e"
            ],
            [
             0.4444444444444444,
             "#bd3786"
            ],
            [
             0.5555555555555556,
             "#d8576b"
            ],
            [
             0.6666666666666666,
             "#ed7953"
            ],
            [
             0.7777777777777778,
             "#fb9f3a"
            ],
            [
             0.8888888888888888,
             "#fdca26"
            ],
            [
             1,
             "#f0f921"
            ]
           ],
           "sequentialminus": [
            [
             0,
             "#0d0887"
            ],
            [
             0.1111111111111111,
             "#46039f"
            ],
            [
             0.2222222222222222,
             "#7201a8"
            ],
            [
             0.3333333333333333,
             "#9c179e"
            ],
            [
             0.4444444444444444,
             "#bd3786"
            ],
            [
             0.5555555555555556,
             "#d8576b"
            ],
            [
             0.6666666666666666,
             "#ed7953"
            ],
            [
             0.7777777777777778,
             "#fb9f3a"
            ],
            [
             0.8888888888888888,
             "#fdca26"
            ],
            [
             1,
             "#f0f921"
            ]
           ]
          },
          "colorway": [
           "#636efa",
           "#EF553B",
           "#00cc96",
           "#ab63fa",
           "#FFA15A",
           "#19d3f3",
           "#FF6692",
           "#B6E880",
           "#FF97FF",
           "#FECB52"
          ],
          "font": {
           "color": "#2a3f5f"
          },
          "geo": {
           "bgcolor": "white",
           "lakecolor": "white",
           "landcolor": "#E5ECF6",
           "showlakes": true,
           "showland": true,
           "subunitcolor": "white"
          },
          "hoverlabel": {
           "align": "left"
          },
          "hovermode": "closest",
          "mapbox": {
           "style": "light"
          },
          "paper_bgcolor": "white",
          "plot_bgcolor": "#E5ECF6",
          "polar": {
           "angularaxis": {
            "gridcolor": "white",
            "linecolor": "white",
            "ticks": ""
           },
           "bgcolor": "#E5ECF6",
           "radialaxis": {
            "gridcolor": "white",
            "linecolor": "white",
            "ticks": ""
           }
          },
          "scene": {
           "xaxis": {
            "backgroundcolor": "#E5ECF6",
            "gridcolor": "white",
            "gridwidth": 2,
            "linecolor": "white",
            "showbackground": true,
            "ticks": "",
            "zerolinecolor": "white"
           },
           "yaxis": {
            "backgroundcolor": "#E5ECF6",
            "gridcolor": "white",
            "gridwidth": 2,
            "linecolor": "white",
            "showbackground": true,
            "ticks": "",
            "zerolinecolor": "white"
           },
           "zaxis": {
            "backgroundcolor": "#E5ECF6",
            "gridcolor": "white",
            "gridwidth": 2,
            "linecolor": "white",
            "showbackground": true,
            "ticks": "",
            "zerolinecolor": "white"
           }
          },
          "shapedefaults": {
           "line": {
            "color": "#2a3f5f"
           }
          },
          "ternary": {
           "aaxis": {
            "gridcolor": "white",
            "linecolor": "white",
            "ticks": ""
           },
           "baxis": {
            "gridcolor": "white",
            "linecolor": "white",
            "ticks": ""
           },
           "bgcolor": "#E5ECF6",
           "caxis": {
            "gridcolor": "white",
            "linecolor": "white",
            "ticks": ""
           }
          },
          "title": {
           "x": 0.05
          },
          "xaxis": {
           "automargin": true,
           "gridcolor": "white",
           "linecolor": "white",
           "ticks": "",
           "title": {
            "standoff": 15
           },
           "zerolinecolor": "white",
           "zerolinewidth": 2
          },
          "yaxis": {
           "automargin": true,
           "gridcolor": "white",
           "linecolor": "white",
           "ticks": "",
           "title": {
            "standoff": 15
           },
           "zerolinecolor": "white",
           "zerolinewidth": 2
          }
         }
        },
        "title": {
         "text": "Stacked head-to-head performance at away matches"
        },
        "width": 1000,
        "xaxis": {
         "anchor": "y",
         "domain": [
          0,
          1
         ],
         "title": {
          "text": "Team"
         }
        },
        "yaxis": {
         "anchor": "x",
         "domain": [
          0,
          1
         ],
         "title": {
          "text": "Stats (wins | losses)"
         }
        }
       }
      },
      "text/html": [
       "<div>                            <div id=\"e4ec5281-a150-4977-818e-a021a652eade\" class=\"plotly-graph-div\" style=\"height:800px; width:1000px;\"></div>            <script type=\"text/javascript\">                require([\"plotly\"], function(Plotly) {                    window.PLOTLYENV=window.PLOTLYENV || {};                                    if (document.getElementById(\"e4ec5281-a150-4977-818e-a021a652eade\")) {                    Plotly.newPlot(                        \"e4ec5281-a150-4977-818e-a021a652eade\",                        [{\"alignmentgroup\":\"True\",\"hovertemplate\":\"Opponent=Deccan Chargers<br>Team=%{x}<br>Stats (wins | losses)=%{y}<extra></extra>\",\"legendgroup\":\"Deccan Chargers\",\"marker\":{\"color\":\"#636efa\",\"pattern\":{\"shape\":\"\"}},\"name\":\"Deccan Chargers\",\"offsetgroup\":\"Deccan Chargers\",\"orientation\":\"v\",\"showlegend\":true,\"textposition\":\"auto\",\"type\":\"bar\",\"x\":[\"Kochi Tuskers Kerala\",\"Rising Pune Supergiants\",\"Kolkata Knight Riders\",\"Mumbai Indians\",\"Royal Challengers Bangalore\",\"Rajasthan Royals\",\"Pune Warriors\",\"Chennai Super Kings\",\"Sunrisers Hyderabad\",\"Kings XI Punjab\",\"Gujarat Lions\",\"Delhi Capitals\",\"Kochi Tuskers Kerala\",\"Rising Pune Supergiants\",\"Kolkata Knight Riders\",\"Mumbai Indians\",\"Royal Challengers Bangalore\",\"Rajasthan Royals\",\"Pune Warriors\",\"Chennai Super Kings\",\"Sunrisers Hyderabad\",\"Kings XI Punjab\",\"Gujarat Lions\",\"Delhi Capitals\"],\"xaxis\":\"x\",\"y\":[0.0,0.0,2.0,2.0,3.0,6.0,1.0,1.0,0.0,5.0,0.0,5.0,1.0,0.0,0.0,3.0,5.0,1.0,2.0,1.0,0.0,2.0,0.0,3.0],\"yaxis\":\"y\"},{\"alignmentgroup\":\"True\",\"hovertemplate\":\"Opponent=Kochi Tuskers Kerala<br>Team=%{x}<br>Stats (wins | losses)=%{y}<extra></extra>\",\"legendgroup\":\"Kochi Tuskers Kerala\",\"marker\":{\"color\":\"#EF553B\",\"pattern\":{\"shape\":\"\"}},\"name\":\"Kochi Tuskers Kerala\",\"offsetgroup\":\"Kochi Tuskers Kerala\",\"orientation\":\"v\",\"showlegend\":true,\"textposition\":\"auto\",\"type\":\"bar\",\"x\":[\"Deccan Chargers\",\"Rising Pune Supergiants\",\"Kolkata Knight Riders\",\"Mumbai Indians\",\"Royal Challengers Bangalore\",\"Rajasthan Royals\",\"Pune Warriors\",\"Chennai Super Kings\",\"Sunrisers Hyderabad\",\"Kings XI Punjab\",\"Gujarat Lions\",\"Delhi Capitals\",\"Deccan Chargers\",\"Rising Pune Supergiants\",\"Kolkata Knight Riders\",\"Mumbai Indians\",\"Royal Challengers Bangalore\",\"Rajasthan Royals\",\"Pune Warriors\",\"Chennai Super Kings\",\"Sunrisers Hyderabad\",\"Kings XI Punjab\",\"Gujarat Lions\",\"Delhi Capitals\"],\"xaxis\":\"x\",\"y\":[0.0,0.0,0.0,0.0,2.0,1.0,1.0,0.0,0.0,1.0,0.0,0.0,0.0,0.0,2.0,0.0,0.0,0.0,0.0,0.0,0.0,0.0,0.0,0.0],\"yaxis\":\"y\"},{\"alignmentgroup\":\"True\",\"hovertemplate\":\"Opponent=Rising Pune Supergiants<br>Team=%{x}<br>Stats (wins | losses)=%{y}<extra></extra>\",\"legendgroup\":\"Rising Pune Supergiants\",\"marker\":{\"color\":\"#00cc96\",\"pattern\":{\"shape\":\"\"}},\"name\":\"Rising Pune Supergiants\",\"offsetgroup\":\"Rising Pune Supergiants\",\"orientation\":\"v\",\"showlegend\":true,\"textposition\":\"auto\",\"type\":\"bar\",\"x\":[\"Deccan Chargers\",\"Kochi Tuskers Kerala\",\"Kolkata Knight Riders\",\"Mumbai Indians\",\"Royal Challengers Bangalore\",\"Rajasthan Royals\",\"Pune Warriors\",\"Chennai Super Kings\",\"Sunrisers Hyderabad\",\"Kings XI Punjab\",\"Gujarat Lions\",\"Delhi Capitals\",\"Deccan Chargers\",\"Kochi Tuskers Kerala\",\"Kolkata Knight Riders\",\"Mumbai Indians\",\"Royal Challengers Bangalore\",\"Rajasthan Royals\",\"Pune Warriors\",\"Chennai Super Kings\",\"Sunrisers Hyderabad\",\"Kings XI Punjab\",\"Gujarat Lions\",\"Delhi Capitals\"],\"xaxis\":\"x\",\"y\":[0.0,0.0,3.0,1.0,1.0,0.0,0.0,0.0,0.0,2.0,3.0,0.0,0.0,0.0,0.0,2.0,2.0,0.0,0.0,0.0,1.0,0.0,0.0,0.0],\"yaxis\":\"y\"},{\"alignmentgroup\":\"True\",\"hovertemplate\":\"Opponent=Kolkata Knight Riders<br>Team=%{x}<br>Stats (wins | losses)=%{y}<extra></extra>\",\"legendgroup\":\"Kolkata Knight Riders\",\"marker\":{\"color\":\"#ab63fa\",\"pattern\":{\"shape\":\"\"}},\"name\":\"Kolkata Knight Riders\",\"offsetgroup\":\"Kolkata Knight Riders\",\"orientation\":\"v\",\"showlegend\":true,\"textposition\":\"auto\",\"type\":\"bar\",\"x\":[\"Deccan Chargers\",\"Kochi Tuskers Kerala\",\"Rising Pune Supergiants\",\"Mumbai Indians\",\"Royal Challengers Bangalore\",\"Rajasthan Royals\",\"Pune Warriors\",\"Chennai Super Kings\",\"Sunrisers Hyderabad\",\"Kings XI Punjab\",\"Gujarat Lions\",\"Delhi Capitals\",\"Deccan Chargers\",\"Kochi Tuskers Kerala\",\"Rising Pune Supergiants\",\"Mumbai Indians\",\"Royal Challengers Bangalore\",\"Rajasthan Royals\",\"Pune Warriors\",\"Chennai Super Kings\",\"Sunrisers Hyderabad\",\"Kings XI Punjab\",\"Gujarat Lions\",\"Delhi Capitals\"],\"xaxis\":\"x\",\"y\":[2.0,0.0,1.0,11.0,9.0,2.0,0.0,8.0,3.0,3.0,3.0,7.0,5.0,0.0,0.0,3.0,7.0,1.0,3.0,0.0,4.0,5.0,0.0,6.0],\"yaxis\":\"y\"},{\"alignmentgroup\":\"True\",\"hovertemplate\":\"Opponent=Mumbai Indians<br>Team=%{x}<br>Stats (wins | losses)=%{y}<extra></extra>\",\"legendgroup\":\"Mumbai Indians\",\"marker\":{\"color\":\"#FFA15A\",\"pattern\":{\"shape\":\"\"}},\"name\":\"Mumbai Indians\",\"offsetgroup\":\"Mumbai Indians\",\"orientation\":\"v\",\"showlegend\":true,\"textposition\":\"auto\",\"type\":\"bar\",\"x\":[\"Deccan Chargers\",\"Kochi Tuskers Kerala\",\"Rising Pune Supergiants\",\"Kolkata Knight Riders\",\"Royal Challengers Bangalore\",\"Rajasthan Royals\",\"Pune Warriors\",\"Chennai Super Kings\",\"Sunrisers Hyderabad\",\"Kings XI Punjab\",\"Gujarat Lions\",\"Delhi Capitals\",\"Deccan Chargers\",\"Kochi Tuskers Kerala\",\"Rising Pune Supergiants\",\"Kolkata Knight Riders\",\"Royal Challengers Bangalore\",\"Rajasthan Royals\",\"Pune Warriors\",\"Chennai Super Kings\",\"Sunrisers Hyderabad\",\"Kings XI Punjab\",\"Gujarat Lions\",\"Delhi Capitals\"],\"xaxis\":\"x\",\"y\":[1.0,1.0,2.0,3.0,5.0,8.0,0.0,6.0,4.0,4.0,2.0,7.0,4.0,0.0,1.0,8.0,8.0,6.0,3.0,10.0,3.0,5.0,0.0,10.0],\"yaxis\":\"y\"},{\"alignmentgroup\":\"True\",\"hovertemplate\":\"Opponent=Royal Challengers Bangalore<br>Team=%{x}<br>Stats (wins | losses)=%{y}<extra></extra>\",\"legendgroup\":\"Royal Challengers Bangalore\",\"marker\":{\"color\":\"#19d3f3\",\"pattern\":{\"shape\":\"\"}},\"name\":\"Royal Challengers Bangalore\",\"offsetgroup\":\"Royal Challengers Bangalore\",\"orientation\":\"v\",\"showlegend\":true,\"textposition\":\"auto\",\"type\":\"bar\",\"x\":[\"Deccan Chargers\",\"Kochi Tuskers Kerala\",\"Rising Pune Supergiants\",\"Kolkata Knight Riders\",\"Mumbai Indians\",\"Rajasthan Royals\",\"Pune Warriors\",\"Chennai Super Kings\",\"Sunrisers Hyderabad\",\"Kings XI Punjab\",\"Gujarat Lions\",\"Delhi Capitals\",\"Deccan Chargers\",\"Kochi Tuskers Kerala\",\"Rising Pune Supergiants\",\"Kolkata Knight Riders\",\"Mumbai Indians\",\"Rajasthan Royals\",\"Pune Warriors\",\"Chennai Super Kings\",\"Sunrisers Hyderabad\",\"Kings XI Punjab\",\"Gujarat Lions\",\"Delhi Capitals\"],\"xaxis\":\"x\",\"y\":[1.0,0.0,0.0,7.0,8.0,6.0,0.0,9.0,3.0,8.0,2.0,4.0,2.0,0.0,1.0,1.0,4.0,3.0,4.0,4.0,2.0,6.0,2.0,6.0],\"yaxis\":\"y\"},{\"alignmentgroup\":\"True\",\"hovertemplate\":\"Opponent=Rajasthan Royals<br>Team=%{x}<br>Stats (wins | losses)=%{y}<extra></extra>\",\"legendgroup\":\"Rajasthan Royals\",\"marker\":{\"color\":\"#FF6692\",\"pattern\":{\"shape\":\"\"}},\"name\":\"Rajasthan Royals\",\"offsetgroup\":\"Rajasthan Royals\",\"orientation\":\"v\",\"showlegend\":true,\"textposition\":\"auto\",\"type\":\"bar\",\"x\":[\"Deccan Chargers\",\"Kochi Tuskers Kerala\",\"Rising Pune Supergiants\",\"Kolkata Knight Riders\",\"Mumbai Indians\",\"Royal Challengers Bangalore\",\"Pune Warriors\",\"Chennai Super Kings\",\"Sunrisers Hyderabad\",\"Kings XI Punjab\",\"Gujarat Lions\",\"Delhi Capitals\",\"Deccan Chargers\",\"Kochi Tuskers Kerala\",\"Rising Pune Supergiants\",\"Kolkata Knight Riders\",\"Mumbai Indians\",\"Royal Challengers Bangalore\",\"Pune Warriors\",\"Chennai Super Kings\",\"Sunrisers Hyderabad\",\"Kings XI Punjab\",\"Gujarat Lions\",\"Delhi Capitals\"],\"xaxis\":\"x\",\"y\":[1.0,1.0,0.0,9.0,4.0,5.0,1.0,7.0,2.0,3.0,0.0,5.0,1.0,0.0,0.0,8.0,2.0,4.0,1.0,2.0,0.0,6.0,0.0,5.0],\"yaxis\":\"y\"},{\"alignmentgroup\":\"True\",\"hovertemplate\":\"Opponent=Pune Warriors<br>Team=%{x}<br>Stats (wins | losses)=%{y}<extra></extra>\",\"legendgroup\":\"Pune Warriors\",\"marker\":{\"color\":\"#B6E880\",\"pattern\":{\"shape\":\"\"}},\"name\":\"Pune Warriors\",\"offsetgroup\":\"Pune Warriors\",\"orientation\":\"v\",\"showlegend\":true,\"textposition\":\"auto\",\"type\":\"bar\",\"x\":[\"Deccan Chargers\",\"Kochi Tuskers Kerala\",\"Rising Pune Supergiants\",\"Kolkata Knight Riders\",\"Mumbai Indians\",\"Royal Challengers Bangalore\",\"Rajasthan Royals\",\"Chennai Super Kings\",\"Sunrisers Hyderabad\",\"Kings XI Punjab\",\"Gujarat Lions\",\"Delhi Capitals\",\"Deccan Chargers\",\"Kochi Tuskers Kerala\",\"Rising Pune Supergiants\",\"Kolkata Knight Riders\",\"Mumbai Indians\",\"Royal Challengers Bangalore\",\"Rajasthan Royals\",\"Chennai Super Kings\",\"Sunrisers Hyderabad\",\"Kings XI Punjab\",\"Gujarat Lions\",\"Delhi Capitals\"],\"xaxis\":\"x\",\"y\":[1.0,0.0,0.0,1.0,2.0,1.0,3.0,1.0,0.0,3.0,0.0,2.0,0.0,0.0,0.0,1.0,1.0,0.0,0.0,1.0,0.0,1.0,0.0,2.0],\"yaxis\":\"y\"},{\"alignmentgroup\":\"True\",\"hovertemplate\":\"Opponent=Chennai Super Kings<br>Team=%{x}<br>Stats (wins | losses)=%{y}<extra></extra>\",\"legendgroup\":\"Chennai Super Kings\",\"marker\":{\"color\":\"#FF97FF\",\"pattern\":{\"shape\":\"\"}},\"name\":\"Chennai Super Kings\",\"offsetgroup\":\"Chennai Super Kings\",\"orientation\":\"v\",\"showlegend\":true,\"textposition\":\"auto\",\"type\":\"bar\",\"x\":[\"Deccan Chargers\",\"Kochi Tuskers Kerala\",\"Rising Pune Supergiants\",\"Kolkata Knight Riders\",\"Mumbai Indians\",\"Royal Challengers Bangalore\",\"Rajasthan Royals\",\"Pune Warriors\",\"Sunrisers Hyderabad\",\"Kings XI Punjab\",\"Gujarat Lions\",\"Delhi Capitals\",\"Deccan Chargers\",\"Kochi Tuskers Kerala\",\"Rising Pune Supergiants\",\"Kolkata Knight Riders\",\"Mumbai Indians\",\"Royal Challengers Bangalore\",\"Rajasthan Royals\",\"Pune Warriors\",\"Sunrisers Hyderabad\",\"Kings XI Punjab\",\"Gujarat Lions\",\"Delhi Capitals\"],\"xaxis\":\"x\",\"y\":[3.0,1.0,0.0,7.0,7.0,4.0,5.0,1.0,2.0,4.0,0.0,4.0,5.0,1.0,0.0,5.0,5.0,6.0,7.0,3.0,3.0,7.0,0.0,9.0],\"yaxis\":\"y\"},{\"alignmentgroup\":\"True\",\"hovertemplate\":\"Opponent=Sunrisers Hyderabad<br>Team=%{x}<br>Stats (wins | losses)=%{y}<extra></extra>\",\"legendgroup\":\"Sunrisers Hyderabad\",\"marker\":{\"color\":\"#FECB52\",\"pattern\":{\"shape\":\"\"}},\"name\":\"Sunrisers Hyderabad\",\"offsetgroup\":\"Sunrisers Hyderabad\",\"orientation\":\"v\",\"showlegend\":true,\"textposition\":\"auto\",\"type\":\"bar\",\"x\":[\"Deccan Chargers\",\"Kochi Tuskers Kerala\",\"Rising Pune Supergiants\",\"Kolkata Knight Riders\",\"Mumbai Indians\",\"Royal Challengers Bangalore\",\"Rajasthan Royals\",\"Pune Warriors\",\"Chennai Super Kings\",\"Kings XI Punjab\",\"Gujarat Lions\",\"Delhi Capitals\",\"Deccan Chargers\",\"Kochi Tuskers Kerala\",\"Rising Pune Supergiants\",\"Kolkata Knight Riders\",\"Mumbai Indians\",\"Royal Challengers Bangalore\",\"Rajasthan Royals\",\"Pune Warriors\",\"Chennai Super Kings\",\"Kings XI Punjab\",\"Gujarat Lions\",\"Delhi Capitals\"],\"xaxis\":\"x\",\"y\":[0.0,0.0,2.0,6.0,4.0,4.0,5.0,0.0,6.0,2.0,0.0,4.0,0.0,0.0,1.0,4.0,3.0,5.0,4.0,2.0,1.0,7.0,0.0,3.0],\"yaxis\":\"y\"},{\"alignmentgroup\":\"True\",\"hovertemplate\":\"Opponent=Kings XI Punjab<br>Team=%{x}<br>Stats (wins | losses)=%{y}<extra></extra>\",\"legendgroup\":\"Kings XI Punjab\",\"marker\":{\"color\":\"#636efa\",\"pattern\":{\"shape\":\"\"}},\"name\":\"Kings XI Punjab\",\"offsetgroup\":\"Kings XI Punjab\",\"orientation\":\"v\",\"showlegend\":true,\"textposition\":\"auto\",\"type\":\"bar\",\"x\":[\"Deccan Chargers\",\"Kochi Tuskers Kerala\",\"Rising Pune Supergiants\",\"Kolkata Knight Riders\",\"Mumbai Indians\",\"Royal Challengers Bangalore\",\"Rajasthan Royals\",\"Pune Warriors\",\"Chennai Super Kings\",\"Sunrisers Hyderabad\",\"Gujarat Lions\",\"Delhi Capitals\",\"Deccan Chargers\",\"Kochi Tuskers Kerala\",\"Rising Pune Supergiants\",\"Kolkata Knight Riders\",\"Mumbai Indians\",\"Royal Challengers Bangalore\",\"Rajasthan Royals\",\"Pune Warriors\",\"Chennai Super Kings\",\"Sunrisers Hyderabad\",\"Gujarat Lions\",\"Delhi Capitals\"],\"xaxis\":\"x\",\"y\":[1.0,0.0,2.0,12.0,8.0,6.0,4.0,2.0,5.0,3.0,2.0,8.0,2.0,0.0,0.0,5.0,7.0,4.0,6.0,0.0,5.0,2.0,2.0,5.0],\"yaxis\":\"y\"},{\"alignmentgroup\":\"True\",\"hovertemplate\":\"Opponent=Gujarat Lions<br>Team=%{x}<br>Stats (wins | losses)=%{y}<extra></extra>\",\"legendgroup\":\"Gujarat Lions\",\"marker\":{\"color\":\"#EF553B\",\"pattern\":{\"shape\":\"\"}},\"name\":\"Gujarat Lions\",\"offsetgroup\":\"Gujarat Lions\",\"orientation\":\"v\",\"showlegend\":true,\"textposition\":\"auto\",\"type\":\"bar\",\"x\":[\"Deccan Chargers\",\"Kochi Tuskers Kerala\",\"Rising Pune Supergiants\",\"Kolkata Knight Riders\",\"Mumbai Indians\",\"Royal Challengers Bangalore\",\"Rajasthan Royals\",\"Pune Warriors\",\"Chennai Super Kings\",\"Sunrisers Hyderabad\",\"Kings XI Punjab\",\"Delhi Capitals\",\"Deccan Chargers\",\"Kochi Tuskers Kerala\",\"Rising Pune Supergiants\",\"Kolkata Knight Riders\",\"Mumbai Indians\",\"Royal Challengers Bangalore\",\"Rajasthan Royals\",\"Pune Warriors\",\"Chennai Super Kings\",\"Sunrisers Hyderabad\",\"Kings XI Punjab\",\"Delhi Capitals\"],\"xaxis\":\"x\",\"y\":[0.0,0.0,1.0,1.0,2.0,1.0,0.0,0.0,0.0,5.0,0.0,3.0,0.0,0.0,0.0,0.0,0.0,0.0,0.0,0.0,0.0,0.0,0.0,1.0],\"yaxis\":\"y\"},{\"alignmentgroup\":\"True\",\"hovertemplate\":\"Opponent=Delhi Capitals<br>Team=%{x}<br>Stats (wins | losses)=%{y}<extra></extra>\",\"legendgroup\":\"Delhi Capitals\",\"marker\":{\"color\":\"#00cc96\",\"pattern\":{\"shape\":\"\"}},\"name\":\"Delhi Capitals\",\"offsetgroup\":\"Delhi Capitals\",\"orientation\":\"v\",\"showlegend\":true,\"textposition\":\"auto\",\"type\":\"bar\",\"x\":[\"Deccan Chargers\",\"Kochi Tuskers Kerala\",\"Rising Pune Supergiants\",\"Kolkata Knight Riders\",\"Mumbai Indians\",\"Royal Challengers Bangalore\",\"Rajasthan Royals\",\"Pune Warriors\",\"Chennai Super Kings\",\"Sunrisers Hyderabad\",\"Kings XI Punjab\",\"Gujarat Lions\",\"Deccan Chargers\",\"Kochi Tuskers Kerala\",\"Rising Pune Supergiants\",\"Kolkata Knight Riders\",\"Mumbai Indians\",\"Royal Challengers Bangalore\",\"Rajasthan Royals\",\"Pune Warriors\",\"Chennai Super Kings\",\"Sunrisers Hyderabad\",\"Kings XI Punjab\",\"Gujarat Lions\"],\"xaxis\":\"x\",\"y\":[1.0,1.0,2.0,7.0,2.0,8.0,6.0,0.0,6.0,6.0,9.0,0.0,2.0,1.0,2.0,3.0,5.0,4.0,4.0,1.0,2.0,2.0,2.0,0.0],\"yaxis\":\"y\"}],                        {\"barmode\":\"relative\",\"height\":800,\"legend\":{\"title\":{\"text\":\"Opponent\"},\"tracegroupgap\":0},\"template\":{\"data\":{\"bar\":[{\"error_x\":{\"color\":\"#2a3f5f\"},\"error_y\":{\"color\":\"#2a3f5f\"},\"marker\":{\"line\":{\"color\":\"#E5ECF6\",\"width\":0.5},\"pattern\":{\"fillmode\":\"overlay\",\"size\":10,\"solidity\":0.2}},\"type\":\"bar\"}],\"barpolar\":[{\"marker\":{\"line\":{\"color\":\"#E5ECF6\",\"width\":0.5},\"pattern\":{\"fillmode\":\"overlay\",\"size\":10,\"solidity\":0.2}},\"type\":\"barpolar\"}],\"carpet\":[{\"aaxis\":{\"endlinecolor\":\"#2a3f5f\",\"gridcolor\":\"white\",\"linecolor\":\"white\",\"minorgridcolor\":\"white\",\"startlinecolor\":\"#2a3f5f\"},\"baxis\":{\"endlinecolor\":\"#2a3f5f\",\"gridcolor\":\"white\",\"linecolor\":\"white\",\"minorgridcolor\":\"white\",\"startlinecolor\":\"#2a3f5f\"},\"type\":\"carpet\"}],\"choropleth\":[{\"colorbar\":{\"outlinewidth\":0,\"ticks\":\"\"},\"type\":\"choropleth\"}],\"contour\":[{\"colorbar\":{\"outlinewidth\":0,\"ticks\":\"\"},\"colorscale\":[[0.0,\"#0d0887\"],[0.1111111111111111,\"#46039f\"],[0.2222222222222222,\"#7201a8\"],[0.3333333333333333,\"#9c179e\"],[0.4444444444444444,\"#bd3786\"],[0.5555555555555556,\"#d8576b\"],[0.6666666666666666,\"#ed7953\"],[0.7777777777777778,\"#fb9f3a\"],[0.8888888888888888,\"#fdca26\"],[1.0,\"#f0f921\"]],\"type\":\"contour\"}],\"contourcarpet\":[{\"colorbar\":{\"outlinewidth\":0,\"ticks\":\"\"},\"type\":\"contourcarpet\"}],\"heatmap\":[{\"colorbar\":{\"outlinewidth\":0,\"ticks\":\"\"},\"colorscale\":[[0.0,\"#0d0887\"],[0.1111111111111111,\"#46039f\"],[0.2222222222222222,\"#7201a8\"],[0.3333333333333333,\"#9c179e\"],[0.4444444444444444,\"#bd3786\"],[0.5555555555555556,\"#d8576b\"],[0.6666666666666666,\"#ed7953\"],[0.7777777777777778,\"#fb9f3a\"],[0.8888888888888888,\"#fdca26\"],[1.0,\"#f0f921\"]],\"type\":\"heatmap\"}],\"heatmapgl\":[{\"colorbar\":{\"outlinewidth\":0,\"ticks\":\"\"},\"colorscale\":[[0.0,\"#0d0887\"],[0.1111111111111111,\"#46039f\"],[0.2222222222222222,\"#7201a8\"],[0.3333333333333333,\"#9c179e\"],[0.4444444444444444,\"#bd3786\"],[0.5555555555555556,\"#d8576b\"],[0.6666666666666666,\"#ed7953\"],[0.7777777777777778,\"#fb9f3a\"],[0.8888888888888888,\"#fdca26\"],[1.0,\"#f0f921\"]],\"type\":\"heatmapgl\"}],\"histogram\":[{\"marker\":{\"pattern\":{\"fillmode\":\"overlay\",\"size\":10,\"solidity\":0.2}},\"type\":\"histogram\"}],\"histogram2d\":[{\"colorbar\":{\"outlinewidth\":0,\"ticks\":\"\"},\"colorscale\":[[0.0,\"#0d0887\"],[0.1111111111111111,\"#46039f\"],[0.2222222222222222,\"#7201a8\"],[0.3333333333333333,\"#9c179e\"],[0.4444444444444444,\"#bd3786\"],[0.5555555555555556,\"#d8576b\"],[0.6666666666666666,\"#ed7953\"],[0.7777777777777778,\"#fb9f3a\"],[0.8888888888888888,\"#fdca26\"],[1.0,\"#f0f921\"]],\"type\":\"histogram2d\"}],\"histogram2dcontour\":[{\"colorbar\":{\"outlinewidth\":0,\"ticks\":\"\"},\"colorscale\":[[0.0,\"#0d0887\"],[0.1111111111111111,\"#46039f\"],[0.2222222222222222,\"#7201a8\"],[0.3333333333333333,\"#9c179e\"],[0.4444444444444444,\"#bd3786\"],[0.5555555555555556,\"#d8576b\"],[0.6666666666666666,\"#ed7953\"],[0.7777777777777778,\"#fb9f3a\"],[0.8888888888888888,\"#fdca26\"],[1.0,\"#f0f921\"]],\"type\":\"histogram2dcontour\"}],\"mesh3d\":[{\"colorbar\":{\"outlinewidth\":0,\"ticks\":\"\"},\"type\":\"mesh3d\"}],\"parcoords\":[{\"line\":{\"colorbar\":{\"outlinewidth\":0,\"ticks\":\"\"}},\"type\":\"parcoords\"}],\"pie\":[{\"automargin\":true,\"type\":\"pie\"}],\"scatter\":[{\"marker\":{\"colorbar\":{\"outlinewidth\":0,\"ticks\":\"\"}},\"type\":\"scatter\"}],\"scatter3d\":[{\"line\":{\"colorbar\":{\"outlinewidth\":0,\"ticks\":\"\"}},\"marker\":{\"colorbar\":{\"outlinewidth\":0,\"ticks\":\"\"}},\"type\":\"scatter3d\"}],\"scattercarpet\":[{\"marker\":{\"colorbar\":{\"outlinewidth\":0,\"ticks\":\"\"}},\"type\":\"scattercarpet\"}],\"scattergeo\":[{\"marker\":{\"colorbar\":{\"outlinewidth\":0,\"ticks\":\"\"}},\"type\":\"scattergeo\"}],\"scattergl\":[{\"marker\":{\"colorbar\":{\"outlinewidth\":0,\"ticks\":\"\"}},\"type\":\"scattergl\"}],\"scattermapbox\":[{\"marker\":{\"colorbar\":{\"outlinewidth\":0,\"ticks\":\"\"}},\"type\":\"scattermapbox\"}],\"scatterpolar\":[{\"marker\":{\"colorbar\":{\"outlinewidth\":0,\"ticks\":\"\"}},\"type\":\"scatterpolar\"}],\"scatterpolargl\":[{\"marker\":{\"colorbar\":{\"outlinewidth\":0,\"ticks\":\"\"}},\"type\":\"scatterpolargl\"}],\"scatterternary\":[{\"marker\":{\"colorbar\":{\"outlinewidth\":0,\"ticks\":\"\"}},\"type\":\"scatterternary\"}],\"surface\":[{\"colorbar\":{\"outlinewidth\":0,\"ticks\":\"\"},\"colorscale\":[[0.0,\"#0d0887\"],[0.1111111111111111,\"#46039f\"],[0.2222222222222222,\"#7201a8\"],[0.3333333333333333,\"#9c179e\"],[0.4444444444444444,\"#bd3786\"],[0.5555555555555556,\"#d8576b\"],[0.6666666666666666,\"#ed7953\"],[0.7777777777777778,\"#fb9f3a\"],[0.8888888888888888,\"#fdca26\"],[1.0,\"#f0f921\"]],\"type\":\"surface\"}],\"table\":[{\"cells\":{\"fill\":{\"color\":\"#EBF0F8\"},\"line\":{\"color\":\"white\"}},\"header\":{\"fill\":{\"color\":\"#C8D4E3\"},\"line\":{\"color\":\"white\"}},\"type\":\"table\"}]},\"layout\":{\"annotationdefaults\":{\"arrowcolor\":\"#2a3f5f\",\"arrowhead\":0,\"arrowwidth\":1},\"autotypenumbers\":\"strict\",\"coloraxis\":{\"colorbar\":{\"outlinewidth\":0,\"ticks\":\"\"}},\"colorscale\":{\"diverging\":[[0,\"#8e0152\"],[0.1,\"#c51b7d\"],[0.2,\"#de77ae\"],[0.3,\"#f1b6da\"],[0.4,\"#fde0ef\"],[0.5,\"#f7f7f7\"],[0.6,\"#e6f5d0\"],[0.7,\"#b8e186\"],[0.8,\"#7fbc41\"],[0.9,\"#4d9221\"],[1,\"#276419\"]],\"sequential\":[[0.0,\"#0d0887\"],[0.1111111111111111,\"#46039f\"],[0.2222222222222222,\"#7201a8\"],[0.3333333333333333,\"#9c179e\"],[0.4444444444444444,\"#bd3786\"],[0.5555555555555556,\"#d8576b\"],[0.6666666666666666,\"#ed7953\"],[0.7777777777777778,\"#fb9f3a\"],[0.8888888888888888,\"#fdca26\"],[1.0,\"#f0f921\"]],\"sequentialminus\":[[0.0,\"#0d0887\"],[0.1111111111111111,\"#46039f\"],[0.2222222222222222,\"#7201a8\"],[0.3333333333333333,\"#9c179e\"],[0.4444444444444444,\"#bd3786\"],[0.5555555555555556,\"#d8576b\"],[0.6666666666666666,\"#ed7953\"],[0.7777777777777778,\"#fb9f3a\"],[0.8888888888888888,\"#fdca26\"],[1.0,\"#f0f921\"]]},\"colorway\":[\"#636efa\",\"#EF553B\",\"#00cc96\",\"#ab63fa\",\"#FFA15A\",\"#19d3f3\",\"#FF6692\",\"#B6E880\",\"#FF97FF\",\"#FECB52\"],\"font\":{\"color\":\"#2a3f5f\"},\"geo\":{\"bgcolor\":\"white\",\"lakecolor\":\"white\",\"landcolor\":\"#E5ECF6\",\"showlakes\":true,\"showland\":true,\"subunitcolor\":\"white\"},\"hoverlabel\":{\"align\":\"left\"},\"hovermode\":\"closest\",\"mapbox\":{\"style\":\"light\"},\"paper_bgcolor\":\"white\",\"plot_bgcolor\":\"#E5ECF6\",\"polar\":{\"angularaxis\":{\"gridcolor\":\"white\",\"linecolor\":\"white\",\"ticks\":\"\"},\"bgcolor\":\"#E5ECF6\",\"radialaxis\":{\"gridcolor\":\"white\",\"linecolor\":\"white\",\"ticks\":\"\"}},\"scene\":{\"xaxis\":{\"backgroundcolor\":\"#E5ECF6\",\"gridcolor\":\"white\",\"gridwidth\":2,\"linecolor\":\"white\",\"showbackground\":true,\"ticks\":\"\",\"zerolinecolor\":\"white\"},\"yaxis\":{\"backgroundcolor\":\"#E5ECF6\",\"gridcolor\":\"white\",\"gridwidth\":2,\"linecolor\":\"white\",\"showbackground\":true,\"ticks\":\"\",\"zerolinecolor\":\"white\"},\"zaxis\":{\"backgroundcolor\":\"#E5ECF6\",\"gridcolor\":\"white\",\"gridwidth\":2,\"linecolor\":\"white\",\"showbackground\":true,\"ticks\":\"\",\"zerolinecolor\":\"white\"}},\"shapedefaults\":{\"line\":{\"color\":\"#2a3f5f\"}},\"ternary\":{\"aaxis\":{\"gridcolor\":\"white\",\"linecolor\":\"white\",\"ticks\":\"\"},\"baxis\":{\"gridcolor\":\"white\",\"linecolor\":\"white\",\"ticks\":\"\"},\"bgcolor\":\"#E5ECF6\",\"caxis\":{\"gridcolor\":\"white\",\"linecolor\":\"white\",\"ticks\":\"\"}},\"title\":{\"x\":0.05},\"xaxis\":{\"automargin\":true,\"gridcolor\":\"white\",\"linecolor\":\"white\",\"ticks\":\"\",\"title\":{\"standoff\":15},\"zerolinecolor\":\"white\",\"zerolinewidth\":2},\"yaxis\":{\"automargin\":true,\"gridcolor\":\"white\",\"linecolor\":\"white\",\"ticks\":\"\",\"title\":{\"standoff\":15},\"zerolinecolor\":\"white\",\"zerolinewidth\":2}}},\"title\":{\"text\":\"Stacked head-to-head performance at away matches\"},\"width\":1000,\"xaxis\":{\"anchor\":\"y\",\"domain\":[0.0,1.0],\"title\":{\"text\":\"Team\"}},\"yaxis\":{\"anchor\":\"x\",\"domain\":[0.0,1.0],\"title\":{\"text\":\"Stats (wins | losses)\"}}},                        {\"responsive\": true}                    ).then(function(){\n",
       "                            \n",
       "var gd = document.getElementById('e4ec5281-a150-4977-818e-a021a652eade');\n",
       "var x = new MutationObserver(function (mutations, observer) {{\n",
       "        var display = window.getComputedStyle(gd).display;\n",
       "        if (!display || display === 'none') {{\n",
       "            console.log([gd, 'removed!']);\n",
       "            Plotly.purge(gd);\n",
       "            observer.disconnect();\n",
       "        }}\n",
       "}});\n",
       "\n",
       "// Listen for the removal of the full notebook cells\n",
       "var notebookContainer = gd.closest('#notebook-container');\n",
       "if (notebookContainer) {{\n",
       "    x.observe(notebookContainer, {childList: true});\n",
       "}}\n",
       "\n",
       "// Listen for the clearing of the current output cell\n",
       "var outputEl = gd.closest('.output');\n",
       "if (outputEl) {{\n",
       "    x.observe(outputEl, {childList: true});\n",
       "}}\n",
       "\n",
       "                        })                };                });            </script>        </div>"
      ]
     },
     "metadata": {},
     "output_type": "display_data"
    }
   ],
   "source": [
    "figB = px.bar(h2h_data, x = \"team2\", y=[\"wins for team 2\", \"wins for team 1\"], color=\"team1\", labels={\n",
    "    \"team2\": \"Team\",\n",
    "    \"value\": \"Stats (wins | losses)\",\n",
    "    \"team1\": \"Opponent\",\n",
    "\n",
    "}, title=\"Stacked head-to-head performance at away matches\", width=1000, height=800)\n",
    "\n",
    "figB.show()"
   ]
  },
  {
   "cell_type": "code",
   "execution_count": 40,
   "metadata": {
    "ExecuteTime": {
     "end_time": "2021-08-10T05:10:55.737405Z",
     "start_time": "2021-08-10T05:10:55.703852Z"
    },
    "scrolled": true
   },
   "outputs": [
    {
     "data": {
      "text/html": [
       "<div>\n",
       "<style scoped>\n",
       "    .dataframe tbody tr th:only-of-type {\n",
       "        vertical-align: middle;\n",
       "    }\n",
       "\n",
       "    .dataframe tbody tr th {\n",
       "        vertical-align: top;\n",
       "    }\n",
       "\n",
       "    .dataframe thead th {\n",
       "        text-align: right;\n",
       "    }\n",
       "</style>\n",
       "<table border=\"1\" class=\"dataframe\">\n",
       "  <thead>\n",
       "    <tr style=\"text-align: right;\">\n",
       "      <th></th>\n",
       "      <th>id</th>\n",
       "      <th>season</th>\n",
       "      <th>city</th>\n",
       "      <th>date</th>\n",
       "      <th>team1</th>\n",
       "      <th>team2</th>\n",
       "      <th>toss_winner</th>\n",
       "      <th>toss_decision</th>\n",
       "      <th>result</th>\n",
       "      <th>dl_applied</th>\n",
       "      <th>winner</th>\n",
       "      <th>win_by_runs</th>\n",
       "      <th>win_by_wickets</th>\n",
       "      <th>player_of_match</th>\n",
       "      <th>venue</th>\n",
       "      <th>umpire1</th>\n",
       "      <th>umpire2</th>\n",
       "      <th>umpire3</th>\n",
       "    </tr>\n",
       "  </thead>\n",
       "  <tbody>\n",
       "    <tr>\n",
       "      <th>598</th>\n",
       "      <td>599</td>\n",
       "      <td>2016</td>\n",
       "      <td>Delhi</td>\n",
       "      <td>2016-04-27</td>\n",
       "      <td>Gujarat Lions</td>\n",
       "      <td>Delhi Capitals</td>\n",
       "      <td>Delhi Daredevils</td>\n",
       "      <td>field</td>\n",
       "      <td>normal</td>\n",
       "      <td>0</td>\n",
       "      <td>Gujarat Lions</td>\n",
       "      <td>1</td>\n",
       "      <td>0</td>\n",
       "      <td>CH Morris</td>\n",
       "      <td>Feroz Shah Kotla</td>\n",
       "      <td>M Erasmus</td>\n",
       "      <td>S Ravi</td>\n",
       "      <td>NaN</td>\n",
       "    </tr>\n",
       "  </tbody>\n",
       "</table>\n",
       "</div>"
      ],
      "text/plain": [
       "      id  season   city        date          team1           team2  \\\n",
       "598  599    2016  Delhi  2016-04-27  Gujarat Lions  Delhi Capitals   \n",
       "\n",
       "          toss_winner toss_decision  result  dl_applied         winner  \\\n",
       "598  Delhi Daredevils         field  normal           0  Gujarat Lions   \n",
       "\n",
       "     win_by_runs  win_by_wickets player_of_match             venue    umpire1  \\\n",
       "598            1               0       CH Morris  Feroz Shah Kotla  M Erasmus   \n",
       "\n",
       "    umpire2 umpire3  \n",
       "598  S Ravi     NaN  "
      ]
     },
     "execution_count": 40,
     "metadata": {},
     "output_type": "execute_result"
    }
   ],
   "source": [
    "data1.loc[(data1[\"team1\"] == \"Gujarat Lions\") & (data1[\"winner\"] == \"Gujarat Lions\")]"
   ]
  },
  {
   "cell_type": "code",
   "execution_count": 58,
   "metadata": {
    "ExecuteTime": {
     "end_time": "2021-08-10T05:57:18.576512Z",
     "start_time": "2021-08-10T05:57:18.567070Z"
    }
   },
   "outputs": [
    {
     "data": {
      "text/plain": [
       "14"
      ]
     },
     "execution_count": 58,
     "metadata": {},
     "output_type": "execute_result"
    }
   ],
   "source": [
    "len(data1.loc[(data1[\"team1\"] == \"Gujarat Lions\")])"
   ]
  },
  {
   "cell_type": "code",
   "execution_count": 73,
   "metadata": {
    "ExecuteTime": {
     "end_time": "2021-08-10T06:16:04.850725Z",
     "start_time": "2021-08-10T06:16:04.562013Z"
    }
   },
   "outputs": [
    {
     "name": "stdout",
     "output_type": "stream",
     "text": [
      "13\n",
      "['id', 'city', 'date', 'player_of_match', 'venue', 'team1', 'team2', 'toss_winner', 'toss_decision', 'winner', 'result', 'umpire1', 'umpire2']\n"
     ]
    }
   ],
   "source": [
    "data3 = pd.read_csv(\"./IPL Matches 2008-2020.csv\")\n",
    "data4 = pd.read_csv(\"./IPL Ball-by-Ball 2008-2020.csv\")\n",
    "\n",
    "c = 0\n",
    "cl = []\n",
    "for i in data3.columns:\n",
    "    if i in data1.columns:\n",
    "        c += 1\n",
    "        cl.append(i)\n",
    "        \n",
    "print(c)\n",
    "print(cl)\n",
    "# print(data1.columns)\n",
    "# print(data3.columns)"
   ]
  }
 ],
 "metadata": {
  "kernelspec": {
   "display_name": "Python 3.8.5 64-bit",
   "language": "python",
   "name": "python385jvsc74a57bd031f2aee4e71d21fbe5cf8b01ff0e069b9275f58929596ceb00d14d90e3e16cd6"
  },
  "language_info": {
   "codemirror_mode": {
    "name": "ipython",
    "version": 3
   },
   "file_extension": ".py",
   "mimetype": "text/x-python",
   "name": "python",
   "nbconvert_exporter": "python",
   "pygments_lexer": "ipython3",
   "version": "3.8.5"
  },
  "latex_envs": {
   "LaTeX_envs_menu_present": true,
   "autoclose": false,
   "autocomplete": true,
   "bibliofile": "biblio.bib",
   "cite_by": "apalike",
   "current_citInitial": 1,
   "eqLabelWithNumbers": true,
   "eqNumInitial": 1,
   "hotkeys": {
    "equation": "Ctrl-E",
    "itemize": "Ctrl-I"
   },
   "labels_anchors": false,
   "latex_user_defs": false,
   "report_style_numbering": false,
   "user_envs_cfg": false
  },
  "toc": {
   "base_numbering": 1,
   "nav_menu": {},
   "number_sections": true,
   "sideBar": true,
   "skip_h1_title": false,
   "title_cell": "Table of Contents",
   "title_sidebar": "Contents",
   "toc_cell": false,
   "toc_position": {},
   "toc_section_display": true,
   "toc_window_display": false
  },
  "varInspector": {
   "cols": {
    "lenName": 16,
    "lenType": 16,
    "lenVar": 40
   },
   "kernels_config": {
    "python": {
     "delete_cmd_postfix": "",
     "delete_cmd_prefix": "del ",
     "library": "var_list.py",
     "varRefreshCmd": "print(var_dic_list())"
    },
    "r": {
     "delete_cmd_postfix": ") ",
     "delete_cmd_prefix": "rm(",
     "library": "var_list.r",
     "varRefreshCmd": "cat(var_dic_list()) "
    }
   },
   "types_to_exclude": [
    "module",
    "function",
    "builtin_function_or_method",
    "instance",
    "_Feature"
   ],
   "window_display": false
  }
 },
 "nbformat": 4,
 "nbformat_minor": 2
}
